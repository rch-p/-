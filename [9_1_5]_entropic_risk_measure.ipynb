{
  "nbformat": 4,
  "nbformat_minor": 0,
  "metadata": {
    "colab": {
      "provenance": [],
      "collapsed_sections": [
        "Tn5Q0kU2xkLa",
        "BEVN6Zg5xxHA",
        "iVFfhyH-mjfi",
        "dHrUwi-OBFSv"
      ]
    },
    "kernelspec": {
      "name": "python3",
      "display_name": "Python 3"
    },
    "language_info": {
      "name": "python"
    }
  },
  "cells": [
    {
      "cell_type": "markdown",
      "source": [
        "### entropic_risk_measure"
      ],
      "metadata": {
        "id": "RMTefeq7IYpk"
      }
    },
    {
      "cell_type": "code",
      "source": [
        "import torch\n",
        "from torch import Tensor\n",
        "import math"
      ],
      "metadata": {
        "id": "2Jcs0AgqImnE"
      },
      "execution_count": null,
      "outputs": []
    },
    {
      "cell_type": "code",
      "source": [
        "def entropic_risk_measure(input: Tensor, a: float = 1.0) -> Tensor:\n",
        "    \"\"\"Returns the entropic risk measure.\n",
        "\n",
        "    See :class:`pfhedge.nn.EntropicRiskMeasure` for details.\n",
        "    \"\"\"\n",
        "    return (torch.logsumexp(-input * a, dim=0) - math.log(input.size(0))) / a"
      ],
      "metadata": {
        "id": "IDJMvIrXIfzz"
      },
      "execution_count": null,
      "outputs": []
    },
    {
      "cell_type": "code",
      "source": [
        "x = -torch.arange(4.0)\n",
        "x"
      ],
      "metadata": {
        "colab": {
          "base_uri": "https://localhost:8080/"
        },
        "id": "PVAbfaBaIvPc",
        "outputId": "6aa52fe1-d77e-442a-9791-68d768c290ff"
      },
      "execution_count": null,
      "outputs": [
        {
          "output_type": "execute_result",
          "data": {
            "text/plain": [
              "tensor([-0., -1., -2., -3.])"
            ]
          },
          "metadata": {},
          "execution_count": 32
        }
      ]
    },
    {
      "cell_type": "code",
      "source": [
        "entropic_risk_measure(x)"
      ],
      "metadata": {
        "colab": {
          "base_uri": "https://localhost:8080/"
        },
        "id": "9F9LrUN6I8_q",
        "outputId": "e824422e-675c-4d68-e784-026018a4ab67"
      },
      "execution_count": null,
      "outputs": [
        {
          "output_type": "execute_result",
          "data": {
            "text/plain": [
              "tensor(2.0539)"
            ]
          },
          "metadata": {},
          "execution_count": 33
        }
      ]
    },
    {
      "cell_type": "code",
      "source": [
        "torch.logsumexp(-x, dim=0)"
      ],
      "metadata": {
        "colab": {
          "base_uri": "https://localhost:8080/"
        },
        "id": "Qk21X7xuJJcd",
        "outputId": "f42bf0cb-3563-4f93-df82-7d2f94c98ae6"
      },
      "execution_count": null,
      "outputs": [
        {
          "output_type": "execute_result",
          "data": {
            "text/plain": [
              "tensor(3.4402)"
            ]
          },
          "metadata": {},
          "execution_count": 34
        }
      ]
    },
    {
      "cell_type": "code",
      "source": [
        "-x"
      ],
      "metadata": {
        "colab": {
          "base_uri": "https://localhost:8080/"
        },
        "id": "UIDgkkZFNgPm",
        "outputId": "9111b114-d7e2-44a0-efb9-f9bd3b2c7e4c"
      },
      "execution_count": null,
      "outputs": [
        {
          "output_type": "execute_result",
          "data": {
            "text/plain": [
              "tensor([0., 1., 2., 3.])"
            ]
          },
          "metadata": {},
          "execution_count": 35
        }
      ]
    },
    {
      "cell_type": "code",
      "source": [
        "-x.exp()"
      ],
      "metadata": {
        "colab": {
          "base_uri": "https://localhost:8080/"
        },
        "id": "Ig1RsHgDJm9J",
        "outputId": "67db31c9-54ef-4442-98c0-cab554b7df53"
      },
      "execution_count": null,
      "outputs": [
        {
          "output_type": "execute_result",
          "data": {
            "text/plain": [
              "tensor([-1.0000, -0.3679, -0.1353, -0.0498])"
            ]
          },
          "metadata": {},
          "execution_count": 36
        }
      ]
    },
    {
      "cell_type": "code",
      "source": [
        "-x.exp().sum()"
      ],
      "metadata": {
        "colab": {
          "base_uri": "https://localhost:8080/"
        },
        "id": "N0fTIv2AJp0_",
        "outputId": "2b1241db-1d4c-4d2d-e671-c50f31334f38"
      },
      "execution_count": null,
      "outputs": [
        {
          "output_type": "execute_result",
          "data": {
            "text/plain": [
              "tensor(-1.5530)"
            ]
          },
          "metadata": {},
          "execution_count": 37
        }
      ]
    },
    {
      "cell_type": "code",
      "source": [
        "-x.exp().sum().log()"
      ],
      "metadata": {
        "colab": {
          "base_uri": "https://localhost:8080/"
        },
        "id": "IRTPxkaCJtxJ",
        "outputId": "7c7c22cb-fbde-4632-8028-d8e93610e2d8"
      },
      "execution_count": null,
      "outputs": [
        {
          "output_type": "execute_result",
          "data": {
            "text/plain": [
              "tensor(-0.4402)"
            ]
          },
          "metadata": {},
          "execution_count": 38
        }
      ]
    },
    {
      "cell_type": "code",
      "source": [
        "import torch\n",
        "\n",
        "# Define x as -torch.arange(4.0)\n",
        "x = -torch.arange(4.0)\n",
        "\n",
        "# logsumexp method (numerically stable)\n",
        "result_stable = torch.logsumexp(-x, dim=0)\n",
        "\n",
        "# Direct computation method (potentially unstable)\n",
        "result_unstable = -x.exp().sum().log()\n",
        "\n",
        "print(\"x:\", x)\n",
        "print(\"Result using torch.logsumexp:\", result_stable)\n",
        "print(\"Result using direct method:\", result_unstable)"
      ],
      "metadata": {
        "colab": {
          "base_uri": "https://localhost:8080/"
        },
        "id": "DxOucw1FLKN7",
        "outputId": "5c5e3407-d0cd-4b3e-a3e9-65c9d4db4bf3"
      },
      "execution_count": null,
      "outputs": [
        {
          "output_type": "stream",
          "name": "stdout",
          "text": [
            "x: tensor([-0., -1., -2., -3.])\n",
            "Result using torch.logsumexp: tensor(3.4402)\n",
            "Result using direct method: tensor(-0.4402)\n"
          ]
        }
      ]
    },
    {
      "cell_type": "code",
      "source": [
        "import torch\n",
        "\n",
        "# Example tensor with large and small values\n",
        "x = torch.tensor([1000.0, 1000.1, 1000.2])\n",
        "\n",
        "# logsumexp method (numerically stable)\n",
        "result_stable = torch.logsumexp(-x, dim=0)\n",
        "\n",
        "# Direct computation method (potentially unstable)\n",
        "result_unstable = -x.exp().sum().log()\n",
        "\n",
        "print(\"Result using torch.logsumexp:\", result_stable)\n",
        "print(\"Result using direct method:\", result_unstable)"
      ],
      "metadata": {
        "colab": {
          "base_uri": "https://localhost:8080/"
        },
        "id": "_v9lp2IZKyVc",
        "outputId": "be8aa185-7ba8-418d-cb04-fbe5e366ea2a"
      },
      "execution_count": null,
      "outputs": [
        {
          "output_type": "stream",
          "name": "stdout",
          "text": [
            "Result using torch.logsumexp: tensor(-998.9980)\n",
            "Result using direct method: tensor(-inf)\n"
          ]
        }
      ]
    },
    {
      "cell_type": "code",
      "source": [],
      "metadata": {
        "id": "CtkDCQhfZuEz"
      },
      "execution_count": null,
      "outputs": []
    }
  ]
}