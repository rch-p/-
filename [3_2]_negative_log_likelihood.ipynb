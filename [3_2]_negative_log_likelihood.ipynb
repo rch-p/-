{
  "nbformat": 4,
  "nbformat_minor": 0,
  "metadata": {
    "colab": {
      "provenance": []
    },
    "kernelspec": {
      "name": "python3",
      "display_name": "Python 3"
    },
    "language_info": {
      "name": "python"
    }
  },
  "cells": [
    {
      "cell_type": "code",
      "execution_count": null,
      "metadata": {
        "id": "Mw4VrGFuFloq"
      },
      "outputs": [],
      "source": [
        "import numpy as np\n",
        "import matplotlib.pyplot as plt"
      ]
    },
    {
      "cell_type": "code",
      "source": [
        "import torch"
      ],
      "metadata": {
        "id": "oRccwCcDFw-K"
      },
      "execution_count": null,
      "outputs": []
    },
    {
      "cell_type": "markdown",
      "source": [
        "# MNIST dataset"
      ],
      "metadata": {
        "id": "aeAbJd-OZlQW"
      }
    },
    {
      "cell_type": "code",
      "source": [
        "import tensorflow as tf\n",
        "\n",
        "(x_train, y_train), (x_test, y_test) = tf.keras.datasets.mnist.load_data()"
      ],
      "metadata": {
        "id": "SQ-FCHoYFyWo"
      },
      "execution_count": null,
      "outputs": []
    },
    {
      "cell_type": "code",
      "source": [
        "x_train = torch.tensor(x_train.reshape(60000, 784)/255, dtype=torch.float32)\n",
        "x_test = torch.tensor(x_test.reshape(10000, 784)/255, dtype=torch.float32)\n",
        "\n",
        "y_train = torch.tensor(y_train, dtype=torch.long)\n",
        "y_test = torch.tensor(y_test, dtype=torch.int64)"
      ],
      "metadata": {
        "id": "wmZZIAkWGLZY"
      },
      "execution_count": null,
      "outputs": []
    },
    {
      "cell_type": "code",
      "source": [
        "# w = torch.randn(784, 10)\n",
        "# b = torch.randn(10)\n",
        "\n",
        "w = torch.randn(784, 10, requires_grad=True)\n",
        "b = torch.randn(10, requires_grad=True)"
      ],
      "metadata": {
        "id": "Oq5r8asbg9Ur"
      },
      "execution_count": null,
      "outputs": []
    },
    {
      "cell_type": "code",
      "source": [
        "x_train @ w + b"
      ],
      "metadata": {
        "colab": {
          "base_uri": "https://localhost:8080/"
        },
        "id": "vtJ5ab_ISxm2",
        "outputId": "60ab4da3-a68b-4ca4-992d-ca704d79d216"
      },
      "execution_count": null,
      "outputs": [
        {
          "output_type": "execute_result",
          "data": {
            "text/plain": [
              "tensor([[ -2.5125, -15.0687,  -6.5273,  ...,  -8.1245,  -5.7722, -16.6154],\n",
              "        [ -3.8493,  -2.0906,  -0.2493,  ..., -20.8255,   5.2351, -10.7412],\n",
              "        [ -3.2036,   8.5659,   4.7551,  ...,   0.2433,   5.6426,  10.8439],\n",
              "        ...,\n",
              "        [  5.5522,  -3.6008,  -1.8677,  ...,  -6.2139,  -0.3410, -16.5657],\n",
              "        [  5.7218,  -1.8805,  -0.4007,  ...,  -7.4124,  13.2211,  -0.5049],\n",
              "        [  7.7313,  -2.1718,  13.4819,  ...,  -7.4111,  -1.5386,   4.1648]])"
            ]
          },
          "metadata": {},
          "execution_count": 6
        }
      ]
    },
    {
      "cell_type": "code",
      "source": [
        "def log_softmax(x):\n",
        "    return x - x.exp().sum(-1, keepdim=True).log()\n",
        "\n",
        "def model(xb):\n",
        "    return log_softmax(xb @ w + b)"
      ],
      "metadata": {
        "id": "zpdIoW-HGXYl"
      },
      "execution_count": null,
      "outputs": []
    },
    {
      "cell_type": "markdown",
      "source": [
        "# Maximum Likelihood (= minimize the negative log likelihood)"
      ],
      "metadata": {
        "id": "MSOcUZK9YxK8"
      }
    },
    {
      "cell_type": "code",
      "source": [
        "y_train"
      ],
      "metadata": {
        "colab": {
          "base_uri": "https://localhost:8080/"
        },
        "id": "vNayI06H_uUm",
        "outputId": "27a33b0a-6b94-47f4-b3ad-19d3ef7083e7"
      },
      "execution_count": null,
      "outputs": [
        {
          "output_type": "execute_result",
          "data": {
            "text/plain": [
              "tensor([5, 0, 4,  ..., 5, 6, 8])"
            ]
          },
          "metadata": {},
          "execution_count": 8
        }
      ]
    },
    {
      "cell_type": "code",
      "source": [
        "pred = x_train @ w + b\n",
        "pred"
      ],
      "metadata": {
        "colab": {
          "base_uri": "https://localhost:8080/"
        },
        "id": "tLJa2Vig-w-Y",
        "outputId": "4157ed02-5135-40d0-cee0-e6fd4d9918bf"
      },
      "execution_count": null,
      "outputs": [
        {
          "output_type": "execute_result",
          "data": {
            "text/plain": [
              "tensor([[ -2.5125, -15.0687,  -6.5273,  ...,  -8.1245,  -5.7722, -16.6154],\n",
              "        [ -3.8493,  -2.0906,  -0.2493,  ..., -20.8255,   5.2351, -10.7412],\n",
              "        [ -3.2036,   8.5659,   4.7551,  ...,   0.2433,   5.6426,  10.8439],\n",
              "        ...,\n",
              "        [  5.5522,  -3.6008,  -1.8677,  ...,  -6.2139,  -0.3410, -16.5657],\n",
              "        [  5.7218,  -1.8805,  -0.4007,  ...,  -7.4124,  13.2211,  -0.5049],\n",
              "        [  7.7313,  -2.1718,  13.4819,  ...,  -7.4111,  -1.5386,   4.1648]])"
            ]
          },
          "metadata": {},
          "execution_count": 9
        }
      ]
    },
    {
      "cell_type": "markdown",
      "source": [
        "## Ideal situtation\n",
        "\n",
        "0 0 0 0 0 1 0 0 0 0 -> 5\n",
        "\n",
        "1 0 0 0 0 0 0 0 0 0 -> 0\n",
        "\n",
        "0 0 0 1 0 0 0 0 0 0 -> 4\n",
        "\n",
        "...\n",
        "\n",
        "0 0 0 0 0 0 0 0 1 0 -> 8\n"
      ],
      "metadata": {
        "id": "OzmHxPGH_bS6"
      }
    },
    {
      "cell_type": "code",
      "source": [
        "pred[range(y_train.shape[0]),y_train]"
      ],
      "metadata": {
        "colab": {
          "base_uri": "https://localhost:8080/"
        },
        "id": "g2TtEuO9AYRZ",
        "outputId": "58894c58-6375-4d62-efc3-ed636ddcf36f"
      },
      "execution_count": null,
      "outputs": [
        {
          "output_type": "execute_result",
          "data": {
            "text/plain": [
              "tensor([-21.1225,  -3.8493, -11.3915,  ..., -20.0689,  -4.9855,  -1.5386])"
            ]
          },
          "metadata": {},
          "execution_count": 17
        }
      ]
    },
    {
      "cell_type": "code",
      "source": [
        "pred[range(10), y_train[0:10]]"
      ],
      "metadata": {
        "id": "VPPQkzVEyPTa"
      },
      "execution_count": null,
      "outputs": []
    },
    {
      "cell_type": "code",
      "source": [
        "def nll(pred, target):\n",
        "    return -pred[range(target.shape[0]), target].mean()\n",
        "\n",
        "loss_fn = nll"
      ],
      "metadata": {
        "id": "lt-1pwl_nNF9"
      },
      "execution_count": null,
      "outputs": []
    },
    {
      "cell_type": "code",
      "source": [
        "pred = model(x_train)"
      ],
      "metadata": {
        "id": "uCyP1LZ2d7fh"
      },
      "execution_count": null,
      "outputs": []
    },
    {
      "cell_type": "code",
      "source": [
        "nll(pred, y_train)"
      ],
      "metadata": {
        "colab": {
          "base_uri": "https://localhost:8080/"
        },
        "id": "er7kzO5rCgNa",
        "outputId": "51aa393b-4273-4be7-983a-79047d809f26"
      },
      "execution_count": null,
      "outputs": [
        {
          "output_type": "execute_result",
          "data": {
            "text/plain": [
              "tensor(14.7952)"
            ]
          },
          "metadata": {},
          "execution_count": 21
        }
      ]
    },
    {
      "cell_type": "code",
      "source": [
        "def accuracy(out, yb):\n",
        "    preds = torch.argmax(out, dim=1)\n",
        "    return (preds == yb).float().mean()"
      ],
      "metadata": {
        "id": "EUyD-4JznNkU"
      },
      "execution_count": null,
      "outputs": []
    },
    {
      "cell_type": "code",
      "source": [],
      "metadata": {
        "id": "d3eofvtxSBHG"
      },
      "execution_count": null,
      "outputs": []
    },
    {
      "cell_type": "markdown",
      "source": [
        "# Manual Training"
      ],
      "metadata": {
        "id": "OqfnU-Aeembj"
      }
    },
    {
      "cell_type": "code",
      "source": [
        "pred = model(x_train)\n",
        "loss = loss_fn(pred, y_train)"
      ],
      "metadata": {
        "id": "1BP2VwbEoe4I"
      },
      "execution_count": null,
      "outputs": []
    },
    {
      "cell_type": "code",
      "source": [
        "loss"
      ],
      "metadata": {
        "colab": {
          "base_uri": "https://localhost:8080/"
        },
        "id": "Q1uF2nswo2go",
        "outputId": "8f696b0b-39d7-45b5-d822-8002312f3456"
      },
      "execution_count": null,
      "outputs": [
        {
          "output_type": "execute_result",
          "data": {
            "text/plain": [
              "tensor(12.3007, grad_fn=<NegBackward0>)"
            ]
          },
          "metadata": {},
          "execution_count": 50
        }
      ]
    },
    {
      "cell_type": "code",
      "source": [
        "loss.backward()"
      ],
      "metadata": {
        "id": "_Grv9oGJpqGq"
      },
      "execution_count": null,
      "outputs": []
    },
    {
      "cell_type": "code",
      "source": [
        "#w.grad"
      ],
      "metadata": {
        "id": "3rSxPwtop5I-"
      },
      "execution_count": null,
      "outputs": []
    },
    {
      "cell_type": "code",
      "source": [
        "#b.grad"
      ],
      "metadata": {
        "id": "YQWr05_cp8Fw"
      },
      "execution_count": null,
      "outputs": []
    },
    {
      "cell_type": "code",
      "source": [
        "with torch.no_grad():\n",
        "    w -= w.grad*0.1\n",
        "    b -= b.grad*0.1\n",
        "    w.grad.zero_()\n",
        "    b.grad.zero_()"
      ],
      "metadata": {
        "id": "0W-sgq9VqBUJ"
      },
      "execution_count": null,
      "outputs": []
    },
    {
      "cell_type": "markdown",
      "source": [
        "# Training"
      ],
      "metadata": {
        "id": "oKzmPWv-eFoY"
      }
    },
    {
      "cell_type": "code",
      "source": [
        "epochs = 100\n",
        "\n",
        "for epoch in range(epochs):\n",
        "\n",
        "    pred = model(x_train)\n",
        "    loss = loss_fn(pred, y_train)\n",
        "    if epoch % 10 == 0:\n",
        "        print(loss)\n",
        "\n",
        "    loss.backward()\n",
        "    with torch.no_grad():\n",
        "        w -= w.grad * 0.1\n",
        "        b -= b.grad * 0.1\n",
        "        w.grad.zero_()\n",
        "        b.grad.zero_()"
      ],
      "metadata": {
        "colab": {
          "base_uri": "https://localhost:8080/"
        },
        "id": "prtWseLunQ_9",
        "outputId": "65debbe2-789c-4fde-82a0-579eaf2bd1c6",
        "collapsed": true
      },
      "execution_count": null,
      "outputs": [
        {
          "output_type": "stream",
          "name": "stdout",
          "text": [
            "tensor(3.9096, grad_fn=<NegBackward0>)\n",
            "tensor(3.6638, grad_fn=<NegBackward0>)\n",
            "tensor(3.4509, grad_fn=<NegBackward0>)\n",
            "tensor(3.2654, grad_fn=<NegBackward0>)\n",
            "tensor(3.1025, grad_fn=<NegBackward0>)\n",
            "tensor(2.9585, grad_fn=<NegBackward0>)\n",
            "tensor(2.8302, grad_fn=<NegBackward0>)\n",
            "tensor(2.7153, grad_fn=<NegBackward0>)\n",
            "tensor(2.6117, grad_fn=<NegBackward0>)\n",
            "tensor(2.5178, grad_fn=<NegBackward0>)\n"
          ]
        }
      ]
    },
    {
      "cell_type": "code",
      "source": [
        "accuracy(model(x_train), y_train)"
      ],
      "metadata": {
        "colab": {
          "base_uri": "https://localhost:8080/"
        },
        "id": "GKk3pi8Bsuqg",
        "outputId": "4da1af30-e318-40d0-a191-8f5b7b1c2f44"
      },
      "execution_count": null,
      "outputs": [
        {
          "output_type": "execute_result",
          "data": {
            "text/plain": [
              "tensor(0.5835)"
            ]
          },
          "metadata": {},
          "execution_count": 54
        }
      ]
    },
    {
      "cell_type": "code",
      "source": [
        "accuracy(model(x_test), y_test)"
      ],
      "metadata": {
        "id": "UW5rc1CatK4z"
      },
      "execution_count": null,
      "outputs": []
    },
    {
      "cell_type": "code",
      "source": [
        "np.exp(-0.0615)"
      ],
      "metadata": {
        "id": "K-Vk44fDt65M"
      },
      "execution_count": null,
      "outputs": []
    },
    {
      "cell_type": "markdown",
      "source": [
        "# Mini-batch"
      ],
      "metadata": {
        "id": "YGztl0lEaKs7"
      }
    },
    {
      "cell_type": "code",
      "source": [
        "lr = 0.1  # learning rate\n",
        "epochs = 100  # how many epochs to train for\n",
        "bs = 64\n",
        "n, c = x_train.shape\n",
        "\n",
        "for epoch in range(epochs):\n",
        "    for i in range((n - 1) // bs + 1):\n",
        "        start_i = i * bs\n",
        "        end_i = start_i + bs\n",
        "        xb = x_train[start_i:end_i]\n",
        "        yb = y_train[start_i:end_i]\n",
        "        pred = model(xb)\n",
        "        loss = loss_fn(pred, yb)\n",
        "\n",
        "        loss.backward()\n",
        "        with torch.no_grad():\n",
        "            w -= w.grad * lr\n",
        "            b -= b.grad * lr\n",
        "            w.grad.zero_()\n",
        "            b.grad.zero_()\n",
        "\n",
        "    if epoch % 10 == 0:\n",
        "            print(loss)"
      ],
      "metadata": {
        "colab": {
          "base_uri": "https://localhost:8080/"
        },
        "id": "Iz9HdV-2aNp7",
        "outputId": "67008168-5da2-4a3f-a586-deba1dc0042a"
      },
      "execution_count": null,
      "outputs": [
        {
          "output_type": "stream",
          "name": "stdout",
          "text": [
            "tensor(0.4836, grad_fn=<NegBackward0>)\n",
            "tensor(0.1746, grad_fn=<NegBackward0>)\n",
            "tensor(0.1239, grad_fn=<NegBackward0>)\n",
            "tensor(0.1040, grad_fn=<NegBackward0>)\n",
            "tensor(0.0953, grad_fn=<NegBackward0>)\n",
            "tensor(0.0908, grad_fn=<NegBackward0>)\n",
            "tensor(0.0880, grad_fn=<NegBackward0>)\n",
            "tensor(0.0859, grad_fn=<NegBackward0>)\n",
            "tensor(0.0843, grad_fn=<NegBackward0>)\n",
            "tensor(0.0829, grad_fn=<NegBackward0>)\n"
          ]
        }
      ]
    },
    {
      "cell_type": "code",
      "source": [
        "pred"
      ],
      "metadata": {
        "colab": {
          "base_uri": "https://localhost:8080/"
        },
        "id": "0Pchl-VohEDH",
        "outputId": "7fdc97b1-c1fd-4127-9868-21856f11b2e9"
      },
      "execution_count": null,
      "outputs": [
        {
          "output_type": "execute_result",
          "data": {
            "text/plain": [
              "tensor([[-9.6767e+00, -1.8695e+01, -1.3041e+01, -7.9581e+00, -7.5522e+00,\n",
              "         -4.8227e-03, -5.6319e+00, -1.3945e+01, -8.2594e+00, -1.0424e+01],\n",
              "        [-9.6451e+00, -2.7131e+01, -1.3113e+01, -5.3890e+00, -5.8191e+00,\n",
              "         -1.2668e+00, -1.5849e+01, -4.0046e+00, -6.7992e+00, -3.6914e-01],\n",
              "        [-1.5248e+01, -2.7981e+01, -2.0218e-04, -1.1274e+01, -2.6447e+01,\n",
              "         -1.1560e+01, -1.6773e+01, -3.5689e+01, -8.6245e+00, -2.7485e+01],\n",
              "        [-1.2293e+01, -3.7065e+01, -1.3351e-05, -1.3595e+01, -1.9377e+01,\n",
              "         -1.4956e+01, -1.3748e+01, -2.9878e+01, -1.2139e+01, -2.5337e+01],\n",
              "        [-1.4458e-03, -3.9381e+01, -1.0708e+01, -1.3764e+01, -1.9548e+01,\n",
              "         -6.5566e+00, -1.7076e+01, -2.4014e+01, -1.3542e+01, -1.6410e+01],\n",
              "        [-1.0877e+01, -2.9444e+01, -1.5817e+01, -9.0341e+00, -8.1696e+00,\n",
              "         -8.9930e+00, -1.8581e+01, -3.0543e+00, -8.4968e+00, -4.9093e-02],\n",
              "        [-1.1209e+01, -2.1981e+01, -1.3725e+00, -6.9566e+00, -4.5177e-01,\n",
              "         -6.5802e+00, -2.3093e+00, -1.7331e+01, -4.7900e+00, -1.0577e+01],\n",
              "        [-1.3882e+01, -1.0092e+01, -7.8500e+00, -1.5988e+01, -6.5899e-03,\n",
              "         -1.2331e+01, -5.7970e+00, -7.1500e+00, -8.6889e+00, -6.1462e+00],\n",
              "        [-1.5352e+01, -1.9025e+01, -1.0537e+01, -1.7996e+01, -1.4674e+01,\n",
              "         -1.4545e+01, -4.0054e-05, -2.4161e+01, -1.1339e+01, -1.7852e+01],\n",
              "        [-1.0331e+01, -1.6695e+01, -8.8296e+00, -7.8046e+00, -1.1543e+01,\n",
              "         -5.6774e+00, -1.9908e+01, -4.5644e-02, -9.1239e+00, -3.2067e+00],\n",
              "        [-1.9877e+01, -2.1414e+01, -1.6739e+01, -1.5259e-04, -2.5306e+01,\n",
              "         -8.8352e+00, -3.6036e+01, -2.0934e+01, -1.1970e+01, -1.6950e+01],\n",
              "        [-1.8649e+01, -1.2506e-02, -4.8816e+00, -6.9279e+00, -7.9967e+00,\n",
              "         -8.6290e+00, -1.1232e+01, -7.3195e+00, -5.9739e+00, -8.9642e+00],\n",
              "        [-1.0030e+01, -7.7490e+00, -6.8321e+00, -8.2253e-02, -3.1619e+01,\n",
              "         -2.5587e+00, -2.3182e+01, -2.5114e+01, -1.7594e+01, -2.9021e+01],\n",
              "        [-1.7022e+01, -1.6627e+01, -4.8027e+00, -1.4065e+01, -1.6289e+01,\n",
              "         -1.2487e+01, -8.2760e-03, -2.6260e+01, -1.0445e+01, -2.1099e+01],\n",
              "        [-4.1370e+00, -1.6900e+01, -1.2951e+01, -1.1142e+01, -2.8671e+00,\n",
              "         -5.7614e+00, -7.9100e-02, -1.3476e+01, -1.3182e+01, -9.9091e+00],\n",
              "        [-4.7152e+00, -2.8390e+01, -9.0084e-03, -1.3036e+01, -2.0566e+01,\n",
              "         -1.2050e+01, -1.7982e+01, -1.4543e+01, -1.3530e+01, -1.5654e+01],\n",
              "        [-1.6922e+01, -9.8009e-03, -6.5903e+00, -7.4575e+00, -1.2646e+01,\n",
              "         -1.0629e+01, -1.3972e+01, -9.7535e+00, -4.8732e+00, -9.6064e+00],\n",
              "        [-1.4070e+01, -3.7083e+01, -1.9073e-05, -1.0967e+01, -2.0670e+01,\n",
              "         -1.5081e+01, -2.2158e+01, -2.6623e+01, -1.5243e+01, -2.3235e+01],\n",
              "        [-1.2064e+01, -2.1807e+01, -6.6275e+00, -1.1894e+01, -5.2715e+00,\n",
              "         -4.9569e+00, -1.3653e-02, -1.2647e+01, -1.2025e+01, -1.0028e+01],\n",
              "        [-4.9820e-03, -2.8619e+01, -1.3443e+01, -9.5107e+00, -2.1545e+01,\n",
              "         -5.3203e+00, -1.2977e+01, -2.4652e+01, -1.6508e+01, -2.5933e+01],\n",
              "        [-1.4994e+01, -2.1660e+01, -2.4314e+01, -1.8525e+01, -7.8086e+00,\n",
              "         -9.6559e+00, -2.5253e+01, -5.7344e-03, -9.0475e+00, -5.2727e+00],\n",
              "        [-1.6207e+01, -1.0464e+01, -9.3818e+00, -1.1318e+01, -6.1047e+00,\n",
              "         -4.1452e+00, -1.0570e+01, -1.6310e+01, -1.8709e-02, -8.0729e+00],\n",
              "        [-1.5181e+01, -1.7322e+01, -1.6668e+01, -1.0464e+01, -7.9469e+00,\n",
              "         -8.9282e+00, -1.9875e+01, -2.6366e+00, -8.3677e+00, -7.5104e-02],\n",
              "        [-6.9521e+00, -1.9382e+01, -1.1004e-02, -8.6644e+00, -9.2554e+00,\n",
              "         -7.2580e+00, -6.5896e+00, -2.2337e+01, -4.8743e+00, -1.7496e+01],\n",
              "        [-1.2650e+01, -9.4063e+00, -1.1711e+01, -7.0210e+00, -5.9804e+00,\n",
              "         -5.2450e+00, -2.0366e+01, -1.8241e+00, -7.2666e+00, -1.8736e-01],\n",
              "        [-7.4404e+00, -1.4512e+01, -7.7488e+00, -5.1957e+00, -6.5783e+00,\n",
              "         -1.0183e-02, -6.2336e+00, -1.1790e+01, -8.5446e+00, -1.0930e+01],\n",
              "        [-1.4509e+01, -6.4630e-02, -3.0379e+00, -6.4910e+00, -7.6255e+00,\n",
              "         -5.2454e+00, -1.1223e+01, -5.5624e+00, -5.7017e+00, -8.6239e+00],\n",
              "        [-1.4144e+01, -1.0965e+01, -6.5044e+00, -4.5608e+00, -1.4060e+01,\n",
              "         -6.8993e+00, -1.9868e+01, -1.8421e+01, -1.3227e-02, -8.7262e+00],\n",
              "        [-1.0463e+01, -1.7235e+01, -7.6516e+00, -1.2046e-02, -1.6854e+01,\n",
              "         -6.1077e+00, -2.2736e+01, -2.5113e+01, -4.6956e+00, -9.1241e+00],\n",
              "        [-1.5420e+01, -1.3343e+01, -1.6915e+01, -8.9450e+00, -9.8558e+00,\n",
              "         -2.9478e-03, -2.2885e+01, -1.9010e+01, -5.9143e+00, -9.7429e+00],\n",
              "        [-5.2294e+00, -1.4306e+01, -6.8553e+00, -9.2468e+00, -3.5773e+00,\n",
              "         -3.1944e+00, -7.9199e-02, -8.0240e+00, -9.9785e+00, -8.0403e+00],\n",
              "        [-3.1219e+00, -1.4978e+01, -7.1894e+00, -1.0221e+01, -1.2981e+01,\n",
              "         -4.0862e+00, -1.6057e+01, -1.0325e+01, -6.5668e-02, -6.2886e+00]],\n",
              "       grad_fn=<SubBackward0>)"
            ]
          },
          "metadata": {},
          "execution_count": 56
        }
      ]
    },
    {
      "cell_type": "code",
      "source": [
        "accuracy(model(x_train), y_train)"
      ],
      "metadata": {
        "colab": {
          "base_uri": "https://localhost:8080/"
        },
        "id": "gVBG12hubE3D",
        "outputId": "c482d519-9ead-40b6-ea58-7c0d5eb88745"
      },
      "execution_count": null,
      "outputs": [
        {
          "output_type": "execute_result",
          "data": {
            "text/plain": [
              "tensor(0.9287)"
            ]
          },
          "metadata": {},
          "execution_count": 57
        }
      ]
    },
    {
      "cell_type": "code",
      "source": [
        "accuracy(model(x_test), y_test)"
      ],
      "metadata": {
        "colab": {
          "base_uri": "https://localhost:8080/"
        },
        "id": "hBYSG4NTbi6N",
        "outputId": "2e91c23b-db10-4487-a549-9d5ca0189981"
      },
      "execution_count": null,
      "outputs": [
        {
          "output_type": "execute_result",
          "data": {
            "text/plain": [
              "tensor(0.9207)"
            ]
          },
          "metadata": {},
          "execution_count": 58
        }
      ]
    },
    {
      "cell_type": "code",
      "source": [
        "np.exp(-0.0829)"
      ],
      "metadata": {
        "id": "Jj6zGPcUdDUg",
        "colab": {
          "base_uri": "https://localhost:8080/"
        },
        "outputId": "a83a433b-3077-4da8-a173-5d35a9ef3a67"
      },
      "execution_count": null,
      "outputs": [
        {
          "output_type": "execute_result",
          "data": {
            "text/plain": [
              "0.9204431869367559"
            ]
          },
          "metadata": {},
          "execution_count": 59
        }
      ]
    },
    {
      "cell_type": "markdown",
      "source": [
        "# Refactoring with torch.nn"
      ],
      "metadata": {
        "id": "XyRx2xLZzSGZ"
      }
    },
    {
      "cell_type": "code",
      "source": [
        "import torch.nn.functional as F\n",
        "\n",
        "loss_fn = F.cross_entropy\n",
        "\n",
        "def model(xb):\n",
        "    return xb @ w + b"
      ],
      "metadata": {
        "id": "-KVjmWGzzVW3"
      },
      "execution_count": null,
      "outputs": []
    },
    {
      "cell_type": "code",
      "source": [
        "w = torch.randn(784, 10, requires_grad=True)\n",
        "b = torch.randn(10, requires_grad=True)"
      ],
      "metadata": {
        "id": "2PdAli6rzYWy"
      },
      "execution_count": null,
      "outputs": []
    },
    {
      "cell_type": "code",
      "source": [
        "lr = 0.1  # learning rate\n",
        "epochs = 100  # how many epochs to train for\n",
        "bs = 64\n",
        "n, c = x_train.shape\n",
        "\n",
        "for epoch in range(epochs):\n",
        "    for i in range((n - 1) // bs + 1):\n",
        "        start_i = i * bs\n",
        "        end_i = start_i + bs\n",
        "        xb = x_train[start_i:end_i]\n",
        "        yb = y_train[start_i:end_i]\n",
        "        pred = model(xb)\n",
        "        loss = loss_fn(pred, yb)\n",
        "\n",
        "        loss.backward()\n",
        "        with torch.no_grad():\n",
        "            w -= w.grad * lr\n",
        "            b -= b.grad * lr\n",
        "            w.grad.zero_()\n",
        "            b.grad.zero_()\n",
        "\n",
        "    if epoch % 10 == 0:\n",
        "            print(loss)"
      ],
      "metadata": {
        "colab": {
          "base_uri": "https://localhost:8080/"
        },
        "id": "hiWoNSaIzrjL",
        "outputId": "0c3025b2-bec9-4105-c58c-2331d5b4cf3b"
      },
      "execution_count": null,
      "outputs": [
        {
          "output_type": "stream",
          "name": "stdout",
          "text": [
            "tensor(0.5285, grad_fn=<NllLossBackward0>)\n",
            "tensor(0.1856, grad_fn=<NllLossBackward0>)\n",
            "tensor(0.1382, grad_fn=<NllLossBackward0>)\n",
            "tensor(0.1124, grad_fn=<NllLossBackward0>)\n",
            "tensor(0.0959, grad_fn=<NllLossBackward0>)\n",
            "tensor(0.0846, grad_fn=<NllLossBackward0>)\n",
            "tensor(0.0765, grad_fn=<NllLossBackward0>)\n",
            "tensor(0.0706, grad_fn=<NllLossBackward0>)\n",
            "tensor(0.0663, grad_fn=<NllLossBackward0>)\n",
            "tensor(0.0632, grad_fn=<NllLossBackward0>)\n"
          ]
        }
      ]
    },
    {
      "cell_type": "code",
      "source": [
        "accuracy(model(x_train), y_train)"
      ],
      "metadata": {
        "colab": {
          "base_uri": "https://localhost:8080/"
        },
        "id": "E498HzIUzwO7",
        "outputId": "3086ec1b-b66d-478c-fce3-89267cbbe245"
      },
      "execution_count": null,
      "outputs": [
        {
          "output_type": "execute_result",
          "data": {
            "text/plain": [
              "tensor(0.9286)"
            ]
          },
          "metadata": {},
          "execution_count": 64
        }
      ]
    },
    {
      "cell_type": "code",
      "source": [],
      "metadata": {
        "id": "noiLR172z8Hq"
      },
      "execution_count": null,
      "outputs": []
    }
  ]
}