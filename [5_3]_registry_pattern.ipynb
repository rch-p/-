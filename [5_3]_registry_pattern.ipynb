{
  "nbformat": 4,
  "nbformat_minor": 0,
  "metadata": {
    "colab": {
      "provenance": []
    },
    "kernelspec": {
      "name": "python3",
      "display_name": "Python 3"
    },
    "language_info": {
      "name": "python"
    }
  },
  "cells": [
    {
      "cell_type": "code",
      "source": [
        "a = dict()"
      ],
      "metadata": {
        "id": "z-1lAvU9z3at"
      },
      "execution_count": null,
      "outputs": []
    },
    {
      "cell_type": "code",
      "source": [
        "a"
      ],
      "metadata": {
        "colab": {
          "base_uri": "https://localhost:8080/"
        },
        "id": "2v47dyF6z8SL",
        "outputId": "e26f89f4-a747-4363-c560-aeb91d54dfda"
      },
      "execution_count": null,
      "outputs": [
        {
          "output_type": "execute_result",
          "data": {
            "text/plain": [
              "{}"
            ]
          },
          "metadata": {},
          "execution_count": 2
        }
      ]
    },
    {
      "cell_type": "code",
      "source": [
        "a[\"abc\"] = \"something\""
      ],
      "metadata": {
        "id": "QrZdAdPnz-Lf"
      },
      "execution_count": null,
      "outputs": []
    },
    {
      "cell_type": "code",
      "source": [
        "a"
      ],
      "metadata": {
        "colab": {
          "base_uri": "https://localhost:8080/"
        },
        "id": "kUVj0_Mj0Cwf",
        "outputId": "223de714-4be8-417d-900a-de1c2afb5e41"
      },
      "execution_count": null,
      "outputs": [
        {
          "output_type": "execute_result",
          "data": {
            "text/plain": [
              "{'abc': 'something'}"
            ]
          },
          "metadata": {},
          "execution_count": 4
        }
      ]
    },
    {
      "cell_type": "code",
      "source": [
        "a[\"aaa\"] = 1234"
      ],
      "metadata": {
        "id": "sKU5VLX_0GHW"
      },
      "execution_count": null,
      "outputs": []
    },
    {
      "cell_type": "code",
      "source": [
        "a"
      ],
      "metadata": {
        "colab": {
          "base_uri": "https://localhost:8080/"
        },
        "id": "NsP9riVv0JpC",
        "outputId": "c6887f73-9bba-4209-d9a9-838b042bbe5a"
      },
      "execution_count": null,
      "outputs": [
        {
          "output_type": "execute_result",
          "data": {
            "text/plain": [
              "{'abc': 'something', 'aaa': 1234}"
            ]
          },
          "metadata": {},
          "execution_count": 6
        }
      ]
    },
    {
      "cell_type": "code",
      "source": [
        "a[\"aaa\"]"
      ],
      "metadata": {
        "colab": {
          "base_uri": "https://localhost:8080/"
        },
        "id": "rD52PeeU0L3B",
        "outputId": "ef2d4cf1-afc5-41ce-cd36-ee3990dd1909"
      },
      "execution_count": null,
      "outputs": [
        {
          "output_type": "execute_result",
          "data": {
            "text/plain": [
              "1234"
            ]
          },
          "metadata": {},
          "execution_count": 7
        }
      ]
    },
    {
      "cell_type": "markdown",
      "source": [
        "### Systematic way"
      ],
      "metadata": {
        "id": "VMp_2fxEuf3n"
      }
    },
    {
      "cell_type": "code",
      "source": [
        "class Demo:\n",
        "\n",
        "    def __init__(self):\n",
        "        self._buffers = dict()\n",
        "\n",
        "    def register_buffer(self, name, content):\n",
        "        self._buffers[name] = content\n",
        "\n",
        "    def named_buffers(self):\n",
        "        for name, content in self._buffers.items():\n",
        "            yield name, content\n",
        "\n",
        "    def buffers(self):\n",
        "        for _, content in self.named_buffers():\n",
        "            yield content\n",
        "\n",
        "    def get_buffer(self, name):\n",
        "        return self._buffers[name]\n",
        "\n",
        "\n"
      ],
      "metadata": {
        "id": "63s-R0FiueZd"
      },
      "execution_count": null,
      "outputs": []
    },
    {
      "cell_type": "code",
      "source": [
        "a = Demo()"
      ],
      "metadata": {
        "id": "06OXSLA_vo5Y"
      },
      "execution_count": null,
      "outputs": []
    },
    {
      "cell_type": "code",
      "source": [
        "a.register_buffer(\"sth\", \"somebody\")"
      ],
      "metadata": {
        "id": "qcWgDBK9vrQx"
      },
      "execution_count": null,
      "outputs": []
    },
    {
      "cell_type": "code",
      "source": [
        "a.register_buffer(\"aaa\", \"anyone\")"
      ],
      "metadata": {
        "id": "_VxIoJ9k20kc"
      },
      "execution_count": null,
      "outputs": []
    },
    {
      "cell_type": "code",
      "source": [
        "for i in a.named_buffers():\n",
        "    print(i)"
      ],
      "metadata": {
        "colab": {
          "base_uri": "https://localhost:8080/"
        },
        "id": "AlIggXhj2Jf1",
        "outputId": "9dcc9f87-3c7f-4f81-f6ba-1acd463e6d0f"
      },
      "execution_count": null,
      "outputs": [
        {
          "output_type": "stream",
          "name": "stdout",
          "text": [
            "('sth', 'somebody')\n",
            "('aaa', 'anyone')\n"
          ]
        }
      ]
    },
    {
      "cell_type": "code",
      "source": [
        "for i in a.buffers():\n",
        "    print(i)"
      ],
      "metadata": {
        "colab": {
          "base_uri": "https://localhost:8080/"
        },
        "id": "b3_dxeyw2_GZ",
        "outputId": "ba20416d-0a6f-4589-d12f-7bd5a80100cb"
      },
      "execution_count": null,
      "outputs": [
        {
          "output_type": "stream",
          "name": "stdout",
          "text": [
            "somebody\n",
            "anyone\n"
          ]
        }
      ]
    },
    {
      "cell_type": "code",
      "source": [
        "a.get_buffer(\"sth\")"
      ],
      "metadata": {
        "colab": {
          "base_uri": "https://localhost:8080/",
          "height": 35
        },
        "id": "tIU1raJCvw_z",
        "outputId": "23bc58ec-2b5e-4b3e-f4b3-a72ac688b10c"
      },
      "execution_count": null,
      "outputs": [
        {
          "output_type": "execute_result",
          "data": {
            "text/plain": [
              "'somebody'"
            ],
            "application/vnd.google.colaboratory.intrinsic+json": {
              "type": "string"
            }
          },
          "metadata": {},
          "execution_count": 27
        }
      ]
    },
    {
      "cell_type": "code",
      "source": [
        "for i in a.named_buffers():\n",
        "    print(i)"
      ],
      "metadata": {
        "colab": {
          "base_uri": "https://localhost:8080/"
        },
        "id": "tQJmswm3vzjk",
        "outputId": "7706d2c1-fb95-4e77-bfc9-e4c054e15b89"
      },
      "execution_count": null,
      "outputs": [
        {
          "output_type": "stream",
          "name": "stdout",
          "text": [
            "('sth', 'somebody')\n",
            "('abc', 1234)\n"
          ]
        }
      ]
    },
    {
      "cell_type": "code",
      "source": [
        "for i in a.buffers():\n",
        "    print(i)"
      ],
      "metadata": {
        "colab": {
          "base_uri": "https://localhost:8080/"
        },
        "id": "Rpr-SFK6wJi2",
        "outputId": "8dc49571-34b2-40f0-bf9f-c9a78d34b19d"
      },
      "execution_count": null,
      "outputs": [
        {
          "output_type": "stream",
          "name": "stdout",
          "text": [
            "somebody\n",
            "1234\n"
          ]
        }
      ]
    },
    {
      "cell_type": "code",
      "source": [
        "a.register_buffer(\"abc\", 1234)"
      ],
      "metadata": {
        "id": "kbH_9joCwf2j"
      },
      "execution_count": null,
      "outputs": []
    },
    {
      "cell_type": "code",
      "source": [],
      "metadata": {
        "id": "28n1VvrIwq-F"
      },
      "execution_count": null,
      "outputs": []
    }
  ]
}