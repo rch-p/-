{
  "nbformat": 4,
  "nbformat_minor": 0,
  "metadata": {
    "colab": {
      "provenance": []
    },
    "kernelspec": {
      "name": "python3",
      "display_name": "Python 3"
    },
    "language_info": {
      "name": "python"
    }
  },
  "cells": [
    {
      "cell_type": "code",
      "execution_count": null,
      "metadata": {
        "id": "b4p5DOZhfYHY"
      },
      "outputs": [],
      "source": [
        "import numpy as np"
      ]
    },
    {
      "cell_type": "markdown",
      "source": [
        "# op, grad"
      ],
      "metadata": {
        "id": "hRJpl2oX1v-k"
      }
    },
    {
      "cell_type": "code",
      "source": [
        "class Tensor:\n",
        "\n",
        "    def __init__(self, data, prev=(), op=\"\"):\n",
        "        self.data = data\n",
        "        self.prev = prev\n",
        "        self.op = op\n",
        "        self.grad = 0.0\n",
        "\n",
        "    def __add__(self, other):\n",
        "        other = other if isinstance(other, Tensor) else Tensor(other)\n",
        "        out = Tensor(self.data + other.data, prev=(self, other), op=\"+\")\n",
        "\n",
        "        def _backward():\n",
        "            self.grad += out.grad\n",
        "            other.grad += out.grad\n",
        "\n",
        "        out._backward = _backward\n",
        "\n",
        "        return out\n",
        "\n",
        "    def __mul__(self, other):\n",
        "        other = other if isinstance(other, Tensor) else Tensor(other)\n",
        "        out = Tensor(self.data * other.data, prev=(self, other), op=\"*\")\n",
        "\n",
        "        def _backward():\n",
        "            self.grad += out.grad * other.data\n",
        "            other.grad += out.grad * self.data\n",
        "\n",
        "        out._backward = _backward\n",
        "\n",
        "        return out\n",
        "\n",
        "    def __pow__(self, other):\n",
        "        out = Tensor(self.data**other, (self,), f\"**{other}\")\n",
        "        return out\n",
        "\n",
        "    def __neg__(self): # -self\n",
        "        return self * -1\n",
        "\n",
        "    def __radd__(self, other): # other + self\n",
        "        return self + other\n",
        "\n",
        "    def __sub__(self, other): # self - other\n",
        "        return self + (-other)\n",
        "\n",
        "    def __rsub__(self, other): # other - self\n",
        "        return other + (-self)\n",
        "\n",
        "    def __rmul__(self, other): # other * self\n",
        "        return self * other\n",
        "\n",
        "    def __truediv__(self, other): # self / other\n",
        "        return self * other**-1\n",
        "\n",
        "    def __rtruediv__(self, other): # other / self\n",
        "        return other * self**-1\n",
        "\n",
        "    def relu(self):\n",
        "        return Tensor(np.maximum(self.data, 0), prev=(self,))\n",
        "\n",
        "    def __repr__(self):\n",
        "        return f\"Tensor(data={self.data})\""
      ],
      "metadata": {
        "id": "54-Nlfd6faFJ"
      },
      "execution_count": null,
      "outputs": []
    },
    {
      "cell_type": "code",
      "source": [
        "print(\"hello\")"
      ],
      "metadata": {
        "colab": {
          "base_uri": "https://localhost:8080/"
        },
        "id": "7TArMGsMJ0_-",
        "outputId": "1dd0a63c-ed95-4032-f9c7-94a5741f5673"
      },
      "execution_count": null,
      "outputs": [
        {
          "output_type": "stream",
          "name": "stdout",
          "text": [
            "hello\n"
          ]
        }
      ]
    },
    {
      "cell_type": "code",
      "source": [
        "a = Tensor(1.0)\n",
        "b = Tensor(2.0)"
      ],
      "metadata": {
        "id": "WJPesaU7J4qx"
      },
      "execution_count": null,
      "outputs": []
    },
    {
      "cell_type": "code",
      "source": [
        "c = a * b"
      ],
      "metadata": {
        "id": "hh-kEORiJ83X"
      },
      "execution_count": null,
      "outputs": []
    },
    {
      "cell_type": "code",
      "source": [
        "c.grad = 1.0"
      ],
      "metadata": {
        "id": "84UQ8nXvKudI"
      },
      "execution_count": null,
      "outputs": []
    },
    {
      "cell_type": "code",
      "source": [
        "c._backward()"
      ],
      "metadata": {
        "id": "cUjQvmWQK06k"
      },
      "execution_count": null,
      "outputs": []
    },
    {
      "cell_type": "code",
      "source": [
        "a.grad"
      ],
      "metadata": {
        "colab": {
          "base_uri": "https://localhost:8080/"
        },
        "id": "3HV2XTzNK35V",
        "outputId": "769b9106-e2aa-4c4f-b37e-27d1eeb06897"
      },
      "execution_count": null,
      "outputs": [
        {
          "output_type": "execute_result",
          "data": {
            "text/plain": [
              "2.0"
            ]
          },
          "metadata": {},
          "execution_count": 50
        }
      ]
    },
    {
      "cell_type": "code",
      "source": [
        "b.grad"
      ],
      "metadata": {
        "id": "G_gslMsgK_C5",
        "outputId": "983e5109-dbfa-43b4-db60-1c1f17fc100a",
        "colab": {
          "base_uri": "https://localhost:8080/"
        }
      },
      "execution_count": null,
      "outputs": [
        {
          "output_type": "execute_result",
          "data": {
            "text/plain": [
              "1.0"
            ]
          },
          "metadata": {},
          "execution_count": 51
        }
      ]
    },
    {
      "cell_type": "code",
      "source": [
        "3/2"
      ],
      "metadata": {
        "colab": {
          "base_uri": "https://localhost:8080/"
        },
        "id": "9VLceQOs8FcO",
        "outputId": "47985739-6fb9-401d-9035-747dff31a317"
      },
      "execution_count": null,
      "outputs": [
        {
          "output_type": "execute_result",
          "data": {
            "text/plain": [
              "1.5"
            ]
          },
          "metadata": {},
          "execution_count": 2
        }
      ]
    },
    {
      "cell_type": "code",
      "source": [
        "3//2"
      ],
      "metadata": {
        "colab": {
          "base_uri": "https://localhost:8080/"
        },
        "id": "dO3-pUZd8HQa",
        "outputId": "3fcebb19-980a-4206-871b-3242412d2800"
      },
      "execution_count": null,
      "outputs": [
        {
          "output_type": "execute_result",
          "data": {
            "text/plain": [
              "1"
            ]
          },
          "metadata": {},
          "execution_count": 3
        }
      ]
    },
    {
      "cell_type": "markdown",
      "source": [
        "# Helper functions"
      ],
      "metadata": {
        "id": "xEtiJl4DTJ1o"
      }
    },
    {
      "cell_type": "code",
      "source": [
        "# Helper functions\n",
        "\n",
        "def trace(root):\n",
        "    nodes, edges = set(), set()\n",
        "    def build(v):\n",
        "        if v not in nodes:\n",
        "            nodes.add(v)\n",
        "            for child in v.prev:\n",
        "                edges.add((child, v))\n",
        "                build(child)\n",
        "    build(root)\n",
        "    return nodes, edges\n",
        "\n",
        "from graphviz import Digraph\n",
        "\n",
        "def draw_dot(root, format='svg', rankdir='LR'):\n",
        "    \"\"\"\n",
        "    format: png | svg | ...\n",
        "    rankdir: TB (top to bottom graph) | LR (left to right)\n",
        "    \"\"\"\n",
        "    assert rankdir in ['LR', 'TB']\n",
        "    nodes, edges = trace(root)\n",
        "    dot = Digraph(format=format, graph_attr={'rankdir': rankdir}) #, node_attr={'rankdir': 'TB'})\n",
        "\n",
        "    for n in nodes:\n",
        "        dot.node(name=str(id(n)), label = \"{ data %.1f | grad %.1f }\" % (n.data, n.grad), shape='record')\n",
        "        if n.op:\n",
        "            dot.node(name=str(id(n)) + n.op, label=n.op)\n",
        "            dot.edge(str(id(n)) + n.op, str(id(n)))\n",
        "\n",
        "    for n1, n2 in edges:\n",
        "        dot.edge(str(id(n1)), str(id(n2)) + n2.op)\n",
        "\n",
        "    return dot"
      ],
      "metadata": {
        "id": "qOdENcLsgB6W"
      },
      "execution_count": null,
      "outputs": []
    },
    {
      "cell_type": "markdown",
      "source": [
        "# Numerical example"
      ],
      "metadata": {
        "id": "b-qCTFP6TPz5"
      }
    },
    {
      "cell_type": "code",
      "source": [
        "a = Tensor(2.0)\n",
        "b = Tensor(3.0)\n",
        "c = Tensor(4.0)\n",
        "x = Tensor(5.0)\n",
        "d = a + b\n",
        "e = c * d\n",
        "L = e * x\n",
        "\n",
        "L"
      ],
      "metadata": {
        "id": "2BWe6dYNfasJ",
        "colab": {
          "base_uri": "https://localhost:8080/"
        },
        "outputId": "84d3baed-4a4a-4fa0-f2cd-70e2c7ad092a"
      },
      "execution_count": null,
      "outputs": [
        {
          "output_type": "execute_result",
          "data": {
            "text/plain": [
              "Tensor(data=100.0)"
            ]
          },
          "metadata": {},
          "execution_count": 32
        }
      ]
    },
    {
      "cell_type": "code",
      "source": [
        "L.backward()"
      ],
      "metadata": {
        "id": "UKfplHnXD9Tw"
      },
      "execution_count": null,
      "outputs": []
    },
    {
      "cell_type": "code",
      "source": [
        "draw_dot(L)"
      ],
      "metadata": {
        "colab": {
          "base_uri": "https://localhost:8080/",
          "height": 249
        },
        "id": "eobCMUoJf8Mi",
        "outputId": "27d33c4c-49e9-445e-d54d-5ca3d4b2db47"
      },
      "execution_count": null,
      "outputs": [
        {
          "output_type": "execute_result",
          "data": {
            "image/svg+xml": "<?xml version=\"1.0\" encoding=\"UTF-8\" standalone=\"no\"?>\n<!DOCTYPE svg PUBLIC \"-//W3C//DTD SVG 1.1//EN\"\n \"http://www.w3.org/Graphics/SVG/1.1/DTD/svg11.dtd\">\n<!-- Generated by graphviz version 2.43.0 (0)\n -->\n<!-- Title: %3 Pages: 1 -->\n<svg width=\"907pt\" height=\"156pt\"\n viewBox=\"0.00 0.00 907.00 156.00\" xmlns=\"http://www.w3.org/2000/svg\" xmlns:xlink=\"http://www.w3.org/1999/xlink\">\n<g id=\"graph0\" class=\"graph\" transform=\"scale(1 1) rotate(0) translate(4 152)\">\n<title>%3</title>\n<polygon fill=\"white\" stroke=\"transparent\" points=\"-4,4 -4,-152 903,-152 903,4 -4,4\"/>\n<!-- 137230298764800 -->\n<g id=\"node1\" class=\"node\">\n<title>137230298764800</title>\n<polygon fill=\"none\" stroke=\"black\" points=\"0,-111.5 0,-147.5 128,-147.5 128,-111.5 0,-111.5\"/>\n<text text-anchor=\"middle\" x=\"30\" y=\"-125.8\" font-family=\"Times,serif\" font-size=\"14.00\">data 2.0</text>\n<polyline fill=\"none\" stroke=\"black\" points=\"60,-111.5 60,-147.5 \"/>\n<text text-anchor=\"middle\" x=\"94\" y=\"-125.8\" font-family=\"Times,serif\" font-size=\"14.00\">grad 20.0</text>\n</g>\n<!-- 137230298759664+ -->\n<g id=\"node9\" class=\"node\">\n<title>137230298759664+</title>\n<ellipse fill=\"none\" stroke=\"black\" cx=\"191\" cy=\"-101.5\" rx=\"27\" ry=\"18\"/>\n<text text-anchor=\"middle\" x=\"191\" y=\"-97.8\" font-family=\"Times,serif\" font-size=\"14.00\">+</text>\n</g>\n<!-- 137230298764800&#45;&gt;137230298759664+ -->\n<g id=\"edge4\" class=\"edge\">\n<title>137230298764800&#45;&gt;137230298759664+</title>\n<path fill=\"none\" stroke=\"black\" d=\"M128.23,-115.34C137.53,-113.25 146.81,-111.17 155.24,-109.29\"/>\n<polygon fill=\"black\" stroke=\"black\" points=\"156.06,-112.69 165.05,-107.09 154.53,-105.86 156.06,-112.69\"/>\n</g>\n<!-- 137230298760816 -->\n<g id=\"node2\" class=\"node\">\n<title>137230298760816</title>\n<polygon fill=\"none\" stroke=\"black\" points=\"508,-55.5 508,-91.5 637,-91.5 637,-55.5 508,-55.5\"/>\n<text text-anchor=\"middle\" x=\"541.5\" y=\"-69.8\" font-family=\"Times,serif\" font-size=\"14.00\">data 20.0</text>\n<polyline fill=\"none\" stroke=\"black\" points=\"575,-55.5 575,-91.5 \"/>\n<text text-anchor=\"middle\" x=\"606\" y=\"-69.8\" font-family=\"Times,serif\" font-size=\"14.00\">grad 5.0</text>\n</g>\n<!-- 137230298766720* -->\n<g id=\"node6\" class=\"node\">\n<title>137230298766720*</title>\n<ellipse fill=\"none\" stroke=\"black\" cx=\"700\" cy=\"-45.5\" rx=\"27\" ry=\"18\"/>\n<text text-anchor=\"middle\" x=\"700\" y=\"-41.8\" font-family=\"Times,serif\" font-size=\"14.00\">*</text>\n</g>\n<!-- 137230298760816&#45;&gt;137230298766720* -->\n<g id=\"edge9\" class=\"edge\">\n<title>137230298760816&#45;&gt;137230298766720*</title>\n<path fill=\"none\" stroke=\"black\" d=\"M637.35,-59.25C646.65,-57.18 655.92,-55.11 664.33,-53.23\"/>\n<polygon fill=\"black\" stroke=\"black\" points=\"665.13,-56.64 674.13,-51.05 663.6,-49.81 665.13,-56.64\"/>\n</g>\n<!-- 137230298760816* -->\n<g id=\"node3\" class=\"node\">\n<title>137230298760816*</title>\n<ellipse fill=\"none\" stroke=\"black\" cx=\"445\" cy=\"-73.5\" rx=\"27\" ry=\"18\"/>\n<text text-anchor=\"middle\" x=\"445\" y=\"-69.8\" font-family=\"Times,serif\" font-size=\"14.00\">*</text>\n</g>\n<!-- 137230298760816*&#45;&gt;137230298760816 -->\n<g id=\"edge1\" class=\"edge\">\n<title>137230298760816*&#45;&gt;137230298760816</title>\n<path fill=\"none\" stroke=\"black\" d=\"M472,-73.5C479.75,-73.5 488.66,-73.5 497.89,-73.5\"/>\n<polygon fill=\"black\" stroke=\"black\" points=\"497.99,-77 507.99,-73.5 497.99,-70 497.99,-77\"/>\n</g>\n<!-- 137230298759472 -->\n<g id=\"node4\" class=\"node\">\n<title>137230298759472</title>\n<polygon fill=\"none\" stroke=\"black\" points=\"0,-56.5 0,-92.5 128,-92.5 128,-56.5 0,-56.5\"/>\n<text text-anchor=\"middle\" x=\"30\" y=\"-70.8\" font-family=\"Times,serif\" font-size=\"14.00\">data 3.0</text>\n<polyline fill=\"none\" stroke=\"black\" points=\"60,-56.5 60,-92.5 \"/>\n<text text-anchor=\"middle\" x=\"94\" y=\"-70.8\" font-family=\"Times,serif\" font-size=\"14.00\">grad 20.0</text>\n</g>\n<!-- 137230298759472&#45;&gt;137230298759664+ -->\n<g id=\"edge8\" class=\"edge\">\n<title>137230298759472&#45;&gt;137230298759664+</title>\n<path fill=\"none\" stroke=\"black\" d=\"M128.23,-88.16C137.53,-90.17 146.81,-92.17 155.24,-93.99\"/>\n<polygon fill=\"black\" stroke=\"black\" points=\"154.54,-97.42 165.05,-96.11 156.02,-90.58 154.54,-97.42\"/>\n</g>\n<!-- 137230298766720 -->\n<g id=\"node5\" class=\"node\">\n<title>137230298766720</title>\n<polygon fill=\"none\" stroke=\"black\" points=\"763,-27.5 763,-63.5 899,-63.5 899,-27.5 763,-27.5\"/>\n<text text-anchor=\"middle\" x=\"800\" y=\"-41.8\" font-family=\"Times,serif\" font-size=\"14.00\">data 100.0</text>\n<polyline fill=\"none\" stroke=\"black\" points=\"837,-27.5 837,-63.5 \"/>\n<text text-anchor=\"middle\" x=\"868\" y=\"-41.8\" font-family=\"Times,serif\" font-size=\"14.00\">grad 1.0</text>\n</g>\n<!-- 137230298766720*&#45;&gt;137230298766720 -->\n<g id=\"edge2\" class=\"edge\">\n<title>137230298766720*&#45;&gt;137230298766720</title>\n<path fill=\"none\" stroke=\"black\" d=\"M727.11,-45.5C734.78,-45.5 743.6,-45.5 752.78,-45.5\"/>\n<polygon fill=\"black\" stroke=\"black\" points=\"752.84,-49 762.84,-45.5 752.84,-42 752.84,-49\"/>\n</g>\n<!-- 137230298761632 -->\n<g id=\"node7\" class=\"node\">\n<title>137230298761632</title>\n<polygon fill=\"none\" stroke=\"black\" points=\"508.5,-0.5 508.5,-36.5 636.5,-36.5 636.5,-0.5 508.5,-0.5\"/>\n<text text-anchor=\"middle\" x=\"538.5\" y=\"-14.8\" font-family=\"Times,serif\" font-size=\"14.00\">data 5.0</text>\n<polyline fill=\"none\" stroke=\"black\" points=\"568.5,-0.5 568.5,-36.5 \"/>\n<text text-anchor=\"middle\" x=\"602.5\" y=\"-14.8\" font-family=\"Times,serif\" font-size=\"14.00\">grad 20.0</text>\n</g>\n<!-- 137230298761632&#45;&gt;137230298766720* -->\n<g id=\"edge5\" class=\"edge\">\n<title>137230298761632&#45;&gt;137230298766720*</title>\n<path fill=\"none\" stroke=\"black\" d=\"M636.62,-32.08C646.08,-34.11 655.53,-36.15 664.1,-37.99\"/>\n<polygon fill=\"black\" stroke=\"black\" points=\"663.56,-41.46 674.08,-40.14 665.04,-34.61 663.56,-41.46\"/>\n</g>\n<!-- 137230298759664 -->\n<g id=\"node8\" class=\"node\">\n<title>137230298759664</title>\n<polygon fill=\"none\" stroke=\"black\" points=\"254,-83.5 254,-119.5 382,-119.5 382,-83.5 254,-83.5\"/>\n<text text-anchor=\"middle\" x=\"284\" y=\"-97.8\" font-family=\"Times,serif\" font-size=\"14.00\">data 5.0</text>\n<polyline fill=\"none\" stroke=\"black\" points=\"314,-83.5 314,-119.5 \"/>\n<text text-anchor=\"middle\" x=\"348\" y=\"-97.8\" font-family=\"Times,serif\" font-size=\"14.00\">grad 20.0</text>\n</g>\n<!-- 137230298759664&#45;&gt;137230298760816* -->\n<g id=\"edge6\" class=\"edge\">\n<title>137230298759664&#45;&gt;137230298760816*</title>\n<path fill=\"none\" stroke=\"black\" d=\"M382.23,-87.34C391.53,-85.25 400.81,-83.17 409.24,-81.29\"/>\n<polygon fill=\"black\" stroke=\"black\" points=\"410.06,-84.69 419.05,-79.09 408.53,-77.86 410.06,-84.69\"/>\n</g>\n<!-- 137230298759664+&#45;&gt;137230298759664 -->\n<g id=\"edge3\" class=\"edge\">\n<title>137230298759664+&#45;&gt;137230298759664</title>\n<path fill=\"none\" stroke=\"black\" d=\"M218.2,-101.5C225.8,-101.5 234.49,-101.5 243.49,-101.5\"/>\n<polygon fill=\"black\" stroke=\"black\" points=\"243.75,-105 253.75,-101.5 243.75,-98 243.75,-105\"/>\n</g>\n<!-- 137230298761200 -->\n<g id=\"node10\" class=\"node\">\n<title>137230298761200</title>\n<polygon fill=\"none\" stroke=\"black\" points=\"254,-28.5 254,-64.5 382,-64.5 382,-28.5 254,-28.5\"/>\n<text text-anchor=\"middle\" x=\"284\" y=\"-42.8\" font-family=\"Times,serif\" font-size=\"14.00\">data 4.0</text>\n<polyline fill=\"none\" stroke=\"black\" points=\"314,-28.5 314,-64.5 \"/>\n<text text-anchor=\"middle\" x=\"348\" y=\"-42.8\" font-family=\"Times,serif\" font-size=\"14.00\">grad 25.0</text>\n</g>\n<!-- 137230298761200&#45;&gt;137230298760816* -->\n<g id=\"edge7\" class=\"edge\">\n<title>137230298761200&#45;&gt;137230298760816*</title>\n<path fill=\"none\" stroke=\"black\" d=\"M382.23,-60.16C391.53,-62.17 400.81,-64.17 409.24,-65.99\"/>\n<polygon fill=\"black\" stroke=\"black\" points=\"408.54,-69.42 419.05,-68.11 410.02,-62.58 408.54,-69.42\"/>\n</g>\n</g>\n</svg>\n",
            "text/plain": [
              "<graphviz.graphs.Digraph at 0x7ccf6b35f160>"
            ]
          },
          "metadata": {},
          "execution_count": 35
        }
      ]
    },
    {
      "cell_type": "markdown",
      "source": [],
      "metadata": {
        "id": "-sGSqyeQ-RwK"
      }
    },
    {
      "cell_type": "code",
      "source": [
        "def partial(h=0.001):\n",
        "\n",
        "    a = Tensor(2.0)\n",
        "    b = Tensor(3.0)\n",
        "    c = Tensor(4.0)\n",
        "    x = Tensor(5.0)\n",
        "    d = a + b\n",
        "    e = c * d\n",
        "    L1 = e * x\n",
        "\n",
        "    a = Tensor(2.0)\n",
        "    b = Tensor(3.0) + h\n",
        "    c = Tensor(4.0)\n",
        "    x = Tensor(5.0)\n",
        "    d = a + b\n",
        "    e = c * (d)\n",
        "    L2 = (e) * (x)\n",
        "\n",
        "    print((L2.data-L1.data)/h)\n",
        "\n",
        "partial()"
      ],
      "metadata": {
        "colab": {
          "base_uri": "https://localhost:8080/"
        },
        "id": "TqcZ9eo3f5ng",
        "outputId": "f22b5e6c-a2b6-428d-a485-9a04b373ae16"
      },
      "execution_count": null,
      "outputs": [
        {
          "output_type": "stream",
          "name": "stdout",
          "text": [
            "19.99999999998181\n"
          ]
        }
      ]
    },
    {
      "cell_type": "code",
      "source": [
        "c.grad = 25.0\n",
        "d.grad = 20.0"
      ],
      "metadata": {
        "id": "haX62aHLgSdP"
      },
      "execution_count": null,
      "outputs": []
    },
    {
      "cell_type": "code",
      "source": [],
      "metadata": {
        "id": "XO4NhC4Ep5PT"
      },
      "execution_count": null,
      "outputs": []
    },
    {
      "cell_type": "markdown",
      "source": [
        "# self._backward"
      ],
      "metadata": {
        "id": "mnhzyC1Kfe-E"
      }
    },
    {
      "cell_type": "code",
      "source": [
        "class Tensor:\n",
        "\n",
        "    def __init__(self, data, prev=(), op=\"\"):\n",
        "        self.data = data\n",
        "        self.prev = prev\n",
        "        self.op = op\n",
        "        self.grad = 0.0\n",
        "        self._backward = lambda: None\n",
        "\n",
        "    def __add__(self, other):\n",
        "        other = other if isinstance(other, Tensor) else Tensor(other)\n",
        "        out = Tensor(self.data + other.data, prev=(self, other), op=\"+\")\n",
        "\n",
        "        def _backward():\n",
        "            self.grad += out.grad\n",
        "            other.grad += out.grad\n",
        "        out._backward = _backward\n",
        "\n",
        "        return out\n",
        "\n",
        "    def __mul__(self, other):\n",
        "        other = other if isinstance(other, Tensor) else Tensor(other)\n",
        "        out = Tensor(self.data * other.data, prev=(self, other), op=\"*\")\n",
        "\n",
        "        def _backward():\n",
        "            self.grad += other.data * out.grad\n",
        "            other.grad += self.data * out.grad\n",
        "        out._backward = _backward\n",
        "\n",
        "        return out\n",
        "\n",
        "    def __pow__(self, other):\n",
        "        out = Tensor(self.data**other, (self,), f\"**{other}\")\n",
        "\n",
        "        def _backward():\n",
        "            self.grad += (other * self.data**(other-1)) * out.grad\n",
        "        out._backward = _backward\n",
        "\n",
        "        return out\n",
        "\n",
        "\n",
        "    def backward(self):\n",
        "\n",
        "        # topological order all of the children in the graph\n",
        "        topo = []\n",
        "        visited = set()\n",
        "        def build_topo(v):\n",
        "            if v not in visited:\n",
        "                visited.add(v)\n",
        "                for child in v.prev:\n",
        "                    build_topo(child)\n",
        "                topo.append(v)\n",
        "        build_topo(self)\n",
        "\n",
        "        # go one variable at a time and apply the chain rule to get its gradient\n",
        "        self.grad = 1\n",
        "        for v in reversed(topo):\n",
        "            v._backward()\n",
        "\n",
        "\n",
        "\n",
        "    def __neg__(self): # -self\n",
        "        return self * -1\n",
        "\n",
        "    def __radd__(self, other): # other + self\n",
        "        return self + other\n",
        "\n",
        "    def __sub__(self, other): # self - other\n",
        "        return self + (-other)\n",
        "\n",
        "    def __rsub__(self, other): # other - self\n",
        "        return other + (-self)\n",
        "\n",
        "    def __rmul__(self, other): # other * self\n",
        "        return self * other\n",
        "\n",
        "    def __truediv__(self, other): # self / other\n",
        "        return self * other**-1\n",
        "\n",
        "    def __rtruediv__(self, other): # other / self\n",
        "        return other * self**-1\n",
        "\n",
        "    def relu(self):\n",
        "        out = Tensor(0 if self.data < 0 else self.data, (self,), 'ReLU')\n",
        "\n",
        "        def _backward():\n",
        "            self.grad += (out.data > 0) * out.grad\n",
        "        out._backward = _backward\n",
        "\n",
        "        return out\n",
        "\n",
        "    def __repr__(self):\n",
        "        return f\"Tensor(data={self.data})\""
      ],
      "metadata": {
        "id": "NvcoJtCtfkId"
      },
      "execution_count": null,
      "outputs": []
    },
    {
      "cell_type": "code",
      "source": [],
      "metadata": {
        "id": "md6uDgcIhBLz"
      },
      "execution_count": null,
      "outputs": []
    }
  ]
}