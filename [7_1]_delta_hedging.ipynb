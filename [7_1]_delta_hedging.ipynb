{
  "nbformat": 4,
  "nbformat_minor": 0,
  "metadata": {
    "colab": {
      "provenance": []
    },
    "kernelspec": {
      "name": "python3",
      "display_name": "Python 3"
    },
    "language_info": {
      "name": "python"
    }
  },
  "cells": [
    {
      "cell_type": "code",
      "execution_count": null,
      "metadata": {
        "id": "pYJXNMG-EIOy"
      },
      "outputs": [],
      "source": [
        "import numpy as np\n",
        "import matplotlib.pyplot as plt"
      ]
    },
    {
      "cell_type": "code",
      "source": [
        "import torch"
      ],
      "metadata": {
        "id": "KUH_-SpqEWGY"
      },
      "execution_count": null,
      "outputs": []
    },
    {
      "cell_type": "code",
      "source": [
        "!pip install pfhedge"
      ],
      "metadata": {
        "colab": {
          "base_uri": "https://localhost:8080/"
        },
        "id": "locU9BCLEYJP",
        "outputId": "d35fd97c-4c2a-4b4d-f00f-6ccee4e24e5c"
      },
      "execution_count": null,
      "outputs": [
        {
          "output_type": "stream",
          "name": "stdout",
          "text": [
            "Requirement already satisfied: pfhedge in /usr/local/lib/python3.10/dist-packages (0.21.1)\n",
            "Requirement already satisfied: torch<3.0.0,>=1.9.0 in /usr/local/lib/python3.10/dist-packages (from pfhedge) (2.3.1+cu121)\n",
            "Requirement already satisfied: tqdm<5.0.0,>=4.62.3 in /usr/local/lib/python3.10/dist-packages (from pfhedge) (4.66.5)\n",
            "Requirement already satisfied: filelock in /usr/local/lib/python3.10/dist-packages (from torch<3.0.0,>=1.9.0->pfhedge) (3.15.4)\n",
            "Requirement already satisfied: typing-extensions>=4.8.0 in /usr/local/lib/python3.10/dist-packages (from torch<3.0.0,>=1.9.0->pfhedge) (4.12.2)\n",
            "Requirement already satisfied: sympy in /usr/local/lib/python3.10/dist-packages (from torch<3.0.0,>=1.9.0->pfhedge) (1.13.1)\n",
            "Requirement already satisfied: networkx in /usr/local/lib/python3.10/dist-packages (from torch<3.0.0,>=1.9.0->pfhedge) (3.3)\n",
            "Requirement already satisfied: jinja2 in /usr/local/lib/python3.10/dist-packages (from torch<3.0.0,>=1.9.0->pfhedge) (3.1.4)\n",
            "Requirement already satisfied: fsspec in /usr/local/lib/python3.10/dist-packages (from torch<3.0.0,>=1.9.0->pfhedge) (2024.6.1)\n",
            "Requirement already satisfied: nvidia-cuda-nvrtc-cu12==12.1.105 in /usr/local/lib/python3.10/dist-packages (from torch<3.0.0,>=1.9.0->pfhedge) (12.1.105)\n",
            "Requirement already satisfied: nvidia-cuda-runtime-cu12==12.1.105 in /usr/local/lib/python3.10/dist-packages (from torch<3.0.0,>=1.9.0->pfhedge) (12.1.105)\n",
            "Requirement already satisfied: nvidia-cuda-cupti-cu12==12.1.105 in /usr/local/lib/python3.10/dist-packages (from torch<3.0.0,>=1.9.0->pfhedge) (12.1.105)\n",
            "Requirement already satisfied: nvidia-cudnn-cu12==8.9.2.26 in /usr/local/lib/python3.10/dist-packages (from torch<3.0.0,>=1.9.0->pfhedge) (8.9.2.26)\n",
            "Requirement already satisfied: nvidia-cublas-cu12==12.1.3.1 in /usr/local/lib/python3.10/dist-packages (from torch<3.0.0,>=1.9.0->pfhedge) (12.1.3.1)\n",
            "Requirement already satisfied: nvidia-cufft-cu12==11.0.2.54 in /usr/local/lib/python3.10/dist-packages (from torch<3.0.0,>=1.9.0->pfhedge) (11.0.2.54)\n",
            "Requirement already satisfied: nvidia-curand-cu12==10.3.2.106 in /usr/local/lib/python3.10/dist-packages (from torch<3.0.0,>=1.9.0->pfhedge) (10.3.2.106)\n",
            "Requirement already satisfied: nvidia-cusolver-cu12==11.4.5.107 in /usr/local/lib/python3.10/dist-packages (from torch<3.0.0,>=1.9.0->pfhedge) (11.4.5.107)\n",
            "Requirement already satisfied: nvidia-cusparse-cu12==12.1.0.106 in /usr/local/lib/python3.10/dist-packages (from torch<3.0.0,>=1.9.0->pfhedge) (12.1.0.106)\n",
            "Requirement already satisfied: nvidia-nccl-cu12==2.20.5 in /usr/local/lib/python3.10/dist-packages (from torch<3.0.0,>=1.9.0->pfhedge) (2.20.5)\n",
            "Requirement already satisfied: nvidia-nvtx-cu12==12.1.105 in /usr/local/lib/python3.10/dist-packages (from torch<3.0.0,>=1.9.0->pfhedge) (12.1.105)\n",
            "Requirement already satisfied: triton==2.3.1 in /usr/local/lib/python3.10/dist-packages (from torch<3.0.0,>=1.9.0->pfhedge) (2.3.1)\n",
            "Requirement already satisfied: nvidia-nvjitlink-cu12 in /usr/local/lib/python3.10/dist-packages (from nvidia-cusolver-cu12==11.4.5.107->torch<3.0.0,>=1.9.0->pfhedge) (12.6.20)\n",
            "Requirement already satisfied: MarkupSafe>=2.0 in /usr/local/lib/python3.10/dist-packages (from jinja2->torch<3.0.0,>=1.9.0->pfhedge) (2.1.5)\n",
            "Requirement already satisfied: mpmath<1.4,>=1.1.0 in /usr/local/lib/python3.10/dist-packages (from sympy->torch<3.0.0,>=1.9.0->pfhedge) (1.3.0)\n"
          ]
        }
      ]
    },
    {
      "cell_type": "code",
      "source": [
        "import pfhedge"
      ],
      "metadata": {
        "id": "66qG_SobJBOt"
      },
      "execution_count": null,
      "outputs": []
    },
    {
      "cell_type": "code",
      "source": [
        "pfhedge.stochastic.generate_geometric_brownian(2,10)"
      ],
      "metadata": {
        "id": "8aEh4WR1JWsQ",
        "colab": {
          "base_uri": "https://localhost:8080/"
        },
        "outputId": "1cda5633-ecc8-4525-dfd0-1629db5a12cd"
      },
      "execution_count": null,
      "outputs": [
        {
          "output_type": "execute_result",
          "data": {
            "text/plain": [
              "tensor([[1.0000, 1.0069, 1.0241, 1.0016, 1.0074, 1.0074, 0.9955, 0.9837, 0.9731,\n",
              "         0.9676],\n",
              "        [1.0000, 1.0038, 1.0094, 0.9917, 0.9870, 0.9917, 0.9937, 1.0076, 1.0354,\n",
              "         1.0260]])"
            ]
          },
          "metadata": {},
          "execution_count": 9
        }
      ]
    },
    {
      "cell_type": "code",
      "source": [
        "temp"
      ],
      "metadata": {
        "colab": {
          "base_uri": "https://localhost:8080/"
        },
        "id": "sfXGZJ62JfW3",
        "outputId": "3b350276-5630-4fa6-8dec-ee592952a821"
      },
      "execution_count": null,
      "outputs": [
        {
          "output_type": "execute_result",
          "data": {
            "text/plain": [
              "tensor([[1.0000, 1.0143, 1.0102, 1.0035, 1.0115, 1.0062, 1.0098, 1.0162, 1.0101,\n",
              "         1.0095],\n",
              "        [1.0000, 1.0010, 0.9860, 0.9801, 0.9791, 0.9769, 0.9964, 0.9993, 1.0298,\n",
              "         1.0374]])"
            ]
          },
          "metadata": {},
          "execution_count": 6
        }
      ]
    },
    {
      "cell_type": "code",
      "source": [
        "from pfhedge.instruments import BrownianStock\n",
        "from pfhedge.instruments import EuropeanOption\n",
        "from pfhedge.nn import BlackScholes"
      ],
      "metadata": {
        "id": "y40EpjeQJq9Q"
      },
      "execution_count": null,
      "outputs": []
    },
    {
      "cell_type": "code",
      "source": [
        "stock = BrownianStock()\n",
        "derivative = EuropeanOption(stock, strike=1.1)\n",
        "derivative"
      ],
      "metadata": {
        "id": "Z3ChbFHVKZTg",
        "colab": {
          "base_uri": "https://localhost:8080/"
        },
        "outputId": "204d6483-7b94-4e70-c0e2-d32292daac12"
      },
      "execution_count": null,
      "outputs": [
        {
          "output_type": "execute_result",
          "data": {
            "text/plain": [
              "EuropeanOption(\n",
              "  strike=1.1000, maturity=0.0800\n",
              "  (underlier): BrownianStock(sigma=0.2000, dt=0.0040)\n",
              ")"
            ]
          },
          "metadata": {},
          "execution_count": 11
        }
      ]
    },
    {
      "cell_type": "code",
      "source": [
        "m = BlackScholes(derivative)\n",
        "m"
      ],
      "metadata": {
        "colab": {
          "base_uri": "https://localhost:8080/"
        },
        "id": "Wx7JPAeLKpm5",
        "outputId": "fec085d8-b77e-445f-b8ec-ffbb5bfbe1c1"
      },
      "execution_count": null,
      "outputs": [
        {
          "output_type": "execute_result",
          "data": {
            "text/plain": [
              "BSEuropeanOption(strike=1.1000)"
            ]
          },
          "metadata": {},
          "execution_count": 12
        }
      ]
    },
    {
      "cell_type": "code",
      "source": [
        "m.inputs()"
      ],
      "metadata": {
        "colab": {
          "base_uri": "https://localhost:8080/"
        },
        "id": "I3f4athgKqQW",
        "outputId": "2fc9f936-68f4-4fae-d766-65d1828b2cfe"
      },
      "execution_count": null,
      "outputs": [
        {
          "output_type": "execute_result",
          "data": {
            "text/plain": [
              "['log_moneyness', 'time_to_maturity', 'volatility']"
            ]
          },
          "metadata": {},
          "execution_count": 13
        }
      ]
    },
    {
      "cell_type": "code",
      "source": [
        "stock.simulate(2)"
      ],
      "metadata": {
        "id": "37U_f-IaKtaN"
      },
      "execution_count": null,
      "outputs": []
    },
    {
      "cell_type": "code",
      "source": [
        "stock.spot"
      ],
      "metadata": {
        "colab": {
          "base_uri": "https://localhost:8080/"
        },
        "id": "pwDSwI4xFmhR",
        "outputId": "aa6d719e-9f00-4a62-b24b-da461b14fe18"
      },
      "execution_count": null,
      "outputs": [
        {
          "output_type": "execute_result",
          "data": {
            "text/plain": [
              "tensor([[1.0000, 0.9810, 0.9771, 0.9735, 0.9673, 0.9484, 0.9381, 0.9573, 0.9471,\n",
              "         0.9386, 0.9358, 0.9331, 0.9217, 0.9196, 0.9209, 0.9366, 0.9348, 0.9151,\n",
              "         0.9114, 0.9151, 0.9134],\n",
              "        [1.0000, 0.9761, 1.0067, 0.9951, 0.9922, 1.0029, 1.0217, 1.0045, 0.9916,\n",
              "         0.9970, 0.9952, 0.9963, 1.0123, 1.0080, 0.9959, 1.0009, 1.0109, 1.0275,\n",
              "         1.0422, 1.0553, 1.0605]])"
            ]
          },
          "metadata": {},
          "execution_count": 28
        }
      ]
    },
    {
      "cell_type": "code",
      "source": [
        "derivative.moneyness()"
      ],
      "metadata": {
        "colab": {
          "base_uri": "https://localhost:8080/"
        },
        "id": "bYwJqwQnMdNi",
        "outputId": "fd9883f7-805b-4846-d2fc-a623780acd0b"
      },
      "execution_count": null,
      "outputs": [
        {
          "output_type": "execute_result",
          "data": {
            "text/plain": [
              "tensor([[0.9091, 0.8919, 0.8883, 0.8850, 0.8794, 0.8622, 0.8528, 0.8703, 0.8610,\n",
              "         0.8533, 0.8508, 0.8482, 0.8379, 0.8360, 0.8371, 0.8514, 0.8498, 0.8319,\n",
              "         0.8286, 0.8319, 0.8303],\n",
              "        [0.9091, 0.8874, 0.9152, 0.9046, 0.9020, 0.9117, 0.9288, 0.9132, 0.9015,\n",
              "         0.9063, 0.9047, 0.9058, 0.9203, 0.9164, 0.9054, 0.9099, 0.9190, 0.9341,\n",
              "         0.9475, 0.9594, 0.9641]])"
            ]
          },
          "metadata": {},
          "execution_count": 29
        }
      ]
    },
    {
      "cell_type": "code",
      "source": [
        "stock.spot / 1.1"
      ],
      "metadata": {
        "colab": {
          "base_uri": "https://localhost:8080/"
        },
        "id": "AJiymkWpMeRp",
        "outputId": "9524a757-2a51-46be-f5b9-a4fdb3da2223"
      },
      "execution_count": null,
      "outputs": [
        {
          "output_type": "execute_result",
          "data": {
            "text/plain": [
              "tensor([[0.9091, 0.8919, 0.8883, 0.8850, 0.8794, 0.8622, 0.8528, 0.8703, 0.8610,\n",
              "         0.8533, 0.8508, 0.8482, 0.8379, 0.8360, 0.8371, 0.8514, 0.8498, 0.8319,\n",
              "         0.8286, 0.8319, 0.8303],\n",
              "        [0.9091, 0.8874, 0.9152, 0.9046, 0.9020, 0.9117, 0.9288, 0.9132, 0.9015,\n",
              "         0.9063, 0.9047, 0.9058, 0.9203, 0.9164, 0.9054, 0.9099, 0.9190, 0.9341,\n",
              "         0.9475, 0.9594, 0.9641]])"
            ]
          },
          "metadata": {},
          "execution_count": 30
        }
      ]
    },
    {
      "cell_type": "code",
      "source": [
        "derivative.time_to_maturity()"
      ],
      "metadata": {
        "colab": {
          "base_uri": "https://localhost:8080/"
        },
        "id": "7wGIR7ukbP63",
        "outputId": "78b1af88-9f82-4bfc-d081-b9f4124b299b"
      },
      "execution_count": null,
      "outputs": [
        {
          "output_type": "execute_result",
          "data": {
            "text/plain": [
              "tensor([[0.0800, 0.0760, 0.0720, 0.0680, 0.0640, 0.0600, 0.0560, 0.0520, 0.0480,\n",
              "         0.0440, 0.0400, 0.0360, 0.0320, 0.0280, 0.0240, 0.0200, 0.0160, 0.0120,\n",
              "         0.0080, 0.0040, 0.0000],\n",
              "        [0.0800, 0.0760, 0.0720, 0.0680, 0.0640, 0.0600, 0.0560, 0.0520, 0.0480,\n",
              "         0.0440, 0.0400, 0.0360, 0.0320, 0.0280, 0.0240, 0.0200, 0.0160, 0.0120,\n",
              "         0.0080, 0.0040, 0.0000]])"
            ]
          },
          "metadata": {},
          "execution_count": 31
        }
      ]
    },
    {
      "cell_type": "code",
      "source": [
        "stock.volatility"
      ],
      "metadata": {
        "colab": {
          "base_uri": "https://localhost:8080/"
        },
        "id": "cdxwaLoZbeBg",
        "outputId": "ec7bc52f-e89d-4cf1-d317-eceff2d9dc2d"
      },
      "execution_count": null,
      "outputs": [
        {
          "output_type": "execute_result",
          "data": {
            "text/plain": [
              "tensor([[0.2000, 0.2000, 0.2000, 0.2000, 0.2000, 0.2000, 0.2000, 0.2000, 0.2000,\n",
              "         0.2000, 0.2000, 0.2000, 0.2000, 0.2000, 0.2000, 0.2000, 0.2000, 0.2000,\n",
              "         0.2000, 0.2000, 0.2000],\n",
              "        [0.2000, 0.2000, 0.2000, 0.2000, 0.2000, 0.2000, 0.2000, 0.2000, 0.2000,\n",
              "         0.2000, 0.2000, 0.2000, 0.2000, 0.2000, 0.2000, 0.2000, 0.2000, 0.2000,\n",
              "         0.2000, 0.2000, 0.2000]])"
            ]
          },
          "metadata": {},
          "execution_count": 32
        }
      ]
    },
    {
      "cell_type": "code",
      "source": [
        "log_moneyness = derivative.log_moneyness()"
      ],
      "metadata": {
        "id": "AeEPR-2BF7Xo"
      },
      "execution_count": null,
      "outputs": []
    },
    {
      "cell_type": "code",
      "source": [
        "time_to_maturity = derivative.time_to_maturity()"
      ],
      "metadata": {
        "id": "jGGtRtw3MgQF"
      },
      "execution_count": null,
      "outputs": []
    },
    {
      "cell_type": "code",
      "source": [
        "volatility = stock.volatility"
      ],
      "metadata": {
        "id": "mhVVQbkfMn-6"
      },
      "execution_count": null,
      "outputs": []
    },
    {
      "cell_type": "code",
      "source": [
        "torch.cat([log_moneyness, time_to_maturity, volatility])"
      ],
      "metadata": {
        "colab": {
          "base_uri": "https://localhost:8080/"
        },
        "id": "xw7wLdi0b7j7",
        "outputId": "59d3fa69-ba61-4310-fdc9-a2896d2c4aab"
      },
      "execution_count": null,
      "outputs": [
        {
          "output_type": "execute_result",
          "data": {
            "text/plain": [
              "tensor([[-0.0953, -0.1145, -0.1185, -0.1222, -0.1286, -0.1483, -0.1592, -0.1390,\n",
              "         -0.1496, -0.1587, -0.1616, -0.1646, -0.1769, -0.1792, -0.1778, -0.1608,\n",
              "         -0.1628, -0.1840, -0.1880, -0.1840, -0.1859],\n",
              "        [-0.0953, -0.1195, -0.0887, -0.1002, -0.1032, -0.0925, -0.0738, -0.0908,\n",
              "         -0.1037, -0.0983, -0.1001, -0.0990, -0.0831, -0.0873, -0.0994, -0.0944,\n",
              "         -0.0844, -0.0682, -0.0539, -0.0415, -0.0366],\n",
              "        [ 0.0800,  0.0760,  0.0720,  0.0680,  0.0640,  0.0600,  0.0560,  0.0520,\n",
              "          0.0480,  0.0440,  0.0400,  0.0360,  0.0320,  0.0280,  0.0240,  0.0200,\n",
              "          0.0160,  0.0120,  0.0080,  0.0040,  0.0000],\n",
              "        [ 0.0800,  0.0760,  0.0720,  0.0680,  0.0640,  0.0600,  0.0560,  0.0520,\n",
              "          0.0480,  0.0440,  0.0400,  0.0360,  0.0320,  0.0280,  0.0240,  0.0200,\n",
              "          0.0160,  0.0120,  0.0080,  0.0040,  0.0000],\n",
              "        [ 0.2000,  0.2000,  0.2000,  0.2000,  0.2000,  0.2000,  0.2000,  0.2000,\n",
              "          0.2000,  0.2000,  0.2000,  0.2000,  0.2000,  0.2000,  0.2000,  0.2000,\n",
              "          0.2000,  0.2000,  0.2000,  0.2000,  0.2000],\n",
              "        [ 0.2000,  0.2000,  0.2000,  0.2000,  0.2000,  0.2000,  0.2000,  0.2000,\n",
              "          0.2000,  0.2000,  0.2000,  0.2000,  0.2000,  0.2000,  0.2000,  0.2000,\n",
              "          0.2000,  0.2000,  0.2000,  0.2000,  0.2000]])"
            ]
          },
          "metadata": {},
          "execution_count": 36
        }
      ]
    },
    {
      "cell_type": "code",
      "source": [
        "log_moneyness.shape"
      ],
      "metadata": {
        "colab": {
          "base_uri": "https://localhost:8080/"
        },
        "id": "Mzt4N9YpvTdU",
        "outputId": "07f08332-c58f-4421-87e2-1332c92c54f0"
      },
      "execution_count": null,
      "outputs": [
        {
          "output_type": "execute_result",
          "data": {
            "text/plain": [
              "torch.Size([2, 21])"
            ]
          },
          "metadata": {},
          "execution_count": 37
        }
      ]
    },
    {
      "cell_type": "code",
      "source": [
        "time_to_maturity.shape"
      ],
      "metadata": {
        "colab": {
          "base_uri": "https://localhost:8080/"
        },
        "id": "6m4bXPLPvX7_",
        "outputId": "65133781-fcf8-45c3-ed39-cc04d5900812"
      },
      "execution_count": null,
      "outputs": [
        {
          "output_type": "execute_result",
          "data": {
            "text/plain": [
              "torch.Size([2, 21])"
            ]
          },
          "metadata": {},
          "execution_count": 38
        }
      ]
    },
    {
      "cell_type": "code",
      "source": [
        "volatility.shape"
      ],
      "metadata": {
        "colab": {
          "base_uri": "https://localhost:8080/"
        },
        "id": "0jbAEaQWvZ1V",
        "outputId": "750a72f3-7cb1-448f-ad79-d10102f96caf"
      },
      "execution_count": null,
      "outputs": [
        {
          "output_type": "execute_result",
          "data": {
            "text/plain": [
              "torch.Size([2, 21])"
            ]
          },
          "metadata": {},
          "execution_count": 39
        }
      ]
    },
    {
      "cell_type": "code",
      "source": [
        "torch.cat([log_moneyness, time_to_maturity, volatility]).shape"
      ],
      "metadata": {
        "colab": {
          "base_uri": "https://localhost:8080/"
        },
        "id": "kklnPytLvip7",
        "outputId": "a87c7f33-9f61-470b-cd40-52b2c4fcafad"
      },
      "execution_count": null,
      "outputs": [
        {
          "output_type": "execute_result",
          "data": {
            "text/plain": [
              "torch.Size([6, 21])"
            ]
          },
          "metadata": {},
          "execution_count": 40
        }
      ]
    },
    {
      "cell_type": "code",
      "source": [
        "torch.cat([log_moneyness.unsqueeze(-1) for i in range(3)], dim=2)"
      ],
      "metadata": {
        "id": "A5XUAOvDwB8v",
        "colab": {
          "base_uri": "https://localhost:8080/"
        },
        "outputId": "1b7e5fbd-5ecc-49a6-8aa1-8e83e8f1ba24"
      },
      "execution_count": null,
      "outputs": [
        {
          "output_type": "execute_result",
          "data": {
            "text/plain": [
              "torch.Size([2, 21, 3])"
            ]
          },
          "metadata": {},
          "execution_count": 47
        }
      ]
    },
    {
      "cell_type": "code",
      "source": [
        "f = [log_moneyness, time_to_maturity, volatility]\n",
        "\n",
        "result = torch.cat([t.unsqueeze(-1) for t in f], dim=2)\n",
        "result"
      ],
      "metadata": {
        "colab": {
          "base_uri": "https://localhost:8080/"
        },
        "id": "t0xxqJs3GjxD",
        "outputId": "cf8dcfad-f98a-4fb6-dfe6-8faa79626be5"
      },
      "execution_count": null,
      "outputs": [
        {
          "output_type": "execute_result",
          "data": {
            "text/plain": [
              "tensor([[[-0.0953,  0.0800,  0.2000],\n",
              "         [-0.1145,  0.0760,  0.2000],\n",
              "         [-0.1185,  0.0720,  0.2000],\n",
              "         [-0.1222,  0.0680,  0.2000],\n",
              "         [-0.1286,  0.0640,  0.2000],\n",
              "         [-0.1483,  0.0600,  0.2000],\n",
              "         [-0.1592,  0.0560,  0.2000],\n",
              "         [-0.1390,  0.0520,  0.2000],\n",
              "         [-0.1496,  0.0480,  0.2000],\n",
              "         [-0.1587,  0.0440,  0.2000],\n",
              "         [-0.1616,  0.0400,  0.2000],\n",
              "         [-0.1646,  0.0360,  0.2000],\n",
              "         [-0.1769,  0.0320,  0.2000],\n",
              "         [-0.1792,  0.0280,  0.2000],\n",
              "         [-0.1778,  0.0240,  0.2000],\n",
              "         [-0.1608,  0.0200,  0.2000],\n",
              "         [-0.1628,  0.0160,  0.2000],\n",
              "         [-0.1840,  0.0120,  0.2000],\n",
              "         [-0.1880,  0.0080,  0.2000],\n",
              "         [-0.1840,  0.0040,  0.2000],\n",
              "         [-0.1859,  0.0000,  0.2000]],\n",
              "\n",
              "        [[-0.0953,  0.0800,  0.2000],\n",
              "         [-0.1195,  0.0760,  0.2000],\n",
              "         [-0.0887,  0.0720,  0.2000],\n",
              "         [-0.1002,  0.0680,  0.2000],\n",
              "         [-0.1032,  0.0640,  0.2000],\n",
              "         [-0.0925,  0.0600,  0.2000],\n",
              "         [-0.0738,  0.0560,  0.2000],\n",
              "         [-0.0908,  0.0520,  0.2000],\n",
              "         [-0.1037,  0.0480,  0.2000],\n",
              "         [-0.0983,  0.0440,  0.2000],\n",
              "         [-0.1001,  0.0400,  0.2000],\n",
              "         [-0.0990,  0.0360,  0.2000],\n",
              "         [-0.0831,  0.0320,  0.2000],\n",
              "         [-0.0873,  0.0280,  0.2000],\n",
              "         [-0.0994,  0.0240,  0.2000],\n",
              "         [-0.0944,  0.0200,  0.2000],\n",
              "         [-0.0844,  0.0160,  0.2000],\n",
              "         [-0.0682,  0.0120,  0.2000],\n",
              "         [-0.0539,  0.0080,  0.2000],\n",
              "         [-0.0415,  0.0040,  0.2000],\n",
              "         [-0.0366,  0.0000,  0.2000]]])"
            ]
          },
          "metadata": {},
          "execution_count": 48
        }
      ]
    },
    {
      "cell_type": "code",
      "source": [
        "input = result"
      ],
      "metadata": {
        "id": "t8TwP04xN9pv"
      },
      "execution_count": null,
      "outputs": []
    },
    {
      "cell_type": "code",
      "source": [
        "m(input)"
      ],
      "metadata": {
        "colab": {
          "base_uri": "https://localhost:8080/"
        },
        "id": "I6XsFsZ4OqAw",
        "outputId": "66b45afb-add1-4f72-de93-aa456e7b7077"
      },
      "execution_count": null,
      "outputs": [
        {
          "output_type": "execute_result",
          "data": {
            "text/plain": [
              "tensor([[[4.8802e-02],\n",
              "         [2.0265e-02],\n",
              "         [1.4584e-02],\n",
              "         [1.0255e-02],\n",
              "         [5.9394e-03],\n",
              "         [1.3377e-03],\n",
              "         [4.1863e-04],\n",
              "         [1.2467e-03],\n",
              "         [3.4520e-04],\n",
              "         [8.4639e-05],\n",
              "         [2.9027e-05],\n",
              "         [7.8380e-06],\n",
              "         [4.1723e-07],\n",
              "         [5.9605e-08],\n",
              "         [0.0000e+00],\n",
              "         [0.0000e+00],\n",
              "         [0.0000e+00],\n",
              "         [0.0000e+00],\n",
              "         [0.0000e+00],\n",
              "         [0.0000e+00],\n",
              "         [0.0000e+00]],\n",
              "\n",
              "        [[4.8802e-02],\n",
              "         [1.6181e-02],\n",
              "         [5.2052e-02],\n",
              "         [2.9002e-02],\n",
              "         [2.2028e-02],\n",
              "         [3.1240e-02],\n",
              "         [6.2271e-02],\n",
              "         [2.4468e-02],\n",
              "         [9.5034e-03],\n",
              "         [1.0086e-02],\n",
              "         [6.5035e-03],\n",
              "         [4.8117e-03],\n",
              "         [1.0602e-02],\n",
              "         [4.7534e-03],\n",
              "         [7.0578e-04],\n",
              "         [4.4379e-04],\n",
              "         [4.4236e-04],\n",
              "         [9.5826e-04],\n",
              "         [1.3234e-03],\n",
              "         [5.3591e-04],\n",
              "         [0.0000e+00]]])"
            ]
          },
          "metadata": {},
          "execution_count": 50
        }
      ]
    },
    {
      "cell_type": "code",
      "source": [
        "delta = torch.tensor([m(input[:,i]) for i in range(input.shape[1])]).unsqueeze(0)"
      ],
      "metadata": {
        "id": "VyJmVK9eOtq3"
      },
      "execution_count": null,
      "outputs": []
    },
    {
      "cell_type": "code",
      "source": [
        "input.shape[1]"
      ],
      "metadata": {
        "colab": {
          "base_uri": "https://localhost:8080/"
        },
        "id": "3uyxcQx3PvVM",
        "outputId": "035c0bb9-154b-4a48-f987-4894e949ac37"
      },
      "execution_count": null,
      "outputs": [
        {
          "output_type": "execute_result",
          "data": {
            "text/plain": [
              "21"
            ]
          },
          "metadata": {},
          "execution_count": 68
        }
      ]
    },
    {
      "cell_type": "code",
      "source": [
        "pfhedge.nn.functional.pl(stock.spot, m(input).squeeze(-1))"
      ],
      "metadata": {
        "colab": {
          "base_uri": "https://localhost:8080/"
        },
        "id": "5gU1X6NyP4Z9",
        "outputId": "2432833c-3d10-4670-83d1-f97298a262d7"
      },
      "execution_count": null,
      "outputs": [
        {
          "output_type": "execute_result",
          "data": {
            "text/plain": [
              "tensor(-0.0031)"
            ]
          },
          "metadata": {},
          "execution_count": 52
        }
      ]
    },
    {
      "cell_type": "code",
      "source": [
        "stock.spot.unsqueeze(1).shape"
      ],
      "metadata": {
        "id": "bcm9Gp53PGXS",
        "colab": {
          "base_uri": "https://localhost:8080/"
        },
        "outputId": "1f436ce3-bfe4-46c5-ba41-1ff208fabf10"
      },
      "execution_count": null,
      "outputs": [
        {
          "output_type": "execute_result",
          "data": {
            "text/plain": [
              "torch.Size([2, 1, 21])"
            ]
          },
          "metadata": {},
          "execution_count": 43
        }
      ]
    },
    {
      "cell_type": "code",
      "source": [
        "m(input).squeeze(-1).unsqueeze(1).shape"
      ],
      "metadata": {
        "colab": {
          "base_uri": "https://localhost:8080/"
        },
        "id": "96x9I68DxOeg",
        "outputId": "51e80741-b3ec-4e02-b145-be10cbae881e"
      },
      "execution_count": null,
      "outputs": [
        {
          "output_type": "execute_result",
          "data": {
            "text/plain": [
              "torch.Size([2, 1, 21])"
            ]
          },
          "metadata": {},
          "execution_count": 50
        }
      ]
    },
    {
      "cell_type": "code",
      "source": [
        "pfhedge.nn.functional.pl(stock.spot.unsqueeze(1), m(input).squeeze(-1).unsqueeze(1))"
      ],
      "metadata": {
        "colab": {
          "base_uri": "https://localhost:8080/"
        },
        "id": "FBbLHuJJxR0U",
        "outputId": "48b7d812-cd27-4036-a734-cb7d2210c8e3"
      },
      "execution_count": null,
      "outputs": [
        {
          "output_type": "execute_result",
          "data": {
            "text/plain": [
              "tensor([-0.0013, -0.0019])"
            ]
          },
          "metadata": {},
          "execution_count": 53
        }
      ]
    },
    {
      "cell_type": "code",
      "source": [],
      "metadata": {
        "id": "49yw-RY0yVZ2"
      },
      "execution_count": null,
      "outputs": []
    }
  ]
}