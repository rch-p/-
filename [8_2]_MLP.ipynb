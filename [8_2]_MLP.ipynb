{
  "nbformat": 4,
  "nbformat_minor": 0,
  "metadata": {
    "colab": {
      "provenance": [],
      "collapsed_sections": [
        "Tn5Q0kU2xkLa",
        "BEVN6Zg5xxHA",
        "iVFfhyH-mjfi",
        "dHrUwi-OBFSv"
      ]
    },
    "kernelspec": {
      "name": "python3",
      "display_name": "Python 3"
    },
    "language_info": {
      "name": "python"
    }
  },
  "cells": [
    {
      "cell_type": "code",
      "source": [
        "!pip install pfhedge"
      ],
      "metadata": {
        "id": "locU9BCLEYJP"
      },
      "execution_count": null,
      "outputs": []
    },
    {
      "cell_type": "markdown",
      "source": [
        "### Last time"
      ],
      "metadata": {
        "id": "I5zj7L3X-nH7"
      }
    },
    {
      "cell_type": "code",
      "source": [
        "import pfhedge\n",
        "import torch\n",
        "from torch.utils.data import Dataset, DataLoader"
      ],
      "metadata": {
        "id": "66qG_SobJBOt"
      },
      "execution_count": null,
      "outputs": []
    },
    {
      "cell_type": "code",
      "source": [
        "from pfhedge.instruments import BrownianStock\n",
        "from pfhedge.instruments import EuropeanOption\n",
        "from pfhedge.nn import BlackScholes"
      ],
      "metadata": {
        "id": "abCCBB-06kwE"
      },
      "execution_count": null,
      "outputs": []
    },
    {
      "cell_type": "code",
      "source": [
        "stock = BrownianStock()\n",
        "derivative = EuropeanOption(stock, strike=1.0)\n",
        "m = BlackScholes(derivative)"
      ],
      "metadata": {
        "id": "y40EpjeQJq9Q"
      },
      "execution_count": null,
      "outputs": []
    },
    {
      "cell_type": "code",
      "source": [
        "derivative.simulate(2)\n",
        "lm = derivative.log_moneyness()\n",
        "t = derivative.time_to_maturity()\n",
        "v = derivative.ul().volatility"
      ],
      "metadata": {
        "id": "Z3ChbFHVKZTg"
      },
      "execution_count": null,
      "outputs": []
    },
    {
      "cell_type": "code",
      "source": [
        "class MyDataset(Dataset):\n",
        "    def __init__(self, data):\n",
        "        self.data = torch.stack(data, dim=-1)\n",
        "\n",
        "    def __len__(self):\n",
        "        return self.data.size(1)\n",
        "\n",
        "    def __getitem__(self, index):\n",
        "        return self.data[:, index, :].unsqueeze(1)\n",
        "\n",
        "ds = MyDataset([lm, t, v])"
      ],
      "metadata": {
        "id": "I_1aLBgS-4Hc"
      },
      "execution_count": null,
      "outputs": []
    },
    {
      "cell_type": "code",
      "source": [
        "outputs = []\n",
        "for i in ds:\n",
        "    outputs.append(m(i))\n",
        "\n",
        "outputs = torch.cat(outputs, dim=-1)\n",
        "outputs"
      ],
      "metadata": {
        "id": "HHbWi4tRTL2L",
        "colab": {
          "base_uri": "https://localhost:8080/"
        },
        "outputId": "9e344cc4-f398-43b7-f5bc-ff31562ee4a3"
      },
      "execution_count": null,
      "outputs": [
        {
          "output_type": "execute_result",
          "data": {
            "text/plain": [
              "tensor([[[0.5113, 0.4845, 0.4789, 0.5157, 0.4862, 0.6613, 0.7486, 0.7833,\n",
              "          0.6604, 0.8916, 0.9397, 0.8242, 0.9030, 0.9627, 0.9469, 0.9853,\n",
              "          0.9804, 0.9980, 0.9999, 1.0000, 1.0000]],\n",
              "\n",
              "        [[0.5113, 0.6515, 0.6775, 0.6152, 0.5743, 0.4740, 0.4571, 0.4259,\n",
              "          0.4055, 0.3408, 0.5193, 0.7640, 0.7278, 0.7305, 0.8530, 0.9165,\n",
              "          0.8557, 0.7588, 0.5803, 0.9077, 1.0000]]])"
            ]
          },
          "metadata": {},
          "execution_count": 7
        }
      ]
    },
    {
      "cell_type": "code",
      "source": [
        "spot = torch.stack([derivative.ul().spot], dim=1)"
      ],
      "metadata": {
        "id": "fLFOB9MKTSMK"
      },
      "execution_count": null,
      "outputs": []
    },
    {
      "cell_type": "code",
      "source": [
        "pfhedge.nn.functional.pl(spot, outputs, payoff=derivative.payoff())"
      ],
      "metadata": {
        "id": "Y1DEBzgATZhN",
        "colab": {
          "base_uri": "https://localhost:8080/"
        },
        "outputId": "fba18eb4-0859-431f-ebf8-081d68399f1d"
      },
      "execution_count": null,
      "outputs": [
        {
          "output_type": "execute_result",
          "data": {
            "text/plain": [
              "tensor([-0.0265, -0.0211])"
            ]
          },
          "metadata": {},
          "execution_count": 9
        }
      ]
    },
    {
      "cell_type": "markdown",
      "source": [
        "### MLP\n"
      ],
      "metadata": {
        "id": "UIkV7fyT4_CX"
      }
    },
    {
      "cell_type": "code",
      "source": [
        "import pfhedge\n",
        "import torch\n",
        "from torch.utils.data import Dataset, DataLoader\n",
        "\n",
        "from pfhedge.instruments import BrownianStock\n",
        "from pfhedge.instruments import EuropeanOption\n",
        "from pfhedge.nn import MultiLayerPerceptron\n",
        "\n",
        "stock = BrownianStock()\n",
        "derivative = EuropeanOption(stock, strike=1.0)\n",
        "m = MultiLayerPerceptron(3)\n",
        "\n",
        "derivative.simulate(2)\n",
        "lm = derivative.moneyness() # <- Note that this is not log moneyness\n",
        "t = derivative.time_to_maturity()\n",
        "v = derivative.ul().volatility\n",
        "\n",
        "class MyDataset(Dataset):\n",
        "    def __init__(self, data):\n",
        "        self.data = torch.stack(data, dim=-1)\n",
        "\n",
        "    def __len__(self):\n",
        "        return self.data.size(1)\n",
        "\n",
        "    def __getitem__(self, index):\n",
        "        return self.data[:, index, :].unsqueeze(1)\n",
        "\n",
        "ds = MyDataset([lm, t, v])"
      ],
      "metadata": {
        "id": "31DV8CZa5EcL"
      },
      "execution_count": null,
      "outputs": []
    },
    {
      "cell_type": "code",
      "source": [
        "m"
      ],
      "metadata": {
        "id": "sOi8TamZfhUH",
        "colab": {
          "base_uri": "https://localhost:8080/"
        },
        "outputId": "09bfd558-01e8-46fd-b3ae-4c39f532313c"
      },
      "execution_count": null,
      "outputs": [
        {
          "output_type": "execute_result",
          "data": {
            "text/plain": [
              "MultiLayerPerceptron(\n",
              "  (0): Linear(in_features=3, out_features=32, bias=True)\n",
              "  (1): ReLU()\n",
              "  (2): Linear(in_features=32, out_features=32, bias=True)\n",
              "  (3): ReLU()\n",
              "  (4): Linear(in_features=32, out_features=32, bias=True)\n",
              "  (5): ReLU()\n",
              "  (6): Linear(in_features=32, out_features=32, bias=True)\n",
              "  (7): ReLU()\n",
              "  (8): Linear(in_features=32, out_features=1, bias=True)\n",
              "  (9): Identity()\n",
              ")"
            ]
          },
          "metadata": {},
          "execution_count": 11
        }
      ]
    },
    {
      "cell_type": "markdown",
      "source": [
        "### Simple model"
      ],
      "metadata": {
        "id": "AxVMEHW3UEAY"
      }
    },
    {
      "cell_type": "code",
      "source": [
        "class MLP(torch.nn.Module):\n",
        "\n",
        "    def __init__(self, model):\n",
        "        super().__init__()\n",
        "        self.model = model\n",
        "\n",
        "    def forward(self, x):\n",
        "        output = self.model(x)\n",
        "        return output"
      ],
      "metadata": {
        "id": "j22HNr57UAiN"
      },
      "execution_count": null,
      "outputs": []
    },
    {
      "cell_type": "code",
      "source": [
        "mm = MLP(m)\n",
        "mm"
      ],
      "metadata": {
        "id": "xTq3MH3PUIkP",
        "colab": {
          "base_uri": "https://localhost:8080/"
        },
        "outputId": "44e6707e-f647-44bc-d483-06400c6a3654"
      },
      "execution_count": null,
      "outputs": [
        {
          "output_type": "execute_result",
          "data": {
            "text/plain": [
              "MLP(\n",
              "  (model): MultiLayerPerceptron(\n",
              "    (0): Linear(in_features=3, out_features=32, bias=True)\n",
              "    (1): ReLU()\n",
              "    (2): Linear(in_features=32, out_features=32, bias=True)\n",
              "    (3): ReLU()\n",
              "    (4): Linear(in_features=32, out_features=32, bias=True)\n",
              "    (5): ReLU()\n",
              "    (6): Linear(in_features=32, out_features=32, bias=True)\n",
              "    (7): ReLU()\n",
              "    (8): Linear(in_features=32, out_features=1, bias=True)\n",
              "    (9): Identity()\n",
              "  )\n",
              ")"
            ]
          },
          "metadata": {},
          "execution_count": 13
        }
      ]
    },
    {
      "cell_type": "code",
      "source": [
        "mm(torch.randn(2,3))"
      ],
      "metadata": {
        "id": "fE8b85Y7ULuC",
        "colab": {
          "base_uri": "https://localhost:8080/"
        },
        "outputId": "3639002f-fa4a-4515-a1b2-c16d3d2c188b"
      },
      "execution_count": null,
      "outputs": [
        {
          "output_type": "execute_result",
          "data": {
            "text/plain": [
              "tensor([[-0.0332],\n",
              "        [-0.0284]], grad_fn=<AddmmBackward0>)"
            ]
          },
          "metadata": {},
          "execution_count": 14
        }
      ]
    },
    {
      "cell_type": "code",
      "source": [
        "for i in ds:\n",
        "    print(mm(i))"
      ],
      "metadata": {
        "id": "EJyWrlfuUO8E",
        "colab": {
          "base_uri": "https://localhost:8080/"
        },
        "outputId": "1cc77910-eaeb-4bcd-806a-a10b9c7cb7d8"
      },
      "execution_count": null,
      "outputs": [
        {
          "output_type": "stream",
          "name": "stdout",
          "text": [
            "tensor([[[-0.0316]],\n",
            "\n",
            "        [[-0.0316]]], grad_fn=<ViewBackward0>)\n",
            "tensor([[[-0.0316]],\n",
            "\n",
            "        [[-0.0316]]], grad_fn=<ViewBackward0>)\n",
            "tensor([[[-0.0315]],\n",
            "\n",
            "        [[-0.0316]]], grad_fn=<ViewBackward0>)\n",
            "tensor([[[-0.0315]],\n",
            "\n",
            "        [[-0.0315]]], grad_fn=<ViewBackward0>)\n",
            "tensor([[[-0.0315]],\n",
            "\n",
            "        [[-0.0315]]], grad_fn=<ViewBackward0>)\n",
            "tensor([[[-0.0315]],\n",
            "\n",
            "        [[-0.0315]]], grad_fn=<ViewBackward0>)\n",
            "tensor([[[-0.0314]],\n",
            "\n",
            "        [[-0.0314]]], grad_fn=<ViewBackward0>)\n",
            "tensor([[[-0.0314]],\n",
            "\n",
            "        [[-0.0314]]], grad_fn=<ViewBackward0>)\n",
            "tensor([[[-0.0313]],\n",
            "\n",
            "        [[-0.0314]]], grad_fn=<ViewBackward0>)\n",
            "tensor([[[-0.0313]],\n",
            "\n",
            "        [[-0.0314]]], grad_fn=<ViewBackward0>)\n",
            "tensor([[[-0.0312]],\n",
            "\n",
            "        [[-0.0314]]], grad_fn=<ViewBackward0>)\n",
            "tensor([[[-0.0311]],\n",
            "\n",
            "        [[-0.0313]]], grad_fn=<ViewBackward0>)\n",
            "tensor([[[-0.0311]],\n",
            "\n",
            "        [[-0.0313]]], grad_fn=<ViewBackward0>)\n",
            "tensor([[[-0.0311]],\n",
            "\n",
            "        [[-0.0313]]], grad_fn=<ViewBackward0>)\n",
            "tensor([[[-0.0310]],\n",
            "\n",
            "        [[-0.0312]]], grad_fn=<ViewBackward0>)\n",
            "tensor([[[-0.0310]],\n",
            "\n",
            "        [[-0.0312]]], grad_fn=<ViewBackward0>)\n",
            "tensor([[[-0.0310]],\n",
            "\n",
            "        [[-0.0312]]], grad_fn=<ViewBackward0>)\n",
            "tensor([[[-0.0310]],\n",
            "\n",
            "        [[-0.0311]]], grad_fn=<ViewBackward0>)\n",
            "tensor([[[-0.0310]],\n",
            "\n",
            "        [[-0.0311]]], grad_fn=<ViewBackward0>)\n",
            "tensor([[[-0.0309]],\n",
            "\n",
            "        [[-0.0311]]], grad_fn=<ViewBackward0>)\n",
            "tensor([[[-0.0309]],\n",
            "\n",
            "        [[-0.0310]]], grad_fn=<ViewBackward0>)\n"
          ]
        }
      ]
    },
    {
      "cell_type": "code",
      "source": [
        "outputs = []\n",
        "for i in ds:\n",
        "    outputs.append(mm(i))\n",
        "\n",
        "outputs = torch.cat(outputs, dim=-1)\n",
        "outputs"
      ],
      "metadata": {
        "id": "YoD7pLnyUS6Q",
        "colab": {
          "base_uri": "https://localhost:8080/"
        },
        "outputId": "9e07c260-fd77-4303-a4a2-8fbf484c34fc"
      },
      "execution_count": null,
      "outputs": [
        {
          "output_type": "execute_result",
          "data": {
            "text/plain": [
              "tensor([[[-0.0316, -0.0316, -0.0315, -0.0315, -0.0315, -0.0315, -0.0314,\n",
              "          -0.0314, -0.0313, -0.0313, -0.0312, -0.0311, -0.0311, -0.0311,\n",
              "          -0.0310, -0.0310, -0.0310, -0.0310, -0.0310, -0.0309, -0.0309]],\n",
              "\n",
              "        [[-0.0316, -0.0316, -0.0316, -0.0315, -0.0315, -0.0315, -0.0314,\n",
              "          -0.0314, -0.0314, -0.0314, -0.0314, -0.0313, -0.0313, -0.0313,\n",
              "          -0.0312, -0.0312, -0.0312, -0.0311, -0.0311, -0.0311, -0.0310]]],\n",
              "       grad_fn=<CatBackward0>)"
            ]
          },
          "metadata": {},
          "execution_count": 16
        }
      ]
    },
    {
      "cell_type": "code",
      "source": [
        "spot = torch.stack([derivative.ul().spot], dim=1)"
      ],
      "metadata": {
        "id": "rHjQuweaUbEr"
      },
      "execution_count": null,
      "outputs": []
    },
    {
      "cell_type": "code",
      "source": [
        "pfhedge.nn.functional.pl(spot, outputs, payoff=derivative.payoff())"
      ],
      "metadata": {
        "id": "GLqdTctTUghb",
        "colab": {
          "base_uri": "https://localhost:8080/"
        },
        "outputId": "624c1749-6fdd-4a2e-b7c2-c342b2a41a74"
      },
      "execution_count": null,
      "outputs": [
        {
          "output_type": "execute_result",
          "data": {
            "text/plain": [
              "tensor([-8.4319e-02,  1.5014e-05], grad_fn=<SubBackward0>)"
            ]
          },
          "metadata": {},
          "execution_count": 18
        }
      ]
    },
    {
      "cell_type": "markdown",
      "source": [
        "# Training"
      ],
      "metadata": {
        "id": "beA3Jz-zUzVF"
      }
    },
    {
      "cell_type": "code",
      "source": [
        "epochs = 2\n",
        "\n",
        "for i in range(epochs):\n",
        "    outputs = []\n",
        "    for j in ds:\n",
        "        outputs.append(mm(j))\n",
        "\n",
        "    outputs = torch.cat(outputs, dim=-1)\n",
        "    print(outputs)"
      ],
      "metadata": {
        "id": "Ym9mNMmbUkK4",
        "colab": {
          "base_uri": "https://localhost:8080/"
        },
        "outputId": "8a3b875f-379d-4b29-fc9f-0205739ebf37"
      },
      "execution_count": null,
      "outputs": [
        {
          "output_type": "stream",
          "name": "stdout",
          "text": [
            "tensor([[[-0.0316, -0.0316, -0.0315, -0.0315, -0.0315, -0.0315, -0.0314,\n",
            "          -0.0314, -0.0313, -0.0313, -0.0312, -0.0311, -0.0311, -0.0311,\n",
            "          -0.0310, -0.0310, -0.0310, -0.0310, -0.0310, -0.0309, -0.0309]],\n",
            "\n",
            "        [[-0.0316, -0.0316, -0.0316, -0.0315, -0.0315, -0.0315, -0.0314,\n",
            "          -0.0314, -0.0314, -0.0314, -0.0314, -0.0313, -0.0313, -0.0313,\n",
            "          -0.0312, -0.0312, -0.0312, -0.0311, -0.0311, -0.0311, -0.0310]]],\n",
            "       grad_fn=<CatBackward0>)\n",
            "tensor([[[-0.0316, -0.0316, -0.0315, -0.0315, -0.0315, -0.0315, -0.0314,\n",
            "          -0.0314, -0.0313, -0.0313, -0.0312, -0.0311, -0.0311, -0.0311,\n",
            "          -0.0310, -0.0310, -0.0310, -0.0310, -0.0310, -0.0309, -0.0309]],\n",
            "\n",
            "        [[-0.0316, -0.0316, -0.0316, -0.0315, -0.0315, -0.0315, -0.0314,\n",
            "          -0.0314, -0.0314, -0.0314, -0.0314, -0.0313, -0.0313, -0.0313,\n",
            "          -0.0312, -0.0312, -0.0312, -0.0311, -0.0311, -0.0311, -0.0310]]],\n",
            "       grad_fn=<CatBackward0>)\n"
          ]
        }
      ]
    },
    {
      "cell_type": "markdown",
      "source": [
        "### compute_hedge"
      ],
      "metadata": {
        "id": "55QQXK9uuYNc"
      }
    },
    {
      "cell_type": "code",
      "source": [
        "def compute_hedge(model, ds):\n",
        "    outputs = []\n",
        "    for i in ds:\n",
        "        outputs.append(model(i))\n",
        "\n",
        "    return torch.cat(outputs, dim=-1)"
      ],
      "metadata": {
        "id": "gTbR5MSquG-c"
      },
      "execution_count": null,
      "outputs": []
    },
    {
      "cell_type": "code",
      "source": [
        "compute_hedge(mm, ds)"
      ],
      "metadata": {
        "id": "gmQDQ-mEum78",
        "colab": {
          "base_uri": "https://localhost:8080/"
        },
        "outputId": "abc9fd0b-1109-4ba4-dd97-8c1580b6e700"
      },
      "execution_count": null,
      "outputs": [
        {
          "output_type": "execute_result",
          "data": {
            "text/plain": [
              "tensor([[[-0.0316, -0.0316, -0.0315, -0.0315, -0.0315, -0.0315, -0.0314,\n",
              "          -0.0314, -0.0313, -0.0313, -0.0312, -0.0311, -0.0311, -0.0311,\n",
              "          -0.0310, -0.0310, -0.0310, -0.0310, -0.0310, -0.0309, -0.0309]],\n",
              "\n",
              "        [[-0.0316, -0.0316, -0.0316, -0.0315, -0.0315, -0.0315, -0.0314,\n",
              "          -0.0314, -0.0314, -0.0314, -0.0314, -0.0313, -0.0313, -0.0313,\n",
              "          -0.0312, -0.0312, -0.0312, -0.0311, -0.0311, -0.0311, -0.0310]]],\n",
              "       grad_fn=<CatBackward0>)"
            ]
          },
          "metadata": {},
          "execution_count": 21
        }
      ]
    },
    {
      "cell_type": "markdown",
      "source": [
        "### compute_portfolio"
      ],
      "metadata": {
        "id": "gDYdFntxurPr"
      }
    },
    {
      "cell_type": "code",
      "source": [
        "def compute_portfolio(model, ds, derivative):\n",
        "\n",
        "    spot = torch.stack([derivative.ul().spot], dim=1)\n",
        "    unit = compute_hedge(model, ds)\n",
        "\n",
        "    return pfhedge.nn.functional.pl(spot, unit)"
      ],
      "metadata": {
        "id": "_0Q7Z568upTD"
      },
      "execution_count": null,
      "outputs": []
    },
    {
      "cell_type": "code",
      "source": [
        "compute_portfolio(mm, ds, derivative)"
      ],
      "metadata": {
        "id": "XWm_Rwbwu1OU",
        "colab": {
          "base_uri": "https://localhost:8080/"
        },
        "outputId": "86712360-a8f0-4423-f8d0-d711dcc0cc35"
      },
      "execution_count": null,
      "outputs": [
        {
          "output_type": "execute_result",
          "data": {
            "text/plain": [
              "tensor([-2.5796e-03,  1.5014e-05], grad_fn=<SumBackward1>)"
            ]
          },
          "metadata": {},
          "execution_count": 23
        }
      ]
    },
    {
      "cell_type": "code",
      "source": [
        "def compute_portfolio_2(model, ds, derivative):\n",
        "\n",
        "    spot = torch.stack([derivative.ul().spot], dim=1)\n",
        "    unit = compute_hedge(model, ds)\n",
        "\n",
        "    return pfhedge.nn.functional.pl(spot, unit, payoff=derivative.payoff())"
      ],
      "metadata": {
        "id": "iQAPkS2qvddO"
      },
      "execution_count": null,
      "outputs": []
    },
    {
      "cell_type": "code",
      "source": [
        "compute_portfolio_2(mm, ds, derivative)"
      ],
      "metadata": {
        "id": "b9xQF6jPvZpr",
        "colab": {
          "base_uri": "https://localhost:8080/"
        },
        "outputId": "25047b83-7352-4526-ec45-ba3bcb120bfd"
      },
      "execution_count": null,
      "outputs": [
        {
          "output_type": "execute_result",
          "data": {
            "text/plain": [
              "tensor([-8.4319e-02,  1.5014e-05], grad_fn=<SubBackward0>)"
            ]
          },
          "metadata": {},
          "execution_count": 25
        }
      ]
    },
    {
      "cell_type": "markdown",
      "source": [
        "### fit()"
      ],
      "metadata": {
        "id": "WJ7YmHkcvAV7"
      }
    },
    {
      "cell_type": "code",
      "source": [
        "def fit(model, ds, derivative):\n",
        "\n",
        "    optimizer = torch.optim.Adam(model.parameters())\n",
        "\n",
        "    for i in range(100):\n",
        "        optimizer.zero_grad()\n",
        "        cash = compute_portfolio_2(model, ds, derivative)\n",
        "        loss = torch.mean(cash)\n",
        "        loss.backward()\n",
        "        optimizer.step()\n",
        "\n",
        "        if i % 1 == 0:\n",
        "            print(loss)\n",
        "\n"
      ],
      "metadata": {
        "id": "52b_Z5_Du33b"
      },
      "execution_count": null,
      "outputs": []
    },
    {
      "cell_type": "code",
      "source": [
        "fit(mm, ds, derivative)"
      ],
      "metadata": {
        "id": "7qmkOMzQvt_s",
        "colab": {
          "base_uri": "https://localhost:8080/"
        },
        "outputId": "7b456264-632a-4c85-f383-9c3c6cf24f3c"
      },
      "execution_count": null,
      "outputs": [
        {
          "output_type": "stream",
          "name": "stdout",
          "text": [
            "tensor(0.0062, grad_fn=<MeanBackward0>)\n",
            "tensor(0.0056, grad_fn=<MeanBackward0>)\n",
            "tensor(0.0049, grad_fn=<MeanBackward0>)\n",
            "tensor(0.0043, grad_fn=<MeanBackward0>)\n",
            "tensor(0.0036, grad_fn=<MeanBackward0>)\n",
            "tensor(0.0030, grad_fn=<MeanBackward0>)\n",
            "tensor(0.0024, grad_fn=<MeanBackward0>)\n",
            "tensor(0.0018, grad_fn=<MeanBackward0>)\n",
            "tensor(0.0012, grad_fn=<MeanBackward0>)\n",
            "tensor(0.0007, grad_fn=<MeanBackward0>)\n",
            "tensor(0.0001, grad_fn=<MeanBackward0>)\n",
            "tensor(-0.0004, grad_fn=<MeanBackward0>)\n",
            "tensor(-0.0010, grad_fn=<MeanBackward0>)\n",
            "tensor(-0.0015, grad_fn=<MeanBackward0>)\n",
            "tensor(-0.0020, grad_fn=<MeanBackward0>)\n",
            "tensor(-0.0025, grad_fn=<MeanBackward0>)\n",
            "tensor(-0.0029, grad_fn=<MeanBackward0>)\n",
            "tensor(-0.0034, grad_fn=<MeanBackward0>)\n",
            "tensor(-0.0039, grad_fn=<MeanBackward0>)\n",
            "tensor(-0.0043, grad_fn=<MeanBackward0>)\n",
            "tensor(-0.0048, grad_fn=<MeanBackward0>)\n",
            "tensor(-0.0052, grad_fn=<MeanBackward0>)\n",
            "tensor(-0.0056, grad_fn=<MeanBackward0>)\n",
            "tensor(-0.0060, grad_fn=<MeanBackward0>)\n",
            "tensor(-0.0064, grad_fn=<MeanBackward0>)\n",
            "tensor(-0.0068, grad_fn=<MeanBackward0>)\n",
            "tensor(-0.0071, grad_fn=<MeanBackward0>)\n",
            "tensor(-0.0075, grad_fn=<MeanBackward0>)\n",
            "tensor(-0.0078, grad_fn=<MeanBackward0>)\n",
            "tensor(-0.0082, grad_fn=<MeanBackward0>)\n",
            "tensor(-0.0085, grad_fn=<MeanBackward0>)\n",
            "tensor(-0.0088, grad_fn=<MeanBackward0>)\n",
            "tensor(-0.0092, grad_fn=<MeanBackward0>)\n",
            "tensor(-0.0095, grad_fn=<MeanBackward0>)\n",
            "tensor(-0.0098, grad_fn=<MeanBackward0>)\n",
            "tensor(-0.0101, grad_fn=<MeanBackward0>)\n",
            "tensor(-0.0104, grad_fn=<MeanBackward0>)\n",
            "tensor(-0.0106, grad_fn=<MeanBackward0>)\n",
            "tensor(-0.0109, grad_fn=<MeanBackward0>)\n",
            "tensor(-0.0112, grad_fn=<MeanBackward0>)\n",
            "tensor(-0.0114, grad_fn=<MeanBackward0>)\n",
            "tensor(-0.0117, grad_fn=<MeanBackward0>)\n",
            "tensor(-0.0119, grad_fn=<MeanBackward0>)\n",
            "tensor(-0.0121, grad_fn=<MeanBackward0>)\n",
            "tensor(-0.0124, grad_fn=<MeanBackward0>)\n",
            "tensor(-0.0126, grad_fn=<MeanBackward0>)\n",
            "tensor(-0.0128, grad_fn=<MeanBackward0>)\n",
            "tensor(-0.0130, grad_fn=<MeanBackward0>)\n",
            "tensor(-0.0132, grad_fn=<MeanBackward0>)\n",
            "tensor(-0.0134, grad_fn=<MeanBackward0>)\n",
            "tensor(-0.0136, grad_fn=<MeanBackward0>)\n",
            "tensor(-0.0138, grad_fn=<MeanBackward0>)\n",
            "tensor(-0.0140, grad_fn=<MeanBackward0>)\n",
            "tensor(-0.0142, grad_fn=<MeanBackward0>)\n",
            "tensor(-0.0144, grad_fn=<MeanBackward0>)\n",
            "tensor(-0.0145, grad_fn=<MeanBackward0>)\n",
            "tensor(-0.0147, grad_fn=<MeanBackward0>)\n",
            "tensor(-0.0149, grad_fn=<MeanBackward0>)\n",
            "tensor(-0.0150, grad_fn=<MeanBackward0>)\n",
            "tensor(-0.0152, grad_fn=<MeanBackward0>)\n",
            "tensor(-0.0153, grad_fn=<MeanBackward0>)\n",
            "tensor(-0.0155, grad_fn=<MeanBackward0>)\n",
            "tensor(-0.0156, grad_fn=<MeanBackward0>)\n",
            "tensor(-0.0158, grad_fn=<MeanBackward0>)\n",
            "tensor(-0.0159, grad_fn=<MeanBackward0>)\n",
            "tensor(-0.0161, grad_fn=<MeanBackward0>)\n",
            "tensor(-0.0162, grad_fn=<MeanBackward0>)\n",
            "tensor(-0.0163, grad_fn=<MeanBackward0>)\n",
            "tensor(-0.0164, grad_fn=<MeanBackward0>)\n",
            "tensor(-0.0166, grad_fn=<MeanBackward0>)\n",
            "tensor(-0.0167, grad_fn=<MeanBackward0>)\n",
            "tensor(-0.0168, grad_fn=<MeanBackward0>)\n",
            "tensor(-0.0169, grad_fn=<MeanBackward0>)\n",
            "tensor(-0.0170, grad_fn=<MeanBackward0>)\n",
            "tensor(-0.0171, grad_fn=<MeanBackward0>)\n",
            "tensor(-0.0172, grad_fn=<MeanBackward0>)\n",
            "tensor(-0.0174, grad_fn=<MeanBackward0>)\n",
            "tensor(-0.0175, grad_fn=<MeanBackward0>)\n",
            "tensor(-0.0176, grad_fn=<MeanBackward0>)\n",
            "tensor(-0.0177, grad_fn=<MeanBackward0>)\n",
            "tensor(-0.0178, grad_fn=<MeanBackward0>)\n",
            "tensor(-0.0178, grad_fn=<MeanBackward0>)\n",
            "tensor(-0.0179, grad_fn=<MeanBackward0>)\n",
            "tensor(-0.0180, grad_fn=<MeanBackward0>)\n",
            "tensor(-0.0181, grad_fn=<MeanBackward0>)\n",
            "tensor(-0.0182, grad_fn=<MeanBackward0>)\n",
            "tensor(-0.0183, grad_fn=<MeanBackward0>)\n",
            "tensor(-0.0184, grad_fn=<MeanBackward0>)\n",
            "tensor(-0.0185, grad_fn=<MeanBackward0>)\n",
            "tensor(-0.0185, grad_fn=<MeanBackward0>)\n",
            "tensor(-0.0186, grad_fn=<MeanBackward0>)\n",
            "tensor(-0.0187, grad_fn=<MeanBackward0>)\n",
            "tensor(-0.0188, grad_fn=<MeanBackward0>)\n",
            "tensor(-0.0189, grad_fn=<MeanBackward0>)\n",
            "tensor(-0.0189, grad_fn=<MeanBackward0>)\n",
            "tensor(-0.0190, grad_fn=<MeanBackward0>)\n",
            "tensor(-0.0191, grad_fn=<MeanBackward0>)\n",
            "tensor(-0.0192, grad_fn=<MeanBackward0>)\n",
            "tensor(-0.0192, grad_fn=<MeanBackward0>)\n",
            "tensor(-0.0193, grad_fn=<MeanBackward0>)\n"
          ]
        }
      ]
    },
    {
      "cell_type": "markdown",
      "source": [
        "### bigger dataset"
      ],
      "metadata": {
        "id": "xc8nuDZEwH7_"
      }
    },
    {
      "cell_type": "code",
      "source": [
        "derivative.simulate(2000)\n",
        "lm = derivative.moneyness()\n",
        "t = derivative.time_to_maturity()\n",
        "v = derivative.ul().volatility\n",
        "\n",
        "ds = MyDataset([lm, t, v])"
      ],
      "metadata": {
        "id": "A_ZYozzavwFv"
      },
      "execution_count": null,
      "outputs": []
    },
    {
      "cell_type": "code",
      "source": [
        "compute_hedge(mm, ds)"
      ],
      "metadata": {
        "id": "z2umrfAJwPgs"
      },
      "execution_count": null,
      "outputs": []
    },
    {
      "cell_type": "code",
      "source": [],
      "metadata": {
        "id": "LUqO_3HTxVFt"
      },
      "execution_count": null,
      "outputs": []
    }
  ]
}