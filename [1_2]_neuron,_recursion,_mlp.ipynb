{
  "nbformat": 4,
  "nbformat_minor": 0,
  "metadata": {
    "colab": {
      "provenance": []
    },
    "kernelspec": {
      "name": "python3",
      "display_name": "Python 3"
    },
    "language_info": {
      "name": "python"
    }
  },
  "cells": [
    {
      "cell_type": "code",
      "source": [
        "class Tensor:\n",
        "    def __init__(self, data):\n",
        "        self.data = data\n",
        "\n",
        "    def __add__(self, other):\n",
        "        other = other if isinstance(other, Tensor) else Tensor(other)\n",
        "        out = Tensor(self.data + other.data)\n",
        "        return out\n",
        "\n",
        "    def __mul__(self, other):\n",
        "        other = other if isinstance(other, Tensor) else Tensor(other)\n",
        "        out = Tensor(self.data * other.data)\n",
        "        return out\n",
        "\n",
        "    def __radd__(self, other):\n",
        "        return self + other\n",
        "\n",
        "    def __rmul__(self, other):\n",
        "        return self * other\n",
        "\n",
        "    def __repr__(self):\n",
        "        return f\"Tensor with {self.data}\""
      ],
      "metadata": {
        "id": "rPVWpMNrSosM"
      },
      "execution_count": null,
      "outputs": []
    },
    {
      "cell_type": "markdown",
      "source": [
        "# `self.prev`"
      ],
      "metadata": {
        "id": "cvhad6IlOP5B"
      }
    },
    {
      "cell_type": "code",
      "source": [
        "import numpy as np"
      ],
      "metadata": {
        "id": "cJqbW80Y_S3q"
      },
      "execution_count": null,
      "outputs": []
    },
    {
      "cell_type": "code",
      "source": [
        "class Tensor:\n",
        "\n",
        "    def __init__(self, data, prev=()):\n",
        "        self.data = data\n",
        "        self.prev = prev\n",
        "\n",
        "    def __add__(self, other):\n",
        "        other = other if isinstance(other, Tensor) else Tensor(other)\n",
        "        out = Tensor(self.data + other.data, prev=(self, other))\n",
        "        return out\n",
        "\n",
        "    def __mul__(self, other):\n",
        "        other = other if isinstance(other, Tensor) else Tensor(other)\n",
        "        out = Tensor(self.data * other.data, prev=(self, other))\n",
        "        return out\n",
        "\n",
        "    def __radd__(self, other):\n",
        "        return self + other\n",
        "\n",
        "    def __rmul__(self, other):\n",
        "        return self * other\n",
        "\n",
        "    def relu(self):\n",
        "        return Tensor(np.maximum(self.data, 0), prev=(self,))\n",
        "\n",
        "    def __repr__(self):\n",
        "        return f\"Tensor(data={self.data}, prev={self.prev})\"\n",
        "\n"
      ],
      "metadata": {
        "id": "7-g71FoR6cAP"
      },
      "execution_count": null,
      "outputs": []
    },
    {
      "cell_type": "code",
      "source": [
        "Tensor(1.0) + Tensor(2.0)"
      ],
      "metadata": {
        "id": "QrlyTa2rRdjX",
        "colab": {
          "base_uri": "https://localhost:8080/"
        },
        "outputId": "0b125b3c-c382-4461-b1bc-f04232ff1495"
      },
      "execution_count": null,
      "outputs": [
        {
          "output_type": "execute_result",
          "data": {
            "text/plain": [
              "Tensor(data=3.0, prev=(Tensor(data=1.0, prev=()), Tensor(data=2.0, prev=())))"
            ]
          },
          "metadata": {},
          "execution_count": 3
        }
      ]
    },
    {
      "cell_type": "code",
      "source": [
        "(Tensor(1.0) + Tensor(2.0)) * Tensor(5.0)"
      ],
      "metadata": {
        "colab": {
          "base_uri": "https://localhost:8080/"
        },
        "id": "CNA0tCwNbX0Q",
        "outputId": "1dc5732b-1851-4864-a129-0e5e74cadef1"
      },
      "execution_count": null,
      "outputs": [
        {
          "output_type": "execute_result",
          "data": {
            "text/plain": [
              "Tensor(data=15.0, prev=(Tensor(data=3.0, prev=(Tensor(data=1.0, prev=()), Tensor(data=2.0, prev=()))), Tensor(data=5.0, prev=())))"
            ]
          },
          "metadata": {},
          "execution_count": 4
        }
      ]
    },
    {
      "cell_type": "code",
      "source": [
        "a = Tensor(1.0)\n",
        "b = Tensor(2.0)\n",
        "c = Tensor(-5.0)"
      ],
      "metadata": {
        "id": "lq-TNLx2Tqdt"
      },
      "execution_count": null,
      "outputs": []
    },
    {
      "cell_type": "code",
      "source": [
        "((a + b) * c).relu()"
      ],
      "metadata": {
        "id": "9L7el0umTzu7",
        "colab": {
          "base_uri": "https://localhost:8080/"
        },
        "outputId": "60e9a692-ef11-496a-a981-f989dd128c92"
      },
      "execution_count": null,
      "outputs": [
        {
          "output_type": "execute_result",
          "data": {
            "text/plain": [
              "Tensor(data=0.0, prev=(Tensor(data=-15.0, prev=(Tensor(data=3.0, prev=(Tensor(data=1.0, prev=()), Tensor(data=2.0, prev=()))), Tensor(data=-5.0, prev=()))),))"
            ]
          },
          "metadata": {},
          "execution_count": 7
        }
      ]
    },
    {
      "cell_type": "markdown",
      "source": [
        "https://alexlenail.me/NN-SVG/index.html\n"
      ],
      "metadata": {
        "id": "_FpGplkKJWeU"
      }
    },
    {
      "cell_type": "markdown",
      "source": [
        "# Neuron"
      ],
      "metadata": {
        "id": "aRmOhROEodfz"
      }
    },
    {
      "cell_type": "markdown",
      "source": [
        "$$y = \\beta_0 + \\beta_1 x_1 + \\beta_2 x_2$$\n",
        "\n",
        "\n",
        "$$y = w_1 x_1 + w_2 x_2 + b$$\n"
      ],
      "metadata": {
        "id": "J4KzekZffbKk"
      }
    },
    {
      "cell_type": "code",
      "source": [
        "class Neuron:\n",
        "\n",
        "    def __init__(self, nin):\n",
        "        self.w = [Tensor(np.random.uniform(-1,1)) for _ in range(nin)]\n",
        "        self.b = Tensor(np.random.uniform(-1,1))\n",
        "\n",
        "    def __call__(self, x):\n",
        "        act = sum([wi * xi for wi, xi in zip(self.w, x)]) + self.b\n",
        "        out = act.relu()\n",
        "        return out"
      ],
      "metadata": {
        "id": "RTTnF7R3eHwa"
      },
      "execution_count": null,
      "outputs": []
    },
    {
      "cell_type": "code",
      "source": [
        "n = Neuron(3)\n",
        "n([1,2,3])"
      ],
      "metadata": {
        "colab": {
          "base_uri": "https://localhost:8080/"
        },
        "id": "nJ4wkyP_eyCC",
        "outputId": "3ad4eb5d-9a28-4f5e-c1ce-3723943baa46"
      },
      "execution_count": null,
      "outputs": [
        {
          "output_type": "execute_result",
          "data": {
            "text/plain": [
              "Tensor(data=1.5152039791577032, prev=(Tensor(data=2.3009499277086976, prev=(Tensor(data=1.0003216770905028, prev=(Tensor(data=0.0984853304522435, prev=(Tensor(data=0.0984853304522435, prev=(Tensor(data=0.0984853304522435, prev=()), Tensor(data=1, prev=()))), Tensor(data=0, prev=()))), Tensor(data=0.9018363466382593, prev=(Tensor(data=0.45091817331912964, prev=()), Tensor(data=2, prev=()))))), Tensor(data=1.3006282506181948, prev=(Tensor(data=0.4335427502060649, prev=()), Tensor(data=3, prev=()))))), Tensor(data=-0.7857459485509943, prev=())))"
            ]
          },
          "metadata": {},
          "execution_count": 19
        }
      ]
    },
    {
      "cell_type": "code",
      "source": [
        "class Neuron:\n",
        "\n",
        "    def __init__(self, nin):\n",
        "        self.w = [Tensor(np.random.uniform(-1,1)) for _ in range(nin)]\n",
        "        self.b = Tensor(np.random.uniform(-1,1))\n",
        "\n",
        "    def __call__(self, x):\n",
        "        #act = sum([wi * xi for wi, xi in zip(self.w, x)]) + self.b\n",
        "        act = sum([wi * xi for wi, xi in zip(self.w, x)], self.b)\n",
        "        out = act.relu()\n",
        "        return out\n"
      ],
      "metadata": {
        "id": "Buop0rlp2Plo"
      },
      "execution_count": null,
      "outputs": []
    },
    {
      "cell_type": "code",
      "source": [
        "np.random.seed(123)\n",
        "Neuron(3)"
      ],
      "metadata": {
        "colab": {
          "base_uri": "https://localhost:8080/"
        },
        "id": "0l0wtZTJ7CLz",
        "outputId": "987418d3-87b5-4bba-ea4f-c8367c9cf3f2"
      },
      "execution_count": null,
      "outputs": [
        {
          "output_type": "execute_result",
          "data": {
            "text/plain": [
              "<__main__.Neuron at 0x7cb321b3fa90>"
            ]
          },
          "metadata": {},
          "execution_count": 33
        }
      ]
    },
    {
      "cell_type": "code",
      "source": [
        "x = [2.3, 3.4, 4.5]\n",
        "\n",
        "n = Neuron(3)\n",
        "n(x)"
      ],
      "metadata": {
        "colab": {
          "base_uri": "https://localhost:8080/"
        },
        "id": "Dwp0O2gHlHMm",
        "outputId": "cd96aaab-1d84-492e-8d15-15a8cd9c6852"
      },
      "execution_count": null,
      "outputs": [
        {
          "output_type": "execute_result",
          "data": {
            "text/plain": [
              "Tensor(data=5.18321845249119, prev=(Tensor(data=5.18321845249119, prev=(Tensor(data=0.8563406670296513, prev=(Tensor(data=1.3792167381833167, prev=(Tensor(data=0.3696594771697266, prev=()), Tensor(data=1.0095572610135901, prev=(Tensor(data=0.43893793957112615, prev=()), Tensor(data=2.3, prev=()))))), Tensor(data=-0.5228760711536654, prev=(Tensor(data=-0.15378707975107808, prev=()), Tensor(data=3.4, prev=()))))), Tensor(data=4.326877785461539, prev=(Tensor(data=0.961528396769231, prev=()), Tensor(data=4.5, prev=()))))),))"
            ]
          },
          "metadata": {},
          "execution_count": 34
        }
      ]
    },
    {
      "cell_type": "markdown",
      "source": [
        "n! = n * (n-1) * ... * 1\n",
        "\n",
        "n! = n * (n-1)!"
      ],
      "metadata": {
        "id": "g9OpYfbhg9kc"
      }
    },
    {
      "cell_type": "code",
      "source": [
        "def factorial(n):\n",
        "\n",
        "    if n == 0:\n",
        "        return 1\n",
        "\n",
        "    else:\n",
        "        return n * factorial(n - 1)\n",
        "\n",
        "# Test the function\n",
        "print(factorial(5))  # Output: 120\n"
      ],
      "metadata": {
        "colab": {
          "base_uri": "https://localhost:8080/"
        },
        "id": "LDtDJebqhQm-",
        "outputId": "dd51f7c2-5e4f-4eab-b72a-d5d1ee573d74"
      },
      "execution_count": null,
      "outputs": [
        {
          "output_type": "stream",
          "name": "stdout",
          "text": [
            "120\n"
          ]
        }
      ]
    },
    {
      "cell_type": "code",
      "source": [
        "def print_tensor_tree(tensor, level=0):\n",
        "    indent = \"    \" * level\n",
        "    print(f\"{indent}Tensor(data={tensor.data})\")\n",
        "    for prev_tensor in tensor.prev:\n",
        "        print_tensor_tree(prev_tensor, level + 1)"
      ],
      "metadata": {
        "id": "CoyJBFxfiLeG"
      },
      "execution_count": null,
      "outputs": []
    },
    {
      "cell_type": "markdown",
      "source": [
        "# Tree\n",
        "\n",
        "[ChatGPT] What is the structure of recursion in Python?"
      ],
      "metadata": {
        "id": "K1Mi5YmgohYN"
      }
    },
    {
      "cell_type": "code",
      "source": [
        "n(x)"
      ],
      "metadata": {
        "colab": {
          "base_uri": "https://localhost:8080/"
        },
        "id": "bSQxnggxojOK",
        "outputId": "cee58ccd-04d5-4d0e-c023-b8e545022e32"
      },
      "execution_count": null,
      "outputs": [
        {
          "output_type": "execute_result",
          "data": {
            "text/plain": [
              "Tensor(data=5.18321845249119, prev=(Tensor(data=5.18321845249119, prev=(Tensor(data=4.813558975321464, prev=(Tensor(data=0.4866811898599247, prev=(Tensor(data=1.0095572610135901, prev=(Tensor(data=1.0095572610135901, prev=(Tensor(data=0.43893793957112615, prev=()), Tensor(data=2.3, prev=()))), Tensor(data=0, prev=()))), Tensor(data=-0.5228760711536654, prev=(Tensor(data=-0.15378707975107808, prev=()), Tensor(data=3.4, prev=()))))), Tensor(data=4.326877785461539, prev=(Tensor(data=0.961528396769231, prev=()), Tensor(data=4.5, prev=()))))), Tensor(data=0.3696594771697266, prev=()))),))"
            ]
          },
          "metadata": {},
          "execution_count": 26
        }
      ]
    },
    {
      "cell_type": "code",
      "source": [
        "def traverse_tensor(tensor, depth=0):\n",
        "    # Print the current tensor's data with indentation based on the recursion depth\n",
        "    print(\"  \" * depth + f\"Tensor(data={tensor.data:.2f})\")\n",
        "    # Recursively traverse the previous tensors\n",
        "    for prev_tensor in tensor.prev:\n",
        "        traverse_tensor(prev_tensor, depth + 1)"
      ],
      "metadata": {
        "id": "vFndg_DjotdH"
      },
      "execution_count": null,
      "outputs": []
    },
    {
      "cell_type": "code",
      "source": [
        "traverse_tensor(n(x))"
      ],
      "metadata": {
        "colab": {
          "base_uri": "https://localhost:8080/"
        },
        "id": "SYfEQX-Do1WV",
        "outputId": "337ff4f4-574e-478a-a8ff-5b77fab2c40f"
      },
      "execution_count": null,
      "outputs": [
        {
          "output_type": "stream",
          "name": "stdout",
          "text": [
            "Tensor(data=5.18)\n",
            "  Tensor(data=5.18)\n",
            "    Tensor(data=0.86)\n",
            "      Tensor(data=1.38)\n",
            "        Tensor(data=0.37)\n",
            "        Tensor(data=1.01)\n",
            "          Tensor(data=0.44)\n",
            "          Tensor(data=2.30)\n",
            "      Tensor(data=-0.52)\n",
            "        Tensor(data=-0.15)\n",
            "        Tensor(data=3.40)\n",
            "    Tensor(data=4.33)\n",
            "      Tensor(data=0.96)\n",
            "      Tensor(data=4.50)\n"
          ]
        }
      ]
    },
    {
      "cell_type": "code",
      "source": [
        "from graphviz import Digraph\n",
        "\n",
        "# Function to add nodes and edges to the Graphviz graph from the tensor structure\n",
        "def add_nodes_edges_graphviz(graph, tensor, parent_id=None, current_id=0):\n",
        "    node_id = str(current_id)\n",
        "    graph.node(node_id, label=f\"{tensor.data:.2f}\")\n",
        "    if parent_id is not None:\n",
        "        graph.edge(parent_id, node_id)\n",
        "    next_id = current_id + 1\n",
        "    for prev_tensor in tensor.prev:\n",
        "        graph, next_id = add_nodes_edges_graphviz(graph, prev_tensor, node_id, next_id)\n",
        "    return graph, next_id\n",
        "\n",
        "# Function to plot the tensor tree and display it\n",
        "def plot_tensor_tree(tensor):\n",
        "    dot = Digraph()\n",
        "    dot, _ = add_nodes_edges_graphviz(dot, tensor)\n",
        "    return dot"
      ],
      "metadata": {
        "id": "_EOFbGrCIg0L"
      },
      "execution_count": null,
      "outputs": []
    },
    {
      "cell_type": "code",
      "source": [
        "plot_tensor_tree(n(x))"
      ],
      "metadata": {
        "colab": {
          "base_uri": "https://localhost:8080/",
          "height": 560
        },
        "id": "a289-QFVJLeD",
        "outputId": "05f56179-1b06-4c05-95e2-02dc94b7c780"
      },
      "execution_count": null,
      "outputs": [
        {
          "output_type": "execute_result",
          "data": {
            "image/svg+xml": "<?xml version=\"1.0\" encoding=\"UTF-8\" standalone=\"no\"?>\n<!DOCTYPE svg PUBLIC \"-//W3C//DTD SVG 1.1//EN\"\n \"http://www.w3.org/Graphics/SVG/1.1/DTD/svg11.dtd\">\n<!-- Generated by graphviz version 2.43.0 (0)\n -->\n<!-- Title: %3 Pages: 1 -->\n<svg width=\"354pt\" height=\"404pt\"\n viewBox=\"0.00 0.00 354.00 404.00\" xmlns=\"http://www.w3.org/2000/svg\" xmlns:xlink=\"http://www.w3.org/1999/xlink\">\n<g id=\"graph0\" class=\"graph\" transform=\"scale(1 1) rotate(0) translate(4 400)\">\n<title>%3</title>\n<polygon fill=\"white\" stroke=\"transparent\" points=\"-4,4 -4,-400 350,-400 350,4 -4,4\"/>\n<!-- 0 -->\n<g id=\"node1\" class=\"node\">\n<title>0</title>\n<ellipse fill=\"none\" stroke=\"black\" cx=\"210\" cy=\"-378\" rx=\"27\" ry=\"18\"/>\n<text text-anchor=\"middle\" x=\"210\" y=\"-374.3\" font-family=\"Times,serif\" font-size=\"14.00\">5.18</text>\n</g>\n<!-- 1 -->\n<g id=\"node2\" class=\"node\">\n<title>1</title>\n<ellipse fill=\"none\" stroke=\"black\" cx=\"210\" cy=\"-306\" rx=\"27\" ry=\"18\"/>\n<text text-anchor=\"middle\" x=\"210\" y=\"-302.3\" font-family=\"Times,serif\" font-size=\"14.00\">5.18</text>\n</g>\n<!-- 0&#45;&gt;1 -->\n<g id=\"edge1\" class=\"edge\">\n<title>0&#45;&gt;1</title>\n<path fill=\"none\" stroke=\"black\" d=\"M210,-359.7C210,-351.98 210,-342.71 210,-334.11\"/>\n<polygon fill=\"black\" stroke=\"black\" points=\"213.5,-334.1 210,-324.1 206.5,-334.1 213.5,-334.1\"/>\n</g>\n<!-- 2 -->\n<g id=\"node3\" class=\"node\">\n<title>2</title>\n<ellipse fill=\"none\" stroke=\"black\" cx=\"173\" cy=\"-234\" rx=\"27\" ry=\"18\"/>\n<text text-anchor=\"middle\" x=\"173\" y=\"-230.3\" font-family=\"Times,serif\" font-size=\"14.00\">0.86</text>\n</g>\n<!-- 1&#45;&gt;2 -->\n<g id=\"edge2\" class=\"edge\">\n<title>1&#45;&gt;2</title>\n<path fill=\"none\" stroke=\"black\" d=\"M201.42,-288.76C196.94,-280.28 191.35,-269.71 186.32,-260.2\"/>\n<polygon fill=\"black\" stroke=\"black\" points=\"189.3,-258.35 181.54,-251.15 183.11,-261.62 189.3,-258.35\"/>\n</g>\n<!-- 11 -->\n<g id=\"node12\" class=\"node\">\n<title>11</title>\n<ellipse fill=\"none\" stroke=\"black\" cx=\"247\" cy=\"-234\" rx=\"27\" ry=\"18\"/>\n<text text-anchor=\"middle\" x=\"247\" y=\"-230.3\" font-family=\"Times,serif\" font-size=\"14.00\">4.33</text>\n</g>\n<!-- 1&#45;&gt;11 -->\n<g id=\"edge11\" class=\"edge\">\n<title>1&#45;&gt;11</title>\n<path fill=\"none\" stroke=\"black\" d=\"M218.58,-288.76C223.06,-280.28 228.65,-269.71 233.68,-260.2\"/>\n<polygon fill=\"black\" stroke=\"black\" points=\"236.89,-261.62 238.46,-251.15 230.7,-258.35 236.89,-261.62\"/>\n</g>\n<!-- 3 -->\n<g id=\"node4\" class=\"node\">\n<title>3</title>\n<ellipse fill=\"none\" stroke=\"black\" cx=\"99\" cy=\"-162\" rx=\"27\" ry=\"18\"/>\n<text text-anchor=\"middle\" x=\"99\" y=\"-158.3\" font-family=\"Times,serif\" font-size=\"14.00\">1.38</text>\n</g>\n<!-- 2&#45;&gt;3 -->\n<g id=\"edge3\" class=\"edge\">\n<title>2&#45;&gt;3</title>\n<path fill=\"none\" stroke=\"black\" d=\"M158.02,-218.83C147.49,-208.87 133.22,-195.37 121.34,-184.14\"/>\n<polygon fill=\"black\" stroke=\"black\" points=\"123.62,-181.47 113.95,-177.14 118.81,-186.56 123.62,-181.47\"/>\n</g>\n<!-- 8 -->\n<g id=\"node9\" class=\"node\">\n<title>8</title>\n<ellipse fill=\"none\" stroke=\"black\" cx=\"173\" cy=\"-162\" rx=\"29.5\" ry=\"18\"/>\n<text text-anchor=\"middle\" x=\"173\" y=\"-158.3\" font-family=\"Times,serif\" font-size=\"14.00\">&#45;0.52</text>\n</g>\n<!-- 2&#45;&gt;8 -->\n<g id=\"edge8\" class=\"edge\">\n<title>2&#45;&gt;8</title>\n<path fill=\"none\" stroke=\"black\" d=\"M173,-215.7C173,-207.98 173,-198.71 173,-190.11\"/>\n<polygon fill=\"black\" stroke=\"black\" points=\"176.5,-190.1 173,-180.1 169.5,-190.1 176.5,-190.1\"/>\n</g>\n<!-- 4 -->\n<g id=\"node5\" class=\"node\">\n<title>4</title>\n<ellipse fill=\"none\" stroke=\"black\" cx=\"27\" cy=\"-90\" rx=\"27\" ry=\"18\"/>\n<text text-anchor=\"middle\" x=\"27\" y=\"-86.3\" font-family=\"Times,serif\" font-size=\"14.00\">0.37</text>\n</g>\n<!-- 3&#45;&gt;4 -->\n<g id=\"edge4\" class=\"edge\">\n<title>3&#45;&gt;4</title>\n<path fill=\"none\" stroke=\"black\" d=\"M84.43,-146.83C74.25,-136.94 60.48,-123.55 48.97,-112.36\"/>\n<polygon fill=\"black\" stroke=\"black\" points=\"51.41,-109.85 41.8,-105.38 46.53,-114.87 51.41,-109.85\"/>\n</g>\n<!-- 5 -->\n<g id=\"node6\" class=\"node\">\n<title>5</title>\n<ellipse fill=\"none\" stroke=\"black\" cx=\"99\" cy=\"-90\" rx=\"27\" ry=\"18\"/>\n<text text-anchor=\"middle\" x=\"99\" y=\"-86.3\" font-family=\"Times,serif\" font-size=\"14.00\">1.01</text>\n</g>\n<!-- 3&#45;&gt;5 -->\n<g id=\"edge5\" class=\"edge\">\n<title>3&#45;&gt;5</title>\n<path fill=\"none\" stroke=\"black\" d=\"M99,-143.7C99,-135.98 99,-126.71 99,-118.11\"/>\n<polygon fill=\"black\" stroke=\"black\" points=\"102.5,-118.1 99,-108.1 95.5,-118.1 102.5,-118.1\"/>\n</g>\n<!-- 6 -->\n<g id=\"node7\" class=\"node\">\n<title>6</title>\n<ellipse fill=\"none\" stroke=\"black\" cx=\"63\" cy=\"-18\" rx=\"27\" ry=\"18\"/>\n<text text-anchor=\"middle\" x=\"63\" y=\"-14.3\" font-family=\"Times,serif\" font-size=\"14.00\">0.44</text>\n</g>\n<!-- 5&#45;&gt;6 -->\n<g id=\"edge6\" class=\"edge\">\n<title>5&#45;&gt;6</title>\n<path fill=\"none\" stroke=\"black\" d=\"M90.65,-72.76C86.29,-64.28 80.85,-53.71 75.96,-44.2\"/>\n<polygon fill=\"black\" stroke=\"black\" points=\"78.99,-42.44 71.3,-35.15 72.77,-45.64 78.99,-42.44\"/>\n</g>\n<!-- 7 -->\n<g id=\"node8\" class=\"node\">\n<title>7</title>\n<ellipse fill=\"none\" stroke=\"black\" cx=\"135\" cy=\"-18\" rx=\"27\" ry=\"18\"/>\n<text text-anchor=\"middle\" x=\"135\" y=\"-14.3\" font-family=\"Times,serif\" font-size=\"14.00\">2.30</text>\n</g>\n<!-- 5&#45;&gt;7 -->\n<g id=\"edge7\" class=\"edge\">\n<title>5&#45;&gt;7</title>\n<path fill=\"none\" stroke=\"black\" d=\"M107.35,-72.76C111.71,-64.28 117.15,-53.71 122.04,-44.2\"/>\n<polygon fill=\"black\" stroke=\"black\" points=\"125.23,-45.64 126.7,-35.15 119.01,-42.44 125.23,-45.64\"/>\n</g>\n<!-- 9 -->\n<g id=\"node10\" class=\"node\">\n<title>9</title>\n<ellipse fill=\"none\" stroke=\"black\" cx=\"173\" cy=\"-90\" rx=\"29.5\" ry=\"18\"/>\n<text text-anchor=\"middle\" x=\"173\" y=\"-86.3\" font-family=\"Times,serif\" font-size=\"14.00\">&#45;0.15</text>\n</g>\n<!-- 8&#45;&gt;9 -->\n<g id=\"edge9\" class=\"edge\">\n<title>8&#45;&gt;9</title>\n<path fill=\"none\" stroke=\"black\" d=\"M173,-143.7C173,-135.98 173,-126.71 173,-118.11\"/>\n<polygon fill=\"black\" stroke=\"black\" points=\"176.5,-118.1 173,-108.1 169.5,-118.1 176.5,-118.1\"/>\n</g>\n<!-- 10 -->\n<g id=\"node11\" class=\"node\">\n<title>10</title>\n<ellipse fill=\"none\" stroke=\"black\" cx=\"247\" cy=\"-90\" rx=\"27\" ry=\"18\"/>\n<text text-anchor=\"middle\" x=\"247\" y=\"-86.3\" font-family=\"Times,serif\" font-size=\"14.00\">3.40</text>\n</g>\n<!-- 8&#45;&gt;10 -->\n<g id=\"edge10\" class=\"edge\">\n<title>8&#45;&gt;10</title>\n<path fill=\"none\" stroke=\"black\" d=\"M188.33,-146.5C198.82,-136.58 212.89,-123.26 224.63,-112.16\"/>\n<polygon fill=\"black\" stroke=\"black\" points=\"227.08,-114.66 231.94,-105.25 222.27,-109.58 227.08,-114.66\"/>\n</g>\n<!-- 12 -->\n<g id=\"node13\" class=\"node\">\n<title>12</title>\n<ellipse fill=\"none\" stroke=\"black\" cx=\"247\" cy=\"-162\" rx=\"27\" ry=\"18\"/>\n<text text-anchor=\"middle\" x=\"247\" y=\"-158.3\" font-family=\"Times,serif\" font-size=\"14.00\">0.96</text>\n</g>\n<!-- 11&#45;&gt;12 -->\n<g id=\"edge12\" class=\"edge\">\n<title>11&#45;&gt;12</title>\n<path fill=\"none\" stroke=\"black\" d=\"M247,-215.7C247,-207.98 247,-198.71 247,-190.11\"/>\n<polygon fill=\"black\" stroke=\"black\" points=\"250.5,-190.1 247,-180.1 243.5,-190.1 250.5,-190.1\"/>\n</g>\n<!-- 13 -->\n<g id=\"node14\" class=\"node\">\n<title>13</title>\n<ellipse fill=\"none\" stroke=\"black\" cx=\"319\" cy=\"-162\" rx=\"27\" ry=\"18\"/>\n<text text-anchor=\"middle\" x=\"319\" y=\"-158.3\" font-family=\"Times,serif\" font-size=\"14.00\">4.50</text>\n</g>\n<!-- 11&#45;&gt;13 -->\n<g id=\"edge13\" class=\"edge\">\n<title>11&#45;&gt;13</title>\n<path fill=\"none\" stroke=\"black\" d=\"M261.57,-218.83C271.75,-208.94 285.52,-195.55 297.03,-184.36\"/>\n<polygon fill=\"black\" stroke=\"black\" points=\"299.47,-186.87 304.2,-177.38 294.59,-181.85 299.47,-186.87\"/>\n</g>\n</g>\n</svg>\n",
            "text/plain": [
              "<graphviz.graphs.Digraph at 0x7cb321c90af0>"
            ]
          },
          "metadata": {},
          "execution_count": 38
        }
      ]
    },
    {
      "cell_type": "markdown",
      "source": [
        "# Neural Networks"
      ],
      "metadata": {
        "id": "TLxTdiAJB9C7"
      }
    },
    {
      "cell_type": "code",
      "source": [
        "class Layer:\n",
        "\n",
        "    def __init__(self, nin, nout):\n",
        "        self.neurons = [Neuron(nin) for _ in range(nout)]\n",
        "\n",
        "    def __call__(self, x):\n",
        "        out = [n(x) for n in self.neurons]\n",
        "        return out\n",
        "        #return out[0] if len(out) == 1 else out"
      ],
      "metadata": {
        "id": "bnbu0kliB_7S"
      },
      "execution_count": null,
      "outputs": []
    },
    {
      "cell_type": "code",
      "source": [
        "Layer(3, 4)(x)"
      ],
      "metadata": {
        "id": "EUqvXgicWu72"
      },
      "execution_count": null,
      "outputs": []
    },
    {
      "cell_type": "markdown",
      "source": [
        "\n",
        "\n",
        "```\n",
        "MLP(3, [4, 2, 1])\n",
        "\n",
        "Layer(3,4)\n",
        "Layer(4,2)\n",
        "Layer(2,1)\n",
        "\n",
        "Layer(nin, nout)\n",
        "\n",
        "Neuron(nin)\n",
        "\n",
        "[Neuron(3), Neuron(3), Neuron(3), Neuron(3)]\n",
        "[Neuron(4), Neuron(4)]\n",
        "[Neuron(2)]\n",
        "```\n",
        "\n"
      ],
      "metadata": {
        "id": "Mm8PYVtgYP3i"
      }
    },
    {
      "cell_type": "code",
      "source": [
        "MLP(3, [4, 2, 1])"
      ],
      "metadata": {
        "id": "5Qj3i4lJYPYS"
      },
      "execution_count": null,
      "outputs": []
    },
    {
      "cell_type": "code",
      "source": [
        "class MLP:\n",
        "\n",
        "    def __init__(self, nin, nouts):\n",
        "        sz = [nin] + nouts\n",
        "        self.layers = [Layer(sz[i], sz[i+1]) for i in range(len(nouts))]\n",
        "\n",
        "    def __call__(self, x):\n",
        "        for layer in self.layers:\n",
        "            x = layer(x)\n",
        "        return x"
      ],
      "metadata": {
        "id": "dkWIlpyBCzf4"
      },
      "execution_count": null,
      "outputs": []
    },
    {
      "cell_type": "code",
      "source": [
        "n = MLP(3,[4,2,1])"
      ],
      "metadata": {
        "id": "LwXAEpFFDoJH"
      },
      "execution_count": null,
      "outputs": []
    },
    {
      "cell_type": "code",
      "source": [
        "n(x)"
      ],
      "metadata": {
        "collapsed": true,
        "id": "gXX7lmcJGLRi"
      },
      "execution_count": null,
      "outputs": []
    },
    {
      "cell_type": "code",
      "source": [
        "traverse_tensor(n(x))"
      ],
      "metadata": {
        "collapsed": true,
        "id": "Lgr8hV9PGNAQ"
      },
      "execution_count": null,
      "outputs": []
    },
    {
      "cell_type": "code",
      "source": [
        "plot_tensor_tree(n(x))"
      ],
      "metadata": {
        "collapsed": true,
        "id": "NQ7gdfczGTJs"
      },
      "execution_count": null,
      "outputs": []
    },
    {
      "cell_type": "code",
      "source": [],
      "metadata": {
        "id": "2PPHkFioGoqE"
      },
      "execution_count": null,
      "outputs": []
    }
  ]
}