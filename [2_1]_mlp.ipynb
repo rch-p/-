{
  "nbformat": 4,
  "nbformat_minor": 0,
  "metadata": {
    "colab": {
      "provenance": []
    },
    "kernelspec": {
      "name": "python3",
      "display_name": "Python 3"
    },
    "language_info": {
      "name": "python"
    }
  },
  "cells": [
    {
      "cell_type": "code",
      "source": [
        "import numpy as np"
      ],
      "metadata": {
        "id": "4crrzXJqv4Vr"
      },
      "execution_count": null,
      "outputs": []
    },
    {
      "cell_type": "code",
      "source": [
        "class Tensor:\n",
        "\n",
        "    def __init__(self, data, prev=()):\n",
        "        self.data = data\n",
        "        self.prev = prev\n",
        "\n",
        "    def __add__(self, other):\n",
        "        other = other if isinstance(other, Tensor) else Tensor(other)\n",
        "        out = Tensor(self.data + other.data, prev=(self, other))\n",
        "        return out\n",
        "\n",
        "    def __mul__(self, other):\n",
        "        other = other if isinstance(other, Tensor) else Tensor(other)\n",
        "        out = Tensor(self.data * other.data, prev=(self, other))\n",
        "        return out\n",
        "\n",
        "    def __radd__(self, other):\n",
        "        return self + other\n",
        "\n",
        "    def __rmul__(self, other):\n",
        "        return self * other\n",
        "\n",
        "    def relu(self):\n",
        "        return Tensor(np.maximum(self.data, 0), prev=(self,))\n",
        "\n",
        "    def __repr__(self):\n",
        "        #return f\"Tensor(data={self.data}, prev={self.prev})\"\n",
        "        return f\"Tensor(data={self.data})\"\n",
        "\n",
        "\n"
      ],
      "metadata": {
        "id": "7-g71FoR6cAP"
      },
      "execution_count": null,
      "outputs": []
    },
    {
      "cell_type": "code",
      "source": [
        "class Neuron:\n",
        "\n",
        "    def __init__(self, nin):\n",
        "        self.w = [Tensor(np.random.uniform(-1,1)) for _ in range(nin)]\n",
        "        self.b = Tensor(np.random.uniform(-1,1))\n",
        "\n",
        "    def __call__(self, x):\n",
        "        act = sum([wi * xi for wi, xi in zip(self.w, x)], self.b)\n",
        "        out = act.relu()\n",
        "        return out\n"
      ],
      "metadata": {
        "id": "Buop0rlp2Plo"
      },
      "execution_count": null,
      "outputs": []
    },
    {
      "cell_type": "code",
      "source": [
        "def traverse_tensor(tensor, depth=0):\n",
        "    # Print the current tensor's data with indentation based on the recursion depth\n",
        "    print(\"  \" * depth + f\"Tensor(data={tensor.data:.2f})\")\n",
        "    # Recursively traverse the previous tensors\n",
        "    for prev_tensor in tensor.prev:\n",
        "        traverse_tensor(prev_tensor, depth + 1)"
      ],
      "metadata": {
        "id": "vFndg_DjotdH"
      },
      "execution_count": null,
      "outputs": []
    },
    {
      "cell_type": "code",
      "source": [
        "from graphviz import Digraph\n",
        "\n",
        "# Function to add nodes and edges to the Graphviz graph from the tensor structure\n",
        "def add_nodes_edges_graphviz(graph, tensor, parent_id=None, current_id=0):\n",
        "    node_id = str(current_id)\n",
        "    graph.node(node_id, label=f\"{tensor.data:.2f}\")\n",
        "    if parent_id is not None:\n",
        "        graph.edge(parent_id, node_id)\n",
        "    next_id = current_id + 1\n",
        "    for prev_tensor in tensor.prev:\n",
        "        graph, next_id = add_nodes_edges_graphviz(graph, prev_tensor, node_id, next_id)\n",
        "    return graph, next_id\n",
        "\n",
        "# Function to plot the tensor tree and display it\n",
        "def plot_tensor_tree(tensor):\n",
        "    dot = Digraph()\n",
        "    dot, _ = add_nodes_edges_graphviz(dot, tensor)\n",
        "    return dot"
      ],
      "metadata": {
        "id": "_EOFbGrCIg0L"
      },
      "execution_count": null,
      "outputs": []
    },
    {
      "cell_type": "code",
      "source": [
        "np.random.seed(123)\n",
        "Neuron(3)"
      ],
      "metadata": {
        "colab": {
          "base_uri": "https://localhost:8080/"
        },
        "id": "0l0wtZTJ7CLz",
        "outputId": "e4e21950-4da6-403f-ddfd-a2c969672c32"
      },
      "execution_count": null,
      "outputs": [
        {
          "output_type": "execute_result",
          "data": {
            "text/plain": [
              "<__main__.Neuron at 0x7875fc7941f0>"
            ]
          },
          "metadata": {},
          "execution_count": 7
        }
      ]
    },
    {
      "cell_type": "code",
      "source": [
        "x = [2.3, 3.4, 4.5]\n",
        "\n",
        "n = Neuron(3)\n",
        "n(x)"
      ],
      "metadata": {
        "colab": {
          "base_uri": "https://localhost:8080/"
        },
        "id": "Dwp0O2gHlHMm",
        "outputId": "62734367-dd42-4d21-ccfa-ce33ee9f5745"
      },
      "execution_count": null,
      "outputs": [
        {
          "output_type": "execute_result",
          "data": {
            "text/plain": [
              "Tensor(data=5.18321845249119, prev=(Tensor(data=5.18321845249119, prev=(Tensor(data=0.8563406670296513, prev=(Tensor(data=1.3792167381833167, prev=(Tensor(data=0.3696594771697266, prev=()), Tensor(data=1.0095572610135901, prev=(Tensor(data=0.43893793957112615, prev=()), Tensor(data=2.3, prev=()))))), Tensor(data=-0.5228760711536654, prev=(Tensor(data=-0.15378707975107808, prev=()), Tensor(data=3.4, prev=()))))), Tensor(data=4.326877785461539, prev=(Tensor(data=0.961528396769231, prev=()), Tensor(data=4.5, prev=()))))),))"
            ]
          },
          "metadata": {},
          "execution_count": 8
        }
      ]
    },
    {
      "cell_type": "code",
      "source": [
        "traverse_tensor(n(x))"
      ],
      "metadata": {
        "colab": {
          "base_uri": "https://localhost:8080/"
        },
        "id": "tWYE7VxWrOl1",
        "outputId": "5f3322ed-7c02-4a04-c5e3-7c025f4b29e2",
        "collapsed": true
      },
      "execution_count": null,
      "outputs": [
        {
          "output_type": "stream",
          "name": "stdout",
          "text": [
            "Tensor(data=5.18)\n",
            "  Tensor(data=5.18)\n",
            "    Tensor(data=0.86)\n",
            "      Tensor(data=1.38)\n",
            "        Tensor(data=0.37)\n",
            "        Tensor(data=1.01)\n",
            "          Tensor(data=0.44)\n",
            "          Tensor(data=2.30)\n",
            "      Tensor(data=-0.52)\n",
            "        Tensor(data=-0.15)\n",
            "        Tensor(data=3.40)\n",
            "    Tensor(data=4.33)\n",
            "      Tensor(data=0.96)\n",
            "      Tensor(data=4.50)\n"
          ]
        }
      ]
    },
    {
      "cell_type": "code",
      "source": [
        "plot_tensor_tree(n(x))"
      ],
      "metadata": {
        "id": "QZhyn2GcrT7N",
        "outputId": "e068fec9-1b38-4ec5-8c6a-2cee1b2aa9ad",
        "colab": {
          "base_uri": "https://localhost:8080/",
          "height": 560
        },
        "collapsed": true
      },
      "execution_count": null,
      "outputs": [
        {
          "output_type": "execute_result",
          "data": {
            "image/svg+xml": "<?xml version=\"1.0\" encoding=\"UTF-8\" standalone=\"no\"?>\n<!DOCTYPE svg PUBLIC \"-//W3C//DTD SVG 1.1//EN\"\n \"http://www.w3.org/Graphics/SVG/1.1/DTD/svg11.dtd\">\n<!-- Generated by graphviz version 2.43.0 (0)\n -->\n<!-- Title: %3 Pages: 1 -->\n<svg width=\"354pt\" height=\"404pt\"\n viewBox=\"0.00 0.00 354.00 404.00\" xmlns=\"http://www.w3.org/2000/svg\" xmlns:xlink=\"http://www.w3.org/1999/xlink\">\n<g id=\"graph0\" class=\"graph\" transform=\"scale(1 1) rotate(0) translate(4 400)\">\n<title>%3</title>\n<polygon fill=\"white\" stroke=\"transparent\" points=\"-4,4 -4,-400 350,-400 350,4 -4,4\"/>\n<!-- 0 -->\n<g id=\"node1\" class=\"node\">\n<title>0</title>\n<ellipse fill=\"none\" stroke=\"black\" cx=\"210\" cy=\"-378\" rx=\"27\" ry=\"18\"/>\n<text text-anchor=\"middle\" x=\"210\" y=\"-374.3\" font-family=\"Times,serif\" font-size=\"14.00\">5.18</text>\n</g>\n<!-- 1 -->\n<g id=\"node2\" class=\"node\">\n<title>1</title>\n<ellipse fill=\"none\" stroke=\"black\" cx=\"210\" cy=\"-306\" rx=\"27\" ry=\"18\"/>\n<text text-anchor=\"middle\" x=\"210\" y=\"-302.3\" font-family=\"Times,serif\" font-size=\"14.00\">5.18</text>\n</g>\n<!-- 0&#45;&gt;1 -->\n<g id=\"edge1\" class=\"edge\">\n<title>0&#45;&gt;1</title>\n<path fill=\"none\" stroke=\"black\" d=\"M210,-359.7C210,-351.98 210,-342.71 210,-334.11\"/>\n<polygon fill=\"black\" stroke=\"black\" points=\"213.5,-334.1 210,-324.1 206.5,-334.1 213.5,-334.1\"/>\n</g>\n<!-- 2 -->\n<g id=\"node3\" class=\"node\">\n<title>2</title>\n<ellipse fill=\"none\" stroke=\"black\" cx=\"173\" cy=\"-234\" rx=\"27\" ry=\"18\"/>\n<text text-anchor=\"middle\" x=\"173\" y=\"-230.3\" font-family=\"Times,serif\" font-size=\"14.00\">0.86</text>\n</g>\n<!-- 1&#45;&gt;2 -->\n<g id=\"edge2\" class=\"edge\">\n<title>1&#45;&gt;2</title>\n<path fill=\"none\" stroke=\"black\" d=\"M201.42,-288.76C196.94,-280.28 191.35,-269.71 186.32,-260.2\"/>\n<polygon fill=\"black\" stroke=\"black\" points=\"189.3,-258.35 181.54,-251.15 183.11,-261.62 189.3,-258.35\"/>\n</g>\n<!-- 11 -->\n<g id=\"node12\" class=\"node\">\n<title>11</title>\n<ellipse fill=\"none\" stroke=\"black\" cx=\"247\" cy=\"-234\" rx=\"27\" ry=\"18\"/>\n<text text-anchor=\"middle\" x=\"247\" y=\"-230.3\" font-family=\"Times,serif\" font-size=\"14.00\">4.33</text>\n</g>\n<!-- 1&#45;&gt;11 -->\n<g id=\"edge11\" class=\"edge\">\n<title>1&#45;&gt;11</title>\n<path fill=\"none\" stroke=\"black\" d=\"M218.58,-288.76C223.06,-280.28 228.65,-269.71 233.68,-260.2\"/>\n<polygon fill=\"black\" stroke=\"black\" points=\"236.89,-261.62 238.46,-251.15 230.7,-258.35 236.89,-261.62\"/>\n</g>\n<!-- 3 -->\n<g id=\"node4\" class=\"node\">\n<title>3</title>\n<ellipse fill=\"none\" stroke=\"black\" cx=\"99\" cy=\"-162\" rx=\"27\" ry=\"18\"/>\n<text text-anchor=\"middle\" x=\"99\" y=\"-158.3\" font-family=\"Times,serif\" font-size=\"14.00\">1.38</text>\n</g>\n<!-- 2&#45;&gt;3 -->\n<g id=\"edge3\" class=\"edge\">\n<title>2&#45;&gt;3</title>\n<path fill=\"none\" stroke=\"black\" d=\"M158.02,-218.83C147.49,-208.87 133.22,-195.37 121.34,-184.14\"/>\n<polygon fill=\"black\" stroke=\"black\" points=\"123.62,-181.47 113.95,-177.14 118.81,-186.56 123.62,-181.47\"/>\n</g>\n<!-- 8 -->\n<g id=\"node9\" class=\"node\">\n<title>8</title>\n<ellipse fill=\"none\" stroke=\"black\" cx=\"173\" cy=\"-162\" rx=\"29.5\" ry=\"18\"/>\n<text text-anchor=\"middle\" x=\"173\" y=\"-158.3\" font-family=\"Times,serif\" font-size=\"14.00\">&#45;0.52</text>\n</g>\n<!-- 2&#45;&gt;8 -->\n<g id=\"edge8\" class=\"edge\">\n<title>2&#45;&gt;8</title>\n<path fill=\"none\" stroke=\"black\" d=\"M173,-215.7C173,-207.98 173,-198.71 173,-190.11\"/>\n<polygon fill=\"black\" stroke=\"black\" points=\"176.5,-190.1 173,-180.1 169.5,-190.1 176.5,-190.1\"/>\n</g>\n<!-- 4 -->\n<g id=\"node5\" class=\"node\">\n<title>4</title>\n<ellipse fill=\"none\" stroke=\"black\" cx=\"27\" cy=\"-90\" rx=\"27\" ry=\"18\"/>\n<text text-anchor=\"middle\" x=\"27\" y=\"-86.3\" font-family=\"Times,serif\" font-size=\"14.00\">0.37</text>\n</g>\n<!-- 3&#45;&gt;4 -->\n<g id=\"edge4\" class=\"edge\">\n<title>3&#45;&gt;4</title>\n<path fill=\"none\" stroke=\"black\" d=\"M84.43,-146.83C74.25,-136.94 60.48,-123.55 48.97,-112.36\"/>\n<polygon fill=\"black\" stroke=\"black\" points=\"51.41,-109.85 41.8,-105.38 46.53,-114.87 51.41,-109.85\"/>\n</g>\n<!-- 5 -->\n<g id=\"node6\" class=\"node\">\n<title>5</title>\n<ellipse fill=\"none\" stroke=\"black\" cx=\"99\" cy=\"-90\" rx=\"27\" ry=\"18\"/>\n<text text-anchor=\"middle\" x=\"99\" y=\"-86.3\" font-family=\"Times,serif\" font-size=\"14.00\">1.01</text>\n</g>\n<!-- 3&#45;&gt;5 -->\n<g id=\"edge5\" class=\"edge\">\n<title>3&#45;&gt;5</title>\n<path fill=\"none\" stroke=\"black\" d=\"M99,-143.7C99,-135.98 99,-126.71 99,-118.11\"/>\n<polygon fill=\"black\" stroke=\"black\" points=\"102.5,-118.1 99,-108.1 95.5,-118.1 102.5,-118.1\"/>\n</g>\n<!-- 6 -->\n<g id=\"node7\" class=\"node\">\n<title>6</title>\n<ellipse fill=\"none\" stroke=\"black\" cx=\"63\" cy=\"-18\" rx=\"27\" ry=\"18\"/>\n<text text-anchor=\"middle\" x=\"63\" y=\"-14.3\" font-family=\"Times,serif\" font-size=\"14.00\">0.44</text>\n</g>\n<!-- 5&#45;&gt;6 -->\n<g id=\"edge6\" class=\"edge\">\n<title>5&#45;&gt;6</title>\n<path fill=\"none\" stroke=\"black\" d=\"M90.65,-72.76C86.29,-64.28 80.85,-53.71 75.96,-44.2\"/>\n<polygon fill=\"black\" stroke=\"black\" points=\"78.99,-42.44 71.3,-35.15 72.77,-45.64 78.99,-42.44\"/>\n</g>\n<!-- 7 -->\n<g id=\"node8\" class=\"node\">\n<title>7</title>\n<ellipse fill=\"none\" stroke=\"black\" cx=\"135\" cy=\"-18\" rx=\"27\" ry=\"18\"/>\n<text text-anchor=\"middle\" x=\"135\" y=\"-14.3\" font-family=\"Times,serif\" font-size=\"14.00\">2.30</text>\n</g>\n<!-- 5&#45;&gt;7 -->\n<g id=\"edge7\" class=\"edge\">\n<title>5&#45;&gt;7</title>\n<path fill=\"none\" stroke=\"black\" d=\"M107.35,-72.76C111.71,-64.28 117.15,-53.71 122.04,-44.2\"/>\n<polygon fill=\"black\" stroke=\"black\" points=\"125.23,-45.64 126.7,-35.15 119.01,-42.44 125.23,-45.64\"/>\n</g>\n<!-- 9 -->\n<g id=\"node10\" class=\"node\">\n<title>9</title>\n<ellipse fill=\"none\" stroke=\"black\" cx=\"173\" cy=\"-90\" rx=\"29.5\" ry=\"18\"/>\n<text text-anchor=\"middle\" x=\"173\" y=\"-86.3\" font-family=\"Times,serif\" font-size=\"14.00\">&#45;0.15</text>\n</g>\n<!-- 8&#45;&gt;9 -->\n<g id=\"edge9\" class=\"edge\">\n<title>8&#45;&gt;9</title>\n<path fill=\"none\" stroke=\"black\" d=\"M173,-143.7C173,-135.98 173,-126.71 173,-118.11\"/>\n<polygon fill=\"black\" stroke=\"black\" points=\"176.5,-118.1 173,-108.1 169.5,-118.1 176.5,-118.1\"/>\n</g>\n<!-- 10 -->\n<g id=\"node11\" class=\"node\">\n<title>10</title>\n<ellipse fill=\"none\" stroke=\"black\" cx=\"247\" cy=\"-90\" rx=\"27\" ry=\"18\"/>\n<text text-anchor=\"middle\" x=\"247\" y=\"-86.3\" font-family=\"Times,serif\" font-size=\"14.00\">3.40</text>\n</g>\n<!-- 8&#45;&gt;10 -->\n<g id=\"edge10\" class=\"edge\">\n<title>8&#45;&gt;10</title>\n<path fill=\"none\" stroke=\"black\" d=\"M188.33,-146.5C198.82,-136.58 212.89,-123.26 224.63,-112.16\"/>\n<polygon fill=\"black\" stroke=\"black\" points=\"227.08,-114.66 231.94,-105.25 222.27,-109.58 227.08,-114.66\"/>\n</g>\n<!-- 12 -->\n<g id=\"node13\" class=\"node\">\n<title>12</title>\n<ellipse fill=\"none\" stroke=\"black\" cx=\"247\" cy=\"-162\" rx=\"27\" ry=\"18\"/>\n<text text-anchor=\"middle\" x=\"247\" y=\"-158.3\" font-family=\"Times,serif\" font-size=\"14.00\">0.96</text>\n</g>\n<!-- 11&#45;&gt;12 -->\n<g id=\"edge12\" class=\"edge\">\n<title>11&#45;&gt;12</title>\n<path fill=\"none\" stroke=\"black\" d=\"M247,-215.7C247,-207.98 247,-198.71 247,-190.11\"/>\n<polygon fill=\"black\" stroke=\"black\" points=\"250.5,-190.1 247,-180.1 243.5,-190.1 250.5,-190.1\"/>\n</g>\n<!-- 13 -->\n<g id=\"node14\" class=\"node\">\n<title>13</title>\n<ellipse fill=\"none\" stroke=\"black\" cx=\"319\" cy=\"-162\" rx=\"27\" ry=\"18\"/>\n<text text-anchor=\"middle\" x=\"319\" y=\"-158.3\" font-family=\"Times,serif\" font-size=\"14.00\">4.50</text>\n</g>\n<!-- 11&#45;&gt;13 -->\n<g id=\"edge13\" class=\"edge\">\n<title>11&#45;&gt;13</title>\n<path fill=\"none\" stroke=\"black\" d=\"M261.57,-218.83C271.75,-208.94 285.52,-195.55 297.03,-184.36\"/>\n<polygon fill=\"black\" stroke=\"black\" points=\"299.47,-186.87 304.2,-177.38 294.59,-181.85 299.47,-186.87\"/>\n</g>\n</g>\n</svg>\n",
            "text/plain": [
              "<graphviz.graphs.Digraph at 0x7875fc795510>"
            ]
          },
          "metadata": {},
          "execution_count": 10
        }
      ]
    },
    {
      "cell_type": "markdown",
      "source": [
        "# Neural Networks"
      ],
      "metadata": {
        "id": "TLxTdiAJB9C7"
      }
    },
    {
      "cell_type": "code",
      "source": [
        "class Layer:\n",
        "\n",
        "    def __init__(self, nin, nout):\n",
        "        self.neurons = [Neuron(nin) for _ in range(nout)]\n",
        "\n",
        "    def __call__(self, x):\n",
        "        out = [n(x) for n in self.neurons]\n",
        "        # return out\n",
        "        return out[0] if len(out) == 1 else out"
      ],
      "metadata": {
        "id": "bnbu0kliB_7S"
      },
      "execution_count": null,
      "outputs": []
    },
    {
      "cell_type": "code",
      "source": [
        "L1 = Layer(3, 4)"
      ],
      "metadata": {
        "id": "EUqvXgicWu72"
      },
      "execution_count": null,
      "outputs": []
    },
    {
      "cell_type": "code",
      "source": [
        "L1"
      ],
      "metadata": {
        "colab": {
          "base_uri": "https://localhost:8080/"
        },
        "id": "z-NgIptiwWf4",
        "outputId": "2a8f7cd6-dfc3-4b9e-e3b3-ab9a399f2f29"
      },
      "execution_count": null,
      "outputs": [
        {
          "output_type": "execute_result",
          "data": {
            "text/plain": [
              "<__main__.Layer at 0x7875fc7965f0>"
            ]
          },
          "metadata": {},
          "execution_count": 13
        }
      ]
    },
    {
      "cell_type": "code",
      "source": [
        "L1(x)"
      ],
      "metadata": {
        "colab": {
          "base_uri": "https://localhost:8080/"
        },
        "id": "ePyuiMYbeHGb",
        "outputId": "67f9b0cc-73de-4aaf-9be0-5fd1fcb64871"
      },
      "execution_count": null,
      "outputs": [
        {
          "output_type": "execute_result",
          "data": {
            "text/plain": [
              "[Tensor(data=0.0),\n",
              " Tensor(data=0.0),\n",
              " Tensor(data=0.0),\n",
              " Tensor(data=6.337375836829024)]"
            ]
          },
          "metadata": {},
          "execution_count": 19
        }
      ]
    },
    {
      "cell_type": "code",
      "source": [
        "L2 = Layer(4, 2)\n",
        "L2(L1(x))"
      ],
      "metadata": {
        "colab": {
          "base_uri": "https://localhost:8080/"
        },
        "id": "4Qg-nVzDeOgH",
        "outputId": "ce268d36-8366-4bc1-fe67-8ccd8fac4160"
      },
      "execution_count": null,
      "outputs": [
        {
          "output_type": "execute_result",
          "data": {
            "text/plain": [
              "[Tensor(data=0.0), Tensor(data=0.47275809947563036)]"
            ]
          },
          "metadata": {},
          "execution_count": 20
        }
      ]
    },
    {
      "cell_type": "code",
      "source": [
        "L3 = Layer(2, 1)\n",
        "L3(L2(L1(x)))"
      ],
      "metadata": {
        "colab": {
          "base_uri": "https://localhost:8080/"
        },
        "id": "MwYoXjQxei43",
        "outputId": "2dddbc6a-5b52-42b5-b1a4-79c334d797d6"
      },
      "execution_count": null,
      "outputs": [
        {
          "output_type": "execute_result",
          "data": {
            "text/plain": [
              "[Tensor(data=0.5146807700797873)]"
            ]
          },
          "metadata": {},
          "execution_count": 21
        }
      ]
    },
    {
      "cell_type": "code",
      "source": [
        "MLP(3, [4, 2, 1])"
      ],
      "metadata": {
        "id": "5Qj3i4lJYPYS"
      },
      "execution_count": null,
      "outputs": []
    },
    {
      "cell_type": "code",
      "source": [
        "class MLP:\n",
        "\n",
        "    def __init__(self, nin, nouts):\n",
        "        sz = [nin] + nouts\n",
        "        self.layers = [Layer(sz[i], sz[i+1]) for i in range(len(nouts))]\n",
        "\n",
        "    def __call__(self, x):\n",
        "        for layer in self.layers:\n",
        "            x = layer(x)\n",
        "        return x"
      ],
      "metadata": {
        "id": "dkWIlpyBCzf4"
      },
      "execution_count": null,
      "outputs": []
    },
    {
      "cell_type": "code",
      "source": [
        "n = MLP(3,[4,2,1])"
      ],
      "metadata": {
        "id": "LwXAEpFFDoJH"
      },
      "execution_count": null,
      "outputs": []
    },
    {
      "cell_type": "code",
      "source": [
        "n(x)"
      ],
      "metadata": {
        "collapsed": true,
        "id": "gXX7lmcJGLRi",
        "colab": {
          "base_uri": "https://localhost:8080/"
        },
        "outputId": "d1fb1de2-9e65-4b4f-df72-7ce841f30c8f"
      },
      "execution_count": null,
      "outputs": [
        {
          "output_type": "execute_result",
          "data": {
            "text/plain": [
              "Tensor(data=0.25147559227182337)"
            ]
          },
          "metadata": {},
          "execution_count": 33
        }
      ]
    },
    {
      "cell_type": "code",
      "source": [
        "traverse_tensor(n(x))"
      ],
      "metadata": {
        "collapsed": true,
        "id": "Lgr8hV9PGNAQ",
        "colab": {
          "base_uri": "https://localhost:8080/"
        },
        "outputId": "ace5b0d9-1b16-4a5e-9388-096cada3dc88"
      },
      "execution_count": null,
      "outputs": [
        {
          "output_type": "stream",
          "name": "stdout",
          "text": [
            "Tensor(data=0.25)\n",
            "  Tensor(data=0.25)\n",
            "    Tensor(data=-0.35)\n",
            "      Tensor(data=0.50)\n",
            "      Tensor(data=-0.85)\n",
            "        Tensor(data=-0.33)\n",
            "        Tensor(data=2.61)\n",
            "          Tensor(data=2.61)\n",
            "            Tensor(data=2.61)\n",
            "              Tensor(data=2.29)\n",
            "                Tensor(data=0.12)\n",
            "                  Tensor(data=-0.12)\n",
            "                  Tensor(data=0.24)\n",
            "                    Tensor(data=0.33)\n",
            "                    Tensor(data=0.73)\n",
            "                      Tensor(data=0.73)\n",
            "                        Tensor(data=-3.11)\n",
            "                          Tensor(data=-1.73)\n",
            "                            Tensor(data=0.14)\n",
            "                            Tensor(data=-1.87)\n",
            "                              Tensor(data=-0.81)\n",
            "                              Tensor(data=2.30)\n",
            "                          Tensor(data=-1.38)\n",
            "                            Tensor(data=-0.41)\n",
            "                            Tensor(data=3.40)\n",
            "                        Tensor(data=3.85)\n",
            "                          Tensor(data=0.86)\n",
            "                          Tensor(data=4.50)\n",
            "                Tensor(data=2.17)\n",
            "                  Tensor(data=0.78)\n",
            "                  Tensor(data=2.80)\n",
            "                    Tensor(data=2.80)\n",
            "                      Tensor(data=0.63)\n",
            "                        Tensor(data=-1.10)\n",
            "                          Tensor(data=-0.90)\n",
            "                          Tensor(data=-0.20)\n",
            "                            Tensor(data=-0.09)\n",
            "                            Tensor(data=2.30)\n",
            "                        Tensor(data=1.72)\n",
            "                          Tensor(data=0.51)\n",
            "                          Tensor(data=3.40)\n",
            "                      Tensor(data=2.18)\n",
            "                        Tensor(data=0.48)\n",
            "                        Tensor(data=4.50)\n",
            "              Tensor(data=0.32)\n",
            "                Tensor(data=0.39)\n",
            "                Tensor(data=0.82)\n",
            "                  Tensor(data=0.82)\n",
            "                    Tensor(data=3.83)\n",
            "                      Tensor(data=1.52)\n",
            "                        Tensor(data=0.56)\n",
            "                        Tensor(data=0.96)\n",
            "                          Tensor(data=0.42)\n",
            "                          Tensor(data=2.30)\n",
            "                      Tensor(data=2.31)\n",
            "                        Tensor(data=0.68)\n",
            "                        Tensor(data=3.40)\n",
            "                    Tensor(data=-3.01)\n",
            "                      Tensor(data=-0.67)\n",
            "                      Tensor(data=4.50)\n",
            "            Tensor(data=-0.00)\n",
            "              Tensor(data=-0.12)\n",
            "              Tensor(data=0.00)\n",
            "                Tensor(data=-1.59)\n",
            "                  Tensor(data=-3.08)\n",
            "                    Tensor(data=-1.76)\n",
            "                      Tensor(data=-0.78)\n",
            "                      Tensor(data=-0.98)\n",
            "                        Tensor(data=-0.43)\n",
            "                        Tensor(data=2.30)\n",
            "                    Tensor(data=-1.32)\n",
            "                      Tensor(data=-0.39)\n",
            "                      Tensor(data=3.40)\n",
            "                  Tensor(data=1.49)\n",
            "                    Tensor(data=0.33)\n",
            "                    Tensor(data=4.50)\n",
            "    Tensor(data=0.60)\n",
            "      Tensor(data=0.86)\n",
            "      Tensor(data=0.70)\n",
            "        Tensor(data=0.70)\n",
            "          Tensor(data=0.70)\n",
            "            Tensor(data=1.39)\n",
            "              Tensor(data=1.02)\n",
            "                Tensor(data=0.63)\n",
            "                Tensor(data=0.39)\n",
            "                  Tensor(data=0.53)\n",
            "                  Tensor(data=0.73)\n",
            "                    Tensor(data=0.73)\n",
            "                      Tensor(data=-3.11)\n",
            "                        Tensor(data=-1.73)\n",
            "                          Tensor(data=0.14)\n",
            "                          Tensor(data=-1.87)\n",
            "                            Tensor(data=-0.81)\n",
            "                            Tensor(data=2.30)\n",
            "                        Tensor(data=-1.38)\n",
            "                          Tensor(data=-0.41)\n",
            "                          Tensor(data=3.40)\n",
            "                      Tensor(data=3.85)\n",
            "                        Tensor(data=0.86)\n",
            "                        Tensor(data=4.50)\n",
            "              Tensor(data=0.37)\n",
            "                Tensor(data=0.13)\n",
            "                Tensor(data=2.80)\n",
            "                  Tensor(data=2.80)\n",
            "                    Tensor(data=0.63)\n",
            "                      Tensor(data=-1.10)\n",
            "                        Tensor(data=-0.90)\n",
            "                        Tensor(data=-0.20)\n",
            "                          Tensor(data=-0.09)\n",
            "                          Tensor(data=2.30)\n",
            "                      Tensor(data=1.72)\n",
            "                        Tensor(data=0.51)\n",
            "                        Tensor(data=3.40)\n",
            "                    Tensor(data=2.18)\n",
            "                      Tensor(data=0.48)\n",
            "                      Tensor(data=4.50)\n",
            "            Tensor(data=-0.68)\n",
            "              Tensor(data=-0.83)\n",
            "              Tensor(data=0.82)\n",
            "                Tensor(data=0.82)\n",
            "                  Tensor(data=3.83)\n",
            "                    Tensor(data=1.52)\n",
            "                      Tensor(data=0.56)\n",
            "                      Tensor(data=0.96)\n",
            "                        Tensor(data=0.42)\n",
            "                        Tensor(data=2.30)\n",
            "                    Tensor(data=2.31)\n",
            "                      Tensor(data=0.68)\n",
            "                      Tensor(data=3.40)\n",
            "                  Tensor(data=-3.01)\n",
            "                    Tensor(data=-0.67)\n",
            "                    Tensor(data=4.50)\n",
            "          Tensor(data=0.00)\n",
            "            Tensor(data=0.17)\n",
            "            Tensor(data=0.00)\n",
            "              Tensor(data=-1.59)\n",
            "                Tensor(data=-3.08)\n",
            "                  Tensor(data=-1.76)\n",
            "                    Tensor(data=-0.78)\n",
            "                    Tensor(data=-0.98)\n",
            "                      Tensor(data=-0.43)\n",
            "                      Tensor(data=2.30)\n",
            "                  Tensor(data=-1.32)\n",
            "                    Tensor(data=-0.39)\n",
            "                    Tensor(data=3.40)\n",
            "                Tensor(data=1.49)\n",
            "                  Tensor(data=0.33)\n",
            "                  Tensor(data=4.50)\n"
          ]
        }
      ]
    },
    {
      "cell_type": "code",
      "source": [
        "plot_tensor_tree(n(x))"
      ],
      "metadata": {
        "collapsed": true,
        "id": "NQ7gdfczGTJs",
        "colab": {
          "base_uri": "https://localhost:8080/",
          "height": 1000
        },
        "outputId": "e0036f96-e288-4685-cd14-220aa24b6bdf"
      },
      "execution_count": null,
      "outputs": [
        {
          "output_type": "execute_result",
          "data": {
            "image/svg+xml": "<?xml version=\"1.0\" encoding=\"UTF-8\" standalone=\"no\"?>\n<!DOCTYPE svg PUBLIC \"-//W3C//DTD SVG 1.1//EN\"\n \"http://www.w3.org/Graphics/SVG/1.1/DTD/svg11.dtd\">\n<!-- Generated by graphviz version 2.43.0 (0)\n -->\n<!-- Title: %3 Pages: 1 -->\n<svg width=\"2622pt\" height=\"1124pt\"\n viewBox=\"0.00 0.00 2622.00 1124.00\" xmlns=\"http://www.w3.org/2000/svg\" xmlns:xlink=\"http://www.w3.org/1999/xlink\">\n<g id=\"graph0\" class=\"graph\" transform=\"scale(1 1) rotate(0) translate(4 1120)\">\n<title>%3</title>\n<polygon fill=\"white\" stroke=\"transparent\" points=\"-4,4 -4,-1120 2618,-1120 2618,4 -4,4\"/>\n<!-- 0 -->\n<g id=\"node1\" class=\"node\">\n<title>0</title>\n<ellipse fill=\"none\" stroke=\"black\" cx=\"1361\" cy=\"-1098\" rx=\"27\" ry=\"18\"/>\n<text text-anchor=\"middle\" x=\"1361\" y=\"-1094.3\" font-family=\"Times,serif\" font-size=\"14.00\">0.25</text>\n</g>\n<!-- 1 -->\n<g id=\"node2\" class=\"node\">\n<title>1</title>\n<ellipse fill=\"none\" stroke=\"black\" cx=\"1361\" cy=\"-1026\" rx=\"27\" ry=\"18\"/>\n<text text-anchor=\"middle\" x=\"1361\" y=\"-1022.3\" font-family=\"Times,serif\" font-size=\"14.00\">0.25</text>\n</g>\n<!-- 0&#45;&gt;1 -->\n<g id=\"edge1\" class=\"edge\">\n<title>0&#45;&gt;1</title>\n<path fill=\"none\" stroke=\"black\" d=\"M1361,-1079.7C1361,-1071.98 1361,-1062.71 1361,-1054.11\"/>\n<polygon fill=\"black\" stroke=\"black\" points=\"1364.5,-1054.1 1361,-1044.1 1357.5,-1054.1 1364.5,-1054.1\"/>\n</g>\n<!-- 2 -->\n<g id=\"node3\" class=\"node\">\n<title>2</title>\n<ellipse fill=\"none\" stroke=\"black\" cx=\"1324\" cy=\"-954\" rx=\"29.5\" ry=\"18\"/>\n<text text-anchor=\"middle\" x=\"1324\" y=\"-950.3\" font-family=\"Times,serif\" font-size=\"14.00\">&#45;0.35</text>\n</g>\n<!-- 1&#45;&gt;2 -->\n<g id=\"edge2\" class=\"edge\">\n<title>1&#45;&gt;2</title>\n<path fill=\"none\" stroke=\"black\" d=\"M1352.42,-1008.76C1348,-1000.4 1342.51,-990.02 1337.53,-980.61\"/>\n<polygon fill=\"black\" stroke=\"black\" points=\"1340.56,-978.84 1332.79,-971.63 1334.37,-982.11 1340.56,-978.84\"/>\n</g>\n<!-- 76 -->\n<g id=\"node77\" class=\"node\">\n<title>76</title>\n<ellipse fill=\"none\" stroke=\"black\" cx=\"1482\" cy=\"-954\" rx=\"27\" ry=\"18\"/>\n<text text-anchor=\"middle\" x=\"1482\" y=\"-950.3\" font-family=\"Times,serif\" font-size=\"14.00\">0.60</text>\n</g>\n<!-- 1&#45;&gt;76 -->\n<g id=\"edge76\" class=\"edge\">\n<title>1&#45;&gt;76</title>\n<path fill=\"none\" stroke=\"black\" d=\"M1380.71,-1013.6C1400.49,-1002.16 1431.15,-984.42 1453.56,-971.46\"/>\n<polygon fill=\"black\" stroke=\"black\" points=\"1455.4,-974.43 1462.3,-966.4 1451.89,-968.38 1455.4,-974.43\"/>\n</g>\n<!-- 3 -->\n<g id=\"node4\" class=\"node\">\n<title>3</title>\n<ellipse fill=\"none\" stroke=\"black\" cx=\"1250\" cy=\"-882\" rx=\"27\" ry=\"18\"/>\n<text text-anchor=\"middle\" x=\"1250\" y=\"-878.3\" font-family=\"Times,serif\" font-size=\"14.00\">0.50</text>\n</g>\n<!-- 2&#45;&gt;3 -->\n<g id=\"edge3\" class=\"edge\">\n<title>2&#45;&gt;3</title>\n<path fill=\"none\" stroke=\"black\" d=\"M1308.67,-938.5C1298.18,-928.58 1284.11,-915.26 1272.37,-904.16\"/>\n<polygon fill=\"black\" stroke=\"black\" points=\"1274.73,-901.58 1265.06,-897.25 1269.92,-906.66 1274.73,-901.58\"/>\n</g>\n<!-- 4 -->\n<g id=\"node5\" class=\"node\">\n<title>4</title>\n<ellipse fill=\"none\" stroke=\"black\" cx=\"1324\" cy=\"-882\" rx=\"29.5\" ry=\"18\"/>\n<text text-anchor=\"middle\" x=\"1324\" y=\"-878.3\" font-family=\"Times,serif\" font-size=\"14.00\">&#45;0.85</text>\n</g>\n<!-- 2&#45;&gt;4 -->\n<g id=\"edge4\" class=\"edge\">\n<title>2&#45;&gt;4</title>\n<path fill=\"none\" stroke=\"black\" d=\"M1324,-935.7C1324,-927.98 1324,-918.71 1324,-910.11\"/>\n<polygon fill=\"black\" stroke=\"black\" points=\"1327.5,-910.1 1324,-900.1 1320.5,-910.1 1327.5,-910.1\"/>\n</g>\n<!-- 5 -->\n<g id=\"node6\" class=\"node\">\n<title>5</title>\n<ellipse fill=\"none\" stroke=\"black\" cx=\"1250\" cy=\"-810\" rx=\"29.5\" ry=\"18\"/>\n<text text-anchor=\"middle\" x=\"1250\" y=\"-806.3\" font-family=\"Times,serif\" font-size=\"14.00\">&#45;0.33</text>\n</g>\n<!-- 4&#45;&gt;5 -->\n<g id=\"edge5\" class=\"edge\">\n<title>4&#45;&gt;5</title>\n<path fill=\"none\" stroke=\"black\" d=\"M1308.67,-866.5C1298.25,-856.64 1284.29,-843.44 1272.61,-832.38\"/>\n<polygon fill=\"black\" stroke=\"black\" points=\"1274.98,-829.81 1265.31,-825.49 1270.17,-834.9 1274.98,-829.81\"/>\n</g>\n<!-- 6 -->\n<g id=\"node7\" class=\"node\">\n<title>6</title>\n<ellipse fill=\"none\" stroke=\"black\" cx=\"1324\" cy=\"-810\" rx=\"27\" ry=\"18\"/>\n<text text-anchor=\"middle\" x=\"1324\" y=\"-806.3\" font-family=\"Times,serif\" font-size=\"14.00\">2.61</text>\n</g>\n<!-- 4&#45;&gt;6 -->\n<g id=\"edge6\" class=\"edge\">\n<title>4&#45;&gt;6</title>\n<path fill=\"none\" stroke=\"black\" d=\"M1324,-863.7C1324,-855.98 1324,-846.71 1324,-838.11\"/>\n<polygon fill=\"black\" stroke=\"black\" points=\"1327.5,-838.1 1324,-828.1 1320.5,-838.1 1327.5,-838.1\"/>\n</g>\n<!-- 7 -->\n<g id=\"node8\" class=\"node\">\n<title>7</title>\n<ellipse fill=\"none\" stroke=\"black\" cx=\"1281\" cy=\"-738\" rx=\"27\" ry=\"18\"/>\n<text text-anchor=\"middle\" x=\"1281\" y=\"-734.3\" font-family=\"Times,serif\" font-size=\"14.00\">2.61</text>\n</g>\n<!-- 6&#45;&gt;7 -->\n<g id=\"edge7\" class=\"edge\">\n<title>6&#45;&gt;7</title>\n<path fill=\"none\" stroke=\"black\" d=\"M1314.24,-793.12C1308.85,-784.34 1302.05,-773.26 1296,-763.42\"/>\n<polygon fill=\"black\" stroke=\"black\" points=\"1298.94,-761.51 1290.72,-754.82 1292.97,-765.17 1298.94,-761.51\"/>\n</g>\n<!-- 8 -->\n<g id=\"node9\" class=\"node\">\n<title>8</title>\n<ellipse fill=\"none\" stroke=\"black\" cx=\"908\" cy=\"-666\" rx=\"27\" ry=\"18\"/>\n<text text-anchor=\"middle\" x=\"908\" y=\"-662.3\" font-family=\"Times,serif\" font-size=\"14.00\">2.61</text>\n</g>\n<!-- 7&#45;&gt;8 -->\n<g id=\"edge8\" class=\"edge\">\n<title>7&#45;&gt;8</title>\n<path fill=\"none\" stroke=\"black\" d=\"M1255.36,-732.19C1190.28,-719.98 1018.55,-687.75 943.71,-673.7\"/>\n<polygon fill=\"black\" stroke=\"black\" points=\"944.29,-670.25 933.82,-671.85 943,-677.13 944.29,-670.25\"/>\n</g>\n<!-- 60 -->\n<g id=\"node61\" class=\"node\">\n<title>60</title>\n<ellipse fill=\"none\" stroke=\"black\" cx=\"1281\" cy=\"-666\" rx=\"29.5\" ry=\"18\"/>\n<text text-anchor=\"middle\" x=\"1281\" y=\"-662.3\" font-family=\"Times,serif\" font-size=\"14.00\">&#45;0.00</text>\n</g>\n<!-- 7&#45;&gt;60 -->\n<g id=\"edge60\" class=\"edge\">\n<title>7&#45;&gt;60</title>\n<path fill=\"none\" stroke=\"black\" d=\"M1281,-719.7C1281,-711.98 1281,-702.71 1281,-694.11\"/>\n<polygon fill=\"black\" stroke=\"black\" points=\"1284.5,-694.1 1281,-684.1 1277.5,-694.1 1284.5,-694.1\"/>\n</g>\n<!-- 9 -->\n<g id=\"node10\" class=\"node\">\n<title>9</title>\n<ellipse fill=\"none\" stroke=\"black\" cx=\"547\" cy=\"-594\" rx=\"27\" ry=\"18\"/>\n<text text-anchor=\"middle\" x=\"547\" y=\"-590.3\" font-family=\"Times,serif\" font-size=\"14.00\">2.29</text>\n</g>\n<!-- 8&#45;&gt;9 -->\n<g id=\"edge9\" class=\"edge\">\n<title>8&#45;&gt;9</title>\n<path fill=\"none\" stroke=\"black\" d=\"M882.33,-660.02C819.07,-647.76 655.59,-616.06 582.84,-601.95\"/>\n<polygon fill=\"black\" stroke=\"black\" points=\"583.27,-598.47 572.78,-600 581.93,-605.34 583.27,-598.47\"/>\n</g>\n<!-- 44 -->\n<g id=\"node45\" class=\"node\">\n<title>44</title>\n<ellipse fill=\"none\" stroke=\"black\" cx=\"908\" cy=\"-594\" rx=\"27\" ry=\"18\"/>\n<text text-anchor=\"middle\" x=\"908\" y=\"-590.3\" font-family=\"Times,serif\" font-size=\"14.00\">0.32</text>\n</g>\n<!-- 8&#45;&gt;44 -->\n<g id=\"edge44\" class=\"edge\">\n<title>8&#45;&gt;44</title>\n<path fill=\"none\" stroke=\"black\" d=\"M908,-647.7C908,-639.98 908,-630.71 908,-622.11\"/>\n<polygon fill=\"black\" stroke=\"black\" points=\"911.5,-622.1 908,-612.1 904.5,-622.1 911.5,-622.1\"/>\n</g>\n<!-- 10 -->\n<g id=\"node11\" class=\"node\">\n<title>10</title>\n<ellipse fill=\"none\" stroke=\"black\" cx=\"363\" cy=\"-522\" rx=\"27\" ry=\"18\"/>\n<text text-anchor=\"middle\" x=\"363\" y=\"-518.3\" font-family=\"Times,serif\" font-size=\"14.00\">0.12</text>\n</g>\n<!-- 9&#45;&gt;10 -->\n<g id=\"edge10\" class=\"edge\">\n<title>9&#45;&gt;10</title>\n<path fill=\"none\" stroke=\"black\" d=\"M524.07,-584.28C491.75,-571.98 432.64,-549.49 395.72,-535.45\"/>\n<polygon fill=\"black\" stroke=\"black\" points=\"396.52,-532.01 385.93,-531.72 394.03,-538.55 396.52,-532.01\"/>\n</g>\n<!-- 28 -->\n<g id=\"node29\" class=\"node\">\n<title>28</title>\n<ellipse fill=\"none\" stroke=\"black\" cx=\"547\" cy=\"-522\" rx=\"27\" ry=\"18\"/>\n<text text-anchor=\"middle\" x=\"547\" y=\"-518.3\" font-family=\"Times,serif\" font-size=\"14.00\">2.17</text>\n</g>\n<!-- 9&#45;&gt;28 -->\n<g id=\"edge28\" class=\"edge\">\n<title>9&#45;&gt;28</title>\n<path fill=\"none\" stroke=\"black\" d=\"M547,-575.7C547,-567.98 547,-558.71 547,-550.11\"/>\n<polygon fill=\"black\" stroke=\"black\" points=\"550.5,-550.1 547,-540.1 543.5,-550.1 550.5,-550.1\"/>\n</g>\n<!-- 11 -->\n<g id=\"node12\" class=\"node\">\n<title>11</title>\n<ellipse fill=\"none\" stroke=\"black\" cx=\"289\" cy=\"-450\" rx=\"29.5\" ry=\"18\"/>\n<text text-anchor=\"middle\" x=\"289\" y=\"-446.3\" font-family=\"Times,serif\" font-size=\"14.00\">&#45;0.12</text>\n</g>\n<!-- 10&#45;&gt;11 -->\n<g id=\"edge11\" class=\"edge\">\n<title>10&#45;&gt;11</title>\n<path fill=\"none\" stroke=\"black\" d=\"M348.02,-506.83C337.56,-496.94 323.41,-483.55 311.58,-472.36\"/>\n<polygon fill=\"black\" stroke=\"black\" points=\"313.88,-469.71 304.21,-465.38 309.07,-474.8 313.88,-469.71\"/>\n</g>\n<!-- 12 -->\n<g id=\"node13\" class=\"node\">\n<title>12</title>\n<ellipse fill=\"none\" stroke=\"black\" cx=\"363\" cy=\"-450\" rx=\"27\" ry=\"18\"/>\n<text text-anchor=\"middle\" x=\"363\" y=\"-446.3\" font-family=\"Times,serif\" font-size=\"14.00\">0.24</text>\n</g>\n<!-- 10&#45;&gt;12 -->\n<g id=\"edge12\" class=\"edge\">\n<title>10&#45;&gt;12</title>\n<path fill=\"none\" stroke=\"black\" d=\"M363,-503.7C363,-495.98 363,-486.71 363,-478.11\"/>\n<polygon fill=\"black\" stroke=\"black\" points=\"366.5,-478.1 363,-468.1 359.5,-478.1 366.5,-478.1\"/>\n</g>\n<!-- 13 -->\n<g id=\"node14\" class=\"node\">\n<title>13</title>\n<ellipse fill=\"none\" stroke=\"black\" cx=\"291\" cy=\"-378\" rx=\"27\" ry=\"18\"/>\n<text text-anchor=\"middle\" x=\"291\" y=\"-374.3\" font-family=\"Times,serif\" font-size=\"14.00\">0.33</text>\n</g>\n<!-- 12&#45;&gt;13 -->\n<g id=\"edge13\" class=\"edge\">\n<title>12&#45;&gt;13</title>\n<path fill=\"none\" stroke=\"black\" d=\"M348.43,-434.83C338.25,-424.94 324.48,-411.55 312.97,-400.36\"/>\n<polygon fill=\"black\" stroke=\"black\" points=\"315.41,-397.85 305.8,-393.38 310.53,-402.87 315.41,-397.85\"/>\n</g>\n<!-- 14 -->\n<g id=\"node15\" class=\"node\">\n<title>14</title>\n<ellipse fill=\"none\" stroke=\"black\" cx=\"363\" cy=\"-378\" rx=\"27\" ry=\"18\"/>\n<text text-anchor=\"middle\" x=\"363\" y=\"-374.3\" font-family=\"Times,serif\" font-size=\"14.00\">0.73</text>\n</g>\n<!-- 12&#45;&gt;14 -->\n<g id=\"edge14\" class=\"edge\">\n<title>12&#45;&gt;14</title>\n<path fill=\"none\" stroke=\"black\" d=\"M363,-431.7C363,-423.98 363,-414.71 363,-406.11\"/>\n<polygon fill=\"black\" stroke=\"black\" points=\"366.5,-406.1 363,-396.1 359.5,-406.1 366.5,-406.1\"/>\n</g>\n<!-- 15 -->\n<g id=\"node16\" class=\"node\">\n<title>15</title>\n<ellipse fill=\"none\" stroke=\"black\" cx=\"287\" cy=\"-306\" rx=\"27\" ry=\"18\"/>\n<text text-anchor=\"middle\" x=\"287\" y=\"-302.3\" font-family=\"Times,serif\" font-size=\"14.00\">0.73</text>\n</g>\n<!-- 14&#45;&gt;15 -->\n<g id=\"edge15\" class=\"edge\">\n<title>14&#45;&gt;15</title>\n<path fill=\"none\" stroke=\"black\" d=\"M347.62,-362.83C336.8,-352.87 322.14,-339.37 309.95,-328.14\"/>\n<polygon fill=\"black\" stroke=\"black\" points=\"312.08,-325.34 302.36,-321.14 307.34,-330.49 312.08,-325.34\"/>\n</g>\n<!-- 16 -->\n<g id=\"node17\" class=\"node\">\n<title>16</title>\n<ellipse fill=\"none\" stroke=\"black\" cx=\"177\" cy=\"-234\" rx=\"29.5\" ry=\"18\"/>\n<text text-anchor=\"middle\" x=\"177\" y=\"-230.3\" font-family=\"Times,serif\" font-size=\"14.00\">&#45;3.11</text>\n</g>\n<!-- 15&#45;&gt;16 -->\n<g id=\"edge16\" class=\"edge\">\n<title>15&#45;&gt;16</title>\n<path fill=\"none\" stroke=\"black\" d=\"M267.84,-292.81C250.54,-281.8 224.88,-265.47 205.23,-252.97\"/>\n<polygon fill=\"black\" stroke=\"black\" points=\"207,-249.94 196.68,-247.52 203.24,-255.85 207,-249.94\"/>\n</g>\n<!-- 25 -->\n<g id=\"node26\" class=\"node\">\n<title>25</title>\n<ellipse fill=\"none\" stroke=\"black\" cx=\"287\" cy=\"-234\" rx=\"27\" ry=\"18\"/>\n<text text-anchor=\"middle\" x=\"287\" y=\"-230.3\" font-family=\"Times,serif\" font-size=\"14.00\">3.85</text>\n</g>\n<!-- 15&#45;&gt;25 -->\n<g id=\"edge25\" class=\"edge\">\n<title>15&#45;&gt;25</title>\n<path fill=\"none\" stroke=\"black\" d=\"M287,-287.7C287,-279.98 287,-270.71 287,-262.11\"/>\n<polygon fill=\"black\" stroke=\"black\" points=\"290.5,-262.1 287,-252.1 283.5,-262.1 290.5,-262.1\"/>\n</g>\n<!-- 17 -->\n<g id=\"node18\" class=\"node\">\n<title>17</title>\n<ellipse fill=\"none\" stroke=\"black\" cx=\"101\" cy=\"-162\" rx=\"29.5\" ry=\"18\"/>\n<text text-anchor=\"middle\" x=\"101\" y=\"-158.3\" font-family=\"Times,serif\" font-size=\"14.00\">&#45;1.73</text>\n</g>\n<!-- 16&#45;&gt;17 -->\n<g id=\"edge17\" class=\"edge\">\n<title>16&#45;&gt;17</title>\n<path fill=\"none\" stroke=\"black\" d=\"M161.25,-218.5C150.55,-208.64 136.22,-195.44 124.22,-184.38\"/>\n<polygon fill=\"black\" stroke=\"black\" points=\"126.45,-181.69 116.73,-177.49 121.71,-186.83 126.45,-181.69\"/>\n</g>\n<!-- 22 -->\n<g id=\"node23\" class=\"node\">\n<title>22</title>\n<ellipse fill=\"none\" stroke=\"black\" cx=\"177\" cy=\"-162\" rx=\"29.5\" ry=\"18\"/>\n<text text-anchor=\"middle\" x=\"177\" y=\"-158.3\" font-family=\"Times,serif\" font-size=\"14.00\">&#45;1.38</text>\n</g>\n<!-- 16&#45;&gt;22 -->\n<g id=\"edge22\" class=\"edge\">\n<title>16&#45;&gt;22</title>\n<path fill=\"none\" stroke=\"black\" d=\"M177,-215.7C177,-207.98 177,-198.71 177,-190.11\"/>\n<polygon fill=\"black\" stroke=\"black\" points=\"180.5,-190.1 177,-180.1 173.5,-190.1 180.5,-190.1\"/>\n</g>\n<!-- 18 -->\n<g id=\"node19\" class=\"node\">\n<title>18</title>\n<ellipse fill=\"none\" stroke=\"black\" cx=\"27\" cy=\"-90\" rx=\"27\" ry=\"18\"/>\n<text text-anchor=\"middle\" x=\"27\" y=\"-86.3\" font-family=\"Times,serif\" font-size=\"14.00\">0.14</text>\n</g>\n<!-- 17&#45;&gt;18 -->\n<g id=\"edge18\" class=\"edge\">\n<title>17&#45;&gt;18</title>\n<path fill=\"none\" stroke=\"black\" d=\"M85.67,-146.5C75.18,-136.58 61.11,-123.26 49.37,-112.16\"/>\n<polygon fill=\"black\" stroke=\"black\" points=\"51.73,-109.58 42.06,-105.25 46.92,-114.66 51.73,-109.58\"/>\n</g>\n<!-- 19 -->\n<g id=\"node20\" class=\"node\">\n<title>19</title>\n<ellipse fill=\"none\" stroke=\"black\" cx=\"101\" cy=\"-90\" rx=\"29.5\" ry=\"18\"/>\n<text text-anchor=\"middle\" x=\"101\" y=\"-86.3\" font-family=\"Times,serif\" font-size=\"14.00\">&#45;1.87</text>\n</g>\n<!-- 17&#45;&gt;19 -->\n<g id=\"edge19\" class=\"edge\">\n<title>17&#45;&gt;19</title>\n<path fill=\"none\" stroke=\"black\" d=\"M101,-143.7C101,-135.98 101,-126.71 101,-118.11\"/>\n<polygon fill=\"black\" stroke=\"black\" points=\"104.5,-118.1 101,-108.1 97.5,-118.1 104.5,-118.1\"/>\n</g>\n<!-- 20 -->\n<g id=\"node21\" class=\"node\">\n<title>20</title>\n<ellipse fill=\"none\" stroke=\"black\" cx=\"64\" cy=\"-18\" rx=\"29.5\" ry=\"18\"/>\n<text text-anchor=\"middle\" x=\"64\" y=\"-14.3\" font-family=\"Times,serif\" font-size=\"14.00\">&#45;0.81</text>\n</g>\n<!-- 19&#45;&gt;20 -->\n<g id=\"edge20\" class=\"edge\">\n<title>19&#45;&gt;20</title>\n<path fill=\"none\" stroke=\"black\" d=\"M92.42,-72.76C88,-64.4 82.51,-54.02 77.53,-44.61\"/>\n<polygon fill=\"black\" stroke=\"black\" points=\"80.56,-42.84 72.79,-35.63 74.37,-46.11 80.56,-42.84\"/>\n</g>\n<!-- 21 -->\n<g id=\"node22\" class=\"node\">\n<title>21</title>\n<ellipse fill=\"none\" stroke=\"black\" cx=\"138\" cy=\"-18\" rx=\"27\" ry=\"18\"/>\n<text text-anchor=\"middle\" x=\"138\" y=\"-14.3\" font-family=\"Times,serif\" font-size=\"14.00\">2.30</text>\n</g>\n<!-- 19&#45;&gt;21 -->\n<g id=\"edge21\" class=\"edge\">\n<title>19&#45;&gt;21</title>\n<path fill=\"none\" stroke=\"black\" d=\"M109.58,-72.76C114.06,-64.28 119.65,-53.71 124.68,-44.2\"/>\n<polygon fill=\"black\" stroke=\"black\" points=\"127.89,-45.62 129.46,-35.15 121.7,-42.35 127.89,-45.62\"/>\n</g>\n<!-- 23 -->\n<g id=\"node24\" class=\"node\">\n<title>23</title>\n<ellipse fill=\"none\" stroke=\"black\" cx=\"177\" cy=\"-90\" rx=\"29.5\" ry=\"18\"/>\n<text text-anchor=\"middle\" x=\"177\" y=\"-86.3\" font-family=\"Times,serif\" font-size=\"14.00\">&#45;0.41</text>\n</g>\n<!-- 22&#45;&gt;23 -->\n<g id=\"edge23\" class=\"edge\">\n<title>22&#45;&gt;23</title>\n<path fill=\"none\" stroke=\"black\" d=\"M177,-143.7C177,-135.98 177,-126.71 177,-118.11\"/>\n<polygon fill=\"black\" stroke=\"black\" points=\"180.5,-118.1 177,-108.1 173.5,-118.1 180.5,-118.1\"/>\n</g>\n<!-- 24 -->\n<g id=\"node25\" class=\"node\">\n<title>24</title>\n<ellipse fill=\"none\" stroke=\"black\" cx=\"251\" cy=\"-90\" rx=\"27\" ry=\"18\"/>\n<text text-anchor=\"middle\" x=\"251\" y=\"-86.3\" font-family=\"Times,serif\" font-size=\"14.00\">3.40</text>\n</g>\n<!-- 22&#45;&gt;24 -->\n<g id=\"edge24\" class=\"edge\">\n<title>22&#45;&gt;24</title>\n<path fill=\"none\" stroke=\"black\" d=\"M192.33,-146.5C202.82,-136.58 216.89,-123.26 228.63,-112.16\"/>\n<polygon fill=\"black\" stroke=\"black\" points=\"231.08,-114.66 235.94,-105.25 226.27,-109.58 231.08,-114.66\"/>\n</g>\n<!-- 26 -->\n<g id=\"node27\" class=\"node\">\n<title>26</title>\n<ellipse fill=\"none\" stroke=\"black\" cx=\"251\" cy=\"-162\" rx=\"27\" ry=\"18\"/>\n<text text-anchor=\"middle\" x=\"251\" y=\"-158.3\" font-family=\"Times,serif\" font-size=\"14.00\">0.86</text>\n</g>\n<!-- 25&#45;&gt;26 -->\n<g id=\"edge26\" class=\"edge\">\n<title>25&#45;&gt;26</title>\n<path fill=\"none\" stroke=\"black\" d=\"M278.65,-216.76C274.29,-208.28 268.85,-197.71 263.96,-188.2\"/>\n<polygon fill=\"black\" stroke=\"black\" points=\"266.99,-186.44 259.3,-179.15 260.77,-189.64 266.99,-186.44\"/>\n</g>\n<!-- 27 -->\n<g id=\"node28\" class=\"node\">\n<title>27</title>\n<ellipse fill=\"none\" stroke=\"black\" cx=\"323\" cy=\"-162\" rx=\"27\" ry=\"18\"/>\n<text text-anchor=\"middle\" x=\"323\" y=\"-158.3\" font-family=\"Times,serif\" font-size=\"14.00\">4.50</text>\n</g>\n<!-- 25&#45;&gt;27 -->\n<g id=\"edge27\" class=\"edge\">\n<title>25&#45;&gt;27</title>\n<path fill=\"none\" stroke=\"black\" d=\"M295.35,-216.76C299.71,-208.28 305.15,-197.71 310.04,-188.2\"/>\n<polygon fill=\"black\" stroke=\"black\" points=\"313.23,-189.64 314.7,-179.15 307.01,-186.44 313.23,-189.64\"/>\n</g>\n<!-- 29 -->\n<g id=\"node30\" class=\"node\">\n<title>29</title>\n<ellipse fill=\"none\" stroke=\"black\" cx=\"511\" cy=\"-450\" rx=\"27\" ry=\"18\"/>\n<text text-anchor=\"middle\" x=\"511\" y=\"-446.3\" font-family=\"Times,serif\" font-size=\"14.00\">0.78</text>\n</g>\n<!-- 28&#45;&gt;29 -->\n<g id=\"edge29\" class=\"edge\">\n<title>28&#45;&gt;29</title>\n<path fill=\"none\" stroke=\"black\" d=\"M538.65,-504.76C534.29,-496.28 528.85,-485.71 523.96,-476.2\"/>\n<polygon fill=\"black\" stroke=\"black\" points=\"526.99,-474.44 519.3,-467.15 520.77,-477.64 526.99,-474.44\"/>\n</g>\n<!-- 30 -->\n<g id=\"node31\" class=\"node\">\n<title>30</title>\n<ellipse fill=\"none\" stroke=\"black\" cx=\"583\" cy=\"-450\" rx=\"27\" ry=\"18\"/>\n<text text-anchor=\"middle\" x=\"583\" y=\"-446.3\" font-family=\"Times,serif\" font-size=\"14.00\">2.80</text>\n</g>\n<!-- 28&#45;&gt;30 -->\n<g id=\"edge30\" class=\"edge\">\n<title>28&#45;&gt;30</title>\n<path fill=\"none\" stroke=\"black\" d=\"M555.35,-504.76C559.71,-496.28 565.15,-485.71 570.04,-476.2\"/>\n<polygon fill=\"black\" stroke=\"black\" points=\"573.23,-477.64 574.7,-467.15 567.01,-474.44 573.23,-477.64\"/>\n</g>\n<!-- 31 -->\n<g id=\"node32\" class=\"node\">\n<title>31</title>\n<ellipse fill=\"none\" stroke=\"black\" cx=\"583\" cy=\"-378\" rx=\"27\" ry=\"18\"/>\n<text text-anchor=\"middle\" x=\"583\" y=\"-374.3\" font-family=\"Times,serif\" font-size=\"14.00\">2.80</text>\n</g>\n<!-- 30&#45;&gt;31 -->\n<g id=\"edge31\" class=\"edge\">\n<title>30&#45;&gt;31</title>\n<path fill=\"none\" stroke=\"black\" d=\"M583,-431.7C583,-423.98 583,-414.71 583,-406.11\"/>\n<polygon fill=\"black\" stroke=\"black\" points=\"586.5,-406.1 583,-396.1 579.5,-406.1 586.5,-406.1\"/>\n</g>\n<!-- 32 -->\n<g id=\"node33\" class=\"node\">\n<title>32</title>\n<ellipse fill=\"none\" stroke=\"black\" cx=\"547\" cy=\"-306\" rx=\"27\" ry=\"18\"/>\n<text text-anchor=\"middle\" x=\"547\" y=\"-302.3\" font-family=\"Times,serif\" font-size=\"14.00\">0.63</text>\n</g>\n<!-- 31&#45;&gt;32 -->\n<g id=\"edge32\" class=\"edge\">\n<title>31&#45;&gt;32</title>\n<path fill=\"none\" stroke=\"black\" d=\"M574.65,-360.76C570.29,-352.28 564.85,-341.71 559.96,-332.2\"/>\n<polygon fill=\"black\" stroke=\"black\" points=\"562.99,-330.44 555.3,-323.15 556.77,-333.64 562.99,-330.44\"/>\n</g>\n<!-- 41 -->\n<g id=\"node42\" class=\"node\">\n<title>41</title>\n<ellipse fill=\"none\" stroke=\"black\" cx=\"619\" cy=\"-306\" rx=\"27\" ry=\"18\"/>\n<text text-anchor=\"middle\" x=\"619\" y=\"-302.3\" font-family=\"Times,serif\" font-size=\"14.00\">2.18</text>\n</g>\n<!-- 31&#45;&gt;41 -->\n<g id=\"edge41\" class=\"edge\">\n<title>31&#45;&gt;41</title>\n<path fill=\"none\" stroke=\"black\" d=\"M591.35,-360.76C595.71,-352.28 601.15,-341.71 606.04,-332.2\"/>\n<polygon fill=\"black\" stroke=\"black\" points=\"609.23,-333.64 610.7,-323.15 603.01,-330.44 609.23,-333.64\"/>\n</g>\n<!-- 33 -->\n<g id=\"node34\" class=\"node\">\n<title>33</title>\n<ellipse fill=\"none\" stroke=\"black\" cx=\"473\" cy=\"-234\" rx=\"29.5\" ry=\"18\"/>\n<text text-anchor=\"middle\" x=\"473\" y=\"-230.3\" font-family=\"Times,serif\" font-size=\"14.00\">&#45;1.10</text>\n</g>\n<!-- 32&#45;&gt;33 -->\n<g id=\"edge33\" class=\"edge\">\n<title>32&#45;&gt;33</title>\n<path fill=\"none\" stroke=\"black\" d=\"M532.02,-290.83C521.56,-280.94 507.41,-267.55 495.58,-256.36\"/>\n<polygon fill=\"black\" stroke=\"black\" points=\"497.88,-253.71 488.21,-249.38 493.07,-258.8 497.88,-253.71\"/>\n</g>\n<!-- 38 -->\n<g id=\"node39\" class=\"node\">\n<title>38</title>\n<ellipse fill=\"none\" stroke=\"black\" cx=\"547\" cy=\"-234\" rx=\"27\" ry=\"18\"/>\n<text text-anchor=\"middle\" x=\"547\" y=\"-230.3\" font-family=\"Times,serif\" font-size=\"14.00\">1.72</text>\n</g>\n<!-- 32&#45;&gt;38 -->\n<g id=\"edge38\" class=\"edge\">\n<title>32&#45;&gt;38</title>\n<path fill=\"none\" stroke=\"black\" d=\"M547,-287.7C547,-279.98 547,-270.71 547,-262.11\"/>\n<polygon fill=\"black\" stroke=\"black\" points=\"550.5,-262.1 547,-252.1 543.5,-262.1 550.5,-262.1\"/>\n</g>\n<!-- 34 -->\n<g id=\"node35\" class=\"node\">\n<title>34</title>\n<ellipse fill=\"none\" stroke=\"black\" cx=\"397\" cy=\"-162\" rx=\"29.5\" ry=\"18\"/>\n<text text-anchor=\"middle\" x=\"397\" y=\"-158.3\" font-family=\"Times,serif\" font-size=\"14.00\">&#45;0.90</text>\n</g>\n<!-- 33&#45;&gt;34 -->\n<g id=\"edge34\" class=\"edge\">\n<title>33&#45;&gt;34</title>\n<path fill=\"none\" stroke=\"black\" d=\"M457.25,-218.5C446.55,-208.64 432.22,-195.44 420.22,-184.38\"/>\n<polygon fill=\"black\" stroke=\"black\" points=\"422.45,-181.69 412.73,-177.49 417.71,-186.83 422.45,-181.69\"/>\n</g>\n<!-- 35 -->\n<g id=\"node36\" class=\"node\">\n<title>35</title>\n<ellipse fill=\"none\" stroke=\"black\" cx=\"473\" cy=\"-162\" rx=\"29.5\" ry=\"18\"/>\n<text text-anchor=\"middle\" x=\"473\" y=\"-158.3\" font-family=\"Times,serif\" font-size=\"14.00\">&#45;0.20</text>\n</g>\n<!-- 33&#45;&gt;35 -->\n<g id=\"edge35\" class=\"edge\">\n<title>33&#45;&gt;35</title>\n<path fill=\"none\" stroke=\"black\" d=\"M473,-215.7C473,-207.98 473,-198.71 473,-190.11\"/>\n<polygon fill=\"black\" stroke=\"black\" points=\"476.5,-190.1 473,-180.1 469.5,-190.1 476.5,-190.1\"/>\n</g>\n<!-- 36 -->\n<g id=\"node37\" class=\"node\">\n<title>36</title>\n<ellipse fill=\"none\" stroke=\"black\" cx=\"436\" cy=\"-90\" rx=\"29.5\" ry=\"18\"/>\n<text text-anchor=\"middle\" x=\"436\" y=\"-86.3\" font-family=\"Times,serif\" font-size=\"14.00\">&#45;0.09</text>\n</g>\n<!-- 35&#45;&gt;36 -->\n<g id=\"edge36\" class=\"edge\">\n<title>35&#45;&gt;36</title>\n<path fill=\"none\" stroke=\"black\" d=\"M464.42,-144.76C460,-136.4 454.51,-126.02 449.53,-116.61\"/>\n<polygon fill=\"black\" stroke=\"black\" points=\"452.56,-114.84 444.79,-107.63 446.37,-118.11 452.56,-114.84\"/>\n</g>\n<!-- 37 -->\n<g id=\"node38\" class=\"node\">\n<title>37</title>\n<ellipse fill=\"none\" stroke=\"black\" cx=\"510\" cy=\"-90\" rx=\"27\" ry=\"18\"/>\n<text text-anchor=\"middle\" x=\"510\" y=\"-86.3\" font-family=\"Times,serif\" font-size=\"14.00\">2.30</text>\n</g>\n<!-- 35&#45;&gt;37 -->\n<g id=\"edge37\" class=\"edge\">\n<title>35&#45;&gt;37</title>\n<path fill=\"none\" stroke=\"black\" d=\"M481.58,-144.76C486.06,-136.28 491.65,-125.71 496.68,-116.2\"/>\n<polygon fill=\"black\" stroke=\"black\" points=\"499.89,-117.62 501.46,-107.15 493.7,-114.35 499.89,-117.62\"/>\n</g>\n<!-- 39 -->\n<g id=\"node40\" class=\"node\">\n<title>39</title>\n<ellipse fill=\"none\" stroke=\"black\" cx=\"547\" cy=\"-162\" rx=\"27\" ry=\"18\"/>\n<text text-anchor=\"middle\" x=\"547\" y=\"-158.3\" font-family=\"Times,serif\" font-size=\"14.00\">0.51</text>\n</g>\n<!-- 38&#45;&gt;39 -->\n<g id=\"edge39\" class=\"edge\">\n<title>38&#45;&gt;39</title>\n<path fill=\"none\" stroke=\"black\" d=\"M547,-215.7C547,-207.98 547,-198.71 547,-190.11\"/>\n<polygon fill=\"black\" stroke=\"black\" points=\"550.5,-190.1 547,-180.1 543.5,-190.1 550.5,-190.1\"/>\n</g>\n<!-- 40 -->\n<g id=\"node41\" class=\"node\">\n<title>40</title>\n<ellipse fill=\"none\" stroke=\"black\" cx=\"619\" cy=\"-162\" rx=\"27\" ry=\"18\"/>\n<text text-anchor=\"middle\" x=\"619\" y=\"-158.3\" font-family=\"Times,serif\" font-size=\"14.00\">3.40</text>\n</g>\n<!-- 38&#45;&gt;40 -->\n<g id=\"edge40\" class=\"edge\">\n<title>38&#45;&gt;40</title>\n<path fill=\"none\" stroke=\"black\" d=\"M561.57,-218.83C571.75,-208.94 585.52,-195.55 597.03,-184.36\"/>\n<polygon fill=\"black\" stroke=\"black\" points=\"599.47,-186.87 604.2,-177.38 594.59,-181.85 599.47,-186.87\"/>\n</g>\n<!-- 42 -->\n<g id=\"node43\" class=\"node\">\n<title>42</title>\n<ellipse fill=\"none\" stroke=\"black\" cx=\"619\" cy=\"-234\" rx=\"27\" ry=\"18\"/>\n<text text-anchor=\"middle\" x=\"619\" y=\"-230.3\" font-family=\"Times,serif\" font-size=\"14.00\">0.48</text>\n</g>\n<!-- 41&#45;&gt;42 -->\n<g id=\"edge42\" class=\"edge\">\n<title>41&#45;&gt;42</title>\n<path fill=\"none\" stroke=\"black\" d=\"M619,-287.7C619,-279.98 619,-270.71 619,-262.11\"/>\n<polygon fill=\"black\" stroke=\"black\" points=\"622.5,-262.1 619,-252.1 615.5,-262.1 622.5,-262.1\"/>\n</g>\n<!-- 43 -->\n<g id=\"node44\" class=\"node\">\n<title>43</title>\n<ellipse fill=\"none\" stroke=\"black\" cx=\"691\" cy=\"-234\" rx=\"27\" ry=\"18\"/>\n<text text-anchor=\"middle\" x=\"691\" y=\"-230.3\" font-family=\"Times,serif\" font-size=\"14.00\">4.50</text>\n</g>\n<!-- 41&#45;&gt;43 -->\n<g id=\"edge43\" class=\"edge\">\n<title>41&#45;&gt;43</title>\n<path fill=\"none\" stroke=\"black\" d=\"M633.57,-290.83C643.75,-280.94 657.52,-267.55 669.03,-256.36\"/>\n<polygon fill=\"black\" stroke=\"black\" points=\"671.47,-258.87 676.2,-249.38 666.59,-253.85 671.47,-258.87\"/>\n</g>\n<!-- 45 -->\n<g id=\"node46\" class=\"node\">\n<title>45</title>\n<ellipse fill=\"none\" stroke=\"black\" cx=\"872\" cy=\"-522\" rx=\"27\" ry=\"18\"/>\n<text text-anchor=\"middle\" x=\"872\" y=\"-518.3\" font-family=\"Times,serif\" font-size=\"14.00\">0.39</text>\n</g>\n<!-- 44&#45;&gt;45 -->\n<g id=\"edge45\" class=\"edge\">\n<title>44&#45;&gt;45</title>\n<path fill=\"none\" stroke=\"black\" d=\"M899.65,-576.76C895.29,-568.28 889.85,-557.71 884.96,-548.2\"/>\n<polygon fill=\"black\" stroke=\"black\" points=\"887.99,-546.44 880.3,-539.15 881.77,-549.64 887.99,-546.44\"/>\n</g>\n<!-- 46 -->\n<g id=\"node47\" class=\"node\">\n<title>46</title>\n<ellipse fill=\"none\" stroke=\"black\" cx=\"944\" cy=\"-522\" rx=\"27\" ry=\"18\"/>\n<text text-anchor=\"middle\" x=\"944\" y=\"-518.3\" font-family=\"Times,serif\" font-size=\"14.00\">0.82</text>\n</g>\n<!-- 44&#45;&gt;46 -->\n<g id=\"edge46\" class=\"edge\">\n<title>44&#45;&gt;46</title>\n<path fill=\"none\" stroke=\"black\" d=\"M916.35,-576.76C920.71,-568.28 926.15,-557.71 931.04,-548.2\"/>\n<polygon fill=\"black\" stroke=\"black\" points=\"934.23,-549.64 935.7,-539.15 928.01,-546.44 934.23,-549.64\"/>\n</g>\n<!-- 47 -->\n<g id=\"node48\" class=\"node\">\n<title>47</title>\n<ellipse fill=\"none\" stroke=\"black\" cx=\"944\" cy=\"-450\" rx=\"27\" ry=\"18\"/>\n<text text-anchor=\"middle\" x=\"944\" y=\"-446.3\" font-family=\"Times,serif\" font-size=\"14.00\">0.82</text>\n</g>\n<!-- 46&#45;&gt;47 -->\n<g id=\"edge47\" class=\"edge\">\n<title>46&#45;&gt;47</title>\n<path fill=\"none\" stroke=\"black\" d=\"M944,-503.7C944,-495.98 944,-486.71 944,-478.11\"/>\n<polygon fill=\"black\" stroke=\"black\" points=\"947.5,-478.1 944,-468.1 940.5,-478.1 947.5,-478.1\"/>\n</g>\n<!-- 48 -->\n<g id=\"node49\" class=\"node\">\n<title>48</title>\n<ellipse fill=\"none\" stroke=\"black\" cx=\"907\" cy=\"-378\" rx=\"27\" ry=\"18\"/>\n<text text-anchor=\"middle\" x=\"907\" y=\"-374.3\" font-family=\"Times,serif\" font-size=\"14.00\">3.83</text>\n</g>\n<!-- 47&#45;&gt;48 -->\n<g id=\"edge48\" class=\"edge\">\n<title>47&#45;&gt;48</title>\n<path fill=\"none\" stroke=\"black\" d=\"M935.42,-432.76C930.94,-424.28 925.35,-413.71 920.32,-404.2\"/>\n<polygon fill=\"black\" stroke=\"black\" points=\"923.3,-402.35 915.54,-395.15 917.11,-405.62 923.3,-402.35\"/>\n</g>\n<!-- 57 -->\n<g id=\"node58\" class=\"node\">\n<title>57</title>\n<ellipse fill=\"none\" stroke=\"black\" cx=\"981\" cy=\"-378\" rx=\"29.5\" ry=\"18\"/>\n<text text-anchor=\"middle\" x=\"981\" y=\"-374.3\" font-family=\"Times,serif\" font-size=\"14.00\">&#45;3.01</text>\n</g>\n<!-- 47&#45;&gt;57 -->\n<g id=\"edge57\" class=\"edge\">\n<title>47&#45;&gt;57</title>\n<path fill=\"none\" stroke=\"black\" d=\"M952.58,-432.76C957,-424.4 962.49,-414.02 967.47,-404.61\"/>\n<polygon fill=\"black\" stroke=\"black\" points=\"970.63,-406.11 972.21,-395.63 964.44,-402.84 970.63,-406.11\"/>\n</g>\n<!-- 49 -->\n<g id=\"node50\" class=\"node\">\n<title>49</title>\n<ellipse fill=\"none\" stroke=\"black\" cx=\"835\" cy=\"-306\" rx=\"27\" ry=\"18\"/>\n<text text-anchor=\"middle\" x=\"835\" y=\"-302.3\" font-family=\"Times,serif\" font-size=\"14.00\">1.52</text>\n</g>\n<!-- 48&#45;&gt;49 -->\n<g id=\"edge49\" class=\"edge\">\n<title>48&#45;&gt;49</title>\n<path fill=\"none\" stroke=\"black\" d=\"M892.43,-362.83C882.25,-352.94 868.48,-339.55 856.97,-328.36\"/>\n<polygon fill=\"black\" stroke=\"black\" points=\"859.41,-325.85 849.8,-321.38 854.53,-330.87 859.41,-325.85\"/>\n</g>\n<!-- 54 -->\n<g id=\"node55\" class=\"node\">\n<title>54</title>\n<ellipse fill=\"none\" stroke=\"black\" cx=\"907\" cy=\"-306\" rx=\"27\" ry=\"18\"/>\n<text text-anchor=\"middle\" x=\"907\" y=\"-302.3\" font-family=\"Times,serif\" font-size=\"14.00\">2.31</text>\n</g>\n<!-- 48&#45;&gt;54 -->\n<g id=\"edge54\" class=\"edge\">\n<title>48&#45;&gt;54</title>\n<path fill=\"none\" stroke=\"black\" d=\"M907,-359.7C907,-351.98 907,-342.71 907,-334.11\"/>\n<polygon fill=\"black\" stroke=\"black\" points=\"910.5,-334.1 907,-324.1 903.5,-334.1 910.5,-334.1\"/>\n</g>\n<!-- 50 -->\n<g id=\"node51\" class=\"node\">\n<title>50</title>\n<ellipse fill=\"none\" stroke=\"black\" cx=\"763\" cy=\"-234\" rx=\"27\" ry=\"18\"/>\n<text text-anchor=\"middle\" x=\"763\" y=\"-230.3\" font-family=\"Times,serif\" font-size=\"14.00\">0.56</text>\n</g>\n<!-- 49&#45;&gt;50 -->\n<g id=\"edge50\" class=\"edge\">\n<title>49&#45;&gt;50</title>\n<path fill=\"none\" stroke=\"black\" d=\"M820.43,-290.83C810.25,-280.94 796.48,-267.55 784.97,-256.36\"/>\n<polygon fill=\"black\" stroke=\"black\" points=\"787.41,-253.85 777.8,-249.38 782.53,-258.87 787.41,-253.85\"/>\n</g>\n<!-- 51 -->\n<g id=\"node52\" class=\"node\">\n<title>51</title>\n<ellipse fill=\"none\" stroke=\"black\" cx=\"835\" cy=\"-234\" rx=\"27\" ry=\"18\"/>\n<text text-anchor=\"middle\" x=\"835\" y=\"-230.3\" font-family=\"Times,serif\" font-size=\"14.00\">0.96</text>\n</g>\n<!-- 49&#45;&gt;51 -->\n<g id=\"edge51\" class=\"edge\">\n<title>49&#45;&gt;51</title>\n<path fill=\"none\" stroke=\"black\" d=\"M835,-287.7C835,-279.98 835,-270.71 835,-262.11\"/>\n<polygon fill=\"black\" stroke=\"black\" points=\"838.5,-262.1 835,-252.1 831.5,-262.1 838.5,-262.1\"/>\n</g>\n<!-- 52 -->\n<g id=\"node53\" class=\"node\">\n<title>52</title>\n<ellipse fill=\"none\" stroke=\"black\" cx=\"799\" cy=\"-162\" rx=\"27\" ry=\"18\"/>\n<text text-anchor=\"middle\" x=\"799\" y=\"-158.3\" font-family=\"Times,serif\" font-size=\"14.00\">0.42</text>\n</g>\n<!-- 51&#45;&gt;52 -->\n<g id=\"edge52\" class=\"edge\">\n<title>51&#45;&gt;52</title>\n<path fill=\"none\" stroke=\"black\" d=\"M826.65,-216.76C822.29,-208.28 816.85,-197.71 811.96,-188.2\"/>\n<polygon fill=\"black\" stroke=\"black\" points=\"814.99,-186.44 807.3,-179.15 808.77,-189.64 814.99,-186.44\"/>\n</g>\n<!-- 53 -->\n<g id=\"node54\" class=\"node\">\n<title>53</title>\n<ellipse fill=\"none\" stroke=\"black\" cx=\"871\" cy=\"-162\" rx=\"27\" ry=\"18\"/>\n<text text-anchor=\"middle\" x=\"871\" y=\"-158.3\" font-family=\"Times,serif\" font-size=\"14.00\">2.30</text>\n</g>\n<!-- 51&#45;&gt;53 -->\n<g id=\"edge53\" class=\"edge\">\n<title>51&#45;&gt;53</title>\n<path fill=\"none\" stroke=\"black\" d=\"M843.35,-216.76C847.71,-208.28 853.15,-197.71 858.04,-188.2\"/>\n<polygon fill=\"black\" stroke=\"black\" points=\"861.23,-189.64 862.7,-179.15 855.01,-186.44 861.23,-189.64\"/>\n</g>\n<!-- 55 -->\n<g id=\"node56\" class=\"node\">\n<title>55</title>\n<ellipse fill=\"none\" stroke=\"black\" cx=\"907\" cy=\"-234\" rx=\"27\" ry=\"18\"/>\n<text text-anchor=\"middle\" x=\"907\" y=\"-230.3\" font-family=\"Times,serif\" font-size=\"14.00\">0.68</text>\n</g>\n<!-- 54&#45;&gt;55 -->\n<g id=\"edge55\" class=\"edge\">\n<title>54&#45;&gt;55</title>\n<path fill=\"none\" stroke=\"black\" d=\"M907,-287.7C907,-279.98 907,-270.71 907,-262.11\"/>\n<polygon fill=\"black\" stroke=\"black\" points=\"910.5,-262.1 907,-252.1 903.5,-262.1 910.5,-262.1\"/>\n</g>\n<!-- 56 -->\n<g id=\"node57\" class=\"node\">\n<title>56</title>\n<ellipse fill=\"none\" stroke=\"black\" cx=\"979\" cy=\"-234\" rx=\"27\" ry=\"18\"/>\n<text text-anchor=\"middle\" x=\"979\" y=\"-230.3\" font-family=\"Times,serif\" font-size=\"14.00\">3.40</text>\n</g>\n<!-- 54&#45;&gt;56 -->\n<g id=\"edge56\" class=\"edge\">\n<title>54&#45;&gt;56</title>\n<path fill=\"none\" stroke=\"black\" d=\"M921.57,-290.83C931.75,-280.94 945.52,-267.55 957.03,-256.36\"/>\n<polygon fill=\"black\" stroke=\"black\" points=\"959.47,-258.87 964.2,-249.38 954.59,-253.85 959.47,-258.87\"/>\n</g>\n<!-- 58 -->\n<g id=\"node59\" class=\"node\">\n<title>58</title>\n<ellipse fill=\"none\" stroke=\"black\" cx=\"981\" cy=\"-306\" rx=\"29.5\" ry=\"18\"/>\n<text text-anchor=\"middle\" x=\"981\" y=\"-302.3\" font-family=\"Times,serif\" font-size=\"14.00\">&#45;0.67</text>\n</g>\n<!-- 57&#45;&gt;58 -->\n<g id=\"edge58\" class=\"edge\">\n<title>57&#45;&gt;58</title>\n<path fill=\"none\" stroke=\"black\" d=\"M981,-359.7C981,-351.98 981,-342.71 981,-334.11\"/>\n<polygon fill=\"black\" stroke=\"black\" points=\"984.5,-334.1 981,-324.1 977.5,-334.1 984.5,-334.1\"/>\n</g>\n<!-- 59 -->\n<g id=\"node60\" class=\"node\">\n<title>59</title>\n<ellipse fill=\"none\" stroke=\"black\" cx=\"1055\" cy=\"-306\" rx=\"27\" ry=\"18\"/>\n<text text-anchor=\"middle\" x=\"1055\" y=\"-302.3\" font-family=\"Times,serif\" font-size=\"14.00\">4.50</text>\n</g>\n<!-- 57&#45;&gt;59 -->\n<g id=\"edge59\" class=\"edge\">\n<title>57&#45;&gt;59</title>\n<path fill=\"none\" stroke=\"black\" d=\"M996.33,-362.5C1006.82,-352.58 1020.89,-339.26 1032.63,-328.16\"/>\n<polygon fill=\"black\" stroke=\"black\" points=\"1035.08,-330.66 1039.94,-321.25 1030.27,-325.58 1035.08,-330.66\"/>\n</g>\n<!-- 61 -->\n<g id=\"node62\" class=\"node\">\n<title>61</title>\n<ellipse fill=\"none\" stroke=\"black\" cx=\"1244\" cy=\"-594\" rx=\"29.5\" ry=\"18\"/>\n<text text-anchor=\"middle\" x=\"1244\" y=\"-590.3\" font-family=\"Times,serif\" font-size=\"14.00\">&#45;0.12</text>\n</g>\n<!-- 60&#45;&gt;61 -->\n<g id=\"edge61\" class=\"edge\">\n<title>60&#45;&gt;61</title>\n<path fill=\"none\" stroke=\"black\" d=\"M1272.42,-648.76C1268,-640.4 1262.51,-630.02 1257.53,-620.61\"/>\n<polygon fill=\"black\" stroke=\"black\" points=\"1260.56,-618.84 1252.79,-611.63 1254.37,-622.11 1260.56,-618.84\"/>\n</g>\n<!-- 62 -->\n<g id=\"node63\" class=\"node\">\n<title>62</title>\n<ellipse fill=\"none\" stroke=\"black\" cx=\"1318\" cy=\"-594\" rx=\"27\" ry=\"18\"/>\n<text text-anchor=\"middle\" x=\"1318\" y=\"-590.3\" font-family=\"Times,serif\" font-size=\"14.00\">0.00</text>\n</g>\n<!-- 60&#45;&gt;62 -->\n<g id=\"edge62\" class=\"edge\">\n<title>60&#45;&gt;62</title>\n<path fill=\"none\" stroke=\"black\" d=\"M1289.58,-648.76C1294.06,-640.28 1299.65,-629.71 1304.68,-620.2\"/>\n<polygon fill=\"black\" stroke=\"black\" points=\"1307.89,-621.62 1309.46,-611.15 1301.7,-618.35 1307.89,-621.62\"/>\n</g>\n<!-- 63 -->\n<g id=\"node64\" class=\"node\">\n<title>63</title>\n<ellipse fill=\"none\" stroke=\"black\" cx=\"1318\" cy=\"-522\" rx=\"29.5\" ry=\"18\"/>\n<text text-anchor=\"middle\" x=\"1318\" y=\"-518.3\" font-family=\"Times,serif\" font-size=\"14.00\">&#45;1.59</text>\n</g>\n<!-- 62&#45;&gt;63 -->\n<g id=\"edge63\" class=\"edge\">\n<title>62&#45;&gt;63</title>\n<path fill=\"none\" stroke=\"black\" d=\"M1318,-575.7C1318,-567.98 1318,-558.71 1318,-550.11\"/>\n<polygon fill=\"black\" stroke=\"black\" points=\"1321.5,-550.1 1318,-540.1 1314.5,-550.1 1321.5,-550.1\"/>\n</g>\n<!-- 64 -->\n<g id=\"node65\" class=\"node\">\n<title>64</title>\n<ellipse fill=\"none\" stroke=\"black\" cx=\"1281\" cy=\"-450\" rx=\"29.5\" ry=\"18\"/>\n<text text-anchor=\"middle\" x=\"1281\" y=\"-446.3\" font-family=\"Times,serif\" font-size=\"14.00\">&#45;3.08</text>\n</g>\n<!-- 63&#45;&gt;64 -->\n<g id=\"edge64\" class=\"edge\">\n<title>63&#45;&gt;64</title>\n<path fill=\"none\" stroke=\"black\" d=\"M1309.42,-504.76C1305,-496.4 1299.51,-486.02 1294.53,-476.61\"/>\n<polygon fill=\"black\" stroke=\"black\" points=\"1297.56,-474.84 1289.79,-467.63 1291.37,-478.11 1297.56,-474.84\"/>\n</g>\n<!-- 73 -->\n<g id=\"node74\" class=\"node\">\n<title>73</title>\n<ellipse fill=\"none\" stroke=\"black\" cx=\"1355\" cy=\"-450\" rx=\"27\" ry=\"18\"/>\n<text text-anchor=\"middle\" x=\"1355\" y=\"-446.3\" font-family=\"Times,serif\" font-size=\"14.00\">1.49</text>\n</g>\n<!-- 63&#45;&gt;73 -->\n<g id=\"edge73\" class=\"edge\">\n<title>63&#45;&gt;73</title>\n<path fill=\"none\" stroke=\"black\" d=\"M1326.58,-504.76C1331.06,-496.28 1336.65,-485.71 1341.68,-476.2\"/>\n<polygon fill=\"black\" stroke=\"black\" points=\"1344.89,-477.62 1346.46,-467.15 1338.7,-474.35 1344.89,-477.62\"/>\n</g>\n<!-- 65 -->\n<g id=\"node66\" class=\"node\">\n<title>65</title>\n<ellipse fill=\"none\" stroke=\"black\" cx=\"1205\" cy=\"-378\" rx=\"29.5\" ry=\"18\"/>\n<text text-anchor=\"middle\" x=\"1205\" y=\"-374.3\" font-family=\"Times,serif\" font-size=\"14.00\">&#45;1.76</text>\n</g>\n<!-- 64&#45;&gt;65 -->\n<g id=\"edge65\" class=\"edge\">\n<title>64&#45;&gt;65</title>\n<path fill=\"none\" stroke=\"black\" d=\"M1265.25,-434.5C1254.55,-424.64 1240.22,-411.44 1228.22,-400.38\"/>\n<polygon fill=\"black\" stroke=\"black\" points=\"1230.45,-397.69 1220.73,-393.49 1225.71,-402.83 1230.45,-397.69\"/>\n</g>\n<!-- 70 -->\n<g id=\"node71\" class=\"node\">\n<title>70</title>\n<ellipse fill=\"none\" stroke=\"black\" cx=\"1281\" cy=\"-378\" rx=\"29.5\" ry=\"18\"/>\n<text text-anchor=\"middle\" x=\"1281\" y=\"-374.3\" font-family=\"Times,serif\" font-size=\"14.00\">&#45;1.32</text>\n</g>\n<!-- 64&#45;&gt;70 -->\n<g id=\"edge70\" class=\"edge\">\n<title>64&#45;&gt;70</title>\n<path fill=\"none\" stroke=\"black\" d=\"M1281,-431.7C1281,-423.98 1281,-414.71 1281,-406.11\"/>\n<polygon fill=\"black\" stroke=\"black\" points=\"1284.5,-406.1 1281,-396.1 1277.5,-406.1 1284.5,-406.1\"/>\n</g>\n<!-- 66 -->\n<g id=\"node67\" class=\"node\">\n<title>66</title>\n<ellipse fill=\"none\" stroke=\"black\" cx=\"1129\" cy=\"-306\" rx=\"29.5\" ry=\"18\"/>\n<text text-anchor=\"middle\" x=\"1129\" y=\"-302.3\" font-family=\"Times,serif\" font-size=\"14.00\">&#45;0.78</text>\n</g>\n<!-- 65&#45;&gt;66 -->\n<g id=\"edge66\" class=\"edge\">\n<title>65&#45;&gt;66</title>\n<path fill=\"none\" stroke=\"black\" d=\"M1189.25,-362.5C1178.55,-352.64 1164.22,-339.44 1152.22,-328.38\"/>\n<polygon fill=\"black\" stroke=\"black\" points=\"1154.45,-325.69 1144.73,-321.49 1149.71,-330.83 1154.45,-325.69\"/>\n</g>\n<!-- 67 -->\n<g id=\"node68\" class=\"node\">\n<title>67</title>\n<ellipse fill=\"none\" stroke=\"black\" cx=\"1205\" cy=\"-306\" rx=\"29.5\" ry=\"18\"/>\n<text text-anchor=\"middle\" x=\"1205\" y=\"-302.3\" font-family=\"Times,serif\" font-size=\"14.00\">&#45;0.98</text>\n</g>\n<!-- 65&#45;&gt;67 -->\n<g id=\"edge67\" class=\"edge\">\n<title>65&#45;&gt;67</title>\n<path fill=\"none\" stroke=\"black\" d=\"M1205,-359.7C1205,-351.98 1205,-342.71 1205,-334.11\"/>\n<polygon fill=\"black\" stroke=\"black\" points=\"1208.5,-334.1 1205,-324.1 1201.5,-334.1 1208.5,-334.1\"/>\n</g>\n<!-- 68 -->\n<g id=\"node69\" class=\"node\">\n<title>68</title>\n<ellipse fill=\"none\" stroke=\"black\" cx=\"1186\" cy=\"-234\" rx=\"29.5\" ry=\"18\"/>\n<text text-anchor=\"middle\" x=\"1186\" y=\"-230.3\" font-family=\"Times,serif\" font-size=\"14.00\">&#45;0.43</text>\n</g>\n<!-- 67&#45;&gt;68 -->\n<g id=\"edge68\" class=\"edge\">\n<title>67&#45;&gt;68</title>\n<path fill=\"none\" stroke=\"black\" d=\"M1200.4,-288.05C1198.25,-280.14 1195.65,-270.54 1193.24,-261.69\"/>\n<polygon fill=\"black\" stroke=\"black\" points=\"1196.55,-260.52 1190.56,-251.79 1189.8,-262.36 1196.55,-260.52\"/>\n</g>\n<!-- 69 -->\n<g id=\"node70\" class=\"node\">\n<title>69</title>\n<ellipse fill=\"none\" stroke=\"black\" cx=\"1260\" cy=\"-234\" rx=\"27\" ry=\"18\"/>\n<text text-anchor=\"middle\" x=\"1260\" y=\"-230.3\" font-family=\"Times,serif\" font-size=\"14.00\">2.30</text>\n</g>\n<!-- 67&#45;&gt;69 -->\n<g id=\"edge69\" class=\"edge\">\n<title>67&#45;&gt;69</title>\n<path fill=\"none\" stroke=\"black\" d=\"M1217.21,-289.46C1224.33,-280.4 1233.45,-268.79 1241.45,-258.61\"/>\n<polygon fill=\"black\" stroke=\"black\" points=\"1244.4,-260.52 1247.83,-250.49 1238.9,-256.19 1244.4,-260.52\"/>\n</g>\n<!-- 71 -->\n<g id=\"node72\" class=\"node\">\n<title>71</title>\n<ellipse fill=\"none\" stroke=\"black\" cx=\"1281\" cy=\"-306\" rx=\"29.5\" ry=\"18\"/>\n<text text-anchor=\"middle\" x=\"1281\" y=\"-302.3\" font-family=\"Times,serif\" font-size=\"14.00\">&#45;0.39</text>\n</g>\n<!-- 70&#45;&gt;71 -->\n<g id=\"edge71\" class=\"edge\">\n<title>70&#45;&gt;71</title>\n<path fill=\"none\" stroke=\"black\" d=\"M1281,-359.7C1281,-351.98 1281,-342.71 1281,-334.11\"/>\n<polygon fill=\"black\" stroke=\"black\" points=\"1284.5,-334.1 1281,-324.1 1277.5,-334.1 1284.5,-334.1\"/>\n</g>\n<!-- 72 -->\n<g id=\"node73\" class=\"node\">\n<title>72</title>\n<ellipse fill=\"none\" stroke=\"black\" cx=\"1355\" cy=\"-306\" rx=\"27\" ry=\"18\"/>\n<text text-anchor=\"middle\" x=\"1355\" y=\"-302.3\" font-family=\"Times,serif\" font-size=\"14.00\">3.40</text>\n</g>\n<!-- 70&#45;&gt;72 -->\n<g id=\"edge72\" class=\"edge\">\n<title>70&#45;&gt;72</title>\n<path fill=\"none\" stroke=\"black\" d=\"M1296.33,-362.5C1306.82,-352.58 1320.89,-339.26 1332.63,-328.16\"/>\n<polygon fill=\"black\" stroke=\"black\" points=\"1335.08,-330.66 1339.94,-321.25 1330.27,-325.58 1335.08,-330.66\"/>\n</g>\n<!-- 74 -->\n<g id=\"node75\" class=\"node\">\n<title>74</title>\n<ellipse fill=\"none\" stroke=\"black\" cx=\"1355\" cy=\"-378\" rx=\"27\" ry=\"18\"/>\n<text text-anchor=\"middle\" x=\"1355\" y=\"-374.3\" font-family=\"Times,serif\" font-size=\"14.00\">0.33</text>\n</g>\n<!-- 73&#45;&gt;74 -->\n<g id=\"edge74\" class=\"edge\">\n<title>73&#45;&gt;74</title>\n<path fill=\"none\" stroke=\"black\" d=\"M1355,-431.7C1355,-423.98 1355,-414.71 1355,-406.11\"/>\n<polygon fill=\"black\" stroke=\"black\" points=\"1358.5,-406.1 1355,-396.1 1351.5,-406.1 1358.5,-406.1\"/>\n</g>\n<!-- 75 -->\n<g id=\"node76\" class=\"node\">\n<title>75</title>\n<ellipse fill=\"none\" stroke=\"black\" cx=\"1427\" cy=\"-378\" rx=\"27\" ry=\"18\"/>\n<text text-anchor=\"middle\" x=\"1427\" y=\"-374.3\" font-family=\"Times,serif\" font-size=\"14.00\">4.50</text>\n</g>\n<!-- 73&#45;&gt;75 -->\n<g id=\"edge75\" class=\"edge\">\n<title>73&#45;&gt;75</title>\n<path fill=\"none\" stroke=\"black\" d=\"M1369.57,-434.83C1379.75,-424.94 1393.52,-411.55 1405.03,-400.36\"/>\n<polygon fill=\"black\" stroke=\"black\" points=\"1407.47,-402.87 1412.2,-393.38 1402.59,-397.85 1407.47,-402.87\"/>\n</g>\n<!-- 77 -->\n<g id=\"node78\" class=\"node\">\n<title>77</title>\n<ellipse fill=\"none\" stroke=\"black\" cx=\"1482\" cy=\"-882\" rx=\"27\" ry=\"18\"/>\n<text text-anchor=\"middle\" x=\"1482\" y=\"-878.3\" font-family=\"Times,serif\" font-size=\"14.00\">0.86</text>\n</g>\n<!-- 76&#45;&gt;77 -->\n<g id=\"edge77\" class=\"edge\">\n<title>76&#45;&gt;77</title>\n<path fill=\"none\" stroke=\"black\" d=\"M1482,-935.7C1482,-927.98 1482,-918.71 1482,-910.11\"/>\n<polygon fill=\"black\" stroke=\"black\" points=\"1485.5,-910.1 1482,-900.1 1478.5,-910.1 1485.5,-910.1\"/>\n</g>\n<!-- 78 -->\n<g id=\"node79\" class=\"node\">\n<title>78</title>\n<ellipse fill=\"none\" stroke=\"black\" cx=\"1596\" cy=\"-882\" rx=\"27\" ry=\"18\"/>\n<text text-anchor=\"middle\" x=\"1596\" y=\"-878.3\" font-family=\"Times,serif\" font-size=\"14.00\">0.70</text>\n</g>\n<!-- 76&#45;&gt;78 -->\n<g id=\"edge78\" class=\"edge\">\n<title>76&#45;&gt;78</title>\n<path fill=\"none\" stroke=\"black\" d=\"M1501.34,-941.13C1519.6,-929.91 1547.19,-912.97 1567.89,-900.26\"/>\n<polygon fill=\"black\" stroke=\"black\" points=\"1569.88,-903.15 1576.57,-894.93 1566.21,-897.18 1569.88,-903.15\"/>\n</g>\n<!-- 79 -->\n<g id=\"node80\" class=\"node\">\n<title>79</title>\n<ellipse fill=\"none\" stroke=\"black\" cx=\"1764\" cy=\"-810\" rx=\"27\" ry=\"18\"/>\n<text text-anchor=\"middle\" x=\"1764\" y=\"-806.3\" font-family=\"Times,serif\" font-size=\"14.00\">0.70</text>\n</g>\n<!-- 78&#45;&gt;79 -->\n<g id=\"edge79\" class=\"edge\">\n<title>78&#45;&gt;79</title>\n<path fill=\"none\" stroke=\"black\" d=\"M1618.31,-871.7C1647.55,-859.52 1699.03,-838.07 1732.31,-824.2\"/>\n<polygon fill=\"black\" stroke=\"black\" points=\"1733.71,-827.41 1741.6,-820.33 1731.02,-820.95 1733.71,-827.41\"/>\n</g>\n<!-- 80 -->\n<g id=\"node81\" class=\"node\">\n<title>80</title>\n<ellipse fill=\"none\" stroke=\"black\" cx=\"1764\" cy=\"-738\" rx=\"27\" ry=\"18\"/>\n<text text-anchor=\"middle\" x=\"1764\" y=\"-734.3\" font-family=\"Times,serif\" font-size=\"14.00\">0.70</text>\n</g>\n<!-- 79&#45;&gt;80 -->\n<g id=\"edge80\" class=\"edge\">\n<title>79&#45;&gt;80</title>\n<path fill=\"none\" stroke=\"black\" d=\"M1764,-791.7C1764,-783.98 1764,-774.71 1764,-766.11\"/>\n<polygon fill=\"black\" stroke=\"black\" points=\"1767.5,-766.1 1764,-756.1 1760.5,-766.1 1767.5,-766.1\"/>\n</g>\n<!-- 132 -->\n<g id=\"node133\" class=\"node\">\n<title>132</title>\n<ellipse fill=\"none\" stroke=\"black\" cx=\"2107\" cy=\"-738\" rx=\"27\" ry=\"18\"/>\n<text text-anchor=\"middle\" x=\"2107\" y=\"-734.3\" font-family=\"Times,serif\" font-size=\"14.00\">0.00</text>\n</g>\n<!-- 79&#45;&gt;132 -->\n<g id=\"edge132\" class=\"edge\">\n<title>79&#45;&gt;132</title>\n<path fill=\"none\" stroke=\"black\" d=\"M1789.5,-803.8C1849.9,-791.47 2001.82,-760.47 2071.31,-746.28\"/>\n<polygon fill=\"black\" stroke=\"black\" points=\"2072.23,-749.67 2081.33,-744.24 2070.83,-742.81 2072.23,-749.67\"/>\n</g>\n<!-- 81 -->\n<g id=\"node82\" class=\"node\">\n<title>81</title>\n<ellipse fill=\"none\" stroke=\"black\" cx=\"1738\" cy=\"-666\" rx=\"27\" ry=\"18\"/>\n<text text-anchor=\"middle\" x=\"1738\" y=\"-662.3\" font-family=\"Times,serif\" font-size=\"14.00\">1.39</text>\n</g>\n<!-- 80&#45;&gt;81 -->\n<g id=\"edge81\" class=\"edge\">\n<title>80&#45;&gt;81</title>\n<path fill=\"none\" stroke=\"black\" d=\"M1757.84,-720.41C1754.84,-712.34 1751.16,-702.43 1747.79,-693.35\"/>\n<polygon fill=\"black\" stroke=\"black\" points=\"1751.06,-692.11 1744.3,-683.96 1744.5,-694.55 1751.06,-692.11\"/>\n</g>\n<!-- 116 -->\n<g id=\"node117\" class=\"node\">\n<title>116</title>\n<ellipse fill=\"none\" stroke=\"black\" cx=\"1889\" cy=\"-666\" rx=\"29.5\" ry=\"18\"/>\n<text text-anchor=\"middle\" x=\"1889\" y=\"-662.3\" font-family=\"Times,serif\" font-size=\"14.00\">&#45;0.68</text>\n</g>\n<!-- 80&#45;&gt;116 -->\n<g id=\"edge116\" class=\"edge\">\n<title>80&#45;&gt;116</title>\n<path fill=\"none\" stroke=\"black\" d=\"M1784.08,-725.75C1804.43,-714.36 1836.14,-696.6 1859.37,-683.59\"/>\n<polygon fill=\"black\" stroke=\"black\" points=\"1861.12,-686.63 1868.13,-678.69 1857.7,-680.52 1861.12,-686.63\"/>\n</g>\n<!-- 82 -->\n<g id=\"node83\" class=\"node\">\n<title>82</title>\n<ellipse fill=\"none\" stroke=\"black\" cx=\"1578\" cy=\"-594\" rx=\"27\" ry=\"18\"/>\n<text text-anchor=\"middle\" x=\"1578\" y=\"-590.3\" font-family=\"Times,serif\" font-size=\"14.00\">1.02</text>\n</g>\n<!-- 81&#45;&gt;82 -->\n<g id=\"edge82\" class=\"edge\">\n<title>81&#45;&gt;82</title>\n<path fill=\"none\" stroke=\"black\" d=\"M1716.09,-655.41C1688.4,-643.3 1640.57,-622.37 1609.1,-608.61\"/>\n<polygon fill=\"black\" stroke=\"black\" points=\"1610.47,-605.38 1599.9,-604.58 1607.66,-611.8 1610.47,-605.38\"/>\n</g>\n<!-- 100 -->\n<g id=\"node101\" class=\"node\">\n<title>100</title>\n<ellipse fill=\"none\" stroke=\"black\" cx=\"1738\" cy=\"-594\" rx=\"27\" ry=\"18\"/>\n<text text-anchor=\"middle\" x=\"1738\" y=\"-590.3\" font-family=\"Times,serif\" font-size=\"14.00\">0.37</text>\n</g>\n<!-- 81&#45;&gt;100 -->\n<g id=\"edge100\" class=\"edge\">\n<title>81&#45;&gt;100</title>\n<path fill=\"none\" stroke=\"black\" d=\"M1738,-647.7C1738,-639.98 1738,-630.71 1738,-622.11\"/>\n<polygon fill=\"black\" stroke=\"black\" points=\"1741.5,-622.1 1738,-612.1 1734.5,-622.1 1741.5,-622.1\"/>\n</g>\n<!-- 83 -->\n<g id=\"node84\" class=\"node\">\n<title>83</title>\n<ellipse fill=\"none\" stroke=\"black\" cx=\"1506\" cy=\"-522\" rx=\"27\" ry=\"18\"/>\n<text text-anchor=\"middle\" x=\"1506\" y=\"-518.3\" font-family=\"Times,serif\" font-size=\"14.00\">0.63</text>\n</g>\n<!-- 82&#45;&gt;83 -->\n<g id=\"edge83\" class=\"edge\">\n<title>82&#45;&gt;83</title>\n<path fill=\"none\" stroke=\"black\" d=\"M1563.43,-578.83C1553.25,-568.94 1539.48,-555.55 1527.97,-544.36\"/>\n<polygon fill=\"black\" stroke=\"black\" points=\"1530.41,-541.85 1520.8,-537.38 1525.53,-546.87 1530.41,-541.85\"/>\n</g>\n<!-- 84 -->\n<g id=\"node85\" class=\"node\">\n<title>84</title>\n<ellipse fill=\"none\" stroke=\"black\" cx=\"1578\" cy=\"-522\" rx=\"27\" ry=\"18\"/>\n<text text-anchor=\"middle\" x=\"1578\" y=\"-518.3\" font-family=\"Times,serif\" font-size=\"14.00\">0.39</text>\n</g>\n<!-- 82&#45;&gt;84 -->\n<g id=\"edge84\" class=\"edge\">\n<title>82&#45;&gt;84</title>\n<path fill=\"none\" stroke=\"black\" d=\"M1578,-575.7C1578,-567.98 1578,-558.71 1578,-550.11\"/>\n<polygon fill=\"black\" stroke=\"black\" points=\"1581.5,-550.1 1578,-540.1 1574.5,-550.1 1581.5,-550.1\"/>\n</g>\n<!-- 85 -->\n<g id=\"node86\" class=\"node\">\n<title>85</title>\n<ellipse fill=\"none\" stroke=\"black\" cx=\"1506\" cy=\"-450\" rx=\"27\" ry=\"18\"/>\n<text text-anchor=\"middle\" x=\"1506\" y=\"-446.3\" font-family=\"Times,serif\" font-size=\"14.00\">0.53</text>\n</g>\n<!-- 84&#45;&gt;85 -->\n<g id=\"edge85\" class=\"edge\">\n<title>84&#45;&gt;85</title>\n<path fill=\"none\" stroke=\"black\" d=\"M1563.43,-506.83C1553.25,-496.94 1539.48,-483.55 1527.97,-472.36\"/>\n<polygon fill=\"black\" stroke=\"black\" points=\"1530.41,-469.85 1520.8,-465.38 1525.53,-474.87 1530.41,-469.85\"/>\n</g>\n<!-- 86 -->\n<g id=\"node87\" class=\"node\">\n<title>86</title>\n<ellipse fill=\"none\" stroke=\"black\" cx=\"1578\" cy=\"-450\" rx=\"27\" ry=\"18\"/>\n<text text-anchor=\"middle\" x=\"1578\" y=\"-446.3\" font-family=\"Times,serif\" font-size=\"14.00\">0.73</text>\n</g>\n<!-- 84&#45;&gt;86 -->\n<g id=\"edge86\" class=\"edge\">\n<title>84&#45;&gt;86</title>\n<path fill=\"none\" stroke=\"black\" d=\"M1578,-503.7C1578,-495.98 1578,-486.71 1578,-478.11\"/>\n<polygon fill=\"black\" stroke=\"black\" points=\"1581.5,-478.1 1578,-468.1 1574.5,-478.1 1581.5,-478.1\"/>\n</g>\n<!-- 87 -->\n<g id=\"node88\" class=\"node\">\n<title>87</title>\n<ellipse fill=\"none\" stroke=\"black\" cx=\"1521\" cy=\"-378\" rx=\"27\" ry=\"18\"/>\n<text text-anchor=\"middle\" x=\"1521\" y=\"-374.3\" font-family=\"Times,serif\" font-size=\"14.00\">0.73</text>\n</g>\n<!-- 86&#45;&gt;87 -->\n<g id=\"edge87\" class=\"edge\">\n<title>86&#45;&gt;87</title>\n<path fill=\"none\" stroke=\"black\" d=\"M1565.63,-433.81C1558.09,-424.55 1548.3,-412.52 1539.81,-402.09\"/>\n<polygon fill=\"black\" stroke=\"black\" points=\"1542.37,-399.7 1533.34,-394.16 1536.94,-404.12 1542.37,-399.7\"/>\n</g>\n<!-- 88 -->\n<g id=\"node89\" class=\"node\">\n<title>88</title>\n<ellipse fill=\"none\" stroke=\"black\" cx=\"1429\" cy=\"-306\" rx=\"29.5\" ry=\"18\"/>\n<text text-anchor=\"middle\" x=\"1429\" y=\"-302.3\" font-family=\"Times,serif\" font-size=\"14.00\">&#45;3.11</text>\n</g>\n<!-- 87&#45;&gt;88 -->\n<g id=\"edge88\" class=\"edge\">\n<title>87&#45;&gt;88</title>\n<path fill=\"none\" stroke=\"black\" d=\"M1503.7,-363.83C1489.99,-353.41 1470.63,-338.68 1455.06,-326.83\"/>\n<polygon fill=\"black\" stroke=\"black\" points=\"1456.93,-323.85 1446.85,-320.58 1452.69,-329.43 1456.93,-323.85\"/>\n</g>\n<!-- 97 -->\n<g id=\"node98\" class=\"node\">\n<title>97</title>\n<ellipse fill=\"none\" stroke=\"black\" cx=\"1521\" cy=\"-306\" rx=\"27\" ry=\"18\"/>\n<text text-anchor=\"middle\" x=\"1521\" y=\"-302.3\" font-family=\"Times,serif\" font-size=\"14.00\">3.85</text>\n</g>\n<!-- 87&#45;&gt;97 -->\n<g id=\"edge97\" class=\"edge\">\n<title>87&#45;&gt;97</title>\n<path fill=\"none\" stroke=\"black\" d=\"M1521,-359.7C1521,-351.98 1521,-342.71 1521,-334.11\"/>\n<polygon fill=\"black\" stroke=\"black\" points=\"1524.5,-334.1 1521,-324.1 1517.5,-334.1 1524.5,-334.1\"/>\n</g>\n<!-- 89 -->\n<g id=\"node90\" class=\"node\">\n<title>89</title>\n<ellipse fill=\"none\" stroke=\"black\" cx=\"1335\" cy=\"-234\" rx=\"29.5\" ry=\"18\"/>\n<text text-anchor=\"middle\" x=\"1335\" y=\"-230.3\" font-family=\"Times,serif\" font-size=\"14.00\">&#45;1.73</text>\n</g>\n<!-- 88&#45;&gt;89 -->\n<g id=\"edge89\" class=\"edge\">\n<title>88&#45;&gt;89</title>\n<path fill=\"none\" stroke=\"black\" d=\"M1410.88,-291.5C1396.83,-281.04 1377.17,-266.4 1361.38,-254.65\"/>\n<polygon fill=\"black\" stroke=\"black\" points=\"1363.18,-251.62 1353.07,-248.46 1359,-257.24 1363.18,-251.62\"/>\n</g>\n<!-- 94 -->\n<g id=\"node95\" class=\"node\">\n<title>94</title>\n<ellipse fill=\"none\" stroke=\"black\" cx=\"1411\" cy=\"-234\" rx=\"29.5\" ry=\"18\"/>\n<text text-anchor=\"middle\" x=\"1411\" y=\"-230.3\" font-family=\"Times,serif\" font-size=\"14.00\">&#45;1.38</text>\n</g>\n<!-- 88&#45;&gt;94 -->\n<g id=\"edge94\" class=\"edge\">\n<title>88&#45;&gt;94</title>\n<path fill=\"none\" stroke=\"black\" d=\"M1424.64,-288.05C1422.64,-280.26 1420.21,-270.82 1417.96,-262.08\"/>\n<polygon fill=\"black\" stroke=\"black\" points=\"1421.32,-261.09 1415.44,-252.28 1414.54,-262.83 1421.32,-261.09\"/>\n</g>\n<!-- 90 -->\n<g id=\"node91\" class=\"node\">\n<title>90</title>\n<ellipse fill=\"none\" stroke=\"black\" cx=\"1261\" cy=\"-162\" rx=\"27\" ry=\"18\"/>\n<text text-anchor=\"middle\" x=\"1261\" y=\"-158.3\" font-family=\"Times,serif\" font-size=\"14.00\">0.14</text>\n</g>\n<!-- 89&#45;&gt;90 -->\n<g id=\"edge90\" class=\"edge\">\n<title>89&#45;&gt;90</title>\n<path fill=\"none\" stroke=\"black\" d=\"M1319.67,-218.5C1309.18,-208.58 1295.11,-195.26 1283.37,-184.16\"/>\n<polygon fill=\"black\" stroke=\"black\" points=\"1285.73,-181.58 1276.06,-177.25 1280.92,-186.66 1285.73,-181.58\"/>\n</g>\n<!-- 91 -->\n<g id=\"node92\" class=\"node\">\n<title>91</title>\n<ellipse fill=\"none\" stroke=\"black\" cx=\"1335\" cy=\"-162\" rx=\"29.5\" ry=\"18\"/>\n<text text-anchor=\"middle\" x=\"1335\" y=\"-158.3\" font-family=\"Times,serif\" font-size=\"14.00\">&#45;1.87</text>\n</g>\n<!-- 89&#45;&gt;91 -->\n<g id=\"edge91\" class=\"edge\">\n<title>89&#45;&gt;91</title>\n<path fill=\"none\" stroke=\"black\" d=\"M1335,-215.7C1335,-207.98 1335,-198.71 1335,-190.11\"/>\n<polygon fill=\"black\" stroke=\"black\" points=\"1338.5,-190.1 1335,-180.1 1331.5,-190.1 1338.5,-190.1\"/>\n</g>\n<!-- 92 -->\n<g id=\"node93\" class=\"node\">\n<title>92</title>\n<ellipse fill=\"none\" stroke=\"black\" cx=\"1298\" cy=\"-90\" rx=\"29.5\" ry=\"18\"/>\n<text text-anchor=\"middle\" x=\"1298\" y=\"-86.3\" font-family=\"Times,serif\" font-size=\"14.00\">&#45;0.81</text>\n</g>\n<!-- 91&#45;&gt;92 -->\n<g id=\"edge92\" class=\"edge\">\n<title>91&#45;&gt;92</title>\n<path fill=\"none\" stroke=\"black\" d=\"M1326.42,-144.76C1322,-136.4 1316.51,-126.02 1311.53,-116.61\"/>\n<polygon fill=\"black\" stroke=\"black\" points=\"1314.56,-114.84 1306.79,-107.63 1308.37,-118.11 1314.56,-114.84\"/>\n</g>\n<!-- 93 -->\n<g id=\"node94\" class=\"node\">\n<title>93</title>\n<ellipse fill=\"none\" stroke=\"black\" cx=\"1372\" cy=\"-90\" rx=\"27\" ry=\"18\"/>\n<text text-anchor=\"middle\" x=\"1372\" y=\"-86.3\" font-family=\"Times,serif\" font-size=\"14.00\">2.30</text>\n</g>\n<!-- 91&#45;&gt;93 -->\n<g id=\"edge93\" class=\"edge\">\n<title>91&#45;&gt;93</title>\n<path fill=\"none\" stroke=\"black\" d=\"M1343.58,-144.76C1348.06,-136.28 1353.65,-125.71 1358.68,-116.2\"/>\n<polygon fill=\"black\" stroke=\"black\" points=\"1361.89,-117.62 1363.46,-107.15 1355.7,-114.35 1361.89,-117.62\"/>\n</g>\n<!-- 95 -->\n<g id=\"node96\" class=\"node\">\n<title>95</title>\n<ellipse fill=\"none\" stroke=\"black\" cx=\"1411\" cy=\"-162\" rx=\"29.5\" ry=\"18\"/>\n<text text-anchor=\"middle\" x=\"1411\" y=\"-158.3\" font-family=\"Times,serif\" font-size=\"14.00\">&#45;0.41</text>\n</g>\n<!-- 94&#45;&gt;95 -->\n<g id=\"edge95\" class=\"edge\">\n<title>94&#45;&gt;95</title>\n<path fill=\"none\" stroke=\"black\" d=\"M1411,-215.7C1411,-207.98 1411,-198.71 1411,-190.11\"/>\n<polygon fill=\"black\" stroke=\"black\" points=\"1414.5,-190.1 1411,-180.1 1407.5,-190.1 1414.5,-190.1\"/>\n</g>\n<!-- 96 -->\n<g id=\"node97\" class=\"node\">\n<title>96</title>\n<ellipse fill=\"none\" stroke=\"black\" cx=\"1485\" cy=\"-162\" rx=\"27\" ry=\"18\"/>\n<text text-anchor=\"middle\" x=\"1485\" y=\"-158.3\" font-family=\"Times,serif\" font-size=\"14.00\">3.40</text>\n</g>\n<!-- 94&#45;&gt;96 -->\n<g id=\"edge96\" class=\"edge\">\n<title>94&#45;&gt;96</title>\n<path fill=\"none\" stroke=\"black\" d=\"M1426.33,-218.5C1436.82,-208.58 1450.89,-195.26 1462.63,-184.16\"/>\n<polygon fill=\"black\" stroke=\"black\" points=\"1465.08,-186.66 1469.94,-177.25 1460.27,-181.58 1465.08,-186.66\"/>\n</g>\n<!-- 98 -->\n<g id=\"node99\" class=\"node\">\n<title>98</title>\n<ellipse fill=\"none\" stroke=\"black\" cx=\"1485\" cy=\"-234\" rx=\"27\" ry=\"18\"/>\n<text text-anchor=\"middle\" x=\"1485\" y=\"-230.3\" font-family=\"Times,serif\" font-size=\"14.00\">0.86</text>\n</g>\n<!-- 97&#45;&gt;98 -->\n<g id=\"edge98\" class=\"edge\">\n<title>97&#45;&gt;98</title>\n<path fill=\"none\" stroke=\"black\" d=\"M1512.65,-288.76C1508.29,-280.28 1502.85,-269.71 1497.96,-260.2\"/>\n<polygon fill=\"black\" stroke=\"black\" points=\"1500.99,-258.44 1493.3,-251.15 1494.77,-261.64 1500.99,-258.44\"/>\n</g>\n<!-- 99 -->\n<g id=\"node100\" class=\"node\">\n<title>99</title>\n<ellipse fill=\"none\" stroke=\"black\" cx=\"1557\" cy=\"-234\" rx=\"27\" ry=\"18\"/>\n<text text-anchor=\"middle\" x=\"1557\" y=\"-230.3\" font-family=\"Times,serif\" font-size=\"14.00\">4.50</text>\n</g>\n<!-- 97&#45;&gt;99 -->\n<g id=\"edge99\" class=\"edge\">\n<title>97&#45;&gt;99</title>\n<path fill=\"none\" stroke=\"black\" d=\"M1529.35,-288.76C1533.71,-280.28 1539.15,-269.71 1544.04,-260.2\"/>\n<polygon fill=\"black\" stroke=\"black\" points=\"1547.23,-261.64 1548.7,-251.15 1541.01,-258.44 1547.23,-261.64\"/>\n</g>\n<!-- 101 -->\n<g id=\"node102\" class=\"node\">\n<title>101</title>\n<ellipse fill=\"none\" stroke=\"black\" cx=\"1707\" cy=\"-522\" rx=\"27\" ry=\"18\"/>\n<text text-anchor=\"middle\" x=\"1707\" y=\"-518.3\" font-family=\"Times,serif\" font-size=\"14.00\">0.13</text>\n</g>\n<!-- 100&#45;&gt;101 -->\n<g id=\"edge101\" class=\"edge\">\n<title>100&#45;&gt;101</title>\n<path fill=\"none\" stroke=\"black\" d=\"M1730.65,-576.41C1726.99,-568.13 1722.47,-557.92 1718.36,-548.66\"/>\n<polygon fill=\"black\" stroke=\"black\" points=\"1721.54,-547.2 1714.29,-539.47 1715.14,-550.03 1721.54,-547.2\"/>\n</g>\n<!-- 102 -->\n<g id=\"node103\" class=\"node\">\n<title>102</title>\n<ellipse fill=\"none\" stroke=\"black\" cx=\"1779\" cy=\"-522\" rx=\"27\" ry=\"18\"/>\n<text text-anchor=\"middle\" x=\"1779\" y=\"-518.3\" font-family=\"Times,serif\" font-size=\"14.00\">2.80</text>\n</g>\n<!-- 100&#45;&gt;102 -->\n<g id=\"edge102\" class=\"edge\">\n<title>100&#45;&gt;102</title>\n<path fill=\"none\" stroke=\"black\" d=\"M1747.51,-576.76C1752.53,-568.19 1758.8,-557.49 1764.42,-547.9\"/>\n<polygon fill=\"black\" stroke=\"black\" points=\"1767.51,-549.55 1769.54,-539.15 1761.47,-546.01 1767.51,-549.55\"/>\n</g>\n<!-- 103 -->\n<g id=\"node104\" class=\"node\">\n<title>103</title>\n<ellipse fill=\"none\" stroke=\"black\" cx=\"1779\" cy=\"-450\" rx=\"27\" ry=\"18\"/>\n<text text-anchor=\"middle\" x=\"1779\" y=\"-446.3\" font-family=\"Times,serif\" font-size=\"14.00\">2.80</text>\n</g>\n<!-- 102&#45;&gt;103 -->\n<g id=\"edge103\" class=\"edge\">\n<title>102&#45;&gt;103</title>\n<path fill=\"none\" stroke=\"black\" d=\"M1779,-503.7C1779,-495.98 1779,-486.71 1779,-478.11\"/>\n<polygon fill=\"black\" stroke=\"black\" points=\"1782.5,-478.1 1779,-468.1 1775.5,-478.1 1782.5,-478.1\"/>\n</g>\n<!-- 104 -->\n<g id=\"node105\" class=\"node\">\n<title>104</title>\n<ellipse fill=\"none\" stroke=\"black\" cx=\"1743\" cy=\"-378\" rx=\"27\" ry=\"18\"/>\n<text text-anchor=\"middle\" x=\"1743\" y=\"-374.3\" font-family=\"Times,serif\" font-size=\"14.00\">0.63</text>\n</g>\n<!-- 103&#45;&gt;104 -->\n<g id=\"edge104\" class=\"edge\">\n<title>103&#45;&gt;104</title>\n<path fill=\"none\" stroke=\"black\" d=\"M1770.65,-432.76C1766.29,-424.28 1760.85,-413.71 1755.96,-404.2\"/>\n<polygon fill=\"black\" stroke=\"black\" points=\"1758.99,-402.44 1751.3,-395.15 1752.77,-405.64 1758.99,-402.44\"/>\n</g>\n<!-- 113 -->\n<g id=\"node114\" class=\"node\">\n<title>113</title>\n<ellipse fill=\"none\" stroke=\"black\" cx=\"1815\" cy=\"-378\" rx=\"27\" ry=\"18\"/>\n<text text-anchor=\"middle\" x=\"1815\" y=\"-374.3\" font-family=\"Times,serif\" font-size=\"14.00\">2.18</text>\n</g>\n<!-- 103&#45;&gt;113 -->\n<g id=\"edge113\" class=\"edge\">\n<title>103&#45;&gt;113</title>\n<path fill=\"none\" stroke=\"black\" d=\"M1787.35,-432.76C1791.71,-424.28 1797.15,-413.71 1802.04,-404.2\"/>\n<polygon fill=\"black\" stroke=\"black\" points=\"1805.23,-405.64 1806.7,-395.15 1799.01,-402.44 1805.23,-405.64\"/>\n</g>\n<!-- 105 -->\n<g id=\"node106\" class=\"node\">\n<title>105</title>\n<ellipse fill=\"none\" stroke=\"black\" cx=\"1669\" cy=\"-306\" rx=\"29.5\" ry=\"18\"/>\n<text text-anchor=\"middle\" x=\"1669\" y=\"-302.3\" font-family=\"Times,serif\" font-size=\"14.00\">&#45;1.10</text>\n</g>\n<!-- 104&#45;&gt;105 -->\n<g id=\"edge105\" class=\"edge\">\n<title>104&#45;&gt;105</title>\n<path fill=\"none\" stroke=\"black\" d=\"M1728.02,-362.83C1717.56,-352.94 1703.41,-339.55 1691.58,-328.36\"/>\n<polygon fill=\"black\" stroke=\"black\" points=\"1693.88,-325.71 1684.21,-321.38 1689.07,-330.8 1693.88,-325.71\"/>\n</g>\n<!-- 110 -->\n<g id=\"node111\" class=\"node\">\n<title>110</title>\n<ellipse fill=\"none\" stroke=\"black\" cx=\"1743\" cy=\"-306\" rx=\"27\" ry=\"18\"/>\n<text text-anchor=\"middle\" x=\"1743\" y=\"-302.3\" font-family=\"Times,serif\" font-size=\"14.00\">1.72</text>\n</g>\n<!-- 104&#45;&gt;110 -->\n<g id=\"edge110\" class=\"edge\">\n<title>104&#45;&gt;110</title>\n<path fill=\"none\" stroke=\"black\" d=\"M1743,-359.7C1743,-351.98 1743,-342.71 1743,-334.11\"/>\n<polygon fill=\"black\" stroke=\"black\" points=\"1746.5,-334.1 1743,-324.1 1739.5,-334.1 1746.5,-334.1\"/>\n</g>\n<!-- 106 -->\n<g id=\"node107\" class=\"node\">\n<title>106</title>\n<ellipse fill=\"none\" stroke=\"black\" cx=\"1631\" cy=\"-234\" rx=\"29.5\" ry=\"18\"/>\n<text text-anchor=\"middle\" x=\"1631\" y=\"-230.3\" font-family=\"Times,serif\" font-size=\"14.00\">&#45;0.90</text>\n</g>\n<!-- 105&#45;&gt;106 -->\n<g id=\"edge106\" class=\"edge\">\n<title>105&#45;&gt;106</title>\n<path fill=\"none\" stroke=\"black\" d=\"M1660.19,-288.76C1655.65,-280.4 1650.01,-270.02 1644.9,-260.61\"/>\n<polygon fill=\"black\" stroke=\"black\" points=\"1647.88,-258.75 1640.03,-251.63 1641.72,-262.09 1647.88,-258.75\"/>\n</g>\n<!-- 107 -->\n<g id=\"node108\" class=\"node\">\n<title>107</title>\n<ellipse fill=\"none\" stroke=\"black\" cx=\"1707\" cy=\"-234\" rx=\"29.5\" ry=\"18\"/>\n<text text-anchor=\"middle\" x=\"1707\" y=\"-230.3\" font-family=\"Times,serif\" font-size=\"14.00\">&#45;0.20</text>\n</g>\n<!-- 105&#45;&gt;107 -->\n<g id=\"edge107\" class=\"edge\">\n<title>105&#45;&gt;107</title>\n<path fill=\"none\" stroke=\"black\" d=\"M1677.81,-288.76C1682.35,-280.4 1687.99,-270.02 1693.1,-260.61\"/>\n<polygon fill=\"black\" stroke=\"black\" points=\"1696.28,-262.09 1697.97,-251.63 1690.12,-258.75 1696.28,-262.09\"/>\n</g>\n<!-- 108 -->\n<g id=\"node109\" class=\"node\">\n<title>108</title>\n<ellipse fill=\"none\" stroke=\"black\" cx=\"1670\" cy=\"-162\" rx=\"29.5\" ry=\"18\"/>\n<text text-anchor=\"middle\" x=\"1670\" y=\"-158.3\" font-family=\"Times,serif\" font-size=\"14.00\">&#45;0.09</text>\n</g>\n<!-- 107&#45;&gt;108 -->\n<g id=\"edge108\" class=\"edge\">\n<title>107&#45;&gt;108</title>\n<path fill=\"none\" stroke=\"black\" d=\"M1698.42,-216.76C1694,-208.4 1688.51,-198.02 1683.53,-188.61\"/>\n<polygon fill=\"black\" stroke=\"black\" points=\"1686.56,-186.84 1678.79,-179.63 1680.37,-190.11 1686.56,-186.84\"/>\n</g>\n<!-- 109 -->\n<g id=\"node110\" class=\"node\">\n<title>109</title>\n<ellipse fill=\"none\" stroke=\"black\" cx=\"1744\" cy=\"-162\" rx=\"27\" ry=\"18\"/>\n<text text-anchor=\"middle\" x=\"1744\" y=\"-158.3\" font-family=\"Times,serif\" font-size=\"14.00\">2.30</text>\n</g>\n<!-- 107&#45;&gt;109 -->\n<g id=\"edge109\" class=\"edge\">\n<title>107&#45;&gt;109</title>\n<path fill=\"none\" stroke=\"black\" d=\"M1715.58,-216.76C1720.06,-208.28 1725.65,-197.71 1730.68,-188.2\"/>\n<polygon fill=\"black\" stroke=\"black\" points=\"1733.89,-189.62 1735.46,-179.15 1727.7,-186.35 1733.89,-189.62\"/>\n</g>\n<!-- 111 -->\n<g id=\"node112\" class=\"node\">\n<title>111</title>\n<ellipse fill=\"none\" stroke=\"black\" cx=\"1781\" cy=\"-234\" rx=\"27\" ry=\"18\"/>\n<text text-anchor=\"middle\" x=\"1781\" y=\"-230.3\" font-family=\"Times,serif\" font-size=\"14.00\">0.51</text>\n</g>\n<!-- 110&#45;&gt;111 -->\n<g id=\"edge111\" class=\"edge\">\n<title>110&#45;&gt;111</title>\n<path fill=\"none\" stroke=\"black\" d=\"M1751.81,-288.76C1756.42,-280.28 1762.16,-269.71 1767.32,-260.2\"/>\n<polygon fill=\"black\" stroke=\"black\" points=\"1770.54,-261.61 1772.23,-251.15 1764.39,-258.27 1770.54,-261.61\"/>\n</g>\n<!-- 112 -->\n<g id=\"node113\" class=\"node\">\n<title>112</title>\n<ellipse fill=\"none\" stroke=\"black\" cx=\"1853\" cy=\"-234\" rx=\"27\" ry=\"18\"/>\n<text text-anchor=\"middle\" x=\"1853\" y=\"-230.3\" font-family=\"Times,serif\" font-size=\"14.00\">3.40</text>\n</g>\n<!-- 110&#45;&gt;112 -->\n<g id=\"edge112\" class=\"edge\">\n<title>110&#45;&gt;112</title>\n<path fill=\"none\" stroke=\"black\" d=\"M1762.16,-292.81C1779.67,-281.67 1805.76,-265.06 1825.49,-252.5\"/>\n<polygon fill=\"black\" stroke=\"black\" points=\"1827.5,-255.37 1834.06,-247.05 1823.74,-249.47 1827.5,-255.37\"/>\n</g>\n<!-- 114 -->\n<g id=\"node115\" class=\"node\">\n<title>114</title>\n<ellipse fill=\"none\" stroke=\"black\" cx=\"1815\" cy=\"-306\" rx=\"27\" ry=\"18\"/>\n<text text-anchor=\"middle\" x=\"1815\" y=\"-302.3\" font-family=\"Times,serif\" font-size=\"14.00\">0.48</text>\n</g>\n<!-- 113&#45;&gt;114 -->\n<g id=\"edge114\" class=\"edge\">\n<title>113&#45;&gt;114</title>\n<path fill=\"none\" stroke=\"black\" d=\"M1815,-359.7C1815,-351.98 1815,-342.71 1815,-334.11\"/>\n<polygon fill=\"black\" stroke=\"black\" points=\"1818.5,-334.1 1815,-324.1 1811.5,-334.1 1818.5,-334.1\"/>\n</g>\n<!-- 115 -->\n<g id=\"node116\" class=\"node\">\n<title>115</title>\n<ellipse fill=\"none\" stroke=\"black\" cx=\"1887\" cy=\"-306\" rx=\"27\" ry=\"18\"/>\n<text text-anchor=\"middle\" x=\"1887\" y=\"-302.3\" font-family=\"Times,serif\" font-size=\"14.00\">4.50</text>\n</g>\n<!-- 113&#45;&gt;115 -->\n<g id=\"edge115\" class=\"edge\">\n<title>113&#45;&gt;115</title>\n<path fill=\"none\" stroke=\"black\" d=\"M1829.57,-362.83C1839.75,-352.94 1853.52,-339.55 1865.03,-328.36\"/>\n<polygon fill=\"black\" stroke=\"black\" points=\"1867.47,-330.87 1872.2,-321.38 1862.59,-325.85 1867.47,-330.87\"/>\n</g>\n<!-- 117 -->\n<g id=\"node118\" class=\"node\">\n<title>117</title>\n<ellipse fill=\"none\" stroke=\"black\" cx=\"1889\" cy=\"-594\" rx=\"29.5\" ry=\"18\"/>\n<text text-anchor=\"middle\" x=\"1889\" y=\"-590.3\" font-family=\"Times,serif\" font-size=\"14.00\">&#45;0.83</text>\n</g>\n<!-- 116&#45;&gt;117 -->\n<g id=\"edge117\" class=\"edge\">\n<title>116&#45;&gt;117</title>\n<path fill=\"none\" stroke=\"black\" d=\"M1889,-647.7C1889,-639.98 1889,-630.71 1889,-622.11\"/>\n<polygon fill=\"black\" stroke=\"black\" points=\"1892.5,-622.1 1889,-612.1 1885.5,-622.1 1892.5,-622.1\"/>\n</g>\n<!-- 118 -->\n<g id=\"node119\" class=\"node\">\n<title>118</title>\n<ellipse fill=\"none\" stroke=\"black\" cx=\"1979\" cy=\"-594\" rx=\"27\" ry=\"18\"/>\n<text text-anchor=\"middle\" x=\"1979\" y=\"-590.3\" font-family=\"Times,serif\" font-size=\"14.00\">0.82</text>\n</g>\n<!-- 116&#45;&gt;118 -->\n<g id=\"edge118\" class=\"edge\">\n<title>116&#45;&gt;118</title>\n<path fill=\"none\" stroke=\"black\" d=\"M1906.35,-651.5C1919.89,-640.98 1938.87,-626.22 1954.03,-614.42\"/>\n<polygon fill=\"black\" stroke=\"black\" points=\"1956.26,-617.12 1962.01,-608.22 1951.96,-611.59 1956.26,-617.12\"/>\n</g>\n<!-- 119 -->\n<g id=\"node120\" class=\"node\">\n<title>119</title>\n<ellipse fill=\"none\" stroke=\"black\" cx=\"2041\" cy=\"-522\" rx=\"27\" ry=\"18\"/>\n<text text-anchor=\"middle\" x=\"2041\" y=\"-518.3\" font-family=\"Times,serif\" font-size=\"14.00\">0.82</text>\n</g>\n<!-- 118&#45;&gt;119 -->\n<g id=\"edge119\" class=\"edge\">\n<title>118&#45;&gt;119</title>\n<path fill=\"none\" stroke=\"black\" d=\"M1992.15,-578.15C2000.53,-568.69 2011.56,-556.24 2021.02,-545.56\"/>\n<polygon fill=\"black\" stroke=\"black\" points=\"2023.86,-547.63 2027.87,-537.82 2018.62,-542.99 2023.86,-547.63\"/>\n</g>\n<!-- 120 -->\n<g id=\"node121\" class=\"node\">\n<title>120</title>\n<ellipse fill=\"none\" stroke=\"black\" cx=\"2041\" cy=\"-450\" rx=\"27\" ry=\"18\"/>\n<text text-anchor=\"middle\" x=\"2041\" y=\"-446.3\" font-family=\"Times,serif\" font-size=\"14.00\">3.83</text>\n</g>\n<!-- 119&#45;&gt;120 -->\n<g id=\"edge120\" class=\"edge\">\n<title>119&#45;&gt;120</title>\n<path fill=\"none\" stroke=\"black\" d=\"M2041,-503.7C2041,-495.98 2041,-486.71 2041,-478.11\"/>\n<polygon fill=\"black\" stroke=\"black\" points=\"2044.5,-478.1 2041,-468.1 2037.5,-478.1 2044.5,-478.1\"/>\n</g>\n<!-- 129 -->\n<g id=\"node130\" class=\"node\">\n<title>129</title>\n<ellipse fill=\"none\" stroke=\"black\" cx=\"2141\" cy=\"-450\" rx=\"29.5\" ry=\"18\"/>\n<text text-anchor=\"middle\" x=\"2141\" y=\"-446.3\" font-family=\"Times,serif\" font-size=\"14.00\">&#45;3.01</text>\n</g>\n<!-- 119&#45;&gt;129 -->\n<g id=\"edge129\" class=\"edge\">\n<title>119&#45;&gt;129</title>\n<path fill=\"none\" stroke=\"black\" d=\"M2058.88,-508.49C2074.09,-497.84 2096.18,-482.37 2113.62,-470.16\"/>\n<polygon fill=\"black\" stroke=\"black\" points=\"2116.07,-472.72 2122.26,-464.12 2112.06,-466.99 2116.07,-472.72\"/>\n</g>\n<!-- 121 -->\n<g id=\"node122\" class=\"node\">\n<title>121</title>\n<ellipse fill=\"none\" stroke=\"black\" cx=\"1995\" cy=\"-378\" rx=\"27\" ry=\"18\"/>\n<text text-anchor=\"middle\" x=\"1995\" y=\"-374.3\" font-family=\"Times,serif\" font-size=\"14.00\">1.52</text>\n</g>\n<!-- 120&#45;&gt;121 -->\n<g id=\"edge121\" class=\"edge\">\n<title>120&#45;&gt;121</title>\n<path fill=\"none\" stroke=\"black\" d=\"M2030.56,-433.12C2024.8,-424.34 2017.52,-413.26 2011.04,-403.42\"/>\n<polygon fill=\"black\" stroke=\"black\" points=\"2013.81,-401.26 2005.4,-394.82 2007.96,-405.1 2013.81,-401.26\"/>\n</g>\n<!-- 126 -->\n<g id=\"node127\" class=\"node\">\n<title>126</title>\n<ellipse fill=\"none\" stroke=\"black\" cx=\"2067\" cy=\"-378\" rx=\"27\" ry=\"18\"/>\n<text text-anchor=\"middle\" x=\"2067\" y=\"-374.3\" font-family=\"Times,serif\" font-size=\"14.00\">2.31</text>\n</g>\n<!-- 120&#45;&gt;126 -->\n<g id=\"edge126\" class=\"edge\">\n<title>120&#45;&gt;126</title>\n<path fill=\"none\" stroke=\"black\" d=\"M2047.16,-432.41C2050.16,-424.34 2053.84,-414.43 2057.21,-405.35\"/>\n<polygon fill=\"black\" stroke=\"black\" points=\"2060.5,-406.55 2060.7,-395.96 2053.94,-404.11 2060.5,-406.55\"/>\n</g>\n<!-- 122 -->\n<g id=\"node123\" class=\"node\">\n<title>122</title>\n<ellipse fill=\"none\" stroke=\"black\" cx=\"1959\" cy=\"-306\" rx=\"27\" ry=\"18\"/>\n<text text-anchor=\"middle\" x=\"1959\" y=\"-302.3\" font-family=\"Times,serif\" font-size=\"14.00\">0.56</text>\n</g>\n<!-- 121&#45;&gt;122 -->\n<g id=\"edge122\" class=\"edge\">\n<title>121&#45;&gt;122</title>\n<path fill=\"none\" stroke=\"black\" d=\"M1986.65,-360.76C1982.29,-352.28 1976.85,-341.71 1971.96,-332.2\"/>\n<polygon fill=\"black\" stroke=\"black\" points=\"1974.99,-330.44 1967.3,-323.15 1968.77,-333.64 1974.99,-330.44\"/>\n</g>\n<!-- 123 -->\n<g id=\"node124\" class=\"node\">\n<title>123</title>\n<ellipse fill=\"none\" stroke=\"black\" cx=\"2031\" cy=\"-306\" rx=\"27\" ry=\"18\"/>\n<text text-anchor=\"middle\" x=\"2031\" y=\"-302.3\" font-family=\"Times,serif\" font-size=\"14.00\">0.96</text>\n</g>\n<!-- 121&#45;&gt;123 -->\n<g id=\"edge123\" class=\"edge\">\n<title>121&#45;&gt;123</title>\n<path fill=\"none\" stroke=\"black\" d=\"M2003.35,-360.76C2007.71,-352.28 2013.15,-341.71 2018.04,-332.2\"/>\n<polygon fill=\"black\" stroke=\"black\" points=\"2021.23,-333.64 2022.7,-323.15 2015.01,-330.44 2021.23,-333.64\"/>\n</g>\n<!-- 124 -->\n<g id=\"node125\" class=\"node\">\n<title>124</title>\n<ellipse fill=\"none\" stroke=\"black\" cx=\"1995\" cy=\"-234\" rx=\"27\" ry=\"18\"/>\n<text text-anchor=\"middle\" x=\"1995\" y=\"-230.3\" font-family=\"Times,serif\" font-size=\"14.00\">0.42</text>\n</g>\n<!-- 123&#45;&gt;124 -->\n<g id=\"edge124\" class=\"edge\">\n<title>123&#45;&gt;124</title>\n<path fill=\"none\" stroke=\"black\" d=\"M2022.65,-288.76C2018.29,-280.28 2012.85,-269.71 2007.96,-260.2\"/>\n<polygon fill=\"black\" stroke=\"black\" points=\"2010.99,-258.44 2003.3,-251.15 2004.77,-261.64 2010.99,-258.44\"/>\n</g>\n<!-- 125 -->\n<g id=\"node126\" class=\"node\">\n<title>125</title>\n<ellipse fill=\"none\" stroke=\"black\" cx=\"2067\" cy=\"-234\" rx=\"27\" ry=\"18\"/>\n<text text-anchor=\"middle\" x=\"2067\" y=\"-230.3\" font-family=\"Times,serif\" font-size=\"14.00\">2.30</text>\n</g>\n<!-- 123&#45;&gt;125 -->\n<g id=\"edge125\" class=\"edge\">\n<title>123&#45;&gt;125</title>\n<path fill=\"none\" stroke=\"black\" d=\"M2039.35,-288.76C2043.71,-280.28 2049.15,-269.71 2054.04,-260.2\"/>\n<polygon fill=\"black\" stroke=\"black\" points=\"2057.23,-261.64 2058.7,-251.15 2051.01,-258.44 2057.23,-261.64\"/>\n</g>\n<!-- 127 -->\n<g id=\"node128\" class=\"node\">\n<title>127</title>\n<ellipse fill=\"none\" stroke=\"black\" cx=\"2103\" cy=\"-306\" rx=\"27\" ry=\"18\"/>\n<text text-anchor=\"middle\" x=\"2103\" y=\"-302.3\" font-family=\"Times,serif\" font-size=\"14.00\">0.68</text>\n</g>\n<!-- 126&#45;&gt;127 -->\n<g id=\"edge127\" class=\"edge\">\n<title>126&#45;&gt;127</title>\n<path fill=\"none\" stroke=\"black\" d=\"M2075.35,-360.76C2079.71,-352.28 2085.15,-341.71 2090.04,-332.2\"/>\n<polygon fill=\"black\" stroke=\"black\" points=\"2093.23,-333.64 2094.7,-323.15 2087.01,-330.44 2093.23,-333.64\"/>\n</g>\n<!-- 128 -->\n<g id=\"node129\" class=\"node\">\n<title>128</title>\n<ellipse fill=\"none\" stroke=\"black\" cx=\"2175\" cy=\"-306\" rx=\"27\" ry=\"18\"/>\n<text text-anchor=\"middle\" x=\"2175\" y=\"-302.3\" font-family=\"Times,serif\" font-size=\"14.00\">3.40</text>\n</g>\n<!-- 126&#45;&gt;128 -->\n<g id=\"edge128\" class=\"edge\">\n<title>126&#45;&gt;128</title>\n<path fill=\"none\" stroke=\"black\" d=\"M2085.81,-364.81C2103,-353.67 2128.62,-337.06 2147.99,-324.5\"/>\n<polygon fill=\"black\" stroke=\"black\" points=\"2149.92,-327.43 2156.4,-319.05 2146.11,-321.56 2149.92,-327.43\"/>\n</g>\n<!-- 130 -->\n<g id=\"node131\" class=\"node\">\n<title>130</title>\n<ellipse fill=\"none\" stroke=\"black\" cx=\"2141\" cy=\"-378\" rx=\"29.5\" ry=\"18\"/>\n<text text-anchor=\"middle\" x=\"2141\" y=\"-374.3\" font-family=\"Times,serif\" font-size=\"14.00\">&#45;0.67</text>\n</g>\n<!-- 129&#45;&gt;130 -->\n<g id=\"edge130\" class=\"edge\">\n<title>129&#45;&gt;130</title>\n<path fill=\"none\" stroke=\"black\" d=\"M2141,-431.7C2141,-423.98 2141,-414.71 2141,-406.11\"/>\n<polygon fill=\"black\" stroke=\"black\" points=\"2144.5,-406.1 2141,-396.1 2137.5,-406.1 2144.5,-406.1\"/>\n</g>\n<!-- 131 -->\n<g id=\"node132\" class=\"node\">\n<title>131</title>\n<ellipse fill=\"none\" stroke=\"black\" cx=\"2215\" cy=\"-378\" rx=\"27\" ry=\"18\"/>\n<text text-anchor=\"middle\" x=\"2215\" y=\"-374.3\" font-family=\"Times,serif\" font-size=\"14.00\">4.50</text>\n</g>\n<!-- 129&#45;&gt;131 -->\n<g id=\"edge131\" class=\"edge\">\n<title>129&#45;&gt;131</title>\n<path fill=\"none\" stroke=\"black\" d=\"M2156.33,-434.5C2166.82,-424.58 2180.89,-411.26 2192.63,-400.16\"/>\n<polygon fill=\"black\" stroke=\"black\" points=\"2195.08,-402.66 2199.94,-393.25 2190.27,-397.58 2195.08,-402.66\"/>\n</g>\n<!-- 133 -->\n<g id=\"node134\" class=\"node\">\n<title>133</title>\n<ellipse fill=\"none\" stroke=\"black\" cx=\"2107\" cy=\"-666\" rx=\"27\" ry=\"18\"/>\n<text text-anchor=\"middle\" x=\"2107\" y=\"-662.3\" font-family=\"Times,serif\" font-size=\"14.00\">0.17</text>\n</g>\n<!-- 132&#45;&gt;133 -->\n<g id=\"edge133\" class=\"edge\">\n<title>132&#45;&gt;133</title>\n<path fill=\"none\" stroke=\"black\" d=\"M2107,-719.7C2107,-711.98 2107,-702.71 2107,-694.11\"/>\n<polygon fill=\"black\" stroke=\"black\" points=\"2110.5,-694.1 2107,-684.1 2103.5,-694.1 2110.5,-694.1\"/>\n</g>\n<!-- 134 -->\n<g id=\"node135\" class=\"node\">\n<title>134</title>\n<ellipse fill=\"none\" stroke=\"black\" cx=\"2251\" cy=\"-666\" rx=\"27\" ry=\"18\"/>\n<text text-anchor=\"middle\" x=\"2251\" y=\"-662.3\" font-family=\"Times,serif\" font-size=\"14.00\">0.00</text>\n</g>\n<!-- 132&#45;&gt;134 -->\n<g id=\"edge134\" class=\"edge\">\n<title>132&#45;&gt;134</title>\n<path fill=\"none\" stroke=\"black\" d=\"M2128.25,-726.67C2152.6,-714.83 2192.72,-695.33 2220.43,-681.86\"/>\n<polygon fill=\"black\" stroke=\"black\" points=\"2222.2,-684.89 2229.67,-677.37 2219.14,-678.6 2222.2,-684.89\"/>\n</g>\n<!-- 135 -->\n<g id=\"node136\" class=\"node\">\n<title>135</title>\n<ellipse fill=\"none\" stroke=\"black\" cx=\"2403\" cy=\"-594\" rx=\"29.5\" ry=\"18\"/>\n<text text-anchor=\"middle\" x=\"2403\" y=\"-590.3\" font-family=\"Times,serif\" font-size=\"14.00\">&#45;1.59</text>\n</g>\n<!-- 134&#45;&gt;135 -->\n<g id=\"edge135\" class=\"edge\">\n<title>134&#45;&gt;135</title>\n<path fill=\"none\" stroke=\"black\" d=\"M2272.78,-654.97C2298.44,-643.15 2341.32,-623.4 2370.82,-609.82\"/>\n<polygon fill=\"black\" stroke=\"black\" points=\"2372.65,-612.83 2380.27,-605.47 2369.72,-606.47 2372.65,-612.83\"/>\n</g>\n<!-- 136 -->\n<g id=\"node137\" class=\"node\">\n<title>136</title>\n<ellipse fill=\"none\" stroke=\"black\" cx=\"2403\" cy=\"-522\" rx=\"29.5\" ry=\"18\"/>\n<text text-anchor=\"middle\" x=\"2403\" y=\"-518.3\" font-family=\"Times,serif\" font-size=\"14.00\">&#45;3.08</text>\n</g>\n<!-- 135&#45;&gt;136 -->\n<g id=\"edge136\" class=\"edge\">\n<title>135&#45;&gt;136</title>\n<path fill=\"none\" stroke=\"black\" d=\"M2403,-575.7C2403,-567.98 2403,-558.71 2403,-550.11\"/>\n<polygon fill=\"black\" stroke=\"black\" points=\"2406.5,-550.1 2403,-540.1 2399.5,-550.1 2406.5,-550.1\"/>\n</g>\n<!-- 145 -->\n<g id=\"node146\" class=\"node\">\n<title>145</title>\n<ellipse fill=\"none\" stroke=\"black\" cx=\"2515\" cy=\"-522\" rx=\"27\" ry=\"18\"/>\n<text text-anchor=\"middle\" x=\"2515\" y=\"-518.3\" font-family=\"Times,serif\" font-size=\"14.00\">1.49</text>\n</g>\n<!-- 135&#45;&gt;145 -->\n<g id=\"edge145\" class=\"edge\">\n<title>135&#45;&gt;145</title>\n<path fill=\"none\" stroke=\"black\" d=\"M2422.77,-580.65C2440.63,-569.48 2467.11,-552.93 2487.12,-540.42\"/>\n<polygon fill=\"black\" stroke=\"black\" points=\"2489.18,-543.26 2495.81,-535 2485.47,-537.33 2489.18,-543.26\"/>\n</g>\n<!-- 137 -->\n<g id=\"node138\" class=\"node\">\n<title>137</title>\n<ellipse fill=\"none\" stroke=\"black\" cx=\"2365\" cy=\"-450\" rx=\"29.5\" ry=\"18\"/>\n<text text-anchor=\"middle\" x=\"2365\" y=\"-446.3\" font-family=\"Times,serif\" font-size=\"14.00\">&#45;1.76</text>\n</g>\n<!-- 136&#45;&gt;137 -->\n<g id=\"edge137\" class=\"edge\">\n<title>136&#45;&gt;137</title>\n<path fill=\"none\" stroke=\"black\" d=\"M2394.19,-504.76C2389.65,-496.4 2384.01,-486.02 2378.9,-476.61\"/>\n<polygon fill=\"black\" stroke=\"black\" points=\"2381.88,-474.75 2374.03,-467.63 2375.72,-478.09 2381.88,-474.75\"/>\n</g>\n<!-- 142 -->\n<g id=\"node143\" class=\"node\">\n<title>142</title>\n<ellipse fill=\"none\" stroke=\"black\" cx=\"2441\" cy=\"-450\" rx=\"29.5\" ry=\"18\"/>\n<text text-anchor=\"middle\" x=\"2441\" y=\"-446.3\" font-family=\"Times,serif\" font-size=\"14.00\">&#45;1.32</text>\n</g>\n<!-- 136&#45;&gt;142 -->\n<g id=\"edge142\" class=\"edge\">\n<title>136&#45;&gt;142</title>\n<path fill=\"none\" stroke=\"black\" d=\"M2411.81,-504.76C2416.35,-496.4 2421.99,-486.02 2427.1,-476.61\"/>\n<polygon fill=\"black\" stroke=\"black\" points=\"2430.28,-478.09 2431.97,-467.63 2424.12,-474.75 2430.28,-478.09\"/>\n</g>\n<!-- 138 -->\n<g id=\"node139\" class=\"node\">\n<title>138</title>\n<ellipse fill=\"none\" stroke=\"black\" cx=\"2289\" cy=\"-378\" rx=\"29.5\" ry=\"18\"/>\n<text text-anchor=\"middle\" x=\"2289\" y=\"-374.3\" font-family=\"Times,serif\" font-size=\"14.00\">&#45;0.78</text>\n</g>\n<!-- 137&#45;&gt;138 -->\n<g id=\"edge138\" class=\"edge\">\n<title>137&#45;&gt;138</title>\n<path fill=\"none\" stroke=\"black\" d=\"M2349.25,-434.5C2338.55,-424.64 2324.22,-411.44 2312.22,-400.38\"/>\n<polygon fill=\"black\" stroke=\"black\" points=\"2314.45,-397.69 2304.73,-393.49 2309.71,-402.83 2314.45,-397.69\"/>\n</g>\n<!-- 139 -->\n<g id=\"node140\" class=\"node\">\n<title>139</title>\n<ellipse fill=\"none\" stroke=\"black\" cx=\"2365\" cy=\"-378\" rx=\"29.5\" ry=\"18\"/>\n<text text-anchor=\"middle\" x=\"2365\" y=\"-374.3\" font-family=\"Times,serif\" font-size=\"14.00\">&#45;0.98</text>\n</g>\n<!-- 137&#45;&gt;139 -->\n<g id=\"edge139\" class=\"edge\">\n<title>137&#45;&gt;139</title>\n<path fill=\"none\" stroke=\"black\" d=\"M2365,-431.7C2365,-423.98 2365,-414.71 2365,-406.11\"/>\n<polygon fill=\"black\" stroke=\"black\" points=\"2368.5,-406.1 2365,-396.1 2361.5,-406.1 2368.5,-406.1\"/>\n</g>\n<!-- 140 -->\n<g id=\"node141\" class=\"node\">\n<title>140</title>\n<ellipse fill=\"none\" stroke=\"black\" cx=\"2328\" cy=\"-306\" rx=\"29.5\" ry=\"18\"/>\n<text text-anchor=\"middle\" x=\"2328\" y=\"-302.3\" font-family=\"Times,serif\" font-size=\"14.00\">&#45;0.43</text>\n</g>\n<!-- 139&#45;&gt;140 -->\n<g id=\"edge140\" class=\"edge\">\n<title>139&#45;&gt;140</title>\n<path fill=\"none\" stroke=\"black\" d=\"M2356.42,-360.76C2352,-352.4 2346.51,-342.02 2341.53,-332.61\"/>\n<polygon fill=\"black\" stroke=\"black\" points=\"2344.56,-330.84 2336.79,-323.63 2338.37,-334.11 2344.56,-330.84\"/>\n</g>\n<!-- 141 -->\n<g id=\"node142\" class=\"node\">\n<title>141</title>\n<ellipse fill=\"none\" stroke=\"black\" cx=\"2402\" cy=\"-306\" rx=\"27\" ry=\"18\"/>\n<text text-anchor=\"middle\" x=\"2402\" y=\"-302.3\" font-family=\"Times,serif\" font-size=\"14.00\">2.30</text>\n</g>\n<!-- 139&#45;&gt;141 -->\n<g id=\"edge141\" class=\"edge\">\n<title>139&#45;&gt;141</title>\n<path fill=\"none\" stroke=\"black\" d=\"M2373.58,-360.76C2378.06,-352.28 2383.65,-341.71 2388.68,-332.2\"/>\n<polygon fill=\"black\" stroke=\"black\" points=\"2391.89,-333.62 2393.46,-323.15 2385.7,-330.35 2391.89,-333.62\"/>\n</g>\n<!-- 143 -->\n<g id=\"node144\" class=\"node\">\n<title>143</title>\n<ellipse fill=\"none\" stroke=\"black\" cx=\"2441\" cy=\"-378\" rx=\"29.5\" ry=\"18\"/>\n<text text-anchor=\"middle\" x=\"2441\" y=\"-374.3\" font-family=\"Times,serif\" font-size=\"14.00\">&#45;0.39</text>\n</g>\n<!-- 142&#45;&gt;143 -->\n<g id=\"edge143\" class=\"edge\">\n<title>142&#45;&gt;143</title>\n<path fill=\"none\" stroke=\"black\" d=\"M2441,-431.7C2441,-423.98 2441,-414.71 2441,-406.11\"/>\n<polygon fill=\"black\" stroke=\"black\" points=\"2444.5,-406.1 2441,-396.1 2437.5,-406.1 2444.5,-406.1\"/>\n</g>\n<!-- 144 -->\n<g id=\"node145\" class=\"node\">\n<title>144</title>\n<ellipse fill=\"none\" stroke=\"black\" cx=\"2515\" cy=\"-378\" rx=\"27\" ry=\"18\"/>\n<text text-anchor=\"middle\" x=\"2515\" y=\"-374.3\" font-family=\"Times,serif\" font-size=\"14.00\">3.40</text>\n</g>\n<!-- 142&#45;&gt;144 -->\n<g id=\"edge144\" class=\"edge\">\n<title>142&#45;&gt;144</title>\n<path fill=\"none\" stroke=\"black\" d=\"M2456.33,-434.5C2466.82,-424.58 2480.89,-411.26 2492.63,-400.16\"/>\n<polygon fill=\"black\" stroke=\"black\" points=\"2495.08,-402.66 2499.94,-393.25 2490.27,-397.58 2495.08,-402.66\"/>\n</g>\n<!-- 146 -->\n<g id=\"node147\" class=\"node\">\n<title>146</title>\n<ellipse fill=\"none\" stroke=\"black\" cx=\"2515\" cy=\"-450\" rx=\"27\" ry=\"18\"/>\n<text text-anchor=\"middle\" x=\"2515\" y=\"-446.3\" font-family=\"Times,serif\" font-size=\"14.00\">0.33</text>\n</g>\n<!-- 145&#45;&gt;146 -->\n<g id=\"edge146\" class=\"edge\">\n<title>145&#45;&gt;146</title>\n<path fill=\"none\" stroke=\"black\" d=\"M2515,-503.7C2515,-495.98 2515,-486.71 2515,-478.11\"/>\n<polygon fill=\"black\" stroke=\"black\" points=\"2518.5,-478.1 2515,-468.1 2511.5,-478.1 2518.5,-478.1\"/>\n</g>\n<!-- 147 -->\n<g id=\"node148\" class=\"node\">\n<title>147</title>\n<ellipse fill=\"none\" stroke=\"black\" cx=\"2587\" cy=\"-450\" rx=\"27\" ry=\"18\"/>\n<text text-anchor=\"middle\" x=\"2587\" y=\"-446.3\" font-family=\"Times,serif\" font-size=\"14.00\">4.50</text>\n</g>\n<!-- 145&#45;&gt;147 -->\n<g id=\"edge147\" class=\"edge\">\n<title>145&#45;&gt;147</title>\n<path fill=\"none\" stroke=\"black\" d=\"M2529.57,-506.83C2539.75,-496.94 2553.52,-483.55 2565.03,-472.36\"/>\n<polygon fill=\"black\" stroke=\"black\" points=\"2567.47,-474.87 2572.2,-465.38 2562.59,-469.85 2567.47,-474.87\"/>\n</g>\n</g>\n</svg>\n",
            "text/plain": [
              "<graphviz.graphs.Digraph at 0x7875e8147b20>"
            ]
          },
          "metadata": {},
          "execution_count": 35
        }
      ]
    },
    {
      "cell_type": "code",
      "source": [],
      "metadata": {
        "id": "2PPHkFioGoqE"
      },
      "execution_count": null,
      "outputs": []
    },
    {
      "cell_type": "markdown",
      "source": [
        "# Differentiation vs. Gradient"
      ],
      "metadata": {
        "id": "2jvqdHQ9zNSJ"
      }
    },
    {
      "cell_type": "code",
      "source": [
        "def fn(x, y, z):\n",
        "    return x**2 + 3*y + x*z"
      ],
      "metadata": {
        "id": "1zIpkUMHzQlG"
      },
      "execution_count": null,
      "outputs": []
    },
    {
      "cell_type": "code",
      "source": [
        "fn(1,2,3)"
      ],
      "metadata": {
        "colab": {
          "base_uri": "https://localhost:8080/"
        },
        "id": "BqUArHdTztLA",
        "outputId": "aa9cdd3b-d272-48b0-c24f-40d0931dfb66"
      },
      "execution_count": null,
      "outputs": [
        {
          "output_type": "execute_result",
          "data": {
            "text/plain": [
              "10"
            ]
          },
          "metadata": {},
          "execution_count": 37
        }
      ]
    },
    {
      "cell_type": "code",
      "source": [
        "fn(2,3,4)"
      ],
      "metadata": {
        "colab": {
          "base_uri": "https://localhost:8080/"
        },
        "id": "cyvOLHUrzudR",
        "outputId": "31ff06d3-8827-4bff-88f6-2f881e064ff0"
      },
      "execution_count": null,
      "outputs": [
        {
          "output_type": "execute_result",
          "data": {
            "text/plain": [
              "21"
            ]
          },
          "metadata": {},
          "execution_count": 38
        }
      ]
    },
    {
      "cell_type": "code",
      "source": [
        "h = 0.001"
      ],
      "metadata": {
        "id": "6s6NWFzyzwys"
      },
      "execution_count": null,
      "outputs": []
    },
    {
      "cell_type": "code",
      "source": [
        "(fn(2+h,3,4) - fn(2,3,4))/h"
      ],
      "metadata": {
        "colab": {
          "base_uri": "https://localhost:8080/"
        },
        "id": "iy7uWEo70BvQ",
        "outputId": "4f2c5a14-4342-4c64-81fb-391960133ad7"
      },
      "execution_count": null,
      "outputs": [
        {
          "output_type": "execute_result",
          "data": {
            "text/plain": [
              "8.001000000000147"
            ]
          },
          "metadata": {},
          "execution_count": 44
        }
      ]
    },
    {
      "cell_type": "code",
      "source": [
        "(fn(2,3+h,4) - fn(2,3,4))/h"
      ],
      "metadata": {
        "colab": {
          "base_uri": "https://localhost:8080/"
        },
        "id": "lRG_MQQEz5fS",
        "outputId": "90544d8b-c00e-439c-be32-9cb4cd81986a"
      },
      "execution_count": null,
      "outputs": [
        {
          "output_type": "execute_result",
          "data": {
            "text/plain": [
              "3.0000000000001137"
            ]
          },
          "metadata": {},
          "execution_count": 45
        }
      ]
    },
    {
      "cell_type": "code",
      "source": [
        "(fn(2,3,4+h) - fn(2,3,4))/h"
      ],
      "metadata": {
        "colab": {
          "base_uri": "https://localhost:8080/"
        },
        "id": "_9u7lspF0JP3",
        "outputId": "5bd99e35-290b-4485-88ce-d847e520c9da"
      },
      "execution_count": null,
      "outputs": [
        {
          "output_type": "execute_result",
          "data": {
            "text/plain": [
              "2.0000000000024443"
            ]
          },
          "metadata": {},
          "execution_count": 46
        }
      ]
    },
    {
      "cell_type": "code",
      "source": [],
      "metadata": {
        "id": "2BaFGcx90R9d"
      },
      "execution_count": null,
      "outputs": []
    }
  ]
}