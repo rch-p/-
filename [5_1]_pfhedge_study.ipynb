{
  "nbformat": 4,
  "nbformat_minor": 0,
  "metadata": {
    "colab": {
      "provenance": []
    },
    "kernelspec": {
      "name": "python3",
      "display_name": "Python 3"
    },
    "language_info": {
      "name": "python"
    }
  },
  "cells": [
    {
      "cell_type": "code",
      "execution_count": null,
      "metadata": {
        "colab": {
          "base_uri": "https://localhost:8080/"
        },
        "id": "d4_t8pKlBeEr",
        "outputId": "f9d8e677-3afa-4485-dddd-575bb77b8a35"
      },
      "outputs": [
        {
          "output_type": "stream",
          "name": "stdout",
          "text": [
            "Requirement already satisfied: pfhedge in /usr/local/lib/python3.10/dist-packages (0.21.1)\n",
            "Requirement already satisfied: torch<3.0.0,>=1.9.0 in /usr/local/lib/python3.10/dist-packages (from pfhedge) (2.3.1+cu121)\n",
            "Requirement already satisfied: tqdm<5.0.0,>=4.62.3 in /usr/local/lib/python3.10/dist-packages (from pfhedge) (4.66.4)\n",
            "Requirement already satisfied: filelock in /usr/local/lib/python3.10/dist-packages (from torch<3.0.0,>=1.9.0->pfhedge) (3.15.4)\n",
            "Requirement already satisfied: typing-extensions>=4.8.0 in /usr/local/lib/python3.10/dist-packages (from torch<3.0.0,>=1.9.0->pfhedge) (4.12.2)\n",
            "Requirement already satisfied: sympy in /usr/local/lib/python3.10/dist-packages (from torch<3.0.0,>=1.9.0->pfhedge) (1.13.0)\n",
            "Requirement already satisfied: networkx in /usr/local/lib/python3.10/dist-packages (from torch<3.0.0,>=1.9.0->pfhedge) (3.3)\n",
            "Requirement already satisfied: jinja2 in /usr/local/lib/python3.10/dist-packages (from torch<3.0.0,>=1.9.0->pfhedge) (3.1.4)\n",
            "Requirement already satisfied: fsspec in /usr/local/lib/python3.10/dist-packages (from torch<3.0.0,>=1.9.0->pfhedge) (2023.6.0)\n",
            "Requirement already satisfied: nvidia-cuda-nvrtc-cu12==12.1.105 in /usr/local/lib/python3.10/dist-packages (from torch<3.0.0,>=1.9.0->pfhedge) (12.1.105)\n",
            "Requirement already satisfied: nvidia-cuda-runtime-cu12==12.1.105 in /usr/local/lib/python3.10/dist-packages (from torch<3.0.0,>=1.9.0->pfhedge) (12.1.105)\n",
            "Requirement already satisfied: nvidia-cuda-cupti-cu12==12.1.105 in /usr/local/lib/python3.10/dist-packages (from torch<3.0.0,>=1.9.0->pfhedge) (12.1.105)\n",
            "Requirement already satisfied: nvidia-cudnn-cu12==8.9.2.26 in /usr/local/lib/python3.10/dist-packages (from torch<3.0.0,>=1.9.0->pfhedge) (8.9.2.26)\n",
            "Requirement already satisfied: nvidia-cublas-cu12==12.1.3.1 in /usr/local/lib/python3.10/dist-packages (from torch<3.0.0,>=1.9.0->pfhedge) (12.1.3.1)\n",
            "Requirement already satisfied: nvidia-cufft-cu12==11.0.2.54 in /usr/local/lib/python3.10/dist-packages (from torch<3.0.0,>=1.9.0->pfhedge) (11.0.2.54)\n",
            "Requirement already satisfied: nvidia-curand-cu12==10.3.2.106 in /usr/local/lib/python3.10/dist-packages (from torch<3.0.0,>=1.9.0->pfhedge) (10.3.2.106)\n",
            "Requirement already satisfied: nvidia-cusolver-cu12==11.4.5.107 in /usr/local/lib/python3.10/dist-packages (from torch<3.0.0,>=1.9.0->pfhedge) (11.4.5.107)\n",
            "Requirement already satisfied: nvidia-cusparse-cu12==12.1.0.106 in /usr/local/lib/python3.10/dist-packages (from torch<3.0.0,>=1.9.0->pfhedge) (12.1.0.106)\n",
            "Requirement already satisfied: nvidia-nccl-cu12==2.20.5 in /usr/local/lib/python3.10/dist-packages (from torch<3.0.0,>=1.9.0->pfhedge) (2.20.5)\n",
            "Requirement already satisfied: nvidia-nvtx-cu12==12.1.105 in /usr/local/lib/python3.10/dist-packages (from torch<3.0.0,>=1.9.0->pfhedge) (12.1.105)\n",
            "Requirement already satisfied: triton==2.3.1 in /usr/local/lib/python3.10/dist-packages (from torch<3.0.0,>=1.9.0->pfhedge) (2.3.1)\n",
            "Requirement already satisfied: nvidia-nvjitlink-cu12 in /usr/local/lib/python3.10/dist-packages (from nvidia-cusolver-cu12==11.4.5.107->torch<3.0.0,>=1.9.0->pfhedge) (12.5.82)\n",
            "Requirement already satisfied: MarkupSafe>=2.0 in /usr/local/lib/python3.10/dist-packages (from jinja2->torch<3.0.0,>=1.9.0->pfhedge) (2.1.5)\n",
            "Requirement already satisfied: mpmath<1.4,>=1.1.0 in /usr/local/lib/python3.10/dist-packages (from sympy->torch<3.0.0,>=1.9.0->pfhedge) (1.3.0)\n"
          ]
        }
      ],
      "source": [
        "!pip install pfhedge"
      ]
    },
    {
      "cell_type": "code",
      "source": [
        "import torch"
      ],
      "metadata": {
        "id": "grqWi7glmbLm"
      },
      "execution_count": null,
      "outputs": []
    },
    {
      "cell_type": "markdown",
      "source": [
        "### Starting example"
      ],
      "metadata": {
        "id": "PKLGmTSznZ9m"
      }
    },
    {
      "cell_type": "code",
      "source": [
        "from pfhedge.instruments import BrownianStock\n",
        "from pfhedge.instruments import EuropeanOption\n",
        "\n",
        "stock = BrownianStock(cost=0.0001)\n",
        "derivative = EuropeanOption(stock)\n",
        "\n",
        "derivative"
      ],
      "metadata": {
        "colab": {
          "base_uri": "https://localhost:8080/"
        },
        "id": "DePdxiSzBmFX",
        "outputId": "8b310afc-ece9-4871-f532-b3262c4d8aff"
      },
      "execution_count": null,
      "outputs": [
        {
          "output_type": "execute_result",
          "data": {
            "text/plain": [
              "EuropeanOption(\n",
              "  strike=1., maturity=0.0800\n",
              "  (underlier): BrownianStock(sigma=0.2000, cost=1.0000e-04, dt=0.0040)\n",
              ")"
            ]
          },
          "metadata": {},
          "execution_count": 13
        }
      ]
    },
    {
      "cell_type": "markdown",
      "source": [
        "### MLP"
      ],
      "metadata": {
        "id": "hVgkHyMvnVRV"
      }
    },
    {
      "cell_type": "code",
      "source": [
        "from pfhedge.nn import Hedger\n",
        "from pfhedge.nn import MultiLayerPerceptron\n",
        "\n",
        "model = MultiLayerPerceptron()\n",
        "hedger = Hedger(model, inputs=[\"log_moneyness\", \"expiry_time\", \"volatility\", \"prev_hedge\"])"
      ],
      "metadata": {
        "colab": {
          "base_uri": "https://localhost:8080/"
        },
        "id": "Bpbl9qkzCAYV",
        "outputId": "acf7b00a-b775-4b13-c3f3-90acec3eea6f"
      },
      "execution_count": null,
      "outputs": [
        {
          "output_type": "stream",
          "name": "stderr",
          "text": [
            "/usr/local/lib/python3.10/dist-packages/torch/nn/modules/lazy.py:181: UserWarning: Lazy modules are a new feature under heavy development so changes to the API or functionality can happen at any moment.\n",
            "  warnings.warn('Lazy modules are a new feature under heavy development '\n"
          ]
        }
      ]
    },
    {
      "cell_type": "code",
      "source": [
        "hedger"
      ],
      "metadata": {
        "id": "D4ooqvkxdIs3",
        "colab": {
          "base_uri": "https://localhost:8080/"
        },
        "outputId": "9aeec418-f8bb-4ec9-e8cb-d6e2e97312eb"
      },
      "execution_count": null,
      "outputs": [
        {
          "output_type": "execute_result",
          "data": {
            "text/plain": [
              "Hedger(\n",
              "  inputs=['log_moneyness', 'expiry_time', 'volatility', 'prev_hedge']\n",
              "  (model): MultiLayerPerceptron(\n",
              "    (0): LazyLinear(in_features=0, out_features=32, bias=True)\n",
              "    (1): ReLU()\n",
              "    (2): Linear(in_features=32, out_features=32, bias=True)\n",
              "    (3): ReLU()\n",
              "    (4): Linear(in_features=32, out_features=32, bias=True)\n",
              "    (5): ReLU()\n",
              "    (6): Linear(in_features=32, out_features=32, bias=True)\n",
              "    (7): ReLU()\n",
              "    (8): Linear(in_features=32, out_features=1, bias=True)\n",
              "    (9): Identity()\n",
              "  )\n",
              "  (criterion): EntropicRiskMeasure()\n",
              ")"
            ]
          },
          "metadata": {},
          "execution_count": 15
        }
      ]
    },
    {
      "cell_type": "code",
      "source": [
        "_ = hedger.fit(derivative, n_epochs=200)"
      ],
      "metadata": {
        "colab": {
          "base_uri": "https://localhost:8080/"
        },
        "id": "PEwz5hAeS56J",
        "outputId": "8a9ee5ae-3a4b-4d2d-c5ca-5f6387970581"
      },
      "execution_count": null,
      "outputs": [
        {
          "output_type": "stream",
          "name": "stderr",
          "text": [
            "Loss=0.0231: 100%|██████████| 200/200 [00:15<00:00, 12.84it/s]\n"
          ]
        }
      ]
    },
    {
      "cell_type": "code",
      "source": [
        "price = hedger.price(derivative)\n",
        "price"
      ],
      "metadata": {
        "colab": {
          "base_uri": "https://localhost:8080/"
        },
        "id": "hZUvOz_JE3bm",
        "outputId": "ab0f196f-9458-4f2b-d621-b51873adbeb3"
      },
      "execution_count": null,
      "outputs": [
        {
          "output_type": "execute_result",
          "data": {
            "text/plain": [
              "tensor(0.0215)"
            ]
          },
          "metadata": {},
          "execution_count": 17
        }
      ]
    },
    {
      "cell_type": "markdown",
      "source": [
        "### Black-Scholes Model"
      ],
      "metadata": {
        "id": "gplEqaY3nPI4"
      }
    },
    {
      "cell_type": "code",
      "source": [
        "from pfhedge.nn import BlackScholes\n",
        "from pfhedge.nn import Hedger\n",
        "\n",
        "derivative = EuropeanOption(BrownianStock(cost=1e-4))\n",
        "\n",
        "model = BlackScholes(derivative)\n",
        "hedger = Hedger(model, inputs=model.inputs())"
      ],
      "metadata": {
        "id": "LmNcVc3nFB3k"
      },
      "execution_count": null,
      "outputs": []
    },
    {
      "cell_type": "code",
      "source": [
        "price = hedger.price(derivative)\n",
        "price"
      ],
      "metadata": {
        "colab": {
          "base_uri": "https://localhost:8080/"
        },
        "id": "ED4a72_ZM2Wi",
        "outputId": "4518558f-a35b-464e-f81a-b842c7cd06b5"
      },
      "execution_count": null,
      "outputs": [
        {
          "output_type": "execute_result",
          "data": {
            "text/plain": [
              "tensor(0.0227)"
            ]
          },
          "metadata": {},
          "execution_count": 19
        }
      ]
    },
    {
      "cell_type": "markdown",
      "source": [
        "### Black-Scholes European Options"
      ],
      "metadata": {
        "id": "MqsZrqpCnBTv"
      }
    },
    {
      "cell_type": "code",
      "source": [
        "from pfhedge.nn import BSEuropeanOption\n",
        "\n",
        "model = BSEuropeanOption()"
      ],
      "metadata": {
        "id": "BajZHzOEM5NW"
      },
      "execution_count": null,
      "outputs": []
    },
    {
      "cell_type": "code",
      "source": [
        "model.inputs()"
      ],
      "metadata": {
        "colab": {
          "base_uri": "https://localhost:8080/"
        },
        "id": "mV0kWmL6NJ9O",
        "outputId": "ccc100a9-9e52-4116-dd46-b7925c7c94b0"
      },
      "execution_count": null,
      "outputs": [
        {
          "output_type": "execute_result",
          "data": {
            "text/plain": [
              "['log_moneyness', 'time_to_maturity', 'volatility']"
            ]
          },
          "metadata": {},
          "execution_count": 21
        }
      ]
    },
    {
      "cell_type": "code",
      "source": [
        "input = torch.tensor([\n",
        "    [-0.01, 0.1, 0.2],\n",
        "    [0.0, 0.08, 0.2],\n",
        "    [0.01, 0.1, 0.2],\n",
        "])"
      ],
      "metadata": {
        "id": "IlJ2P28SmDjp"
      },
      "execution_count": null,
      "outputs": []
    },
    {
      "cell_type": "code",
      "source": [
        "model(input)"
      ],
      "metadata": {
        "colab": {
          "base_uri": "https://localhost:8080/"
        },
        "id": "VdHulIw6mZBZ",
        "outputId": "a4df7d02-50e1-4a71-9f5c-db1c9cedc2fc"
      },
      "execution_count": null,
      "outputs": [
        {
          "output_type": "execute_result",
          "data": {
            "text/plain": [
              "tensor([[0.4497],\n",
              "        [0.5113],\n",
              "        [0.5752]])"
            ]
          },
          "metadata": {},
          "execution_count": 23
        }
      ]
    },
    {
      "cell_type": "code",
      "source": [
        "model(input)"
      ],
      "metadata": {
        "id": "uBQnwIVZmmmM",
        "colab": {
          "base_uri": "https://localhost:8080/"
        },
        "outputId": "c2bdd3b3-390c-4fd7-cfbb-21ce1c32778c"
      },
      "execution_count": null,
      "outputs": [
        {
          "output_type": "execute_result",
          "data": {
            "text/plain": [
              "tensor([[-0.5503],\n",
              "        [-0.4887],\n",
              "        [-0.4248]])"
            ]
          },
          "metadata": {},
          "execution_count": 22
        }
      ]
    },
    {
      "cell_type": "code",
      "source": [],
      "metadata": {
        "id": "xm2fMG83dvNM"
      },
      "execution_count": null,
      "outputs": []
    }
  ]
}