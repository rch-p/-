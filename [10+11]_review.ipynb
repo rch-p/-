{
  "nbformat": 4,
  "nbformat_minor": 0,
  "metadata": {
    "colab": {
      "provenance": [],
      "collapsed_sections": [
        "PLBHRsTnDOGz",
        "wm6n92k3rPTI",
        "eQzu9mYErYDC",
        "Wk5ZC65Ern7N",
        "BRzK0Z1rrrdg",
        "7xDWdtQ8ruVZ",
        "ejHbUmSYrzeR",
        "NdVJFZ2Fr45a",
        "zBSe7lM3r9bz"
      ],
      "toc_visible": true
    },
    "kernelspec": {
      "name": "python3",
      "display_name": "Python 3"
    },
    "language_info": {
      "name": "python"
    }
  },
  "cells": [
    {
      "cell_type": "code",
      "execution_count": null,
      "metadata": {
        "id": "tYJmyHjLNbDg"
      },
      "outputs": [],
      "source": [
        "import torch\n",
        "import math"
      ]
    },
    {
      "cell_type": "markdown",
      "source": [
        "### squeeze vs unsqueeze"
      ],
      "metadata": {
        "id": "PLBHRsTnDOGz"
      }
    },
    {
      "cell_type": "code",
      "source": [
        "a = torch.tensor(3)\n",
        "a"
      ],
      "metadata": {
        "id": "98di52LrDTBV",
        "colab": {
          "base_uri": "https://localhost:8080/"
        },
        "outputId": "35b4e04e-1867-4feb-f9b3-1674739d29dd"
      },
      "execution_count": null,
      "outputs": [
        {
          "output_type": "execute_result",
          "data": {
            "text/plain": [
              "tensor(3)"
            ]
          },
          "metadata": {},
          "execution_count": 2
        }
      ]
    },
    {
      "cell_type": "code",
      "source": [
        "a.size()"
      ],
      "metadata": {
        "id": "uye_t5BgDYk3",
        "colab": {
          "base_uri": "https://localhost:8080/"
        },
        "outputId": "a8a1cab5-0c00-4194-ce75-640ba573e009"
      },
      "execution_count": null,
      "outputs": [
        {
          "output_type": "execute_result",
          "data": {
            "text/plain": [
              "torch.Size([])"
            ]
          },
          "metadata": {},
          "execution_count": 4
        }
      ]
    },
    {
      "cell_type": "code",
      "source": [
        "a.unsqueeze(-1).unsqueeze(1)"
      ],
      "metadata": {
        "id": "Wk761QVWDa9-",
        "colab": {
          "base_uri": "https://localhost:8080/"
        },
        "outputId": "bc4d223c-f915-471c-dd14-ae37e2786f7a"
      },
      "execution_count": null,
      "outputs": [
        {
          "output_type": "execute_result",
          "data": {
            "text/plain": [
              "torch.Size([1, 1])"
            ]
          },
          "metadata": {},
          "execution_count": 10
        }
      ]
    },
    {
      "cell_type": "code",
      "source": [
        "torch.randn([3,2,10]).unsqueeze(-1).size()"
      ],
      "metadata": {
        "id": "tZB2rzxrD3Ro",
        "colab": {
          "base_uri": "https://localhost:8080/"
        },
        "outputId": "77631916-18ec-4173-a3bb-a7fffe2e5dbf"
      },
      "execution_count": null,
      "outputs": [
        {
          "output_type": "execute_result",
          "data": {
            "text/plain": [
              "torch.Size([3, 2, 10, 1])"
            ]
          },
          "metadata": {},
          "execution_count": 15
        }
      ]
    },
    {
      "cell_type": "markdown",
      "source": [
        "# Brownian Motion"
      ],
      "metadata": {
        "id": "wm6n92k3rPTI"
      }
    },
    {
      "cell_type": "code",
      "source": [
        "def generate_brownian(n_paths, n_steps):\n",
        "\n",
        "    dW = torch.randn(n_paths, n_steps)\n",
        "    dW[:, 0] = 0.0\n",
        "    W = dW.cumsum(dim=-1)\n",
        "\n",
        "    return W\n"
      ],
      "metadata": {
        "id": "yt7mp5diOAk1"
      },
      "execution_count": null,
      "outputs": []
    },
    {
      "cell_type": "code",
      "source": [
        "generate_brownian(2,5)"
      ],
      "metadata": {
        "id": "VKHXOWDdPAVp",
        "colab": {
          "base_uri": "https://localhost:8080/"
        },
        "outputId": "336d47af-1943-4164-89f2-738d1bd587f3"
      },
      "execution_count": null,
      "outputs": [
        {
          "output_type": "execute_result",
          "data": {
            "text/plain": [
              "tensor([[0.0000, 0.4881, 1.2043, 0.7738, 0.5763],\n",
              "        [0.0000, 0.4551, 1.8405, 3.0901, 4.2672]])"
            ]
          },
          "metadata": {},
          "execution_count": 17
        }
      ]
    },
    {
      "cell_type": "code",
      "source": [
        "def generate_geometric_brownian(n_paths=2, n_steps=5, sigma=0.2, dt=1/250):\n",
        "\n",
        "    t = torch.arange(n_steps) * dt\n",
        "    W = generate_brownian(n_paths, n_steps)\n",
        "\n",
        "    return torch.exp((-0.5 * sigma**2) * t + sigma *  torch.sqrt(torch.tensor(dt)) * W)"
      ],
      "metadata": {
        "id": "s_abz9i4PCMG"
      },
      "execution_count": null,
      "outputs": []
    },
    {
      "cell_type": "code",
      "source": [
        "generate_geometric_brownian()"
      ],
      "metadata": {
        "id": "b75iCKBbPsHT",
        "colab": {
          "base_uri": "https://localhost:8080/"
        },
        "outputId": "7b870fe2-3012-4ee4-af42-646089bccda9"
      },
      "execution_count": null,
      "outputs": [
        {
          "output_type": "execute_result",
          "data": {
            "text/plain": [
              "tensor([[1.0000, 1.0009, 1.0047, 1.0251, 1.0306],\n",
              "        [1.0000, 1.0083, 1.0206, 1.0143, 1.0306]])"
            ]
          },
          "metadata": {},
          "execution_count": 20
        }
      ]
    },
    {
      "cell_type": "code",
      "source": [
        "temp = generate_geometric_brownian()\n",
        "temp.size()"
      ],
      "metadata": {
        "colab": {
          "base_uri": "https://localhost:8080/"
        },
        "id": "ky2g1_I3Uq4S",
        "outputId": "7b92dd88-bd4f-48c0-ded4-17ad65cd35b5"
      },
      "execution_count": null,
      "outputs": [
        {
          "output_type": "execute_result",
          "data": {
            "text/plain": [
              "torch.Size([2, 5])"
            ]
          },
          "metadata": {},
          "execution_count": 21
        }
      ]
    },
    {
      "cell_type": "code",
      "source": [
        "temp.unsqueeze(1).size()"
      ],
      "metadata": {
        "colab": {
          "base_uri": "https://localhost:8080/"
        },
        "id": "I-tG5ayvUvAb",
        "outputId": "2c1a3b73-fbf4-470e-986f-90ccc562df2e"
      },
      "execution_count": null,
      "outputs": [
        {
          "output_type": "execute_result",
          "data": {
            "text/plain": [
              "torch.Size([2, 1, 5])"
            ]
          },
          "metadata": {},
          "execution_count": 24
        }
      ]
    },
    {
      "cell_type": "markdown",
      "source": [],
      "metadata": {
        "id": "E7OxNVXLUKgT"
      }
    },
    {
      "cell_type": "markdown",
      "source": [
        "# Derivative payoff"
      ],
      "metadata": {
        "id": "eQzu9mYErYDC"
      }
    },
    {
      "cell_type": "code",
      "source": [
        "def european_payoff(input, call=True, strike=1.0):\n",
        "\n",
        "    if call:\n",
        "        return torch.nn.functional.relu(input[..., -1] - strike)\n",
        "    else:\n",
        "        return torch.nn.functional.relu(strike - input[..., -1])"
      ],
      "metadata": {
        "id": "WiQaQHppPx5E"
      },
      "execution_count": null,
      "outputs": []
    },
    {
      "cell_type": "code",
      "source": [
        "spot = generate_geometric_brownian()\n",
        "spot"
      ],
      "metadata": {
        "id": "H4oGfRGPSOMQ",
        "colab": {
          "base_uri": "https://localhost:8080/"
        },
        "outputId": "79a56d69-fc41-40ff-dcda-13e7aaaffda0"
      },
      "execution_count": null,
      "outputs": [
        {
          "output_type": "execute_result",
          "data": {
            "text/plain": [
              "tensor([[1.0000, 1.0037, 1.0057, 1.0038, 0.9949],\n",
              "        [1.0000, 1.0001, 0.9949, 1.0002, 1.0075]])"
            ]
          },
          "metadata": {},
          "execution_count": 42
        }
      ]
    },
    {
      "cell_type": "code",
      "source": [
        "spot = spot.unsqueeze(1)\n",
        "spot.size()"
      ],
      "metadata": {
        "colab": {
          "base_uri": "https://localhost:8080/"
        },
        "id": "ExfIJ7UnXI8k",
        "outputId": "73035c76-5f27-42af-82ea-d53517859a98"
      },
      "execution_count": null,
      "outputs": [
        {
          "output_type": "execute_result",
          "data": {
            "text/plain": [
              "torch.Size([2, 1, 5])"
            ]
          },
          "metadata": {},
          "execution_count": 43
        }
      ]
    },
    {
      "cell_type": "code",
      "source": [
        "payoff = european_payoff(spot)\n",
        "payoff"
      ],
      "metadata": {
        "id": "op1-Na1GSSlf",
        "colab": {
          "base_uri": "https://localhost:8080/"
        },
        "outputId": "d4db8181-bf1c-440a-8c5c-00f60a385c00"
      },
      "execution_count": null,
      "outputs": [
        {
          "output_type": "execute_result",
          "data": {
            "text/plain": [
              "tensor([0.0000, 0.0088])"
            ]
          },
          "metadata": {},
          "execution_count": 27
        }
      ]
    },
    {
      "cell_type": "markdown",
      "source": [
        "# profit and loss function (pl)"
      ],
      "metadata": {
        "id": "pzL9U0m2reDc"
      }
    },
    {
      "cell_type": "code",
      "source": [
        "def pl(spot, unit, cost=None, payoff=None):\n",
        "\n",
        "    output = unit[..., :-1].mul(spot.diff(dim=-1)).sum(dim=(-2,-1))\n",
        "\n",
        "    if payoff is not None:\n",
        "        pass\n",
        "\n",
        "    if cost is not None:\n",
        "        pass\n",
        "\n",
        "    return output"
      ],
      "metadata": {
        "id": "CdiIhBF4NsMu"
      },
      "execution_count": null,
      "outputs": []
    },
    {
      "cell_type": "code",
      "source": [
        "spot.diff(dim=-1)"
      ],
      "metadata": {
        "id": "mBW8-LfYO61A",
        "colab": {
          "base_uri": "https://localhost:8080/"
        },
        "outputId": "be899c86-5f07-4533-8426-da538bd11d2f"
      },
      "execution_count": null,
      "outputs": [
        {
          "output_type": "execute_result",
          "data": {
            "text/plain": [
              "tensor([[[ 3.6993e-03,  2.0161e-03, -1.9387e-03, -8.8783e-03]],\n",
              "\n",
              "        [[ 9.1910e-05, -5.2137e-03,  5.2958e-03,  7.3167e-03]]])"
            ]
          },
          "metadata": {},
          "execution_count": 45
        }
      ]
    },
    {
      "cell_type": "code",
      "source": [
        "unit = torch.randn_like(spot)\n",
        "unit"
      ],
      "metadata": {
        "id": "NYIHM7rSNwIR",
        "colab": {
          "base_uri": "https://localhost:8080/"
        },
        "outputId": "0e68482e-e5d1-4da0-fd30-dc17b62a1c36"
      },
      "execution_count": null,
      "outputs": [
        {
          "output_type": "execute_result",
          "data": {
            "text/plain": [
              "tensor([[[ 1.0331, -1.3795, -0.2519, -0.9670,  1.2934]],\n",
              "\n",
              "        [[-0.7395, -1.2538,  0.0543, -0.1659, -2.4832]]])"
            ]
          },
          "metadata": {},
          "execution_count": 46
        }
      ]
    },
    {
      "cell_type": "code",
      "source": [
        "pl(spot, unit)"
      ],
      "metadata": {
        "id": "BGUtAd8fN2Wu",
        "colab": {
          "base_uri": "https://localhost:8080/"
        },
        "outputId": "7239d323-7f9f-44a3-89ba-35ff6bb92b4e"
      },
      "execution_count": null,
      "outputs": [
        {
          "output_type": "execute_result",
          "data": {
            "text/plain": [
              "tensor([0.0101, 0.0055])"
            ]
          },
          "metadata": {},
          "execution_count": 47
        }
      ]
    },
    {
      "cell_type": "code",
      "source": [
        "def pl(spot, unit, cost=None, payoff=None):\n",
        "\n",
        "    output = unit[..., :-1].mul(spot.diff(dim=-1)).sum(dim=(-2,-1))\n",
        "\n",
        "    if payoff is not None:\n",
        "        output -= payoff.squeeze(-1)\n",
        "\n",
        "    if cost is not None:\n",
        "        pass\n",
        "\n",
        "    return output"
      ],
      "metadata": {
        "id": "GAzitKGsQifK"
      },
      "execution_count": null,
      "outputs": []
    },
    {
      "cell_type": "code",
      "source": [
        "payoff = european_payoff(spot)\n",
        "payoff.size()"
      ],
      "metadata": {
        "colab": {
          "base_uri": "https://localhost:8080/"
        },
        "id": "bTa7QsdtbN2k",
        "outputId": "2c6c0128-5a3a-4477-a394-181dd2ab3ebb"
      },
      "execution_count": null,
      "outputs": [
        {
          "output_type": "execute_result",
          "data": {
            "text/plain": [
              "torch.Size([2, 1])"
            ]
          },
          "metadata": {},
          "execution_count": 54
        }
      ]
    },
    {
      "cell_type": "code",
      "source": [
        "pl(spot, unit, payoff=payoff)"
      ],
      "metadata": {
        "colab": {
          "base_uri": "https://localhost:8080/"
        },
        "id": "58goGXETbJ5R",
        "outputId": "72579975-a905-41f8-ddad-35c09375e3f2"
      },
      "execution_count": null,
      "outputs": [
        {
          "output_type": "execute_result",
          "data": {
            "text/plain": [
              "tensor([ 0.0101, -0.0019])"
            ]
          },
          "metadata": {},
          "execution_count": 55
        }
      ]
    },
    {
      "cell_type": "code",
      "source": [
        "def pl(spot, unit, cost=None, payoff=None):\n",
        "\n",
        "    output = unit[..., :-1].mul(spot.diff(dim=-1)).sum(dim=(-2,-1))\n",
        "\n",
        "    if payoff is not None:\n",
        "        output -= payoff.squeeze(-1)\n",
        "\n",
        "    if cost is not None:\n",
        "        c = torch.tensor(cost).unsqueeze(0).unsqueeze(-1)\n",
        "        output -= (spot[..., :-1].mul(unit.diff(dim=-1)).abs() * c).sum(dim=(-2, -1))\n",
        "\n",
        "    return output"
      ],
      "metadata": {
        "id": "G0N1JihaSVld"
      },
      "execution_count": null,
      "outputs": []
    },
    {
      "cell_type": "code",
      "source": [
        "torch.tensor(0.1).unsqueeze(0).unsqueeze(-1)"
      ],
      "metadata": {
        "colab": {
          "base_uri": "https://localhost:8080/"
        },
        "id": "gG-dtg0wcLzU",
        "outputId": "eda79c7a-fe52-4c0c-88de-57faae62d34a"
      },
      "execution_count": null,
      "outputs": [
        {
          "output_type": "execute_result",
          "data": {
            "text/plain": [
              "tensor([[0.1000]])"
            ]
          },
          "metadata": {},
          "execution_count": 58
        }
      ]
    },
    {
      "cell_type": "code",
      "source": [
        "unit = torch.randn_like(spot)\n",
        "unit"
      ],
      "metadata": {
        "id": "qlA15dHngYbg",
        "colab": {
          "base_uri": "https://localhost:8080/"
        },
        "outputId": "b40fe785-021d-43cb-a527-b411466b99f2"
      },
      "execution_count": null,
      "outputs": [
        {
          "output_type": "execute_result",
          "data": {
            "text/plain": [
              "tensor([[[-0.0996, -1.5431, -0.2767,  0.7152,  0.4910]],\n",
              "\n",
              "        [[-0.3751, -1.8371,  0.6746, -1.8968, -0.8270]]])"
            ]
          },
          "metadata": {},
          "execution_count": 60
        }
      ]
    },
    {
      "cell_type": "code",
      "source": [
        "pl(spot, unit, cost=0.1)"
      ],
      "metadata": {
        "id": "tWE0hqfQhA8p",
        "colab": {
          "base_uri": "https://localhost:8080/"
        },
        "outputId": "f28e3607-c3a8-4339-dfec-3ae3485c000e"
      },
      "execution_count": null,
      "outputs": [
        {
          "output_type": "execute_result",
          "data": {
            "text/plain": [
              "tensor([0.3844, 0.7594])"
            ]
          },
          "metadata": {},
          "execution_count": 61
        }
      ]
    },
    {
      "cell_type": "code",
      "source": [
        "pl(spot, unit, cost= 0.1, payoff=payoff)"
      ],
      "metadata": {
        "id": "FgsL1S1Z8I-P",
        "colab": {
          "base_uri": "https://localhost:8080/"
        },
        "outputId": "07db4d04-d5ac-4d7c-b709-84c31da1f029"
      },
      "execution_count": null,
      "outputs": [
        {
          "output_type": "execute_result",
          "data": {
            "text/plain": [
              "tensor([0.3844, 0.7520])"
            ]
          },
          "metadata": {},
          "execution_count": 62
        }
      ]
    },
    {
      "cell_type": "markdown",
      "source": [
        "# Features"
      ],
      "metadata": {
        "id": "Wk5ZC65Ern7N"
      }
    },
    {
      "cell_type": "code",
      "source": [
        "def time_to_maturity(spot, dt):\n",
        "\n",
        "    n_paths, _, n_steps = spot.size()\n",
        "    t = torch.arange(n_steps) * dt\n",
        "\n",
        "    return (t[-1] - t).unsqueeze(0).expand(n_paths, 1, -1)"
      ],
      "metadata": {
        "id": "iw4slmSFhF9N"
      },
      "execution_count": null,
      "outputs": []
    },
    {
      "cell_type": "code",
      "source": [
        "t = torch.arange(5) * 0.01\n",
        "t"
      ],
      "metadata": {
        "colab": {
          "base_uri": "https://localhost:8080/"
        },
        "id": "ufbhcNlFdd0G",
        "outputId": "3ce7e121-1f29-4524-f809-86ef24737670"
      },
      "execution_count": null,
      "outputs": [
        {
          "output_type": "execute_result",
          "data": {
            "text/plain": [
              "tensor([0.0000, 0.0100, 0.0200, 0.0300, 0.0400])"
            ]
          },
          "metadata": {},
          "execution_count": 63
        }
      ]
    },
    {
      "cell_type": "code",
      "source": [
        "(t[-1] - t).unsqueeze(0).expand(2, 1, -1)"
      ],
      "metadata": {
        "colab": {
          "base_uri": "https://localhost:8080/"
        },
        "id": "EtmaLNwAdlIj",
        "outputId": "b2feb5e6-fccb-45ba-8901-bfccdf1132b6"
      },
      "execution_count": null,
      "outputs": [
        {
          "output_type": "execute_result",
          "data": {
            "text/plain": [
              "tensor([[[0.0400, 0.0300, 0.0200, 0.0100, 0.0000]],\n",
              "\n",
              "        [[0.0400, 0.0300, 0.0200, 0.0100, 0.0000]]])"
            ]
          },
          "metadata": {},
          "execution_count": 70
        }
      ]
    },
    {
      "cell_type": "code",
      "source": [
        "time_to_maturity(spot, 0.004)"
      ],
      "metadata": {
        "id": "vdiMWA0BzeIz",
        "colab": {
          "base_uri": "https://localhost:8080/"
        },
        "outputId": "475e43c8-decb-4066-c52c-0705754da44a"
      },
      "execution_count": null,
      "outputs": [
        {
          "output_type": "execute_result",
          "data": {
            "text/plain": [
              "tensor([[[0.0160, 0.0120, 0.0080, 0.0040, 0.0000]],\n",
              "\n",
              "        [[0.0160, 0.0120, 0.0080, 0.0040, 0.0000]]])"
            ]
          },
          "metadata": {},
          "execution_count": 73
        }
      ]
    },
    {
      "cell_type": "code",
      "source": [
        "def moneyness(spot, strike):\n",
        "    return spot/strike"
      ],
      "metadata": {
        "id": "6BEExFLazhzG"
      },
      "execution_count": null,
      "outputs": []
    },
    {
      "cell_type": "code",
      "source": [
        "moneyness(spot, 1.1).size()"
      ],
      "metadata": {
        "id": "KKdnwoGw0D9r",
        "colab": {
          "base_uri": "https://localhost:8080/"
        },
        "outputId": "a02f209a-1ec2-45ba-cbb4-867b82d3f9e6"
      },
      "execution_count": null,
      "outputs": [
        {
          "output_type": "execute_result",
          "data": {
            "text/plain": [
              "torch.Size([2, 1, 5])"
            ]
          },
          "metadata": {},
          "execution_count": 76
        }
      ]
    },
    {
      "cell_type": "code",
      "source": [
        "def log_moneyness(spot, strike):\n",
        "    return torch.log(spot/strike)"
      ],
      "metadata": {
        "id": "dL0g9ky_0FwZ"
      },
      "execution_count": null,
      "outputs": []
    },
    {
      "cell_type": "code",
      "source": [
        "log_moneyness(spot, 1.0)"
      ],
      "metadata": {
        "id": "d9gAHrQv0Sw4",
        "colab": {
          "base_uri": "https://localhost:8080/"
        },
        "outputId": "cc76043a-5c3e-4613-c47e-cc11b6018e9a"
      },
      "execution_count": null,
      "outputs": [
        {
          "output_type": "execute_result",
          "data": {
            "text/plain": [
              "tensor([[[ 0.0000e+00,  3.6925e-03,  5.6991e-03,  3.7696e-03, -5.1147e-03]],\n",
              "\n",
              "        [[ 0.0000e+00,  9.1906e-05, -5.1350e-03,  1.7391e-04,  7.4627e-03]]])"
            ]
          },
          "metadata": {},
          "execution_count": 78
        }
      ]
    },
    {
      "cell_type": "code",
      "source": [
        "def volatility(spot, vol):\n",
        "    return torch.ones_like(spot) * vol"
      ],
      "metadata": {
        "id": "B-RuHDlz0VKh"
      },
      "execution_count": null,
      "outputs": []
    },
    {
      "cell_type": "code",
      "source": [
        "volatility(spot, 0.2)"
      ],
      "metadata": {
        "id": "ishzmMy_0hfb",
        "colab": {
          "base_uri": "https://localhost:8080/"
        },
        "outputId": "31d0418e-fac9-4023-b168-3fc5745f5f5a"
      },
      "execution_count": null,
      "outputs": [
        {
          "output_type": "execute_result",
          "data": {
            "text/plain": [
              "tensor([[[0.2000, 0.2000, 0.2000, 0.2000, 0.2000]],\n",
              "\n",
              "        [[0.2000, 0.2000, 0.2000, 0.2000, 0.2000]]])"
            ]
          },
          "metadata": {},
          "execution_count": 80
        }
      ]
    },
    {
      "cell_type": "markdown",
      "source": [
        "# MLP"
      ],
      "metadata": {
        "id": "BRzK0Z1rrrdg"
      }
    },
    {
      "cell_type": "code",
      "source": [
        "from torch import nn\n",
        "\n",
        "class MLP(nn.Module):\n",
        "\n",
        "    def __init__(self, n_inputs):\n",
        "        super().__init__()\n",
        "\n",
        "        self.model = nn.Sequential(\n",
        "            nn.Linear(n_inputs, 512),\n",
        "            nn.ReLU(),\n",
        "            nn.Linear(512, 512),\n",
        "            nn.ReLU(),\n",
        "            nn.Linear(512, 512),\n",
        "            nn.ReLU(),\n",
        "            nn.Linear(512,1)\n",
        "        )\n",
        "\n",
        "    def forward(self, x):\n",
        "\n",
        "        out = self.model(x)\n",
        "\n",
        "        return out"
      ],
      "metadata": {
        "id": "nVJ2CPH90joL"
      },
      "execution_count": null,
      "outputs": []
    },
    {
      "cell_type": "code",
      "source": [
        "m = MLP(3)"
      ],
      "metadata": {
        "id": "YJok5Wzx1s3x"
      },
      "execution_count": null,
      "outputs": []
    },
    {
      "cell_type": "code",
      "source": [
        "m"
      ],
      "metadata": {
        "id": "W37EjOwc1vOX",
        "colab": {
          "base_uri": "https://localhost:8080/"
        },
        "outputId": "c46813ab-19cd-4e87-ae3e-8306c0dcf06c"
      },
      "execution_count": null,
      "outputs": [
        {
          "output_type": "execute_result",
          "data": {
            "text/plain": [
              "MLP(\n",
              "  (model): Sequential(\n",
              "    (0): Linear(in_features=3, out_features=512, bias=True)\n",
              "    (1): ReLU()\n",
              "    (2): Linear(in_features=512, out_features=512, bias=True)\n",
              "    (3): ReLU()\n",
              "    (4): Linear(in_features=512, out_features=512, bias=True)\n",
              "    (5): ReLU()\n",
              "    (6): Linear(in_features=512, out_features=1, bias=True)\n",
              "  )\n",
              ")"
            ]
          },
          "metadata": {},
          "execution_count": 126
        }
      ]
    },
    {
      "cell_type": "code",
      "source": [
        "x = torch.randn(3)\n",
        "m(x)"
      ],
      "metadata": {
        "colab": {
          "base_uri": "https://localhost:8080/"
        },
        "id": "mjz2iJnrhG-F",
        "outputId": "7ceab01c-f5cb-4259-ed58-52538b26b833"
      },
      "execution_count": null,
      "outputs": [
        {
          "output_type": "stream",
          "name": "stdout",
          "text": [
            "hello\n"
          ]
        },
        {
          "output_type": "execute_result",
          "data": {
            "text/plain": [
              "tensor([-0.0157], grad_fn=<ViewBackward0>)"
            ]
          },
          "metadata": {},
          "execution_count": 93
        }
      ]
    },
    {
      "cell_type": "code",
      "source": [
        "m.__call__(x)"
      ],
      "metadata": {
        "colab": {
          "base_uri": "https://localhost:8080/"
        },
        "id": "AQ8WwxwHhcTa",
        "outputId": "fefaba48-7d4b-496c-c2b0-723a864e6e77"
      },
      "execution_count": null,
      "outputs": [
        {
          "output_type": "stream",
          "name": "stdout",
          "text": [
            "hello\n"
          ]
        },
        {
          "output_type": "execute_result",
          "data": {
            "text/plain": [
              "tensor([-0.0157], grad_fn=<ViewBackward0>)"
            ]
          },
          "metadata": {},
          "execution_count": 94
        }
      ]
    },
    {
      "cell_type": "markdown",
      "source": [
        "# Dataset"
      ],
      "metadata": {
        "id": "7xDWdtQ8ruVZ"
      }
    },
    {
      "cell_type": "markdown",
      "source": [
        "### Practice"
      ],
      "metadata": {
        "id": "BgszXpPuRH_l"
      }
    },
    {
      "cell_type": "code",
      "source": [
        "from torch.utils.data import Dataset, DataLoader"
      ],
      "metadata": {
        "id": "8BMy4sxiRFFe"
      },
      "execution_count": null,
      "outputs": []
    },
    {
      "cell_type": "code",
      "source": [
        "import tensorflow as tf\n",
        "\n",
        "(x_train, y_train), (x_test, y_test) = tf.keras.datasets.mnist.load_data()"
      ],
      "metadata": {
        "id": "tv8Y3aEhQ-zp"
      },
      "execution_count": null,
      "outputs": []
    },
    {
      "cell_type": "code",
      "source": [
        "# x_train = torch.tensor(x_train.reshape(60000, 784)/255, dtype=torch.float32)\n",
        "# x_test = torch.tensor(x_test.reshape(10000, 784)/255, dtype=torch.float32)\n",
        "\n",
        "# y_train = torch.tensor(y_train, dtype=torch.long)\n",
        "# y_test = torch.tensor(y_test, dtype=torch.int64)"
      ],
      "metadata": {
        "id": "moOK6mp4RCn8"
      },
      "execution_count": null,
      "outputs": []
    },
    {
      "cell_type": "code",
      "source": [
        "x_train = torch.tensor(x_train/255, dtype=torch.float32)\n",
        "x_test = torch.tensor(x_test/255, dtype=torch.float32)\n",
        "\n",
        "y_train = torch.tensor(y_train, dtype=torch.long)\n",
        "y_test = torch.tensor(y_test, dtype=torch.int64)"
      ],
      "metadata": {
        "id": "AfghpYiHRObJ"
      },
      "execution_count": null,
      "outputs": []
    },
    {
      "cell_type": "code",
      "source": [
        "x_train.shape"
      ],
      "metadata": {
        "id": "BOBX1GHoRvAC",
        "colab": {
          "base_uri": "https://localhost:8080/"
        },
        "outputId": "62a2bafc-4526-4284-fd8a-8588e035c1b0"
      },
      "execution_count": null,
      "outputs": [
        {
          "output_type": "execute_result",
          "data": {
            "text/plain": [
              "torch.Size([60000, 28, 28])"
            ]
          },
          "metadata": {},
          "execution_count": 101
        }
      ]
    },
    {
      "cell_type": "code",
      "source": [
        "y_train"
      ],
      "metadata": {
        "id": "SeH3VWVSSSot",
        "colab": {
          "base_uri": "https://localhost:8080/"
        },
        "outputId": "435c2331-9fe1-45ed-e43d-847c9f42fc8c"
      },
      "execution_count": null,
      "outputs": [
        {
          "output_type": "execute_result",
          "data": {
            "text/plain": [
              "tensor([5, 0, 4,  ..., 5, 6, 8])"
            ]
          },
          "metadata": {},
          "execution_count": 105
        }
      ]
    },
    {
      "cell_type": "code",
      "source": [
        "y_train.unsqueeze(-1)"
      ],
      "metadata": {
        "id": "FZJrg6wuSdKq",
        "colab": {
          "base_uri": "https://localhost:8080/"
        },
        "outputId": "d7d44f5e-8f87-4fb0-a121-2953933cdc94"
      },
      "execution_count": null,
      "outputs": [
        {
          "output_type": "execute_result",
          "data": {
            "text/plain": [
              "tensor([[5],\n",
              "        [0],\n",
              "        [4],\n",
              "        ...,\n",
              "        [5],\n",
              "        [6],\n",
              "        [8]])"
            ]
          },
          "metadata": {},
          "execution_count": 106
        }
      ]
    },
    {
      "cell_type": "code",
      "source": [
        "class TestDataset(Dataset):\n",
        "\n",
        "    def __init__(self, data):\n",
        "        self.data_x = data[0]\n",
        "        self.data_y = data[1]\n",
        "\n",
        "    def __len__(self):\n",
        "        return self.data_x.size(0)\n",
        "\n",
        "    def __getitem__(self, index):\n",
        "        return self.data_x[index], self.data_y[index]\n",
        "\n"
      ],
      "metadata": {
        "id": "lmLe6evrR1gu"
      },
      "execution_count": null,
      "outputs": []
    },
    {
      "cell_type": "code",
      "source": [
        "ds = TestDataset((x_test, y_test))"
      ],
      "metadata": {
        "id": "znWHLRKtTd7-"
      },
      "execution_count": null,
      "outputs": []
    },
    {
      "cell_type": "code",
      "source": [
        "len(ds)"
      ],
      "metadata": {
        "colab": {
          "base_uri": "https://localhost:8080/"
        },
        "id": "8FUluCDOpRsh",
        "outputId": "1430a933-a8d4-4d56-8305-bf0392e61555"
      },
      "execution_count": null,
      "outputs": [
        {
          "output_type": "execute_result",
          "data": {
            "text/plain": [
              "10000"
            ]
          },
          "metadata": {},
          "execution_count": 116
        }
      ]
    },
    {
      "cell_type": "code",
      "source": [
        "for i, j in ds:\n",
        "    print(i.size(), j.size())"
      ],
      "metadata": {
        "id": "sDmHM6GZTpc7"
      },
      "execution_count": null,
      "outputs": []
    },
    {
      "cell_type": "code",
      "source": [
        "ds.__len__()"
      ],
      "metadata": {
        "colab": {
          "base_uri": "https://localhost:8080/"
        },
        "id": "JmhjhghfoZZk",
        "outputId": "fe79c856-23a4-40cf-f696-7d55b7033b5a"
      },
      "execution_count": null,
      "outputs": [
        {
          "output_type": "execute_result",
          "data": {
            "text/plain": [
              "2"
            ]
          },
          "metadata": {},
          "execution_count": 113
        }
      ]
    },
    {
      "cell_type": "markdown",
      "source": [
        "### Our case"
      ],
      "metadata": {
        "id": "ELdTRlRpRK1N"
      }
    },
    {
      "cell_type": "code",
      "source": [
        "from torch.utils.data import Dataset, DataLoader"
      ],
      "metadata": {
        "id": "ymGXR2021vz6"
      },
      "execution_count": null,
      "outputs": []
    },
    {
      "cell_type": "code",
      "source": [
        "spot.size()"
      ],
      "metadata": {
        "colab": {
          "base_uri": "https://localhost:8080/"
        },
        "id": "odMqsm_KpzdQ",
        "outputId": "f6fb913c-6a12-40da-a9df-796955a2f274"
      },
      "execution_count": null,
      "outputs": [
        {
          "output_type": "execute_result",
          "data": {
            "text/plain": [
              "torch.Size([2, 1, 5])"
            ]
          },
          "metadata": {},
          "execution_count": 120
        }
      ]
    },
    {
      "cell_type": "code",
      "source": [
        "class MyDataset(Dataset):\n",
        "    def __init__(self, data):\n",
        "        self.data = torch.cat(data, dim=1)\n",
        "\n",
        "    def __len__(self):\n",
        "        return self.data.size(2)\n",
        "\n",
        "    def __getitem__(self, index):\n",
        "        return self.data[:, :, index].unsqueeze(1)\n",
        "\n",
        "lm = moneyness(spot, 1.1)\n",
        "t = time_to_maturity(spot, 0.004)\n",
        "v = volatility(spot, 0.2)\n",
        "\n",
        "ds = MyDataset([lm, t, v])"
      ],
      "metadata": {
        "id": "-tDNX-TJ2CpH"
      },
      "execution_count": null,
      "outputs": []
    },
    {
      "cell_type": "code",
      "source": [
        "for i in ds:\n",
        "    print(i.size())"
      ],
      "metadata": {
        "id": "O1fhQyY-2QNx",
        "colab": {
          "base_uri": "https://localhost:8080/"
        },
        "outputId": "404c6f6a-dae4-4dba-ae85-f973bc26f7d5"
      },
      "execution_count": null,
      "outputs": [
        {
          "output_type": "stream",
          "name": "stdout",
          "text": [
            "torch.Size([2, 1, 3])\n",
            "torch.Size([2, 1, 3])\n",
            "torch.Size([2, 1, 3])\n",
            "torch.Size([2, 1, 3])\n",
            "torch.Size([2, 1, 3])\n"
          ]
        }
      ]
    },
    {
      "cell_type": "markdown",
      "source": [
        "# compute_hedge"
      ],
      "metadata": {
        "id": "ejHbUmSYrzeR"
      }
    },
    {
      "cell_type": "code",
      "source": [
        "def compute_hedge(model, ds):\n",
        "    outputs = []\n",
        "    for i in ds:\n",
        "        outputs.append(model(i))\n",
        "\n",
        "    return torch.cat(outputs, dim=-1)"
      ],
      "metadata": {
        "id": "jjzWPJVH3BP9"
      },
      "execution_count": null,
      "outputs": []
    },
    {
      "cell_type": "code",
      "source": [
        "compute_hedge(m, ds).size()"
      ],
      "metadata": {
        "id": "GM7pOv1u3OGk",
        "colab": {
          "base_uri": "https://localhost:8080/"
        },
        "outputId": "d5606045-07f7-40d8-a5b1-eeaed730e456"
      },
      "execution_count": null,
      "outputs": [
        {
          "output_type": "execute_result",
          "data": {
            "text/plain": [
              "torch.Size([2, 1, 5])"
            ]
          },
          "metadata": {},
          "execution_count": 135
        }
      ]
    },
    {
      "cell_type": "markdown",
      "source": [
        "# compute_portfolio"
      ],
      "metadata": {
        "id": "NdVJFZ2Fr45a"
      }
    },
    {
      "cell_type": "code",
      "source": [
        "def compute_portfolio(model, ds, payoff):\n",
        "\n",
        "    unit = compute_hedge(model, ds)\n",
        "\n",
        "    return pl(spot, unit)"
      ],
      "metadata": {
        "id": "AWgP7lD_3PwR"
      },
      "execution_count": null,
      "outputs": []
    },
    {
      "cell_type": "code",
      "source": [
        "compute_portfolio(m, ds, None)"
      ],
      "metadata": {
        "id": "N9vKE5za3iHT",
        "colab": {
          "base_uri": "https://localhost:8080/"
        },
        "outputId": "e64af2b5-44f2-4cf6-d68b-9069507b3515"
      },
      "execution_count": null,
      "outputs": [
        {
          "output_type": "execute_result",
          "data": {
            "text/plain": [
              "tensor([-0.0001,  0.0002], grad_fn=<SumBackward1>)"
            ]
          },
          "metadata": {},
          "execution_count": 137
        }
      ]
    },
    {
      "cell_type": "code",
      "source": [
        "def compute_portfolio_2(model, ds, payoff):\n",
        "\n",
        "    unit = compute_hedge(model, ds)\n",
        "\n",
        "    return pl(spot, unit, payoff=payoff)"
      ],
      "metadata": {
        "id": "zTZ8tJ9K3qtk"
      },
      "execution_count": null,
      "outputs": []
    },
    {
      "cell_type": "code",
      "source": [
        "compute_portfolio_2(m, ds, european_payoff(spot))"
      ],
      "metadata": {
        "id": "gM5s1KUy4Bsg",
        "colab": {
          "base_uri": "https://localhost:8080/"
        },
        "outputId": "913bdd3b-6415-4e46-afde-973730fa5967"
      },
      "execution_count": null,
      "outputs": [
        {
          "output_type": "execute_result",
          "data": {
            "text/plain": [
              "tensor([-0.0001, -0.0073], grad_fn=<SubBackward0>)"
            ]
          },
          "metadata": {},
          "execution_count": 139
        }
      ]
    },
    {
      "cell_type": "markdown",
      "source": [
        "# Optimizer and Training"
      ],
      "metadata": {
        "id": "zBSe7lM3r9bz"
      }
    },
    {
      "cell_type": "code",
      "source": [
        "optimizer = torch.optim.Adam(m.parameters())\n",
        "\n"
      ],
      "metadata": {
        "id": "FQaKos3L4FV-"
      },
      "execution_count": null,
      "outputs": []
    },
    {
      "cell_type": "code",
      "source": [
        "for i in range(10):\n",
        "    optimizer.zero_grad()\n",
        "    cash = compute_portfolio_2(m, ds, european_payoff(spot))\n",
        "    loss = torch.mean(cash*cash)\n",
        "    loss.backward()\n",
        "    optimizer.step()\n",
        "\n",
        "    print(loss)"
      ],
      "metadata": {
        "id": "eDJ3lyym4exo",
        "colab": {
          "base_uri": "https://localhost:8080/"
        },
        "outputId": "b4e11fde-4607-41de-ee37-4ff27b3cfe95"
      },
      "execution_count": null,
      "outputs": [
        {
          "output_type": "stream",
          "name": "stdout",
          "text": [
            "tensor(2.6860e-05, grad_fn=<MeanBackward0>)\n",
            "tensor(1.4329e-05, grad_fn=<MeanBackward0>)\n",
            "tensor(9.2919e-06, grad_fn=<MeanBackward0>)\n",
            "tensor(1.0486e-05, grad_fn=<MeanBackward0>)\n",
            "tensor(1.2098e-05, grad_fn=<MeanBackward0>)\n",
            "tensor(1.0574e-05, grad_fn=<MeanBackward0>)\n",
            "tensor(9.1297e-06, grad_fn=<MeanBackward0>)\n",
            "tensor(9.0523e-06, grad_fn=<MeanBackward0>)\n",
            "tensor(9.6647e-06, grad_fn=<MeanBackward0>)\n",
            "tensor(1.0037e-05, grad_fn=<MeanBackward0>)\n"
          ]
        }
      ]
    },
    {
      "cell_type": "markdown",
      "source": [
        "# Loss functions"
      ],
      "metadata": {
        "id": "ha4URYgvsBuQ"
      }
    },
    {
      "cell_type": "code",
      "source": [
        "x = -torch.arange(4.0)\n",
        "x"
      ],
      "metadata": {
        "id": "ZmDkVFUM44Fl"
      },
      "execution_count": null,
      "outputs": []
    },
    {
      "cell_type": "code",
      "source": [
        "torch.logsumexp(-x, 0) - math.log(x.size(0))"
      ],
      "metadata": {
        "id": "0uN8VT7Jvf-f"
      },
      "execution_count": null,
      "outputs": []
    },
    {
      "cell_type": "code",
      "source": [
        "def entropic_risk_measure(x):\n",
        "    return torch.logsumexp(-x, 0) - math.log(x.size(0))"
      ],
      "metadata": {
        "id": "9or5gihYyxzj"
      },
      "execution_count": null,
      "outputs": []
    },
    {
      "cell_type": "code",
      "source": [
        "x = -torch.arange(10.0)\n",
        "x"
      ],
      "metadata": {
        "id": "M8tJxau2vro7"
      },
      "execution_count": null,
      "outputs": []
    },
    {
      "cell_type": "code",
      "source": [
        "torch.topk(x, 6, largest=False)"
      ],
      "metadata": {
        "id": "2ZoddkiQxblg"
      },
      "execution_count": null,
      "outputs": []
    },
    {
      "cell_type": "code",
      "source": [
        "torch.topk(x, 6, largest=False).values.mean()"
      ],
      "metadata": {
        "id": "2vpmF5VZxgUk"
      },
      "execution_count": null,
      "outputs": []
    },
    {
      "cell_type": "code",
      "source": [
        "torch.topk(x, math.ceil(0.6 * x.numel()), largest=False).values.mean()"
      ],
      "metadata": {
        "id": "EgoHe0eLydBs"
      },
      "execution_count": null,
      "outputs": []
    },
    {
      "cell_type": "code",
      "source": [],
      "metadata": {
        "id": "SzQTPQ9vyqSu"
      },
      "execution_count": null,
      "outputs": []
    },
    {
      "cell_type": "markdown",
      "source": [
        "# Training with entropic risk measure"
      ],
      "metadata": {
        "id": "XHPBEr8Wy9CU"
      }
    },
    {
      "cell_type": "code",
      "source": [
        "for i in range(10):\n",
        "    optimizer.zero_grad()\n",
        "    cash = compute_portfolio_2(m, ds, european_payoff(spot))\n",
        "    loss = entropic_risk_measure(cash)\n",
        "    loss.backward()\n",
        "    optimizer.step()\n",
        "\n",
        "    print(loss)"
      ],
      "metadata": {
        "id": "eVbf5RZwzCqO"
      },
      "execution_count": null,
      "outputs": []
    },
    {
      "cell_type": "markdown",
      "source": [
        "# prev_hedge"
      ],
      "metadata": {
        "id": "szBG8czdzKNS"
      }
    },
    {
      "cell_type": "code",
      "source": [
        "from torch import nn\n",
        "\n",
        "class MLP(nn.Module):\n",
        "\n",
        "    def __init__(self, n_inputs):\n",
        "        super().__init__()\n",
        "\n",
        "        self.model = nn.Sequential(\n",
        "            nn.Linear(n_inputs, 512),\n",
        "            nn.ReLU(),\n",
        "            nn.Linear(512, 512),\n",
        "            nn.ReLU(),\n",
        "            nn.Linear(512, 512),\n",
        "            nn.ReLU(),\n",
        "            nn.Linear(512,1)\n",
        "        )\n",
        "\n",
        "    def forward(self, x):\n",
        "\n",
        "        out = self.model(x)\n",
        "\n",
        "        return out"
      ],
      "metadata": {
        "id": "4EnUgAEpB9Nn"
      },
      "execution_count": null,
      "outputs": []
    },
    {
      "cell_type": "code",
      "source": [
        "class NewModel(nn.Module):\n",
        "\n",
        "    def __init__(self, model):\n",
        "        super().__init__()\n",
        "        self.model = model\n",
        "        self.register_buffer(\"prev_hegde\", None)\n",
        "\n",
        "    def forward(self, x):\n",
        "        if self.prev_hegde is None:\n",
        "            self.register_buffer(\"prev_hedge\", torch.zeros(x.size(0), x.size(1), 1))\n",
        "\n",
        "        new_x = torch.cat([x, self.prev_hedge], dim=-1)\n",
        "        out = self.model(new_x)\n",
        "        self.prev_hedge = out.detach()\n",
        "\n",
        "        return out"
      ],
      "metadata": {
        "id": "ypB6KBgMzGEo"
      },
      "execution_count": null,
      "outputs": []
    },
    {
      "cell_type": "code",
      "source": [
        "mm = NewModel(MLP(4))\n",
        "mm"
      ],
      "metadata": {
        "id": "hWkyU6A40IvQ"
      },
      "execution_count": null,
      "outputs": []
    },
    {
      "cell_type": "code",
      "source": [
        "for i in range(10):\n",
        "    optimizer.zero_grad()\n",
        "    cash = compute_portfolio_2(mm, ds, european_payoff(spot))\n",
        "    loss = entropic_risk_measure(cash)\n",
        "    loss.backward()\n",
        "    optimizer.step()\n",
        "\n",
        "    print(loss)"
      ],
      "metadata": {
        "id": "ydXwmWDS0Ksb"
      },
      "execution_count": null,
      "outputs": []
    }
  ]
}