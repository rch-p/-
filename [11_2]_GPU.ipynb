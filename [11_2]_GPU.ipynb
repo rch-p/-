{
  "nbformat": 4,
  "nbformat_minor": 0,
  "metadata": {
    "colab": {
      "provenance": [],
      "gpuType": "A100"
    },
    "kernelspec": {
      "name": "python3",
      "display_name": "Python 3"
    },
    "language_info": {
      "name": "python"
    },
    "accelerator": "GPU"
  },
  "cells": [
    {
      "cell_type": "code",
      "execution_count": null,
      "metadata": {
        "colab": {
          "base_uri": "https://localhost:8080/"
        },
        "id": "XrD83UHEc2go",
        "outputId": "1fac5b92-6578-4299-d2e4-187550cdf77d"
      },
      "outputs": [
        {
          "output_type": "stream",
          "name": "stdout",
          "text": [
            "CUDA is not available. Using the CPU instead.\n"
          ]
        }
      ],
      "source": [
        "import torch\n",
        "\n",
        "# Check if CUDA (GPU) is available\n",
        "if torch.cuda.is_available():\n",
        "    print(\"CUDA is available. You can use the GPU!\")\n",
        "else:\n",
        "    print(\"CUDA is not available. Using the CPU instead.\")"
      ]
    },
    {
      "cell_type": "code",
      "source": [
        "# Specify the device\n",
        "device = torch.device(\"cuda\" if torch.cuda.is_available() else \"cpu\")\n",
        "\n",
        "# Example: Creating a tensor and moving it to GPU\n",
        "tensor = torch.randn(3, 3).to(device)\n",
        "\n",
        "# You can also use tensor.cuda() as a shorthand\n",
        "tensor = torch.randn(3, 3).cuda() if torch.cuda.is_available() else torch.randn(3, 3)"
      ],
      "metadata": {
        "id": "XNARubaZdAot"
      },
      "execution_count": null,
      "outputs": []
    },
    {
      "cell_type": "code",
      "source": [
        "# Assuming you have a model\n",
        "model = YourModel()\n",
        "\n",
        "# Move the model to GPU\n",
        "model.to(device)\n",
        "\n",
        "# Example for CUDA shorthand\n",
        "model.cuda() if torch.cuda.is_available() else model.cpu()\n"
      ],
      "metadata": {
        "id": "rvP0Lfwndsfb"
      },
      "execution_count": null,
      "outputs": []
    },
    {
      "cell_type": "code",
      "source": [
        "# Assuming you have input data and target labels\n",
        "inputs, labels = inputs.to(device), labels.to(device)\n",
        "\n",
        "# Forward pass\n",
        "outputs = model(inputs)\n",
        "\n",
        "# Compute loss\n",
        "loss = criterion(outputs, labels)\n"
      ],
      "metadata": {
        "id": "IDGq8vuxd1fn"
      },
      "execution_count": null,
      "outputs": []
    },
    {
      "cell_type": "code",
      "source": [
        "# Training loop\n",
        "for epoch in range(num_epochs):\n",
        "    for data, target in train_loader:\n",
        "        data, target = data.to(device), target.to(device)\n",
        "\n",
        "        optimizer.zero_grad()\n",
        "        output = model(data)\n",
        "        loss = criterion(output, target)\n",
        "        loss.backward()  # Compute gradients\n",
        "        optimizer.step()  # Update parameters\n"
      ],
      "metadata": {
        "id": "9av_wqkrd7uv"
      },
      "execution_count": null,
      "outputs": []
    }
  ]
}