{
  "nbformat": 4,
  "nbformat_minor": 0,
  "metadata": {
    "colab": {
      "provenance": [],
      "collapsed_sections": [
        "Tn5Q0kU2xkLa",
        "BEVN6Zg5xxHA",
        "iVFfhyH-mjfi",
        "dHrUwi-OBFSv"
      ]
    },
    "kernelspec": {
      "name": "python3",
      "display_name": "Python 3"
    },
    "language_info": {
      "name": "python"
    }
  },
  "cells": [
    {
      "cell_type": "code",
      "source": [
        "!pip install pfhedge"
      ],
      "metadata": {
        "id": "locU9BCLEYJP"
      },
      "execution_count": null,
      "outputs": []
    },
    {
      "cell_type": "markdown",
      "source": [
        "### Setup"
      ],
      "metadata": {
        "id": "je_PfO5v-r3B"
      }
    },
    {
      "cell_type": "code",
      "source": [
        "import pfhedge\n",
        "import torch\n",
        "from torch.utils.data import Dataset, DataLoader"
      ],
      "metadata": {
        "id": "66qG_SobJBOt"
      },
      "execution_count": null,
      "outputs": []
    },
    {
      "cell_type": "code",
      "source": [
        "from pfhedge.instruments import BrownianStock\n",
        "from pfhedge.instruments import EuropeanOption\n",
        "from pfhedge.nn import BlackScholes\n",
        "\n",
        "stock = BrownianStock()\n",
        "derivative = EuropeanOption(stock, strike=1.0)\n",
        "m = BlackScholes(derivative)"
      ],
      "metadata": {
        "id": "y40EpjeQJq9Q"
      },
      "execution_count": null,
      "outputs": []
    },
    {
      "cell_type": "code",
      "source": [
        "derivative.simulate(2)\n",
        "lm = derivative.log_moneyness()\n",
        "t = derivative.time_to_maturity()\n",
        "v = derivative.ul().volatility"
      ],
      "metadata": {
        "id": "Z3ChbFHVKZTg"
      },
      "execution_count": null,
      "outputs": []
    },
    {
      "cell_type": "code",
      "source": [
        "class MyDataset(Dataset):\n",
        "    def __init__(self, data):\n",
        "        self.data = torch.stack(data, dim=-1)\n",
        "\n",
        "    def __len__(self):\n",
        "        return self.data.size(1)\n",
        "\n",
        "    def __getitem__(self, index):\n",
        "        return self.data[:, index, :].unsqueeze(1)"
      ],
      "metadata": {
        "id": "o9prrc1p3TCY"
      },
      "execution_count": null,
      "outputs": []
    },
    {
      "cell_type": "code",
      "source": [
        "ds = MyDataset([lm, t, v])"
      ],
      "metadata": {
        "id": "I_1aLBgS-4Hc"
      },
      "execution_count": null,
      "outputs": []
    },
    {
      "cell_type": "code",
      "source": [
        "m"
      ],
      "metadata": {
        "id": "JowEPaLwOduR",
        "colab": {
          "base_uri": "https://localhost:8080/"
        },
        "outputId": "4afe68e0-4784-4f17-ef0b-5d81c4496bcc"
      },
      "execution_count": null,
      "outputs": [
        {
          "output_type": "execute_result",
          "data": {
            "text/plain": [
              "BSEuropeanOption(strike=1.)"
            ]
          },
          "metadata": {},
          "execution_count": 7
        }
      ]
    },
    {
      "cell_type": "code",
      "source": [
        "m.delta()"
      ],
      "metadata": {
        "id": "mAIYzSU8Oi3N",
        "colab": {
          "base_uri": "https://localhost:8080/"
        },
        "outputId": "db17d6b0-2841-4ad3-e477-469a39a6b2e8"
      },
      "execution_count": null,
      "outputs": [
        {
          "output_type": "execute_result",
          "data": {
            "text/plain": [
              "tensor([[0.5113, 0.4944, 0.5653, 0.5905, 0.5212, 0.5374, 0.6688, 0.6958, 0.5537,\n",
              "         0.4483, 0.5362, 0.5158, 0.6702, 0.7202, 0.7738, 0.7170, 0.6043, 0.6803,\n",
              "         0.3114, 0.4061, 1.0000],\n",
              "        [0.5113, 0.6327, 0.8310, 0.8234, 0.6675, 0.7780, 0.8617, 0.9027, 0.7882,\n",
              "         0.7577, 0.7229, 0.8444, 0.8902, 0.9153, 0.9712, 0.9729, 0.9405, 0.8407,\n",
              "         0.9715, 1.0000, 1.0000]])"
            ]
          },
          "metadata": {},
          "execution_count": 8
        }
      ]
    },
    {
      "cell_type": "code",
      "source": [
        "m.delta(lm, t, v)"
      ],
      "metadata": {
        "id": "Uq53FrQQO48_",
        "colab": {
          "base_uri": "https://localhost:8080/"
        },
        "outputId": "08133359-0b25-4991-aee1-691e7e3cd916"
      },
      "execution_count": null,
      "outputs": [
        {
          "output_type": "execute_result",
          "data": {
            "text/plain": [
              "tensor([[0.5113, 0.4944, 0.5653, 0.5905, 0.5212, 0.5374, 0.6688, 0.6958, 0.5537,\n",
              "         0.4483, 0.5362, 0.5158, 0.6702, 0.7202, 0.7738, 0.7170, 0.6043, 0.6803,\n",
              "         0.3114, 0.4061, 1.0000],\n",
              "        [0.5113, 0.6327, 0.8310, 0.8234, 0.6675, 0.7780, 0.8617, 0.9027, 0.7882,\n",
              "         0.7577, 0.7229, 0.8444, 0.8902, 0.9153, 0.9712, 0.9729, 0.9405, 0.8407,\n",
              "         0.9715, 1.0000, 1.0000]])"
            ]
          },
          "metadata": {},
          "execution_count": 9
        }
      ]
    },
    {
      "cell_type": "code",
      "source": [
        "for i in ds:\n",
        "    print(m(i).size())"
      ],
      "metadata": {
        "id": "fXKtqXu_wMW0",
        "colab": {
          "base_uri": "https://localhost:8080/"
        },
        "outputId": "b6cef12c-243c-458e-acd2-7b73d79a26a5"
      },
      "execution_count": null,
      "outputs": [
        {
          "output_type": "stream",
          "name": "stdout",
          "text": [
            "torch.Size([2, 1, 1])\n",
            "torch.Size([2, 1, 1])\n",
            "torch.Size([2, 1, 1])\n",
            "torch.Size([2, 1, 1])\n",
            "torch.Size([2, 1, 1])\n",
            "torch.Size([2, 1, 1])\n",
            "torch.Size([2, 1, 1])\n",
            "torch.Size([2, 1, 1])\n",
            "torch.Size([2, 1, 1])\n",
            "torch.Size([2, 1, 1])\n",
            "torch.Size([2, 1, 1])\n",
            "torch.Size([2, 1, 1])\n",
            "torch.Size([2, 1, 1])\n",
            "torch.Size([2, 1, 1])\n",
            "torch.Size([2, 1, 1])\n",
            "torch.Size([2, 1, 1])\n",
            "torch.Size([2, 1, 1])\n",
            "torch.Size([2, 1, 1])\n",
            "torch.Size([2, 1, 1])\n",
            "torch.Size([2, 1, 1])\n",
            "torch.Size([2, 1, 1])\n"
          ]
        }
      ]
    },
    {
      "cell_type": "markdown",
      "source": [
        "### Shape (or size) is very important!!!"
      ],
      "metadata": {
        "id": "fdJvOUyKNTag"
      }
    },
    {
      "cell_type": "code",
      "source": [
        "pfhedge.nn.functional.pl(stock.spot, m.delta())"
      ],
      "metadata": {
        "id": "32rBF0EGF26V",
        "colab": {
          "base_uri": "https://localhost:8080/"
        },
        "outputId": "08b6fb8d-e0fa-43dd-a248-e473f30bb3a9"
      },
      "execution_count": null,
      "outputs": [
        {
          "output_type": "execute_result",
          "data": {
            "text/plain": [
              "tensor(0.0117)"
            ]
          },
          "metadata": {},
          "execution_count": 11
        }
      ]
    },
    {
      "cell_type": "markdown",
      "source": [
        "### pfhedge.nn.modules.hedger.compute_hedge"
      ],
      "metadata": {
        "id": "sU_JxuIgFHZ7"
      }
    },
    {
      "cell_type": "code",
      "source": [
        "from pfhedge.instruments import BaseInstrument, BaseDerivative\n",
        "from torch import Tensor\n",
        "from typing import Optional\n",
        "from typing import List\n",
        "\n",
        "def compute_hedge(\n",
        "        self, derivative: BaseDerivative, hedge: Optional[List[BaseInstrument]] = None\n",
        "    ) -> Tensor:\n",
        "\n",
        "        inputs = self.inputs.of(derivative, self)\n",
        "        hedge = self._get_hedge(derivative, hedge)\n",
        "\n",
        "        # Check that the spot prices of the hedges have the same sizes\n",
        "        if not all(h.spot.size() == hedge[0].spot.size() for h in hedge):\n",
        "            raise ValueError(\"The spot prices of the hedges must have the same size\")\n",
        "\n",
        "        (n_paths, n_steps), n_hedges = hedge[0].spot.size(), len(hedge)\n",
        "        if inputs.is_state_dependent():\n",
        "            zeros = hedge[0].spot.new_zeros((n_paths, 1, n_hedges))\n",
        "            save_prev_output(self, input=(), output=zeros)\n",
        "            outputs = []\n",
        "            for time_step in range(n_steps - 1):\n",
        "                input = inputs.get(time_step)  # (N, T=1, F)\n",
        "                outputs.append(self(input))  # (N, T=1, H)\n",
        "            outputs.append(outputs[-1])\n",
        "            output = torch.cat(outputs, dim=-2)  # (N, T, H)\n",
        "        else:\n",
        "            # If all features are state-independent, compute the output at all\n",
        "            # time steps at once, which would be faster.\n",
        "            input = inputs.get(None)  # (N, T, F)\n",
        "            output = self(input)  # (N, T, H)\n",
        "            # This maintains consistency with the previous implementations.\n",
        "            # In previous implementation the loop is computed for 0...T-2 and\n",
        "            # the last time step is not included.\n",
        "            output[..., -1, :] = output[..., -2, :]\n",
        "\n",
        "        output = output.transpose(-1, -2)  # (N, H, T)\n",
        "\n",
        "        return output\n"
      ],
      "metadata": {
        "id": "iLSHQAOxFJ_z"
      },
      "execution_count": null,
      "outputs": []
    },
    {
      "cell_type": "code",
      "source": [
        "from pfhedge.nn import Hedger\n",
        "hedger = Hedger()"
      ],
      "metadata": {
        "id": "oRFDW-rPorUa"
      },
      "execution_count": null,
      "outputs": []
    },
    {
      "cell_type": "code",
      "source": [
        "hedger.__call__()"
      ],
      "metadata": {
        "id": "TDcBgeIbo6_w"
      },
      "execution_count": null,
      "outputs": []
    },
    {
      "cell_type": "code",
      "source": [
        "torch.nn.Module"
      ],
      "metadata": {
        "id": "oDuXHTrXpAr0"
      },
      "execution_count": null,
      "outputs": []
    },
    {
      "cell_type": "code",
      "source": [
        "hedger.forward()"
      ],
      "metadata": {
        "id": "EH5S-L0ipEfq"
      },
      "execution_count": null,
      "outputs": []
    },
    {
      "cell_type": "code",
      "source": [
        "for i in ds:\n",
        "    print(i.size())"
      ],
      "metadata": {
        "colab": {
          "base_uri": "https://localhost:8080/"
        },
        "id": "FLmHBicZoaM_",
        "outputId": "7f5affb8-4079-4dbd-f8c9-0a55ecc5b8cc"
      },
      "execution_count": null,
      "outputs": [
        {
          "output_type": "stream",
          "name": "stdout",
          "text": [
            "torch.Size([2, 1, 3])\n",
            "torch.Size([2, 1, 3])\n",
            "torch.Size([2, 1, 3])\n",
            "torch.Size([2, 1, 3])\n",
            "torch.Size([2, 1, 3])\n",
            "torch.Size([2, 1, 3])\n",
            "torch.Size([2, 1, 3])\n",
            "torch.Size([2, 1, 3])\n",
            "torch.Size([2, 1, 3])\n",
            "torch.Size([2, 1, 3])\n",
            "torch.Size([2, 1, 3])\n",
            "torch.Size([2, 1, 3])\n",
            "torch.Size([2, 1, 3])\n",
            "torch.Size([2, 1, 3])\n",
            "torch.Size([2, 1, 3])\n",
            "torch.Size([2, 1, 3])\n",
            "torch.Size([2, 1, 3])\n",
            "torch.Size([2, 1, 3])\n",
            "torch.Size([2, 1, 3])\n",
            "torch.Size([2, 1, 3])\n",
            "torch.Size([2, 1, 3])\n"
          ]
        }
      ]
    },
    {
      "cell_type": "code",
      "source": [
        "outputs = []\n",
        "for i in ds:\n",
        "    outputs.append(m(i))\n",
        "\n",
        "outputs = torch.cat(outputs, dim=-2)\n",
        "# outputs = outputs.transpose(-1,-2)\n",
        "outputs"
      ],
      "metadata": {
        "id": "3POevl-r95_P",
        "colab": {
          "base_uri": "https://localhost:8080/"
        },
        "outputId": "4dc97224-f2e1-4273-8183-f489ad37bd8a"
      },
      "execution_count": null,
      "outputs": [
        {
          "output_type": "execute_result",
          "data": {
            "text/plain": [
              "tensor([[[0.5113],\n",
              "         [0.4944],\n",
              "         [0.5653],\n",
              "         [0.5905],\n",
              "         [0.5212],\n",
              "         [0.5374],\n",
              "         [0.6688],\n",
              "         [0.6958],\n",
              "         [0.5537],\n",
              "         [0.4483],\n",
              "         [0.5362],\n",
              "         [0.5158],\n",
              "         [0.6702],\n",
              "         [0.7202],\n",
              "         [0.7738],\n",
              "         [0.7170],\n",
              "         [0.6043],\n",
              "         [0.6803],\n",
              "         [0.3114],\n",
              "         [0.4061],\n",
              "         [1.0000]],\n",
              "\n",
              "        [[0.5113],\n",
              "         [0.6327],\n",
              "         [0.8310],\n",
              "         [0.8234],\n",
              "         [0.6675],\n",
              "         [0.7780],\n",
              "         [0.8617],\n",
              "         [0.9027],\n",
              "         [0.7882],\n",
              "         [0.7577],\n",
              "         [0.7229],\n",
              "         [0.8444],\n",
              "         [0.8902],\n",
              "         [0.9153],\n",
              "         [0.9712],\n",
              "         [0.9729],\n",
              "         [0.9405],\n",
              "         [0.8407],\n",
              "         [0.9715],\n",
              "         [1.0000],\n",
              "         [1.0000]]])"
            ]
          },
          "metadata": {},
          "execution_count": 16
        }
      ]
    },
    {
      "cell_type": "code",
      "source": [
        "outputs = []\n",
        "for i in ds:\n",
        "    outputs.append(m(i))\n",
        "\n",
        "outputs = torch.cat(outputs, dim=-1)\n",
        "outputs"
      ],
      "metadata": {
        "id": "wk6yFS_88tP6",
        "colab": {
          "base_uri": "https://localhost:8080/"
        },
        "outputId": "7744c4c6-3188-4710-b34a-a369958024b2"
      },
      "execution_count": null,
      "outputs": [
        {
          "output_type": "execute_result",
          "data": {
            "text/plain": [
              "tensor([[[0.5113, 0.4944, 0.5653, 0.5905, 0.5212, 0.5374, 0.6688, 0.6958,\n",
              "          0.5537, 0.4483, 0.5362, 0.5158, 0.6702, 0.7202, 0.7738, 0.7170,\n",
              "          0.6043, 0.6803, 0.3114, 0.4061, 1.0000]],\n",
              "\n",
              "        [[0.5113, 0.6327, 0.8310, 0.8234, 0.6675, 0.7780, 0.8617, 0.9027,\n",
              "          0.7882, 0.7577, 0.7229, 0.8444, 0.8902, 0.9153, 0.9712, 0.9729,\n",
              "          0.9405, 0.8407, 0.9715, 1.0000, 1.0000]]])"
            ]
          },
          "metadata": {},
          "execution_count": 17
        }
      ]
    },
    {
      "cell_type": "markdown",
      "source": [
        "### check"
      ],
      "metadata": {
        "id": "FBMBzHybNSyo"
      }
    },
    {
      "cell_type": "code",
      "source": [
        "from pfhedge.instruments import BrownianStock\n",
        "from pfhedge.instruments import EuropeanOption\n",
        "from pfhedge.nn import BlackScholes"
      ],
      "metadata": {
        "id": "hOWQ4p2bNUAk"
      },
      "execution_count": null,
      "outputs": []
    },
    {
      "cell_type": "code",
      "source": [
        "_ = torch.manual_seed(42)"
      ],
      "metadata": {
        "id": "LTkrh-_qNetX"
      },
      "execution_count": null,
      "outputs": []
    },
    {
      "cell_type": "code",
      "source": [
        "derivative = EuropeanOption(BrownianStock(), maturity=5/250)"
      ],
      "metadata": {
        "id": "pZbf0_N1NnXz"
      },
      "execution_count": null,
      "outputs": []
    },
    {
      "cell_type": "code",
      "source": [
        "derivative.simulate(2)"
      ],
      "metadata": {
        "id": "uwRp4IAVNt7e"
      },
      "execution_count": null,
      "outputs": []
    },
    {
      "cell_type": "code",
      "source": [
        "derivative.ul().spot"
      ],
      "metadata": {
        "id": "tAoEt6mONwod",
        "colab": {
          "base_uri": "https://localhost:8080/"
        },
        "outputId": "b581358e-63cf-4442-b6b8-fdb3cd462d26"
      },
      "execution_count": null,
      "outputs": [
        {
          "output_type": "execute_result",
          "data": {
            "text/plain": [
              "tensor([[1.0000, 1.0016, 1.0044, 1.0073, 0.9930, 0.9906],\n",
              "        [1.0000, 0.9919, 0.9976, 1.0009, 1.0076, 1.0179]])"
            ]
          },
          "metadata": {},
          "execution_count": 22
        }
      ]
    },
    {
      "cell_type": "code",
      "source": [
        "model = BlackScholes(derivative)"
      ],
      "metadata": {
        "id": "InrwOiw2NzdO"
      },
      "execution_count": null,
      "outputs": []
    },
    {
      "cell_type": "code",
      "source": [
        "from pfhedge.nn import Hedger"
      ],
      "metadata": {
        "id": "LdHIqACJOGls"
      },
      "execution_count": null,
      "outputs": []
    },
    {
      "cell_type": "code",
      "source": [
        "hedger = Hedger(model, model.inputs())"
      ],
      "metadata": {
        "id": "Fj1iNuEwN1IH"
      },
      "execution_count": null,
      "outputs": []
    },
    {
      "cell_type": "code",
      "source": [
        "hedger.compute_hedge(derivative).squeeze(1)"
      ],
      "metadata": {
        "id": "viTT6AlqOFFb",
        "colab": {
          "base_uri": "https://localhost:8080/"
        },
        "outputId": "77ba140d-c612-40dd-af87-6784ef6543f7"
      },
      "execution_count": null,
      "outputs": [
        {
          "output_type": "execute_result",
          "data": {
            "text/plain": [
              "tensor([[0.5056, 0.5295, 0.5845, 0.6610, 0.2918, 0.2918],\n",
              "        [0.5056, 0.3785, 0.4609, 0.5239, 0.7281, 0.7281]])"
            ]
          },
          "metadata": {},
          "execution_count": 27
        }
      ]
    },
    {
      "cell_type": "code",
      "source": [
        "hedger.compute_portfolio(derivative)"
      ],
      "metadata": {
        "id": "5pFiX25oT5ev",
        "colab": {
          "base_uri": "https://localhost:8080/"
        },
        "outputId": "1d019c8c-863c-43f9-eac9-5786f4ec03cc"
      },
      "execution_count": null,
      "outputs": [
        {
          "output_type": "execute_result",
          "data": {
            "text/plain": [
              "tensor([-0.0062,  0.0106])"
            ]
          },
          "metadata": {},
          "execution_count": 28
        }
      ]
    },
    {
      "cell_type": "markdown",
      "source": [
        "### Our version"
      ],
      "metadata": {
        "id": "oxoe-lE_EPbb"
      }
    },
    {
      "cell_type": "code",
      "source": [
        "lm = derivative.log_moneyness()\n",
        "t = derivative.time_to_maturity()\n",
        "v = derivative.ul().volatility\n",
        "\n",
        "ds = MyDataset([lm, t, v])"
      ],
      "metadata": {
        "id": "MkOFpn9REUwW"
      },
      "execution_count": null,
      "outputs": []
    },
    {
      "cell_type": "code",
      "source": [
        "outputs = []\n",
        "for i in ds:\n",
        "    outputs.append(m(i))\n",
        "\n",
        "outputs = torch.cat(outputs, dim=-1)\n",
        "outputs.squeeze(1)"
      ],
      "metadata": {
        "id": "_ITfkmcUEuhi",
        "colab": {
          "base_uri": "https://localhost:8080/"
        },
        "outputId": "b1d93d27-3e37-4207-f6ca-247acd723368"
      },
      "execution_count": null,
      "outputs": [
        {
          "output_type": "execute_result",
          "data": {
            "text/plain": [
              "tensor([[0.5056, 0.5295, 0.5845, 0.6610, 0.2918, 0.0000],\n",
              "        [0.5056, 0.3785, 0.4609, 0.5239, 0.7281, 1.0000]])"
            ]
          },
          "metadata": {},
          "execution_count": 31
        }
      ]
    },
    {
      "cell_type": "code",
      "source": [
        "spot = torch.stack([derivative.ul().spot], dim=1)"
      ],
      "metadata": {
        "id": "p652aGUSFC1C"
      },
      "execution_count": null,
      "outputs": []
    },
    {
      "cell_type": "code",
      "source": [
        "spot.size()"
      ],
      "metadata": {
        "colab": {
          "base_uri": "https://localhost:8080/"
        },
        "id": "_GZljtA3rGBC",
        "outputId": "532f17c2-6153-4a3f-8ea6-1d627b90b454"
      },
      "execution_count": null,
      "outputs": [
        {
          "output_type": "execute_result",
          "data": {
            "text/plain": [
              "torch.Size([2, 1, 6])"
            ]
          },
          "metadata": {},
          "execution_count": 33
        }
      ]
    },
    {
      "cell_type": "code",
      "source": [
        "pfhedge.nn.functional.pl(spot, outputs)"
      ],
      "metadata": {
        "id": "NwFNH0jpUPnI",
        "colab": {
          "base_uri": "https://localhost:8080/"
        },
        "outputId": "50df89a4-7bf4-4bdd-df02-74d595808c82"
      },
      "execution_count": null,
      "outputs": [
        {
          "output_type": "execute_result",
          "data": {
            "text/plain": [
              "tensor([-0.0062,  0.0106])"
            ]
          },
          "metadata": {},
          "execution_count": 34
        }
      ]
    },
    {
      "cell_type": "markdown",
      "source": [
        "### Final step"
      ],
      "metadata": {
        "id": "IwJVN0NcRtTo"
      }
    },
    {
      "cell_type": "code",
      "source": [
        "derivative.payoff()"
      ],
      "metadata": {
        "id": "W99tqJl3XqEj",
        "colab": {
          "base_uri": "https://localhost:8080/"
        },
        "outputId": "47de3fca-ba47-4282-bd03-d3fe5397cdfd"
      },
      "execution_count": null,
      "outputs": [
        {
          "output_type": "execute_result",
          "data": {
            "text/plain": [
              "tensor([0.0000, 0.0179])"
            ]
          },
          "metadata": {},
          "execution_count": 35
        }
      ]
    },
    {
      "cell_type": "code",
      "source": [
        "pfhedge.nn.functional.pl(spot, outputs, payoff=derivative.payoff())"
      ],
      "metadata": {
        "id": "_ZicB95XF6V7",
        "colab": {
          "base_uri": "https://localhost:8080/"
        },
        "outputId": "87c40675-ae8f-4527-8950-858fe66326fb"
      },
      "execution_count": null,
      "outputs": [
        {
          "output_type": "execute_result",
          "data": {
            "text/plain": [
              "tensor([-0.0062, -0.0073])"
            ]
          },
          "metadata": {},
          "execution_count": 36
        }
      ]
    },
    {
      "cell_type": "code",
      "source": [
        "hedger.compute_pl(derivative)"
      ],
      "metadata": {
        "id": "IKllIvCdVMJY",
        "colab": {
          "base_uri": "https://localhost:8080/"
        },
        "outputId": "20b5a399-6ae2-426a-a0ac-bc6f7da68af5"
      },
      "execution_count": null,
      "outputs": [
        {
          "output_type": "execute_result",
          "data": {
            "text/plain": [
              "tensor([-0.0062, -0.0073])"
            ]
          },
          "metadata": {},
          "execution_count": 37
        }
      ]
    },
    {
      "cell_type": "code",
      "source": [
        "hedger.price(derivative, n_paths=2)"
      ],
      "metadata": {
        "id": "sOi8TamZfhUH",
        "colab": {
          "base_uri": "https://localhost:8080/"
        },
        "outputId": "f0bb21f4-28af-4362-9aae-cedd8a1fb704"
      },
      "execution_count": null,
      "outputs": [
        {
          "output_type": "execute_result",
          "data": {
            "text/plain": [
              "tensor(0.0112)"
            ]
          },
          "metadata": {},
          "execution_count": 38
        }
      ]
    },
    {
      "cell_type": "code",
      "source": [
        "hedger.criterion.cash(hedger.compute_portfolio(derivative), derivative.payoff())"
      ],
      "metadata": {
        "id": "Sz_dfe6J-kJk"
      },
      "execution_count": null,
      "outputs": []
    },
    {
      "cell_type": "markdown",
      "source": [
        "# For the next step"
      ],
      "metadata": {
        "id": "zqmxGod6LjNu"
      }
    },
    {
      "cell_type": "code",
      "source": [
        "def compute_hedge(model, ds):\n",
        "    outputs = []\n",
        "    for i in ds:\n",
        "        outputs.append(model(i))\n",
        "\n",
        "    return torch.cat(outputs, dim=-1)"
      ],
      "metadata": {
        "id": "K3xCuWBOD2aQ"
      },
      "execution_count": null,
      "outputs": []
    },
    {
      "cell_type": "code",
      "source": [
        "def compute_portfolio(model, ds, derivative):\n",
        "\n",
        "    spot = torch.stack([derivative.ul().spot], dim=1)\n",
        "    unit = compute_hedge(model, ds)\n",
        "\n",
        "    return pfhedge.nn.functional.pl(spot, unit)"
      ],
      "metadata": {
        "id": "fy__oEkLLmjL"
      },
      "execution_count": null,
      "outputs": []
    },
    {
      "cell_type": "code",
      "source": [
        "def compute_portfolio_2(model, ds, derivative):\n",
        "\n",
        "    spot = torch.stack([derivative.ul().spot], dim=1)\n",
        "    unit = compute_hedge(model, ds)\n",
        "\n",
        "    return pfhedge.nn.functional.pl(spot, unit, payoff=derivative.payoff())"
      ],
      "metadata": {
        "id": "5hm1o9TrLpxJ"
      },
      "execution_count": null,
      "outputs": []
    },
    {
      "cell_type": "code",
      "source": [],
      "metadata": {
        "id": "ghUL7YZ2Ls5I"
      },
      "execution_count": null,
      "outputs": []
    }
  ]
}