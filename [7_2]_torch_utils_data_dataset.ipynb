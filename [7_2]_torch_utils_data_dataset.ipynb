{
  "nbformat": 4,
  "nbformat_minor": 0,
  "metadata": {
    "colab": {
      "provenance": [],
      "collapsed_sections": [
        "I5zj7L3X-nH7"
      ]
    },
    "kernelspec": {
      "name": "python3",
      "display_name": "Python 3"
    },
    "language_info": {
      "name": "python"
    }
  },
  "cells": [
    {
      "cell_type": "code",
      "source": [
        "!pip install pfhedge"
      ],
      "metadata": {
        "id": "locU9BCLEYJP"
      },
      "execution_count": null,
      "outputs": []
    },
    {
      "cell_type": "markdown",
      "source": [
        "### Last time"
      ],
      "metadata": {
        "id": "I5zj7L3X-nH7"
      }
    },
    {
      "cell_type": "markdown",
      "source": [
        "```\n",
        "pfhedge.nn.functional.pl(stock.spot.unsqueeze(1), m(input).squeeze(-1).unsqueeze(1))\n",
        "```"
      ],
      "metadata": {
        "id": "HWRRmFEV-btc"
      }
    },
    {
      "cell_type": "markdown",
      "source": [
        "### Setup"
      ],
      "metadata": {
        "id": "je_PfO5v-r3B"
      }
    },
    {
      "cell_type": "code",
      "source": [
        "import pfhedge"
      ],
      "metadata": {
        "id": "66qG_SobJBOt"
      },
      "execution_count": null,
      "outputs": []
    },
    {
      "cell_type": "code",
      "source": [
        "from pfhedge.instruments import BrownianStock\n",
        "from pfhedge.instruments import EuropeanOption\n",
        "from pfhedge.nn import BlackScholes"
      ],
      "metadata": {
        "id": "y40EpjeQJq9Q"
      },
      "execution_count": null,
      "outputs": []
    },
    {
      "cell_type": "code",
      "source": [
        "stock = BrownianStock()\n",
        "derivative = EuropeanOption(stock, strike=1.0)\n",
        "derivative"
      ],
      "metadata": {
        "id": "Z3ChbFHVKZTg",
        "colab": {
          "base_uri": "https://localhost:8080/"
        },
        "outputId": "58e45e76-6e79-477a-ba40-f8f571a0f2f9"
      },
      "execution_count": null,
      "outputs": [
        {
          "output_type": "execute_result",
          "data": {
            "text/plain": [
              "EuropeanOption(\n",
              "  strike=1., maturity=0.0800\n",
              "  (underlier): BrownianStock(sigma=0.2000, dt=0.0040)\n",
              ")"
            ]
          },
          "metadata": {},
          "execution_count": 4
        }
      ]
    },
    {
      "cell_type": "code",
      "source": [
        "m = BlackScholes(derivative)\n",
        "m"
      ],
      "metadata": {
        "id": "I_1aLBgS-4Hc",
        "colab": {
          "base_uri": "https://localhost:8080/"
        },
        "outputId": "e2829cb4-c1e5-4e91-dfab-8db7ae0f430b"
      },
      "execution_count": null,
      "outputs": [
        {
          "output_type": "execute_result",
          "data": {
            "text/plain": [
              "BSEuropeanOption(strike=1.)"
            ]
          },
          "metadata": {},
          "execution_count": 5
        }
      ]
    },
    {
      "cell_type": "markdown",
      "source": [
        "### Features"
      ],
      "metadata": {
        "id": "UIkV7fyT4_CX"
      }
    },
    {
      "cell_type": "code",
      "source": [
        "stock.simulate()"
      ],
      "metadata": {
        "id": "31DV8CZa5EcL"
      },
      "execution_count": null,
      "outputs": []
    },
    {
      "cell_type": "code",
      "source": [
        "stock.spot"
      ],
      "metadata": {
        "id": "-CQrD9t55JJx",
        "colab": {
          "base_uri": "https://localhost:8080/"
        },
        "outputId": "09c00648-de55-45fe-c515-26ed7c783659"
      },
      "execution_count": null,
      "outputs": [
        {
          "output_type": "execute_result",
          "data": {
            "text/plain": [
              "tensor([[1.0000, 0.9843, 0.9885, 0.9842, 0.9743, 0.9612, 0.9608, 0.9551, 0.9315,\n",
              "         0.9075, 0.9124, 0.9208, 0.9260, 0.9159, 0.9147, 0.9154, 0.8983, 0.8940,\n",
              "         0.9014, 0.8970, 0.8993]])"
            ]
          },
          "metadata": {},
          "execution_count": 7
        }
      ]
    },
    {
      "cell_type": "code",
      "source": [
        "derivative.simulate()"
      ],
      "metadata": {
        "id": "hBL9DVOU5LRb"
      },
      "execution_count": null,
      "outputs": []
    },
    {
      "cell_type": "code",
      "source": [
        "stock.spot"
      ],
      "metadata": {
        "id": "-On2L3ca5OY7",
        "colab": {
          "base_uri": "https://localhost:8080/"
        },
        "outputId": "8cc45d4e-8ddf-4989-8702-55ac0af5e61b"
      },
      "execution_count": null,
      "outputs": [
        {
          "output_type": "execute_result",
          "data": {
            "text/plain": [
              "tensor([[1.0000, 1.0023, 0.9926, 0.9792, 0.9725, 0.9647, 0.9898, 0.9775, 0.9751,\n",
              "         0.9932, 0.9816, 0.9732, 0.9769, 0.9632, 0.9478, 0.9519, 0.9253, 0.9146,\n",
              "         0.9136, 0.9238, 0.9354]])"
            ]
          },
          "metadata": {},
          "execution_count": 9
        }
      ]
    },
    {
      "cell_type": "code",
      "source": [
        "derivative.ul()"
      ],
      "metadata": {
        "id": "2Xo7yssU5RXl",
        "colab": {
          "base_uri": "https://localhost:8080/"
        },
        "outputId": "cf95cc95-4efd-434e-873a-f62d8b25eba4"
      },
      "execution_count": null,
      "outputs": [
        {
          "output_type": "execute_result",
          "data": {
            "text/plain": [
              "BrownianStock(sigma=0.2000, dt=0.0040)"
            ]
          },
          "metadata": {},
          "execution_count": 10
        }
      ]
    },
    {
      "cell_type": "code",
      "source": [
        "derivative.ul().spot"
      ],
      "metadata": {
        "id": "DumSdeZN5VCM",
        "colab": {
          "base_uri": "https://localhost:8080/"
        },
        "outputId": "9851f9d2-081e-4491-8d6e-4327119a7b8c"
      },
      "execution_count": null,
      "outputs": [
        {
          "output_type": "execute_result",
          "data": {
            "text/plain": [
              "tensor([[1.0000, 1.0023, 0.9926, 0.9792, 0.9725, 0.9647, 0.9898, 0.9775, 0.9751,\n",
              "         0.9932, 0.9816, 0.9732, 0.9769, 0.9632, 0.9478, 0.9519, 0.9253, 0.9146,\n",
              "         0.9136, 0.9238, 0.9354]])"
            ]
          },
          "metadata": {},
          "execution_count": 11
        }
      ]
    },
    {
      "cell_type": "code",
      "source": [
        "derivative.log_moneyness()"
      ],
      "metadata": {
        "id": "IphcNId_5b8M",
        "colab": {
          "base_uri": "https://localhost:8080/"
        },
        "outputId": "4b5fa6ac-4117-4838-8a95-4e86ea233cfb"
      },
      "execution_count": null,
      "outputs": [
        {
          "output_type": "execute_result",
          "data": {
            "text/plain": [
              "tensor([[ 0.0000,  0.0023, -0.0075, -0.0210, -0.0279, -0.0359, -0.0103, -0.0227,\n",
              "         -0.0252, -0.0068, -0.0185, -0.0271, -0.0234, -0.0375, -0.0536, -0.0493,\n",
              "         -0.0776, -0.0892, -0.0903, -0.0792, -0.0667]])"
            ]
          },
          "metadata": {},
          "execution_count": 12
        }
      ]
    },
    {
      "cell_type": "code",
      "source": [
        "derivative.time_to_maturity()"
      ],
      "metadata": {
        "id": "zhR7N-165fWL",
        "colab": {
          "base_uri": "https://localhost:8080/"
        },
        "outputId": "75ade538-2982-4dea-fae4-3270285d3cc4"
      },
      "execution_count": null,
      "outputs": [
        {
          "output_type": "execute_result",
          "data": {
            "text/plain": [
              "tensor([[0.0800, 0.0760, 0.0720, 0.0680, 0.0640, 0.0600, 0.0560, 0.0520, 0.0480,\n",
              "         0.0440, 0.0400, 0.0360, 0.0320, 0.0280, 0.0240, 0.0200, 0.0160, 0.0120,\n",
              "         0.0080, 0.0040, 0.0000]])"
            ]
          },
          "metadata": {},
          "execution_count": 13
        }
      ]
    },
    {
      "cell_type": "code",
      "source": [
        "derivative.ul().volatility"
      ],
      "metadata": {
        "id": "Ml0lcK-G5jaY",
        "colab": {
          "base_uri": "https://localhost:8080/"
        },
        "outputId": "65a70db3-82d0-4efc-e2cc-e438d6e8b5ab"
      },
      "execution_count": null,
      "outputs": [
        {
          "output_type": "execute_result",
          "data": {
            "text/plain": [
              "tensor([[0.2000, 0.2000, 0.2000, 0.2000, 0.2000, 0.2000, 0.2000, 0.2000, 0.2000,\n",
              "         0.2000, 0.2000, 0.2000, 0.2000, 0.2000, 0.2000, 0.2000, 0.2000, 0.2000,\n",
              "         0.2000, 0.2000, 0.2000]])"
            ]
          },
          "metadata": {},
          "execution_count": 14
        }
      ]
    },
    {
      "cell_type": "markdown",
      "source": [
        "### Dataset Manipulation"
      ],
      "metadata": {
        "id": "pxxNS1Cbpgm3"
      }
    },
    {
      "cell_type": "code",
      "source": [
        "derivative.simulate(2)"
      ],
      "metadata": {
        "id": "9RmnRRmM3Inf"
      },
      "execution_count": null,
      "outputs": []
    },
    {
      "cell_type": "code",
      "source": [
        "lm = derivative.log_moneyness()\n",
        "t = derivative.time_to_maturity()\n",
        "v = derivative.ul().volatility"
      ],
      "metadata": {
        "id": "Dbbcb6t33MAJ"
      },
      "execution_count": null,
      "outputs": []
    },
    {
      "cell_type": "markdown",
      "source": [
        "### torch.stack vs. torch.cat\n",
        "[ChaptGPT] torch.stack vs. torch.cat"
      ],
      "metadata": {
        "id": "Tn5Q0kU2xkLa"
      }
    },
    {
      "cell_type": "code",
      "source": [
        "import torch"
      ],
      "metadata": {
        "id": "97JO6cCc1-lf"
      },
      "execution_count": null,
      "outputs": []
    },
    {
      "cell_type": "code",
      "source": [
        "lm.size(), t.size(), v.size()"
      ],
      "metadata": {
        "id": "mLaHo7KW_kWc",
        "colab": {
          "base_uri": "https://localhost:8080/"
        },
        "outputId": "f77a93d6-b4ab-4fa7-898b-79fa758013e5"
      },
      "execution_count": null,
      "outputs": [
        {
          "output_type": "execute_result",
          "data": {
            "text/plain": [
              "(torch.Size([2, 21]), torch.Size([2, 21]), torch.Size([2, 21]))"
            ]
          },
          "metadata": {},
          "execution_count": 18
        }
      ]
    },
    {
      "cell_type": "code",
      "source": [
        "torch.stack([lm, t, v]).size()"
      ],
      "metadata": {
        "id": "zDH5fx8vxqI6",
        "colab": {
          "base_uri": "https://localhost:8080/"
        },
        "outputId": "681f265b-9ed3-48f2-d960-e2e28fdcee6a"
      },
      "execution_count": null,
      "outputs": [
        {
          "output_type": "execute_result",
          "data": {
            "text/plain": [
              "torch.Size([3, 2, 21])"
            ]
          },
          "metadata": {},
          "execution_count": 20
        }
      ]
    },
    {
      "cell_type": "code",
      "source": [
        "torch.cat([lm, t, v]).size()"
      ],
      "metadata": {
        "id": "jAiS2jw_mVzv",
        "colab": {
          "base_uri": "https://localhost:8080/"
        },
        "outputId": "d7006ec7-a2d1-4544-fd6c-50b669f71932"
      },
      "execution_count": null,
      "outputs": [
        {
          "output_type": "execute_result",
          "data": {
            "text/plain": [
              "torch.Size([6, 21])"
            ]
          },
          "metadata": {},
          "execution_count": 21
        }
      ]
    },
    {
      "cell_type": "code",
      "source": [
        "torch.stack([lm, t, v], dim=-1).size()"
      ],
      "metadata": {
        "id": "4CPbkpWy_41q",
        "colab": {
          "base_uri": "https://localhost:8080/"
        },
        "outputId": "ec8647f0-edad-4bd4-f6ce-7b93c10b1b49"
      },
      "execution_count": null,
      "outputs": [
        {
          "output_type": "execute_result",
          "data": {
            "text/plain": [
              "torch.Size([2, 21, 3])"
            ]
          },
          "metadata": {},
          "execution_count": 24
        }
      ]
    },
    {
      "cell_type": "code",
      "source": [
        "torch.cat([lm, t, v], dim=-1).size()"
      ],
      "metadata": {
        "id": "0jAMCfw0_-z-",
        "colab": {
          "base_uri": "https://localhost:8080/"
        },
        "outputId": "b966d159-1e73-4bd4-f6e1-08d4c69b7d92"
      },
      "execution_count": null,
      "outputs": [
        {
          "output_type": "execute_result",
          "data": {
            "text/plain": [
              "torch.Size([2, 63])"
            ]
          },
          "metadata": {},
          "execution_count": 28
        }
      ]
    },
    {
      "cell_type": "code",
      "source": [
        "torch.cat([lm.unsqueeze(-1), t.unsqueeze(-1), v.unsqueeze(-1)], dim=2).size()"
      ],
      "metadata": {
        "id": "UfSEE6dPAXFY",
        "colab": {
          "base_uri": "https://localhost:8080/"
        },
        "outputId": "6ebcc2da-596b-4e55-efb3-82bc1dd2591e"
      },
      "execution_count": null,
      "outputs": [
        {
          "output_type": "execute_result",
          "data": {
            "text/plain": [
              "torch.Size([2, 21, 3])"
            ]
          },
          "metadata": {},
          "execution_count": 31
        }
      ]
    },
    {
      "cell_type": "code",
      "source": [
        "lm.unsqueeze(-1).size()"
      ],
      "metadata": {
        "colab": {
          "base_uri": "https://localhost:8080/"
        },
        "id": "OfaDBEFjahMR",
        "outputId": "3dca09ba-7ac2-4e9b-8c5a-919f3fc252b7"
      },
      "execution_count": null,
      "outputs": [
        {
          "output_type": "execute_result",
          "data": {
            "text/plain": [
              "torch.Size([2, 21, 1])"
            ]
          },
          "metadata": {},
          "execution_count": 30
        }
      ]
    },
    {
      "cell_type": "markdown",
      "source": [
        "### Back to the topic"
      ],
      "metadata": {
        "id": "BEVN6Zg5xxHA"
      }
    },
    {
      "cell_type": "code",
      "source": [
        "torch.stack([lm, t, v], dim=-1).size()"
      ],
      "metadata": {
        "id": "vxQyG40CJ9Z-",
        "colab": {
          "base_uri": "https://localhost:8080/"
        },
        "outputId": "00dc596a-175e-416c-8402-ddc783f49d06"
      },
      "execution_count": null,
      "outputs": [
        {
          "output_type": "execute_result",
          "data": {
            "text/plain": [
              "torch.Size([2, 21, 3])"
            ]
          },
          "metadata": {},
          "execution_count": 32
        }
      ]
    },
    {
      "cell_type": "code",
      "source": [
        "torch.stack([lm, t, v], dim=-1)"
      ],
      "metadata": {
        "id": "pYaGzhXPKPrS",
        "colab": {
          "base_uri": "https://localhost:8080/"
        },
        "outputId": "b4dc1f24-973d-4571-8b90-e1037e06026f"
      },
      "execution_count": null,
      "outputs": [
        {
          "output_type": "execute_result",
          "data": {
            "text/plain": [
              "tensor([[[ 0.0000,  0.0800,  0.2000],\n",
              "         [ 0.0045,  0.0760,  0.2000],\n",
              "         [ 0.0021,  0.0720,  0.2000],\n",
              "         [ 0.0061,  0.0680,  0.2000],\n",
              "         [ 0.0052,  0.0640,  0.2000],\n",
              "         [ 0.0100,  0.0600,  0.2000],\n",
              "         [-0.0097,  0.0560,  0.2000],\n",
              "         [-0.0077,  0.0520,  0.2000],\n",
              "         [-0.0005,  0.0480,  0.2000],\n",
              "         [ 0.0081,  0.0440,  0.2000],\n",
              "         [ 0.0102,  0.0400,  0.2000],\n",
              "         [-0.0018,  0.0360,  0.2000],\n",
              "         [-0.0036,  0.0320,  0.2000],\n",
              "         [ 0.0190,  0.0280,  0.2000],\n",
              "         [ 0.0239,  0.0240,  0.2000],\n",
              "         [ 0.0131,  0.0200,  0.2000],\n",
              "         [-0.0095,  0.0160,  0.2000],\n",
              "         [-0.0249,  0.0120,  0.2000],\n",
              "         [-0.0252,  0.0080,  0.2000],\n",
              "         [-0.0276,  0.0040,  0.2000],\n",
              "         [-0.0627,  0.0000,  0.2000]],\n",
              "\n",
              "        [[ 0.0000,  0.0800,  0.2000],\n",
              "         [-0.0091,  0.0760,  0.2000],\n",
              "         [-0.0204,  0.0720,  0.2000],\n",
              "         [-0.0090,  0.0680,  0.2000],\n",
              "         [-0.0174,  0.0640,  0.2000],\n",
              "         [-0.0420,  0.0600,  0.2000],\n",
              "         [-0.0405,  0.0560,  0.2000],\n",
              "         [-0.0253,  0.0520,  0.2000],\n",
              "         [-0.0193,  0.0480,  0.2000],\n",
              "         [-0.0238,  0.0440,  0.2000],\n",
              "         [-0.0261,  0.0400,  0.2000],\n",
              "         [ 0.0040,  0.0360,  0.2000],\n",
              "         [ 0.0124,  0.0320,  0.2000],\n",
              "         [ 0.0221,  0.0280,  0.2000],\n",
              "         [ 0.0221,  0.0240,  0.2000],\n",
              "         [ 0.0184,  0.0200,  0.2000],\n",
              "         [ 0.0272,  0.0160,  0.2000],\n",
              "         [ 0.0152,  0.0120,  0.2000],\n",
              "         [ 0.0113,  0.0080,  0.2000],\n",
              "         [-0.0283,  0.0040,  0.2000],\n",
              "         [-0.0367,  0.0000,  0.2000]]])"
            ]
          },
          "metadata": {},
          "execution_count": 33
        }
      ]
    },
    {
      "cell_type": "markdown",
      "source": [
        "### torch.utils.data"
      ],
      "metadata": {
        "id": "iVFfhyH-mjfi"
      }
    },
    {
      "cell_type": "code",
      "source": [
        "import torch\n",
        "from torch.utils.data import Dataset, DataLoader"
      ],
      "metadata": {
        "id": "XjOuo8OXnXTb"
      },
      "execution_count": null,
      "outputs": []
    },
    {
      "cell_type": "code",
      "source": [
        "class MyDataset(Dataset):\n",
        "\n",
        "    def __init__(self, data):\n",
        "        self.data = data\n",
        "\n",
        "    def __len__(self):\n",
        "        return len(self.data)\n",
        "\n",
        "    def __getitem__(self, index):\n",
        "        return self.data[index]"
      ],
      "metadata": {
        "id": "jQDJf6ACnibK"
      },
      "execution_count": null,
      "outputs": []
    },
    {
      "cell_type": "code",
      "source": [
        "ds = MyDataset(lm)"
      ],
      "metadata": {
        "id": "V4-j4MTIoajW"
      },
      "execution_count": null,
      "outputs": []
    },
    {
      "cell_type": "code",
      "source": [
        "len(ds)"
      ],
      "metadata": {
        "colab": {
          "base_uri": "https://localhost:8080/"
        },
        "id": "9fXH9dgscQtj",
        "outputId": "defd9cea-2835-4287-a35e-e1b7ece937b0"
      },
      "execution_count": null,
      "outputs": [
        {
          "output_type": "execute_result",
          "data": {
            "text/plain": [
              "2"
            ]
          },
          "metadata": {},
          "execution_count": 39
        }
      ]
    },
    {
      "cell_type": "code",
      "source": [
        "ds"
      ],
      "metadata": {
        "id": "3kcsCnrXoiv0",
        "colab": {
          "base_uri": "https://localhost:8080/"
        },
        "outputId": "affba57f-94ea-453c-e9bc-eba12d0bd5cf"
      },
      "execution_count": null,
      "outputs": [
        {
          "output_type": "execute_result",
          "data": {
            "text/plain": [
              "<__main__.MyDataset at 0x7ba7f8bb17e0>"
            ]
          },
          "metadata": {},
          "execution_count": 40
        }
      ]
    },
    {
      "cell_type": "code",
      "source": [
        "ids = iter(ds)"
      ],
      "metadata": {
        "id": "UcK4pd4XpIqm"
      },
      "execution_count": null,
      "outputs": []
    },
    {
      "cell_type": "code",
      "source": [
        "next(ids)"
      ],
      "metadata": {
        "id": "jZZZWZfgpOzW",
        "colab": {
          "base_uri": "https://localhost:8080/",
          "height": 144
        },
        "outputId": "5fea63f0-4503-4163-eb59-f548940c4e52"
      },
      "execution_count": null,
      "outputs": [
        {
          "output_type": "error",
          "ename": "StopIteration",
          "evalue": "",
          "traceback": [
            "\u001b[0;31m---------------------------------------------------------------------------\u001b[0m",
            "\u001b[0;31mStopIteration\u001b[0m                             Traceback (most recent call last)",
            "\u001b[0;32m<ipython-input-44-062257b6c869>\u001b[0m in \u001b[0;36m<cell line: 1>\u001b[0;34m()\u001b[0m\n\u001b[0;32m----> 1\u001b[0;31m \u001b[0mnext\u001b[0m\u001b[0;34m(\u001b[0m\u001b[0mids\u001b[0m\u001b[0;34m)\u001b[0m\u001b[0;34m\u001b[0m\u001b[0;34m\u001b[0m\u001b[0m\n\u001b[0m",
            "\u001b[0;31mStopIteration\u001b[0m: "
          ]
        }
      ]
    },
    {
      "cell_type": "markdown",
      "source": [
        "### updated version"
      ],
      "metadata": {
        "id": "dHrUwi-OBFSv"
      }
    },
    {
      "cell_type": "code",
      "source": [
        "class MyDataset(Dataset):\n",
        "\n",
        "    def __init__(self, data):\n",
        "        self.data = data\n",
        "\n",
        "    def __len__(self):\n",
        "        return self.data.size(1)\n",
        "\n",
        "    def __getitem__(self, index):\n",
        "        return self.data[:,index]"
      ],
      "metadata": {
        "id": "h5Ah-El0BJuY"
      },
      "execution_count": null,
      "outputs": []
    },
    {
      "cell_type": "code",
      "source": [
        "ds = MyDataset(lm)"
      ],
      "metadata": {
        "id": "GLXgewcU734J"
      },
      "execution_count": null,
      "outputs": []
    },
    {
      "cell_type": "code",
      "source": [
        "for i in ds:\n",
        "    print(i)\n",
        "    print(\"----\")"
      ],
      "metadata": {
        "id": "zWmfrbhO76l3"
      },
      "execution_count": null,
      "outputs": []
    },
    {
      "cell_type": "code",
      "source": [
        "ds = MyDataset(torch.stack([lm, t, v], dim=-1))"
      ],
      "metadata": {
        "id": "mnL6N9jQp1za"
      },
      "execution_count": null,
      "outputs": []
    },
    {
      "cell_type": "code",
      "source": [
        "len(ds)"
      ],
      "metadata": {
        "id": "tdiYPep3qBKi"
      },
      "execution_count": null,
      "outputs": []
    },
    {
      "cell_type": "code",
      "source": [
        "for i in ds:\n",
        "    print(i)"
      ],
      "metadata": {
        "id": "ZwfdOPeyqCem"
      },
      "execution_count": null,
      "outputs": []
    },
    {
      "cell_type": "markdown",
      "source": [
        "### updated version 2"
      ],
      "metadata": {
        "id": "i115IEmNBZdi"
      }
    },
    {
      "cell_type": "code",
      "source": [
        "class MyDataset(Dataset):\n",
        "    def __init__(self, data):\n",
        "        self.data = torch.stack(data, dim=-1)\n",
        "\n",
        "    def __len__(self):\n",
        "        return self.data.size(1)\n",
        "\n",
        "    def __getitem__(self, index):\n",
        "        #return self.data[:, index, :]\n",
        "        return self.data[:, index, :].unsqueeze(1)\n"
      ],
      "metadata": {
        "id": "Wg-xtw3DMS42"
      },
      "execution_count": null,
      "outputs": []
    },
    {
      "cell_type": "code",
      "source": [
        "ds = MyDataset([lm, t, v])"
      ],
      "metadata": {
        "id": "qyByeUWjM7M2"
      },
      "execution_count": null,
      "outputs": []
    },
    {
      "cell_type": "code",
      "source": [
        "for i in ds:\n",
        "    print(i)"
      ],
      "metadata": {
        "id": "mxFUW-dbNDH3",
        "colab": {
          "base_uri": "https://localhost:8080/"
        },
        "outputId": "c008b920-46bf-4efc-8ddd-5ef6c0d8181c"
      },
      "execution_count": null,
      "outputs": [
        {
          "output_type": "stream",
          "name": "stdout",
          "text": [
            "tensor([[[0.0000, 0.0800, 0.2000]],\n",
            "\n",
            "        [[0.0000, 0.0800, 0.2000]]])\n",
            "tensor([[[ 0.0045,  0.0760,  0.2000]],\n",
            "\n",
            "        [[-0.0091,  0.0760,  0.2000]]])\n",
            "tensor([[[ 0.0021,  0.0720,  0.2000]],\n",
            "\n",
            "        [[-0.0204,  0.0720,  0.2000]]])\n",
            "tensor([[[ 0.0061,  0.0680,  0.2000]],\n",
            "\n",
            "        [[-0.0090,  0.0680,  0.2000]]])\n",
            "tensor([[[ 0.0052,  0.0640,  0.2000]],\n",
            "\n",
            "        [[-0.0174,  0.0640,  0.2000]]])\n",
            "tensor([[[ 0.0100,  0.0600,  0.2000]],\n",
            "\n",
            "        [[-0.0420,  0.0600,  0.2000]]])\n",
            "tensor([[[-0.0097,  0.0560,  0.2000]],\n",
            "\n",
            "        [[-0.0405,  0.0560,  0.2000]]])\n",
            "tensor([[[-0.0077,  0.0520,  0.2000]],\n",
            "\n",
            "        [[-0.0253,  0.0520,  0.2000]]])\n",
            "tensor([[[-0.0005,  0.0480,  0.2000]],\n",
            "\n",
            "        [[-0.0193,  0.0480,  0.2000]]])\n",
            "tensor([[[ 0.0081,  0.0440,  0.2000]],\n",
            "\n",
            "        [[-0.0238,  0.0440,  0.2000]]])\n",
            "tensor([[[ 0.0102,  0.0400,  0.2000]],\n",
            "\n",
            "        [[-0.0261,  0.0400,  0.2000]]])\n",
            "tensor([[[-0.0018,  0.0360,  0.2000]],\n",
            "\n",
            "        [[ 0.0040,  0.0360,  0.2000]]])\n",
            "tensor([[[-0.0036,  0.0320,  0.2000]],\n",
            "\n",
            "        [[ 0.0124,  0.0320,  0.2000]]])\n",
            "tensor([[[0.0190, 0.0280, 0.2000]],\n",
            "\n",
            "        [[0.0221, 0.0280, 0.2000]]])\n",
            "tensor([[[0.0239, 0.0240, 0.2000]],\n",
            "\n",
            "        [[0.0221, 0.0240, 0.2000]]])\n",
            "tensor([[[0.0131, 0.0200, 0.2000]],\n",
            "\n",
            "        [[0.0184, 0.0200, 0.2000]]])\n",
            "tensor([[[-0.0095,  0.0160,  0.2000]],\n",
            "\n",
            "        [[ 0.0272,  0.0160,  0.2000]]])\n",
            "tensor([[[-0.0249,  0.0120,  0.2000]],\n",
            "\n",
            "        [[ 0.0152,  0.0120,  0.2000]]])\n",
            "tensor([[[-0.0252,  0.0080,  0.2000]],\n",
            "\n",
            "        [[ 0.0113,  0.0080,  0.2000]]])\n",
            "tensor([[[-0.0276,  0.0040,  0.2000]],\n",
            "\n",
            "        [[-0.0283,  0.0040,  0.2000]]])\n",
            "tensor([[[-0.0627,  0.0000,  0.2000]],\n",
            "\n",
            "        [[-0.0367,  0.0000,  0.2000]]])\n"
          ]
        }
      ]
    },
    {
      "cell_type": "markdown",
      "source": [
        "### Black-Scholes"
      ],
      "metadata": {
        "id": "3aBIolXBvgDo"
      }
    },
    {
      "cell_type": "code",
      "source": [
        "from pfhedge.nn import BlackScholes"
      ],
      "metadata": {
        "id": "fI0nOg6WONi3"
      },
      "execution_count": null,
      "outputs": []
    },
    {
      "cell_type": "code",
      "source": [
        "m = BlackScholes(derivative)"
      ],
      "metadata": {
        "id": "mxDaxQ2COSfP"
      },
      "execution_count": null,
      "outputs": []
    },
    {
      "cell_type": "markdown",
      "source": [
        "[european.py](https://github.com/pfnet-research/pfhedge/blob/main/pfhedge/nn/modules/bs/european.py#L106)"
      ],
      "metadata": {
        "id": "D1i01p44q18Y"
      }
    },
    {
      "cell_type": "code",
      "source": [
        "m"
      ],
      "metadata": {
        "id": "JowEPaLwOduR",
        "colab": {
          "base_uri": "https://localhost:8080/"
        },
        "outputId": "e93da849-9811-4a5c-9a31-4ce544291b93"
      },
      "execution_count": null,
      "outputs": [
        {
          "output_type": "execute_result",
          "data": {
            "text/plain": [
              "BSEuropeanOption(strike=1.)"
            ]
          },
          "metadata": {},
          "execution_count": 79
        }
      ]
    },
    {
      "cell_type": "code",
      "source": [
        "m.delta()"
      ],
      "metadata": {
        "id": "mAIYzSU8Oi3N",
        "colab": {
          "base_uri": "https://localhost:8080/"
        },
        "outputId": "80a4c87c-e9c7-4757-f94b-24ceeb53710c"
      },
      "execution_count": null,
      "outputs": [
        {
          "output_type": "execute_result",
          "data": {
            "text/plain": [
              "tensor([[0.5113, 0.5437, 0.5260, 0.5570, 0.5506, 0.5906, 0.4279, 0.4419, 0.5038,\n",
              "         0.5847, 0.6083, 0.4884, 0.4666, 0.7203, 0.7841, 0.6837, 0.3580, 0.1302,\n",
              "         0.0810, 0.0149, 0.0000],\n",
              "        [0.5113, 0.4451, 0.3618, 0.4419, 0.3753, 0.2024, 0.2027, 0.2976, 0.3381,\n",
              "         0.2925, 0.2637, 0.5492, 0.6425, 0.7507, 0.7665, 0.7464, 0.8613, 0.7593,\n",
              "         0.7390, 0.0127, 0.0000]])"
            ]
          },
          "metadata": {},
          "execution_count": 80
        }
      ]
    },
    {
      "cell_type": "code",
      "source": [
        "m.delta(lm, t, v)"
      ],
      "metadata": {
        "id": "Uq53FrQQO48_",
        "colab": {
          "base_uri": "https://localhost:8080/"
        },
        "outputId": "d37cb0de-e99f-4319-9531-8dfbb5017f13"
      },
      "execution_count": null,
      "outputs": [
        {
          "output_type": "execute_result",
          "data": {
            "text/plain": [
              "tensor([[0.5113, 0.5437, 0.5260, 0.5570, 0.5506, 0.5906, 0.4279, 0.4419, 0.5038,\n",
              "         0.5847, 0.6083, 0.4884, 0.4666, 0.7203, 0.7841, 0.6837, 0.3580, 0.1302,\n",
              "         0.0810, 0.0149, 0.0000],\n",
              "        [0.5113, 0.4451, 0.3618, 0.4419, 0.3753, 0.2024, 0.2027, 0.2976, 0.3381,\n",
              "         0.2925, 0.2637, 0.5492, 0.6425, 0.7507, 0.7665, 0.7464, 0.8613, 0.7593,\n",
              "         0.7390, 0.0127, 0.0000]])"
            ]
          },
          "metadata": {},
          "execution_count": 81
        }
      ]
    },
    {
      "cell_type": "code",
      "source": [
        "for i in ds:\n",
        "    print(m(i))"
      ],
      "metadata": {
        "id": "fXKtqXu_wMW0",
        "colab": {
          "base_uri": "https://localhost:8080/"
        },
        "outputId": "6186f976-2d2d-4c68-a562-708ab769f86e"
      },
      "execution_count": null,
      "outputs": [
        {
          "output_type": "stream",
          "name": "stdout",
          "text": [
            "tensor([[0.5113],\n",
            "        [0.5113]])\n",
            "tensor([[0.5437],\n",
            "        [0.4451]])\n",
            "tensor([[0.5260],\n",
            "        [0.3618]])\n",
            "tensor([[0.5570],\n",
            "        [0.4419]])\n",
            "tensor([[0.5506],\n",
            "        [0.3753]])\n",
            "tensor([[0.5906],\n",
            "        [0.2024]])\n",
            "tensor([[0.4279],\n",
            "        [0.2027]])\n",
            "tensor([[0.4419],\n",
            "        [0.2976]])\n",
            "tensor([[0.5038],\n",
            "        [0.3381]])\n",
            "tensor([[0.5847],\n",
            "        [0.2925]])\n",
            "tensor([[0.6083],\n",
            "        [0.2637]])\n",
            "tensor([[0.4884],\n",
            "        [0.5492]])\n",
            "tensor([[0.4666],\n",
            "        [0.6425]])\n",
            "tensor([[0.7203],\n",
            "        [0.7507]])\n",
            "tensor([[0.7841],\n",
            "        [0.7665]])\n",
            "tensor([[0.6837],\n",
            "        [0.7464]])\n",
            "tensor([[0.3580],\n",
            "        [0.8613]])\n",
            "tensor([[0.1302],\n",
            "        [0.7593]])\n",
            "tensor([[0.0810],\n",
            "        [0.7390]])\n",
            "tensor([[0.0149],\n",
            "        [0.0127]])\n",
            "tensor([[0.],\n",
            "        [0.]])\n"
          ]
        }
      ]
    },
    {
      "cell_type": "code",
      "source": [
        "pfhedge.nn.functional.pl(stock.spot, m.delta())"
      ],
      "metadata": {
        "id": "32rBF0EGF26V"
      },
      "execution_count": null,
      "outputs": []
    },
    {
      "cell_type": "markdown",
      "source": [
        "### pfhedge.nn.functional.pl"
      ],
      "metadata": {
        "id": "sU_JxuIgFHZ7"
      }
    },
    {
      "cell_type": "code",
      "source": [
        "from torch import Tensor\n",
        "from typing import Optional\n",
        "from typing import List\n",
        "\n",
        "def pl(\n",
        "    spot: Tensor,\n",
        "    unit: Tensor,\n",
        "    cost: Optional[List[float]] = None,\n",
        "    payoff: Optional[Tensor] = None,\n",
        "    deduct_first_cost: bool = True,\n",
        "    deduct_final_cost: bool = False,\n",
        ") -> Tensor:\n",
        "    r\"\"\"Returns the final profit and loss of hedging.\n",
        "\n",
        "    For\n",
        "    hedging instruments indexed by :math:`h = 1, \\dots, H` and\n",
        "    time steps :math:`i = 1, \\dots, T`,\n",
        "    the final profit and loss is given by\n",
        "\n",
        "    .. math::\n",
        "        \\text{PL}(Z, \\delta, S) =\n",
        "            - Z\n",
        "            + \\sum_{h = 1}^{H} \\sum_{t = 1}^{T} \\left[\n",
        "                    \\delta^{(h)}_{t - 1} (S^{(h)}_{t} - S^{(h)}_{t - 1})\n",
        "                    - c^{(h)} |\\delta^{(h)}_{t} - \\delta^{(h)}_{t - 1}| S^{(h)}_{t}\n",
        "                \\right] ,\n",
        "\n",
        "    where\n",
        "    :math:`Z` is the payoff of the derivative.\n",
        "    For each hedging instrument,\n",
        "    :math:`\\{S^{(h)}_t ; t = 1, \\dots, T\\}` is the spot price,\n",
        "    :math:`\\{\\delta^{(h)}_t ; t = 1, \\dots, T\\}` is the number of shares\n",
        "    held at each time step.\n",
        "    We define :math:`\\delta^{(h)}_0 = 0` for notational convenience.\n",
        "\n",
        "    A hedger sells the derivative to its customer and\n",
        "    obliges to settle the payoff at maturity.\n",
        "    The dealer hedges the risk of this liability\n",
        "    by trading the underlying instrument of the derivative.\n",
        "    The resulting profit and loss is obtained by adding up the payoff to the\n",
        "    customer, capital gains from the underlying asset, and the transaction cost.\n",
        "\n",
        "    References:\n",
        "        - Buehler, H., Gonon, L., Teichmann, J. and Wood, B., 2019.\n",
        "          Deep hedging. Quantitative Finance, 19(8), pp.1271-1291.\n",
        "          [arXiv:`1802.03042 <https://arxiv.org/abs/1802.03042>`_ [q-fin]]\n",
        "\n",
        "    Args:\n",
        "        spot (torch.Tensor): The spot price of the underlying asset :math:`S`.\n",
        "        unit (torch.Tensor): The signed number of shares of the underlying asset\n",
        "            :math:`\\delta`.\n",
        "        cost (list[float], default=None): The proportional transaction cost rate of\n",
        "            the underlying assets.\n",
        "        payoff (torch.Tensor, optional): The payoff of the derivative :math:`Z`.\n",
        "        deduct_first_cost (bool, default=True): Whether to deduct the transaction\n",
        "            cost of the stock at the first time step.\n",
        "            If ``False``, :math:`- c |\\delta_0| S_1` is omitted the above\n",
        "            equation of the terminal value.\n",
        "\n",
        "    Shape:\n",
        "        - spot: :math:`(N, H, T)` where\n",
        "          :math:`N` is the number of paths,\n",
        "          :math:`H` is the number of hedging instruments, and\n",
        "          :math:`T` is the number of time steps.\n",
        "        - unit: :math:`(N, H, T)`\n",
        "        - payoff: :math:`(N)`\n",
        "        - output: :math:`(N)`.\n",
        "\n",
        "    Returns:\n",
        "        torch.Tensor\n",
        "    \"\"\"\n",
        "    # TODO(simaki): Support deduct_final_cost=True\n",
        "    assert not deduct_final_cost, \"not supported\"\n",
        "\n",
        "    if spot.size() != unit.size():\n",
        "        raise RuntimeError(f\"unmatched sizes: spot {spot.size()}, unit {unit.size()}\")\n",
        "    if payoff is not None:\n",
        "        if payoff.dim() != 1 or spot.size(0) != payoff.size(0):\n",
        "            raise RuntimeError(\n",
        "                f\"unmatched sizes: spot {spot.size()}, payoff {payoff.size()}\"\n",
        "            )\n",
        "\n",
        "    output = unit[..., :-1].mul(spot.diff(dim=-1)).sum(dim=(-2, -1))\n",
        "\n",
        "    if payoff is not None:\n",
        "        output -= payoff\n",
        "\n",
        "    if cost is not None:\n",
        "        c = torch.tensor(cost).to(spot).unsqueeze(0).unsqueeze(-1)\n",
        "        output -= (spot[..., 1:] * unit.diff(dim=-1).abs() * c).sum(dim=(-2, -1))\n",
        "        if deduct_first_cost:\n",
        "            output -= (spot[..., [0]] * unit[..., [0]].abs() * c).sum(dim=(-2, -1))\n",
        "\n",
        "    return output\n",
        "\n"
      ],
      "metadata": {
        "id": "iLSHQAOxFJ_z"
      },
      "execution_count": null,
      "outputs": []
    },
    {
      "cell_type": "code",
      "source": [
        "stock.spot.size()"
      ],
      "metadata": {
        "id": "0UbSt-53FkXV",
        "colab": {
          "base_uri": "https://localhost:8080/"
        },
        "outputId": "7ea5c932-30a1-43fb-b7e9-4cb0ee17820c"
      },
      "execution_count": null,
      "outputs": [
        {
          "output_type": "execute_result",
          "data": {
            "text/plain": [
              "torch.Size([2, 21])"
            ]
          },
          "metadata": {},
          "execution_count": 91
        }
      ]
    },
    {
      "cell_type": "code",
      "source": [
        "spot = torch.stack([stock.spot], dim=1)\n",
        "spot.size()"
      ],
      "metadata": {
        "id": "00bwZMVRGlDs",
        "colab": {
          "base_uri": "https://localhost:8080/"
        },
        "outputId": "b4346022-6945-4304-a183-1185e5693491"
      },
      "execution_count": null,
      "outputs": [
        {
          "output_type": "execute_result",
          "data": {
            "text/plain": [
              "torch.Size([2, 1, 21])"
            ]
          },
          "metadata": {},
          "execution_count": 92
        }
      ]
    },
    {
      "cell_type": "code",
      "source": [
        "m.delta().size()"
      ],
      "metadata": {
        "id": "h3OuY159Grwo",
        "colab": {
          "base_uri": "https://localhost:8080/"
        },
        "outputId": "f0f3acb8-2452-4ca7-b4dc-637f584b31c5"
      },
      "execution_count": null,
      "outputs": [
        {
          "output_type": "execute_result",
          "data": {
            "text/plain": [
              "torch.Size([2, 21])"
            ]
          },
          "metadata": {},
          "execution_count": 93
        }
      ]
    },
    {
      "cell_type": "code",
      "source": [
        "m.delta().unsqueeze(1).size()"
      ],
      "metadata": {
        "id": "NJ1XAhVLHS6G",
        "colab": {
          "base_uri": "https://localhost:8080/"
        },
        "outputId": "e439d237-6024-4fc7-b9cf-f25da4e982f9"
      },
      "execution_count": null,
      "outputs": [
        {
          "output_type": "execute_result",
          "data": {
            "text/plain": [
              "torch.Size([2, 1, 21])"
            ]
          },
          "metadata": {},
          "execution_count": 94
        }
      ]
    },
    {
      "cell_type": "code",
      "source": [
        "pl(spot, m.delta().unsqueeze(1))"
      ],
      "metadata": {
        "id": "odG7XL6FHbNW",
        "colab": {
          "base_uri": "https://localhost:8080/"
        },
        "outputId": "1fe01521-72cf-4e7c-a1cb-055c5c1a6541"
      },
      "execution_count": null,
      "outputs": [
        {
          "output_type": "execute_result",
          "data": {
            "text/plain": [
              "tensor([-0.0210, -0.0353])"
            ]
          },
          "metadata": {},
          "execution_count": 95
        }
      ]
    },
    {
      "cell_type": "code",
      "source": [
        "outputs = []\n",
        "for i in ds:\n",
        "    outputs.append(m(i))\n",
        "\n",
        "outputs = torch.cat(outputs, dim=-2)\n",
        "outputs = outputs.transpose(-1,-2)\n",
        "outputs"
      ],
      "metadata": {
        "id": "3POevl-r95_P",
        "colab": {
          "base_uri": "https://localhost:8080/"
        },
        "outputId": "4fd57dcd-ddac-429e-8d41-eadcb98e18be"
      },
      "execution_count": null,
      "outputs": [
        {
          "output_type": "execute_result",
          "data": {
            "text/plain": [
              "tensor([[[0.5113, 0.5437, 0.5260, 0.5570, 0.5506, 0.5906, 0.4279, 0.4419,\n",
              "          0.5038, 0.5847, 0.6083, 0.4884, 0.4666, 0.7203, 0.7841, 0.6837,\n",
              "          0.3580, 0.1302, 0.0810, 0.0149, 0.0000]],\n",
              "\n",
              "        [[0.5113, 0.4451, 0.3618, 0.4419, 0.3753, 0.2024, 0.2027, 0.2976,\n",
              "          0.3381, 0.2925, 0.2637, 0.5492, 0.6425, 0.7507, 0.7665, 0.7464,\n",
              "          0.8613, 0.7593, 0.7390, 0.0127, 0.0000]]])"
            ]
          },
          "metadata": {},
          "execution_count": 96
        }
      ]
    },
    {
      "cell_type": "code",
      "source": [
        "output = unit[..., :-1].mul(spot.diff(dim=-1)).sum(dim=(-2, -1))"
      ],
      "metadata": {
        "id": "AVtpaGIRJqn2"
      },
      "execution_count": null,
      "outputs": []
    },
    {
      "cell_type": "code",
      "source": [
        "spot.size()"
      ],
      "metadata": {
        "colab": {
          "base_uri": "https://localhost:8080/"
        },
        "id": "wTiGfPLhgXaf",
        "outputId": "29de1238-3930-4c10-b540-712731fe6cae"
      },
      "execution_count": null,
      "outputs": [
        {
          "output_type": "execute_result",
          "data": {
            "text/plain": [
              "torch.Size([2, 1, 21])"
            ]
          },
          "metadata": {},
          "execution_count": 97
        }
      ]
    },
    {
      "cell_type": "code",
      "source": [
        "outputs.size()"
      ],
      "metadata": {
        "colab": {
          "base_uri": "https://localhost:8080/"
        },
        "id": "pkoEk6axk8P3",
        "outputId": "23482258-d41b-4e7d-93d8-4e9dd9ded767"
      },
      "execution_count": null,
      "outputs": [
        {
          "output_type": "execute_result",
          "data": {
            "text/plain": [
              "torch.Size([2, 1, 21])"
            ]
          },
          "metadata": {},
          "execution_count": 98
        }
      ]
    },
    {
      "cell_type": "code",
      "source": [
        "unit = outputs"
      ],
      "metadata": {
        "id": "H64Phf5OlAhi"
      },
      "execution_count": null,
      "outputs": []
    },
    {
      "cell_type": "code",
      "source": [
        "unit[..., :-1]"
      ],
      "metadata": {
        "colab": {
          "base_uri": "https://localhost:8080/"
        },
        "id": "1RptRU9Vly0-",
        "outputId": "b4c6ece8-f943-4233-a203-d7ddf86163b5"
      },
      "execution_count": null,
      "outputs": [
        {
          "output_type": "execute_result",
          "data": {
            "text/plain": [
              "tensor([[[0.5113, 0.5437, 0.5260, 0.5570, 0.5506, 0.5906, 0.4279, 0.4419,\n",
              "          0.5038, 0.5847, 0.6083, 0.4884, 0.4666, 0.7203, 0.7841, 0.6837,\n",
              "          0.3580, 0.1302, 0.0810, 0.0149]],\n",
              "\n",
              "        [[0.5113, 0.4451, 0.3618, 0.4419, 0.3753, 0.2024, 0.2027, 0.2976,\n",
              "          0.3381, 0.2925, 0.2637, 0.5492, 0.6425, 0.7507, 0.7665, 0.7464,\n",
              "          0.8613, 0.7593, 0.7390, 0.0127]]])"
            ]
          },
          "metadata": {},
          "execution_count": 103
        }
      ]
    },
    {
      "cell_type": "code",
      "source": [
        "unit[..., :-1].mul(spot.diff(dim=-1)).sum(dim=(-2, -1)).size()"
      ],
      "metadata": {
        "colab": {
          "base_uri": "https://localhost:8080/"
        },
        "id": "or8L6i_TlJFe",
        "outputId": "79ee9495-6903-4d86-ce71-16dabafca131"
      },
      "execution_count": null,
      "outputs": [
        {
          "output_type": "execute_result",
          "data": {
            "text/plain": [
              "torch.Size([2])"
            ]
          },
          "metadata": {},
          "execution_count": 110
        }
      ]
    },
    {
      "cell_type": "code",
      "source": [],
      "metadata": {
        "id": "dpXCjH11lehl"
      },
      "execution_count": null,
      "outputs": []
    }
  ]
}