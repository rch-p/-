{
  "nbformat": 4,
  "nbformat_minor": 0,
  "metadata": {
    "colab": {
      "provenance": []
    },
    "kernelspec": {
      "name": "python3",
      "display_name": "Python 3"
    },
    "language_info": {
      "name": "python"
    }
  },
  "cells": [
    {
      "cell_type": "markdown",
      "source": [
        "# Nested function"
      ],
      "metadata": {
        "id": "lROi_YXeYqyi"
      }
    },
    {
      "cell_type": "code",
      "source": [
        "def make_multiplier(n):\n",
        "    def multiplier(x):\n",
        "        return x * n\n",
        "    return multiplier"
      ],
      "metadata": {
        "id": "CCw4tOq2VY3F"
      },
      "execution_count": null,
      "outputs": []
    },
    {
      "cell_type": "code",
      "source": [
        "a = make_multiplier(2)"
      ],
      "metadata": {
        "id": "ndT1lww3XE_8"
      },
      "execution_count": null,
      "outputs": []
    },
    {
      "cell_type": "code",
      "source": [
        "a(10)"
      ],
      "metadata": {
        "colab": {
          "base_uri": "https://localhost:8080/"
        },
        "id": "Ai1yBI-WWuee",
        "outputId": "b0acda25-8e0f-4f2a-90e7-61bb3e5056e7"
      },
      "execution_count": null,
      "outputs": [
        {
          "output_type": "execute_result",
          "data": {
            "text/plain": [
              "20"
            ]
          },
          "metadata": {},
          "execution_count": 10
        }
      ]
    },
    {
      "cell_type": "code",
      "source": [
        "b = make_multiplier(3)"
      ],
      "metadata": {
        "id": "Ogx-_tt7W_33"
      },
      "execution_count": null,
      "outputs": []
    },
    {
      "cell_type": "code",
      "source": [
        "b(10)"
      ],
      "metadata": {
        "colab": {
          "base_uri": "https://localhost:8080/"
        },
        "id": "j1XaaoHcXClh",
        "outputId": "2d78139e-0fe3-4987-cf60-7caaca0d0215"
      },
      "execution_count": null,
      "outputs": [
        {
          "output_type": "execute_result",
          "data": {
            "text/plain": [
              "30"
            ]
          },
          "metadata": {},
          "execution_count": 12
        }
      ]
    },
    {
      "cell_type": "markdown",
      "source": [
        "### Closure 예제"
      ],
      "metadata": {
        "id": "vIuqPNVgsTTM"
      }
    },
    {
      "cell_type": "markdown",
      "source": [
        "https://colab.research.google.com/drive/17TEG7NmpwZIHcrHFOGvNhZxvAYGj6VNg?usp=sharing"
      ],
      "metadata": {
        "id": "lYqos0gVYjeh"
      }
    },
    {
      "cell_type": "markdown",
      "source": [
        "# Decorator"
      ],
      "metadata": {
        "id": "bChYLyGv5moO"
      }
    },
    {
      "cell_type": "code",
      "source": [
        "def my_decorator(func):\n",
        "    def wrapper():\n",
        "        print(\"Something is happening before the function is called.\")\n",
        "        func()\n",
        "        print(\"Something is happening after the function is called.\")\n",
        "    return wrapper"
      ],
      "metadata": {
        "id": "YRj_rmTR5qZI"
      },
      "execution_count": null,
      "outputs": []
    },
    {
      "cell_type": "code",
      "source": [
        "@my_decorator\n",
        "def say_hello():\n",
        "    print(\"Hello!\")"
      ],
      "metadata": {
        "id": "UHJa1NKgOOhU"
      },
      "execution_count": null,
      "outputs": []
    },
    {
      "cell_type": "code",
      "source": [
        "say_hello()"
      ],
      "metadata": {
        "colab": {
          "base_uri": "https://localhost:8080/"
        },
        "id": "2ZhTZgWQ55T8",
        "outputId": "490f00a8-d461-4d65-8085-fd5c8d02752a"
      },
      "execution_count": null,
      "outputs": [
        {
          "output_type": "stream",
          "name": "stdout",
          "text": [
            "Something is happening before the function is called.\n",
            "Hello!\n",
            "Something is happening after the function is called.\n"
          ]
        }
      ]
    },
    {
      "cell_type": "markdown",
      "source": [
        "### Example @property"
      ],
      "metadata": {
        "id": "aLKsm1U9auTA"
      }
    },
    {
      "cell_type": "code",
      "source": [
        "class Celsius:\n",
        "    def __init__(self, temperature=0):\n",
        "        self._temperature = temperature\n",
        "\n",
        "    @property\n",
        "    def temperature(self):\n",
        "        print(\"Getting temperature\")\n",
        "        return self._temperature\n",
        "\n",
        "    # @temperature.setter\n",
        "    # def temperature(self, value):\n",
        "    #     if value < -273.15:\n",
        "    #         raise ValueError(\"Temperature cannot be below -273.15 degrees Celsius\")\n",
        "    #     print(\"Setting temperature\")\n",
        "    #     self._temperature = value\n",
        "\n",
        "    # @temperature.deleter\n",
        "    # def temperature(self):\n",
        "    #     print(\"Deleting temperature\")\n",
        "    #     del self._temperature\n",
        "\n",
        "# # Usage\n",
        "# c = Celsius(25)\n",
        "# print(c.temperature)  # Calls the getter\n",
        "# # c.temperature = 30    # Calls the setter\n",
        "# # del c.temperature     # Calls the deleter\n"
      ],
      "metadata": {
        "id": "cgvjwfGT6G-N"
      },
      "execution_count": null,
      "outputs": []
    },
    {
      "cell_type": "code",
      "source": [
        "a = Celsius(100)"
      ],
      "metadata": {
        "id": "kbLP77cVYbEo"
      },
      "execution_count": null,
      "outputs": []
    },
    {
      "cell_type": "code",
      "source": [
        "a.temperature"
      ],
      "metadata": {
        "colab": {
          "base_uri": "https://localhost:8080/"
        },
        "id": "q-h0VIuvYi56",
        "outputId": "fcb5c663-13cc-43cf-95c2-2da053bf7023"
      },
      "execution_count": null,
      "outputs": [
        {
          "output_type": "stream",
          "name": "stdout",
          "text": [
            "Getting temperature\n"
          ]
        },
        {
          "output_type": "execute_result",
          "data": {
            "text/plain": [
              "100"
            ]
          },
          "metadata": {},
          "execution_count": 21
        }
      ]
    },
    {
      "cell_type": "markdown",
      "source": [
        "## Examples"
      ],
      "metadata": {
        "id": "kAMDu6KU8GYQ"
      }
    },
    {
      "cell_type": "code",
      "source": [
        "class MyClass:\n",
        "    class_variable = \"Class Variable\"\n",
        "\n",
        "    def __init__(self):\n",
        "        print(\"hello\")\n",
        "\n",
        "    def instance_method(self):\n",
        "        return \"This is an instance method.\"\n",
        "\n",
        "    @staticmethod\n",
        "    def static_method():\n",
        "        return \"This is a static method.\"\n",
        "\n",
        "    @classmethod\n",
        "    def class_method(cls):\n",
        "        return f\"This is a class method. {cls.class_variable}\"\n",
        "\n"
      ],
      "metadata": {
        "id": "wykQVIFe6KOh"
      },
      "execution_count": null,
      "outputs": []
    },
    {
      "cell_type": "code",
      "source": [
        "print(MyClass.static_method(1))  # Output: This is a static method.\n",
        "print(MyClass.class_method())   # Output: This is a class method. Class Variable"
      ],
      "metadata": {
        "colab": {
          "base_uri": "https://localhost:8080/"
        },
        "id": "kW8YTGCi7VkC",
        "outputId": "1d158ee2-6b7a-4b29-e706-8c26e569d9d4"
      },
      "execution_count": null,
      "outputs": [
        {
          "output_type": "stream",
          "name": "stdout",
          "text": [
            "This is a static method.1\n",
            "This is a class method. Class Variable\n"
          ]
        }
      ]
    },
    {
      "cell_type": "code",
      "source": [
        "MyClass().instance_method()"
      ],
      "metadata": {
        "colab": {
          "base_uri": "https://localhost:8080/",
          "height": 53
        },
        "id": "dRdKATa47eLo",
        "outputId": "75c75c5f-6aa6-4403-9432-f5ee33a2728b"
      },
      "execution_count": null,
      "outputs": [
        {
          "output_type": "stream",
          "name": "stdout",
          "text": [
            "hello\n"
          ]
        },
        {
          "output_type": "execute_result",
          "data": {
            "text/plain": [
              "'This is an instance method.'"
            ],
            "application/vnd.google.colaboratory.intrinsic+json": {
              "type": "string"
            }
          },
          "metadata": {},
          "execution_count": 9
        }
      ]
    },
    {
      "cell_type": "markdown",
      "source": [
        "# Abstract Class"
      ],
      "metadata": {
        "id": "_9Mc31JqUy9T"
      }
    },
    {
      "cell_type": "code",
      "source": [
        "from abc import ABC, abstractmethod\n",
        "\n",
        "class Animal(ABC):\n",
        "    @abstractmethod\n",
        "    def sound(self):\n",
        "        pass\n",
        "\n",
        "    @abstractmethod\n",
        "    def move(self):\n",
        "        pass\n",
        "\n",
        "class Dog(Animal):\n",
        "    def sound(self):\n",
        "        return \"Bark\"\n",
        "\n",
        "    def move(self):\n",
        "        return \"Walks on four legs\"\n",
        "\n",
        "class Bird(Animal):\n",
        "    def sound(self):\n",
        "        return \"Chirp\"\n",
        "\n",
        "    def move(self):\n",
        "        return \"Flies\"\n",
        "\n",
        "# You cannot instantiate the abstract class\n",
        "# animal = Animal()  # This will raise an error\n",
        "\n",
        "# You can instantiate the subclasses\n",
        "dog = Dog()\n",
        "print(dog.sound())  # Output: Bark\n",
        "print(dog.move())   # Output: Walks on four legs\n",
        "\n",
        "bird = Bird()\n",
        "print(bird.sound())  # Output: Chirp\n",
        "print(bird.move())   # Output: Flies\n"
      ],
      "metadata": {
        "colab": {
          "base_uri": "https://localhost:8080/"
        },
        "id": "DYmbk_UBU1MJ",
        "outputId": "1a9fef59-90c8-424a-8596-fd75b3b00d4d"
      },
      "execution_count": null,
      "outputs": [
        {
          "output_type": "stream",
          "name": "stdout",
          "text": [
            "Bark\n",
            "Walks on four legs\n",
            "Chirp\n",
            "Flies\n"
          ]
        }
      ]
    },
    {
      "cell_type": "code",
      "source": [],
      "metadata": {
        "id": "v0UdlgqHU1yU"
      },
      "execution_count": null,
      "outputs": []
    }
  ]
}